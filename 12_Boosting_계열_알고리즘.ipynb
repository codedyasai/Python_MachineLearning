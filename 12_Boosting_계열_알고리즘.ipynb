{
  "nbformat": 4,
  "nbformat_minor": 0,
  "metadata": {
    "colab": {
      "provenance": [],
      "authorship_tag": "ABX9TyORPjsFd6FuKGChso47sYBE",
      "include_colab_link": true
    },
    "kernelspec": {
      "name": "python3",
      "display_name": "Python 3"
    },
    "language_info": {
      "name": "python"
    }
  },
  "cells": [
    {
      "cell_type": "markdown",
      "metadata": {
        "id": "view-in-github",
        "colab_type": "text"
      },
      "source": [
        "<a href=\"https://colab.research.google.com/github/codedyasai/Python_MachineLearning/blob/main/12_Boosting_%EA%B3%84%EC%97%B4_%EC%95%8C%EA%B3%A0%EB%A6%AC%EC%A6%98.ipynb\" target=\"_parent\"><img src=\"https://colab.research.google.com/assets/colab-badge.svg\" alt=\"Open In Colab\"/></a>"
      ]
    },
    {
      "cell_type": "markdown",
      "source": [
        "현업에서 주로 사용되는 머신러닝 Algorithm\n",
        "\n",
        "- LinearRegression\n",
        "- LogisticRegression\n",
        "- KNN\n",
        "- Naive Bayes\n",
        "- Decision Tree\n",
        "- Random Forest\n",
        "- XGBoost\n",
        "- LightGBM\n",
        "- KMeans\n",
        "- PCA"
      ],
      "metadata": {
        "id": "7KOjMqFZ5az1"
      }
    },
    {
      "cell_type": "code",
      "source": [
        "from IPython.display import display\n",
        "import numpy as np\n",
        "import pandas as pd\n",
        "import matplotlib.pyplot as plt\n",
        "import seaborn as sns\n",
        "!pip install mglearn\n",
        "import mglearn\n",
        "\n",
        "# 음수표현 라이브러리\n",
        "plt.rcParams['axes.unicode_minus'] = False\n",
        "\n",
        "# 경고무시\n",
        "import warnings\n",
        "warnings.filterwarnings(\"ignore\")\n",
        "\n",
        "# 매직명령어 : 시각화 결과가 노트북에 포함되도록\n",
        "%matplotlib inline"
      ],
      "metadata": {
        "colab": {
          "base_uri": "https://localhost:8080/"
        },
        "id": "oyBnClk65fJH",
        "outputId": "dc37f1e1-2a6a-4001-e30a-37763f531b10"
      },
      "execution_count": null,
      "outputs": [
        {
          "output_type": "stream",
          "name": "stdout",
          "text": [
            "Collecting mglearn\n",
            "  Downloading mglearn-0.2.0-py2.py3-none-any.whl (581 kB)\n",
            "\u001b[?25l     \u001b[90m━━━━━━━━━━━━━━━━━━━━━━━━━━━━━━━━━━━━━━━━\u001b[0m \u001b[32m0.0/581.4 kB\u001b[0m \u001b[31m?\u001b[0m eta \u001b[36m-:--:--\u001b[0m\r\u001b[2K     \u001b[91m━━━━\u001b[0m\u001b[90m╺\u001b[0m\u001b[90m━━━━━━━━━━━━━━━━━━━━━━━━━━━━━━━━━━━\u001b[0m \u001b[32m61.4/581.4 kB\u001b[0m \u001b[31m2.0 MB/s\u001b[0m eta \u001b[36m0:00:01\u001b[0m\r\u001b[2K     \u001b[91m━━━━━━━━━━━━━━━━━━━━━━━━━━━━\u001b[0m\u001b[91m╸\u001b[0m\u001b[90m━━━━━━━━━━━\u001b[0m \u001b[32m419.8/581.4 kB\u001b[0m \u001b[31m6.4 MB/s\u001b[0m eta \u001b[36m0:00:01\u001b[0m\r\u001b[2K     \u001b[90m━━━━━━━━━━━━━━━━━━━━━━━━━━━━━━━━━━━━━━━━\u001b[0m \u001b[32m581.4/581.4 kB\u001b[0m \u001b[31m7.0 MB/s\u001b[0m eta \u001b[36m0:00:00\u001b[0m\n",
            "\u001b[?25hRequirement already satisfied: numpy in /usr/local/lib/python3.10/dist-packages (from mglearn) (1.23.5)\n",
            "Requirement already satisfied: matplotlib in /usr/local/lib/python3.10/dist-packages (from mglearn) (3.7.1)\n",
            "Requirement already satisfied: scikit-learn in /usr/local/lib/python3.10/dist-packages (from mglearn) (1.2.2)\n",
            "Requirement already satisfied: pandas in /usr/local/lib/python3.10/dist-packages (from mglearn) (1.5.3)\n",
            "Requirement already satisfied: pillow in /usr/local/lib/python3.10/dist-packages (from mglearn) (9.4.0)\n",
            "Requirement already satisfied: cycler in /usr/local/lib/python3.10/dist-packages (from mglearn) (0.12.1)\n",
            "Requirement already satisfied: imageio in /usr/local/lib/python3.10/dist-packages (from mglearn) (2.31.6)\n",
            "Requirement already satisfied: joblib in /usr/local/lib/python3.10/dist-packages (from mglearn) (1.3.2)\n",
            "Requirement already satisfied: contourpy>=1.0.1 in /usr/local/lib/python3.10/dist-packages (from matplotlib->mglearn) (1.2.0)\n",
            "Requirement already satisfied: fonttools>=4.22.0 in /usr/local/lib/python3.10/dist-packages (from matplotlib->mglearn) (4.44.0)\n",
            "Requirement already satisfied: kiwisolver>=1.0.1 in /usr/local/lib/python3.10/dist-packages (from matplotlib->mglearn) (1.4.5)\n",
            "Requirement already satisfied: packaging>=20.0 in /usr/local/lib/python3.10/dist-packages (from matplotlib->mglearn) (23.2)\n",
            "Requirement already satisfied: pyparsing>=2.3.1 in /usr/local/lib/python3.10/dist-packages (from matplotlib->mglearn) (3.1.1)\n",
            "Requirement already satisfied: python-dateutil>=2.7 in /usr/local/lib/python3.10/dist-packages (from matplotlib->mglearn) (2.8.2)\n",
            "Requirement already satisfied: pytz>=2020.1 in /usr/local/lib/python3.10/dist-packages (from pandas->mglearn) (2023.3.post1)\n",
            "Requirement already satisfied: scipy>=1.3.2 in /usr/local/lib/python3.10/dist-packages (from scikit-learn->mglearn) (1.11.3)\n",
            "Requirement already satisfied: threadpoolctl>=2.0.0 in /usr/local/lib/python3.10/dist-packages (from scikit-learn->mglearn) (3.2.0)\n",
            "Requirement already satisfied: six>=1.5 in /usr/local/lib/python3.10/dist-packages (from python-dateutil>=2.7->matplotlib->mglearn) (1.16.0)\n",
            "Installing collected packages: mglearn\n",
            "Successfully installed mglearn-0.2.0\n"
          ]
        }
      ]
    },
    {
      "cell_type": "markdown",
      "source": [
        "**정형 데이터**: 행과 열로 나눠 데이터베이스나 엑셀 파일(csv)파일로 저장할 수 있는 데이터\n",
        "- 머신러닝 학습용\n",
        "- 특성공학을 적용하는 전처리 단계에서 필요한 데이터\n",
        "\n",
        "**비정형 데이터**: 정형 데이터에 속하지 않은 데이터로, 텍스트, 오디오, 이미지, 영상 등\n",
        "- 딥러닝 학습용\n",
        "- 보통 특성공학 대신에 표현학습 알고리즘을 적용"
      ],
      "metadata": {
        "id": "M0h_zBZ56E45"
      }
    },
    {
      "cell_type": "markdown",
      "source": [
        "# 랜덤 포레스트\n",
        "\n",
        "- 정형 데이터를 다루는 대표적인 머신러닝 알고리즘\n",
        "- 결정 트리를 무작위로 만들어 숲을 만드는 알고리즘\n",
        "- CART 계열: RandomForestClassifier, RandomForestRegressor\n",
        "- 부트스트랩 샘플로 훈련을 진행한다.\n",
        "- 부트스트랩 샘플이란 훈련 세트에서 중복을 허용해 무작위로 샘플링한 데이터 샘플을 뜻한다.\n",
        "- 각각의 부트스트랩 샘플들로 훈련한 모델들의 예측 정확도를 모두 더해 트리의 개수로 나누면 평균 정확도가 산출된다.\n",
        "- 특성 개수의 루트만큼 특성을 무작위로 골라 최선의 특성 분할 방법을 찾아서 훈련한다.\n",
        "- 모든 노드를 만들 때마다 이 과정을 반복해 최선의 특성 분할을 적용하는 알고리즘"
      ],
      "metadata": {
        "id": "kQ8MaurW6dv7"
      }
    },
    {
      "cell_type": "code",
      "source": [
        "wine = pd.read_csv('https://raw.githubusercontent.com/rickiepark/hg-mldl/master/wine.csv')\n",
        "wine.head()"
      ],
      "metadata": {
        "colab": {
          "base_uri": "https://localhost:8080/",
          "height": 206
        },
        "id": "I-jmqb3L8eX8",
        "outputId": "d6df9331-dd7c-417a-8ea6-3d1487cf37da"
      },
      "execution_count": null,
      "outputs": [
        {
          "output_type": "execute_result",
          "data": {
            "text/plain": [
              "   alcohol  sugar    pH  class\n",
              "0      9.4    1.9  3.51    0.0\n",
              "1      9.8    2.6  3.20    0.0\n",
              "2      9.8    2.3  3.26    0.0\n",
              "3      9.8    1.9  3.16    0.0\n",
              "4      9.4    1.9  3.51    0.0"
            ],
            "text/html": [
              "\n",
              "  <div id=\"df-096add5d-ed68-421d-9b99-d2b6cc9ae732\" class=\"colab-df-container\">\n",
              "    <div>\n",
              "<style scoped>\n",
              "    .dataframe tbody tr th:only-of-type {\n",
              "        vertical-align: middle;\n",
              "    }\n",
              "\n",
              "    .dataframe tbody tr th {\n",
              "        vertical-align: top;\n",
              "    }\n",
              "\n",
              "    .dataframe thead th {\n",
              "        text-align: right;\n",
              "    }\n",
              "</style>\n",
              "<table border=\"1\" class=\"dataframe\">\n",
              "  <thead>\n",
              "    <tr style=\"text-align: right;\">\n",
              "      <th></th>\n",
              "      <th>alcohol</th>\n",
              "      <th>sugar</th>\n",
              "      <th>pH</th>\n",
              "      <th>class</th>\n",
              "    </tr>\n",
              "  </thead>\n",
              "  <tbody>\n",
              "    <tr>\n",
              "      <th>0</th>\n",
              "      <td>9.4</td>\n",
              "      <td>1.9</td>\n",
              "      <td>3.51</td>\n",
              "      <td>0.0</td>\n",
              "    </tr>\n",
              "    <tr>\n",
              "      <th>1</th>\n",
              "      <td>9.8</td>\n",
              "      <td>2.6</td>\n",
              "      <td>3.20</td>\n",
              "      <td>0.0</td>\n",
              "    </tr>\n",
              "    <tr>\n",
              "      <th>2</th>\n",
              "      <td>9.8</td>\n",
              "      <td>2.3</td>\n",
              "      <td>3.26</td>\n",
              "      <td>0.0</td>\n",
              "    </tr>\n",
              "    <tr>\n",
              "      <th>3</th>\n",
              "      <td>9.8</td>\n",
              "      <td>1.9</td>\n",
              "      <td>3.16</td>\n",
              "      <td>0.0</td>\n",
              "    </tr>\n",
              "    <tr>\n",
              "      <th>4</th>\n",
              "      <td>9.4</td>\n",
              "      <td>1.9</td>\n",
              "      <td>3.51</td>\n",
              "      <td>0.0</td>\n",
              "    </tr>\n",
              "  </tbody>\n",
              "</table>\n",
              "</div>\n",
              "    <div class=\"colab-df-buttons\">\n",
              "\n",
              "  <div class=\"colab-df-container\">\n",
              "    <button class=\"colab-df-convert\" onclick=\"convertToInteractive('df-096add5d-ed68-421d-9b99-d2b6cc9ae732')\"\n",
              "            title=\"Convert this dataframe to an interactive table.\"\n",
              "            style=\"display:none;\">\n",
              "\n",
              "  <svg xmlns=\"http://www.w3.org/2000/svg\" height=\"24px\" viewBox=\"0 -960 960 960\">\n",
              "    <path d=\"M120-120v-720h720v720H120Zm60-500h600v-160H180v160Zm220 220h160v-160H400v160Zm0 220h160v-160H400v160ZM180-400h160v-160H180v160Zm440 0h160v-160H620v160ZM180-180h160v-160H180v160Zm440 0h160v-160H620v160Z\"/>\n",
              "  </svg>\n",
              "    </button>\n",
              "\n",
              "  <style>\n",
              "    .colab-df-container {\n",
              "      display:flex;\n",
              "      gap: 12px;\n",
              "    }\n",
              "\n",
              "    .colab-df-convert {\n",
              "      background-color: #E8F0FE;\n",
              "      border: none;\n",
              "      border-radius: 50%;\n",
              "      cursor: pointer;\n",
              "      display: none;\n",
              "      fill: #1967D2;\n",
              "      height: 32px;\n",
              "      padding: 0 0 0 0;\n",
              "      width: 32px;\n",
              "    }\n",
              "\n",
              "    .colab-df-convert:hover {\n",
              "      background-color: #E2EBFA;\n",
              "      box-shadow: 0px 1px 2px rgba(60, 64, 67, 0.3), 0px 1px 3px 1px rgba(60, 64, 67, 0.15);\n",
              "      fill: #174EA6;\n",
              "    }\n",
              "\n",
              "    .colab-df-buttons div {\n",
              "      margin-bottom: 4px;\n",
              "    }\n",
              "\n",
              "    [theme=dark] .colab-df-convert {\n",
              "      background-color: #3B4455;\n",
              "      fill: #D2E3FC;\n",
              "    }\n",
              "\n",
              "    [theme=dark] .colab-df-convert:hover {\n",
              "      background-color: #434B5C;\n",
              "      box-shadow: 0px 1px 3px 1px rgba(0, 0, 0, 0.15);\n",
              "      filter: drop-shadow(0px 1px 2px rgba(0, 0, 0, 0.3));\n",
              "      fill: #FFFFFF;\n",
              "    }\n",
              "  </style>\n",
              "\n",
              "    <script>\n",
              "      const buttonEl =\n",
              "        document.querySelector('#df-096add5d-ed68-421d-9b99-d2b6cc9ae732 button.colab-df-convert');\n",
              "      buttonEl.style.display =\n",
              "        google.colab.kernel.accessAllowed ? 'block' : 'none';\n",
              "\n",
              "      async function convertToInteractive(key) {\n",
              "        const element = document.querySelector('#df-096add5d-ed68-421d-9b99-d2b6cc9ae732');\n",
              "        const dataTable =\n",
              "          await google.colab.kernel.invokeFunction('convertToInteractive',\n",
              "                                                    [key], {});\n",
              "        if (!dataTable) return;\n",
              "\n",
              "        const docLinkHtml = 'Like what you see? Visit the ' +\n",
              "          '<a target=\"_blank\" href=https://colab.research.google.com/notebooks/data_table.ipynb>data table notebook</a>'\n",
              "          + ' to learn more about interactive tables.';\n",
              "        element.innerHTML = '';\n",
              "        dataTable['output_type'] = 'display_data';\n",
              "        await google.colab.output.renderOutput(dataTable, element);\n",
              "        const docLink = document.createElement('div');\n",
              "        docLink.innerHTML = docLinkHtml;\n",
              "        element.appendChild(docLink);\n",
              "      }\n",
              "    </script>\n",
              "  </div>\n",
              "\n",
              "\n",
              "<div id=\"df-c1f118a5-4a72-4baa-8057-554a81d4c8f3\">\n",
              "  <button class=\"colab-df-quickchart\" onclick=\"quickchart('df-c1f118a5-4a72-4baa-8057-554a81d4c8f3')\"\n",
              "            title=\"Suggest charts\"\n",
              "            style=\"display:none;\">\n",
              "\n",
              "<svg xmlns=\"http://www.w3.org/2000/svg\" height=\"24px\"viewBox=\"0 0 24 24\"\n",
              "     width=\"24px\">\n",
              "    <g>\n",
              "        <path d=\"M19 3H5c-1.1 0-2 .9-2 2v14c0 1.1.9 2 2 2h14c1.1 0 2-.9 2-2V5c0-1.1-.9-2-2-2zM9 17H7v-7h2v7zm4 0h-2V7h2v10zm4 0h-2v-4h2v4z\"/>\n",
              "    </g>\n",
              "</svg>\n",
              "  </button>\n",
              "\n",
              "<style>\n",
              "  .colab-df-quickchart {\n",
              "      --bg-color: #E8F0FE;\n",
              "      --fill-color: #1967D2;\n",
              "      --hover-bg-color: #E2EBFA;\n",
              "      --hover-fill-color: #174EA6;\n",
              "      --disabled-fill-color: #AAA;\n",
              "      --disabled-bg-color: #DDD;\n",
              "  }\n",
              "\n",
              "  [theme=dark] .colab-df-quickchart {\n",
              "      --bg-color: #3B4455;\n",
              "      --fill-color: #D2E3FC;\n",
              "      --hover-bg-color: #434B5C;\n",
              "      --hover-fill-color: #FFFFFF;\n",
              "      --disabled-bg-color: #3B4455;\n",
              "      --disabled-fill-color: #666;\n",
              "  }\n",
              "\n",
              "  .colab-df-quickchart {\n",
              "    background-color: var(--bg-color);\n",
              "    border: none;\n",
              "    border-radius: 50%;\n",
              "    cursor: pointer;\n",
              "    display: none;\n",
              "    fill: var(--fill-color);\n",
              "    height: 32px;\n",
              "    padding: 0;\n",
              "    width: 32px;\n",
              "  }\n",
              "\n",
              "  .colab-df-quickchart:hover {\n",
              "    background-color: var(--hover-bg-color);\n",
              "    box-shadow: 0 1px 2px rgba(60, 64, 67, 0.3), 0 1px 3px 1px rgba(60, 64, 67, 0.15);\n",
              "    fill: var(--button-hover-fill-color);\n",
              "  }\n",
              "\n",
              "  .colab-df-quickchart-complete:disabled,\n",
              "  .colab-df-quickchart-complete:disabled:hover {\n",
              "    background-color: var(--disabled-bg-color);\n",
              "    fill: var(--disabled-fill-color);\n",
              "    box-shadow: none;\n",
              "  }\n",
              "\n",
              "  .colab-df-spinner {\n",
              "    border: 2px solid var(--fill-color);\n",
              "    border-color: transparent;\n",
              "    border-bottom-color: var(--fill-color);\n",
              "    animation:\n",
              "      spin 1s steps(1) infinite;\n",
              "  }\n",
              "\n",
              "  @keyframes spin {\n",
              "    0% {\n",
              "      border-color: transparent;\n",
              "      border-bottom-color: var(--fill-color);\n",
              "      border-left-color: var(--fill-color);\n",
              "    }\n",
              "    20% {\n",
              "      border-color: transparent;\n",
              "      border-left-color: var(--fill-color);\n",
              "      border-top-color: var(--fill-color);\n",
              "    }\n",
              "    30% {\n",
              "      border-color: transparent;\n",
              "      border-left-color: var(--fill-color);\n",
              "      border-top-color: var(--fill-color);\n",
              "      border-right-color: var(--fill-color);\n",
              "    }\n",
              "    40% {\n",
              "      border-color: transparent;\n",
              "      border-right-color: var(--fill-color);\n",
              "      border-top-color: var(--fill-color);\n",
              "    }\n",
              "    60% {\n",
              "      border-color: transparent;\n",
              "      border-right-color: var(--fill-color);\n",
              "    }\n",
              "    80% {\n",
              "      border-color: transparent;\n",
              "      border-right-color: var(--fill-color);\n",
              "      border-bottom-color: var(--fill-color);\n",
              "    }\n",
              "    90% {\n",
              "      border-color: transparent;\n",
              "      border-bottom-color: var(--fill-color);\n",
              "    }\n",
              "  }\n",
              "</style>\n",
              "\n",
              "  <script>\n",
              "    async function quickchart(key) {\n",
              "      const quickchartButtonEl =\n",
              "        document.querySelector('#' + key + ' button');\n",
              "      quickchartButtonEl.disabled = true;  // To prevent multiple clicks.\n",
              "      quickchartButtonEl.classList.add('colab-df-spinner');\n",
              "      try {\n",
              "        const charts = await google.colab.kernel.invokeFunction(\n",
              "            'suggestCharts', [key], {});\n",
              "      } catch (error) {\n",
              "        console.error('Error during call to suggestCharts:', error);\n",
              "      }\n",
              "      quickchartButtonEl.classList.remove('colab-df-spinner');\n",
              "      quickchartButtonEl.classList.add('colab-df-quickchart-complete');\n",
              "    }\n",
              "    (() => {\n",
              "      let quickchartButtonEl =\n",
              "        document.querySelector('#df-c1f118a5-4a72-4baa-8057-554a81d4c8f3 button');\n",
              "      quickchartButtonEl.style.display =\n",
              "        google.colab.kernel.accessAllowed ? 'block' : 'none';\n",
              "    })();\n",
              "  </script>\n",
              "</div>\n",
              "    </div>\n",
              "  </div>\n"
            ]
          },
          "metadata": {},
          "execution_count": 2
        }
      ]
    },
    {
      "cell_type": "code",
      "source": [
        "data = wine[['alcohol', 'sugar', 'pH']].to_numpy() # 사이킷런으로 작업하려면 array로 바꿔줘야 한다\n",
        "target = wine[['class']].to_numpy()"
      ],
      "metadata": {
        "id": "SD_L1xkb8exx"
      },
      "execution_count": null,
      "outputs": []
    },
    {
      "cell_type": "code",
      "source": [
        "from sklearn.model_selection import train_test_split\n",
        "\n",
        "train_input, test_input, train_target, test_target, = train_test_split(\n",
        "    data, target, test_size= 0.2 , random_state=42)"
      ],
      "metadata": {
        "id": "ruwowvAc8kd-"
      },
      "execution_count": null,
      "outputs": []
    },
    {
      "cell_type": "code",
      "source": [
        "train_input.shape, test_input.shape"
      ],
      "metadata": {
        "colab": {
          "base_uri": "https://localhost:8080/"
        },
        "id": "VTIYfur58sOM",
        "outputId": "509102c1-918d-4e4e-f093-2cccf600d37f"
      },
      "execution_count": null,
      "outputs": [
        {
          "output_type": "execute_result",
          "data": {
            "text/plain": [
              "((5197, 3), (1300, 3))"
            ]
          },
          "metadata": {},
          "execution_count": 5
        }
      ]
    },
    {
      "cell_type": "code",
      "source": [
        "train_target.shape, test_target.shape"
      ],
      "metadata": {
        "colab": {
          "base_uri": "https://localhost:8080/"
        },
        "id": "3OoaU6q08v32",
        "outputId": "cfc404fd-c348-4987-bbe3-18c70244f974"
      },
      "execution_count": null,
      "outputs": [
        {
          "output_type": "execute_result",
          "data": {
            "text/plain": [
              "((5197, 1), (1300, 1))"
            ]
          },
          "metadata": {},
          "execution_count": 6
        }
      ]
    },
    {
      "cell_type": "markdown",
      "source": [
        "**분류 알고리즘을 사용해 분류할 때 그 찾아낸 대상을 양성클래스라고 부르고, 1의 정형값을 갖는다**\n",
        "\n",
        "# 랜덤 포레스트 분류기를 이용한 화이트와인 분류"
      ],
      "metadata": {
        "id": "dayVFNOr80d2"
      }
    },
    {
      "cell_type": "code",
      "source": [
        "from scipy.sparse import random\n",
        "from sklearn.model_selection import cross_validate\n",
        "from sklearn.ensemble import RandomForestClassifier\n",
        "\n",
        "# n_jobs= -1 : 시스템의 CPU 코어를 모두 사용한다.\n",
        "rf = RandomForestClassifier(n_jobs= -1, random_state= 42)\n",
        "\n",
        "# return_train_score= True: 검증세트 뿐만 아니라 훈련세트의 점수도 같이 반환한다\n",
        "scores = cross_validate(rf, train_input, train_target, n_jobs= -1, return_train_score= True)\n",
        "\n",
        "\n",
        "print(np.mean(scores['train_score']), np.mean(scores['test_score']))"
      ],
      "metadata": {
        "colab": {
          "base_uri": "https://localhost:8080/"
        },
        "id": "pjnMAaxp9BJy",
        "outputId": "79d031f6-9100-416d-e689-077604c8a860"
      },
      "execution_count": null,
      "outputs": [
        {
          "output_type": "stream",
          "name": "stdout",
          "text": [
            "0.9973541965122431 0.8905151032797809\n"
          ]
        }
      ]
    },
    {
      "cell_type": "code",
      "source": [
        "rf.fit(train_input, train_target)\n",
        "print(rf.feature_importances_)"
      ],
      "metadata": {
        "colab": {
          "base_uri": "https://localhost:8080/"
        },
        "id": "cyZGZ7hZ-Vq4",
        "outputId": "85f7f692-1e75-4daf-94ad-b32c80354ee9"
      },
      "execution_count": null,
      "outputs": [
        {
          "output_type": "stream",
          "name": "stdout",
          "text": [
            "[0.23167441 0.50039841 0.26792718]\n"
          ]
        }
      ]
    },
    {
      "cell_type": "code",
      "source": [
        "# oob: 부트스트랩 샘플을 통해 샘플링한 데이터 중에서도 전혀 훈련에 사용되지 않은 데이터.\n",
        "# 모델 자체 평가: oob_score= True\n",
        "rf = RandomForestClassifier(oob_score= True, n_jobs= -1, random_state= 42)\n",
        "rf.fit(train_input, train_target)\n",
        "print(rf.oob_score_)"
      ],
      "metadata": {
        "colab": {
          "base_uri": "https://localhost:8080/"
        },
        "id": "OtBDmIRL-k_X",
        "outputId": "44acf69d-28b6-4560-e01e-2391c89229a1"
      },
      "execution_count": null,
      "outputs": [
        {
          "output_type": "stream",
          "name": "stdout",
          "text": [
            "0.8934000384837406\n"
          ]
        }
      ]
    },
    {
      "cell_type": "markdown",
      "source": [
        "# 엑스트라 트리(Extra Tree)\n",
        "\n",
        "- 랜덤 포레스트와 비슷한 모델\n",
        "- 랜덤 포레스트와 거의 모든 과정이 비슷하지만 과대적합을 억제하는 방식에 차이가 있다\n",
        "- 부트스트랩 샘플개신 전체 샘플을 사용한다.\n",
        "- 여러 특성을 기준으로 랜덤하게 트리를 분할하고, 이중 최적의 불순도를 가지는 트리를 찾아내는 방법\n",
        "- 그래서 랜덤 포레스트에 비해 속도가 빠르다.\n",
        "- ExtraTreesClassfier 클래스를 사용\n",
        "(사실 현업에선 잘 안쓴다고 한다)"
      ],
      "metadata": {
        "id": "JYtQg6B3_x4v"
      }
    },
    {
      "cell_type": "code",
      "source": [
        "from sklearn.ensemble import ExtraTreesClassifier\n",
        "\n",
        "et = ExtraTreesClassifier(n_jobs= -1, random_state= 42)\n",
        "scores = cross_validate(et, train_input, train_target,\n",
        "                        return_train_score= True, n_jobs= -1)"
      ],
      "metadata": {
        "id": "SsOPb5FpBL7z"
      },
      "execution_count": null,
      "outputs": []
    },
    {
      "cell_type": "code",
      "source": [
        "print(np.mean(scores['train_score']), np.mean(scores['test_score']))\n",
        "# 위에 한것에 비해 테스트 점수가 좀 떨어짐"
      ],
      "metadata": {
        "colab": {
          "base_uri": "https://localhost:8080/"
        },
        "id": "Opfw6OXdChjN",
        "outputId": "2f75bde1-3776-46f7-82ec-51d5b145e81c"
      },
      "execution_count": null,
      "outputs": [
        {
          "output_type": "stream",
          "name": "stdout",
          "text": [
            "0.9974503966084433 0.8887848893166506\n"
          ]
        }
      ]
    },
    {
      "cell_type": "code",
      "source": [
        "et.fit(train_input, train_target)\n",
        "print(et.feature_importances_)"
      ],
      "metadata": {
        "colab": {
          "base_uri": "https://localhost:8080/"
        },
        "id": "tYG-nTUiCkt-",
        "outputId": "86be7f28-10a2-43e1-e3d9-b3f55245fa11"
      },
      "execution_count": null,
      "outputs": [
        {
          "output_type": "stream",
          "name": "stdout",
          "text": [
            "[0.20183568 0.52242907 0.27573525]\n"
          ]
        }
      ]
    },
    {
      "cell_type": "markdown",
      "source": [
        "- 엑스트라 트리가 무작위성이 좀 더 크기 때문에 랜덤 포레스트보다 더 많은 결정 트리를 훈련해야 한다.\n",
        "- 특성의 갯수도 더 많이 주어질 때 랜덤 포레스트보다는 유리한 성능을 제공한다."
      ],
      "metadata": {
        "id": "X2fe6BoSCwuF"
      }
    },
    {
      "cell_type": "markdown",
      "source": [
        "GradientBoostingClassifier,\n",
        "# 그래디언트 부스팅(Gradient Boosting)\n",
        "\n",
        "- 기본적으로 깊이가 3인 결정 트리 100개를 사용\n",
        "- 깊이가 얕은 결정 트리를 사용하기 때문에 과대적합에 강하고 일반적으로 높은 일반화 성능을 기대\n",
        "- 분류에서는 로지스틱 손실함수, 회귀에서는 평균제곱오차를 사용한다.\n",
        "- 이전 트리의 손실 값들이 낮아지는 방향으로 회귀 결정 트리를 계속 추가하는 알고리즘\n",
        "- GradientBoostingClassifier/Regressor 클래스\n",
        "- max_depth 또는 learning_rate 파라미터를 추가해 과대적합을 억제할 수 있다.\n",
        "- 학습률을 증가시키고 트리의 개수를 늘리면 좀 더 성능이 향상될 수 있다."
      ],
      "metadata": {
        "id": "-oKvHZkyD56G"
      }
    },
    {
      "cell_type": "code",
      "source": [
        "from sklearn.ensemble import GradientBoostingClassifier\n",
        "\n",
        "gb = GradientBoostingClassifier(random_state= 42)\n",
        "scores = cross_validate(gb, train_input, train_target,\n",
        "                        return_train_score= True, n_jobs= -1)\n",
        "print(np.mean(scores['train_score']), np.mean(scores['test_score']))\n",
        "\n",
        "# 트리의 개수를 늘려야 할 것 같다."
      ],
      "metadata": {
        "colab": {
          "base_uri": "https://localhost:8080/"
        },
        "id": "mYpOtG3-HCXr",
        "outputId": "bf4962d8-a841-480d-e148-8c9d06641a1d"
      },
      "execution_count": null,
      "outputs": [
        {
          "output_type": "stream",
          "name": "stdout",
          "text": [
            "0.8881086892152563 0.8720430147331015\n"
          ]
        }
      ]
    },
    {
      "cell_type": "code",
      "source": [
        "# n_estimators: 트리의 개수, 기본값 100\n",
        "# learning_rate: 학습율, 기본값 0.1\n",
        "\n",
        "gb = GradientBoostingClassifier( n_estimators= 500, learning_rate= 0.2, random_state= 42)\n",
        "scores = cross_validate(gb, train_input, train_target,\n",
        "                        return_train_score= True, n_jobs= -1)\n",
        "print(np.mean(scores['train_score']), np.mean(scores['test_score']))"
      ],
      "metadata": {
        "colab": {
          "base_uri": "https://localhost:8080/"
        },
        "id": "ZswbrujiJIyV",
        "outputId": "e7695aa2-5171-48af-cab6-72e1447d2e2c"
      },
      "execution_count": null,
      "outputs": [
        {
          "output_type": "stream",
          "name": "stdout",
          "text": [
            "0.9464595437171814 0.8780082549788999\n"
          ]
        }
      ]
    },
    {
      "cell_type": "code",
      "source": [
        "gb.fit(train_input, train_target)\n",
        "print(gb.feature_importances_)"
      ],
      "metadata": {
        "colab": {
          "base_uri": "https://localhost:8080/"
        },
        "id": "3vxK6CX0JmtF",
        "outputId": "e818a593-f2dc-4c8a-f325-10f13b7ee7cd"
      },
      "execution_count": null,
      "outputs": [
        {
          "output_type": "stream",
          "name": "stdout",
          "text": [
            "[0.15872278 0.68010884 0.16116839]\n"
          ]
        }
      ]
    },
    {
      "cell_type": "markdown",
      "source": [
        "# 히스토그램 기반 그래디언트 부스팅(HGBM)\n",
        "\n",
        "- Histogram-base Gradient Boosting: 정형 데이터를 다루는 머신러닝 알고리즘에서 가장 인기가 높은 알고리즘\n",
        "- 훈련 데이터를 256개의 구간으로 나눠 학습시키는 알고리즘\n",
        "- 트리의 개수를 지정하는 n_estimators 파라미터 대신 부스팅 횟수 지정하는 max_iter를 사용\n",
        "- 성능을 향상시키기 위해 max_iter 파라미터를 조정한다."
      ],
      "metadata": {
        "id": "acjR7vTPKE7s"
      }
    },
    {
      "cell_type": "markdown",
      "source": [
        "## 버전 확인"
      ],
      "metadata": {
        "id": "Mv_LbboCLfVk"
      }
    },
    {
      "cell_type": "code",
      "source": [
        "import sys\n",
        "# 파이썬 버전을 확인할 때\n",
        "print('Python: ', sys.version)\n",
        "print('Pandas: ', pd.__version__)\n",
        "print('Numpy: ', np.__version__)\n",
        "\n",
        "import sklearn\n",
        "print('Scikit-learn: ', sklearn.__version__)\n"
      ],
      "metadata": {
        "colab": {
          "base_uri": "https://localhost:8080/"
        },
        "id": "cN-FR3iYMstg",
        "outputId": "01d18ab3-32cf-4dde-b879-36eddf1f2b4a"
      },
      "execution_count": null,
      "outputs": [
        {
          "output_type": "stream",
          "name": "stdout",
          "text": [
            "Python:  3.10.12 (main, Jun 11 2023, 05:26:28) [GCC 11.4.0]\n",
            "Pandas:  1.5.3\n",
            "Numpy:  1.23.5\n",
            "Scikit-learn:  1.2.2\n"
          ]
        }
      ]
    },
    {
      "cell_type": "code",
      "source": [
        "from sklearn.ensemble import HistGradientBoostingClassifier\n",
        "\n",
        "hgb = HistGradientBoostingClassifier(random_state= 42)\n",
        "scores = cross_validate(hgb, train_input, train_target,\n",
        "                        return_train_score= True, n_jobs= -1)\n",
        "print(np.mean(scores['train_score']), np.mean(scores['test_score']))"
      ],
      "metadata": {
        "colab": {
          "base_uri": "https://localhost:8080/"
        },
        "id": "s3HTl7opNHtx",
        "outputId": "0cc10ecf-4add-43f9-955c-c6eba649e577"
      },
      "execution_count": null,
      "outputs": [
        {
          "output_type": "stream",
          "name": "stdout",
          "text": [
            "0.9321723946453317 0.8801241948619236\n"
          ]
        }
      ]
    },
    {
      "cell_type": "code",
      "source": [
        "# feature의 중요도를 별도의 함수를 이용하여 계산을 수행한다.\n",
        "from sklearn.inspection import permutation_importance\n",
        "\n",
        "# permutatuon_importance, 반환하는 객체는 반봇해서 얻은 특성 중요도(importances),\n",
        "# 평균(importances_mean), 표준편차(importances_std)를 담고 있다.\n",
        "hgb.fit(train_input, train_target)\n",
        "\n",
        "# n_repeats= 10, 랜덤하게 섞을 횟수\n",
        "result = permutation_importance(hgb, train_input, train_target,\n",
        "                                n_repeats= 10, random_state= 42, n_jobs= -1)\n",
        "\n",
        "print(result.importances_mean)"
      ],
      "metadata": {
        "colab": {
          "base_uri": "https://localhost:8080/"
        },
        "id": "CPdEsjouO36K",
        "outputId": "c8022182-5652-4a63-c2f9-788c830d551d"
      },
      "execution_count": null,
      "outputs": [
        {
          "output_type": "stream",
          "name": "stdout",
          "text": [
            "[0.08876275 0.23438522 0.08027708]\n"
          ]
        }
      ]
    },
    {
      "cell_type": "code",
      "source": [
        "result = permutation_importance(hgb, test_input, test_target,\n",
        "                                n_repeats= 10, random_state= 42, n_jobs= -1)\n",
        "\n",
        "print(result.importances_mean)"
      ],
      "metadata": {
        "colab": {
          "base_uri": "https://localhost:8080/"
        },
        "id": "v5SIROMbQyVu",
        "outputId": "4311e31c-afb0-49e9-b581-b83f78e0d66a"
      },
      "execution_count": null,
      "outputs": [
        {
          "output_type": "stream",
          "name": "stdout",
          "text": [
            "[0.05969231 0.20238462 0.049     ]\n"
          ]
        }
      ]
    },
    {
      "cell_type": "code",
      "source": [
        "hgb.score(test_input, test_target)"
      ],
      "metadata": {
        "colab": {
          "base_uri": "https://localhost:8080/"
        },
        "id": "_NIisOgXPoVM",
        "outputId": "d7625eed-0d26-4b31-c602-d951795bb587"
      },
      "execution_count": null,
      "outputs": [
        {
          "output_type": "execute_result",
          "data": {
            "text/plain": [
              "0.8723076923076923"
            ]
          },
          "metadata": {},
          "execution_count": 20
        }
      ]
    },
    {
      "cell_type": "markdown",
      "source": [
        "# XGBoost vs LightGBM\n",
        "\n",
        "- 히스토그램 그래디언트 부스팅 전용 라이브러리가 XGBoost, LightGBM, NGBoost...\n",
        "- 트리 기반의 알고리즘의 앙상블 학습에서 각광받는 알고리즘중 하나\n",
        "- GBM에 기반하고 있지만, GBM의 단점인 느린 수행시간, 과적합 규제등을 해결한 알고리즘\n",
        "\n",
        "**주요 장점**\n",
        "- 뛰어난 예측성능\n",
        "- GBM 대비 빠른 수행시간\n",
        "- 과적합 규제\n",
        "- Tree pruning(트리 가지치기): 긍정 이득이 없는 분할을 가지치기해서 분할 수 줄임\n",
        "- 자체 내장된 교차검증\n",
        "  - 반복 수행시마다 내부적으로 교차검증을 수행해 최적화된 반복 수행횟수를 가질 수 있다.\n",
        "  - 지정된 반복횟수가 아니라 교차검증을 통해 평가 데이터세트의 평가 값이 최적화되면 반복을 중간에 멈출 수 있는 기능이 있다.\n",
        "- 결손값 자체 처리\n",
        "- XGBoostsms 독자적인 XGBoost 모듈과 사이킷런 프레임워크 기반의 모듈이 존재한다.\n",
        "- 독자적인 모듈은 고유의 API와 하이퍼파라미터를 사용하지만, 사이킷런 기반 모듈에서는 다른 Estimator와 동일한 사용법을 가진다."
      ],
      "metadata": {
        "id": "3mmMHfynQ7Ye"
      }
    },
    {
      "cell_type": "code",
      "source": [
        "!pip install xgboost\n",
        "\n",
        "import xgboost\n",
        "print(xgboost.__version__)"
      ],
      "metadata": {
        "colab": {
          "base_uri": "https://localhost:8080/"
        },
        "id": "Wq5zMSH1T5YD",
        "outputId": "3b47343e-4dfb-440d-9641-306b4b82b9f4"
      },
      "execution_count": null,
      "outputs": [
        {
          "output_type": "stream",
          "name": "stdout",
          "text": [
            "Requirement already satisfied: xgboost in /usr/local/lib/python3.10/dist-packages (2.0.1)\n",
            "Requirement already satisfied: numpy in /usr/local/lib/python3.10/dist-packages (from xgboost) (1.23.5)\n",
            "Requirement already satisfied: scipy in /usr/local/lib/python3.10/dist-packages (from xgboost) (1.11.3)\n",
            "2.0.1\n"
          ]
        }
      ]
    },
    {
      "cell_type": "code",
      "source": [
        "from xgboost import XGBClassifier\n",
        "\n",
        "xgb =XGBClassifier(tree_method= 'hist', random_state= 42)\n",
        "\n",
        "scores = cross_validate(xgb, train_input, train_target,\n",
        "                        return_train_score= True, n_jobs= -1)\n",
        "print(np.mean(scores['train_score']), np.mean(scores['test_score']))"
      ],
      "metadata": {
        "colab": {
          "base_uri": "https://localhost:8080/"
        },
        "id": "Bew3hxlRaiPA",
        "outputId": "077ed28f-2449-4409-f0d9-2abecda8c1df"
      },
      "execution_count": null,
      "outputs": [
        {
          "output_type": "stream",
          "name": "stdout",
          "text": [
            "0.9558403027491312 0.8782000074035686\n"
          ]
        }
      ]
    },
    {
      "cell_type": "code",
      "source": [
        "! pip install lightgbm"
      ],
      "metadata": {
        "colab": {
          "base_uri": "https://localhost:8080/"
        },
        "id": "95qe_Y_2jLrf",
        "outputId": "54d402bf-9579-4aa3-c8b0-c7cc18f39125"
      },
      "execution_count": null,
      "outputs": [
        {
          "output_type": "stream",
          "name": "stdout",
          "text": [
            "Requirement already satisfied: lightgbm in /usr/local/lib/python3.10/dist-packages (4.1.0)\n",
            "Requirement already satisfied: numpy in /usr/local/lib/python3.10/dist-packages (from lightgbm) (1.23.5)\n",
            "Requirement already satisfied: scipy in /usr/local/lib/python3.10/dist-packages (from lightgbm) (1.11.3)\n"
          ]
        }
      ]
    },
    {
      "cell_type": "code",
      "source": [
        "from lightgbm import LGBMClassifier\n",
        "\n",
        "lgb =LGBMClassifier(tree_method= 'hist', random_state= 42)\n",
        "\n",
        "scores = cross_validate(lgb, train_input, train_target,\n",
        "                        return_train_score= True, n_jobs= -1)\n",
        "print(np.mean(scores['train_score']), np.mean(scores['test_score']))"
      ],
      "metadata": {
        "id": "4JNiMI8OlX-E"
      },
      "execution_count": null,
      "outputs": []
    },
    {
      "cell_type": "code",
      "source": [],
      "metadata": {
        "id": "3HlLN-fslgmI"
      },
      "execution_count": null,
      "outputs": []
    }
  ]
}