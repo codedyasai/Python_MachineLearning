{
  "nbformat": 4,
  "nbformat_minor": 0,
  "metadata": {
    "colab": {
      "provenance": [],
      "authorship_tag": "ABX9TyMvtn+6xluxo5MJxwxcPzuM",
      "include_colab_link": true
    },
    "kernelspec": {
      "name": "python3",
      "display_name": "Python 3"
    },
    "language_info": {
      "name": "python"
    }
  },
  "cells": [
    {
      "cell_type": "markdown",
      "metadata": {
        "id": "view-in-github",
        "colab_type": "text"
      },
      "source": [
        "<a href=\"https://colab.research.google.com/github/codedyasai/Python_MachineLearning/blob/main/18_%ED%85%8D%EC%8A%A4%ED%8A%B8_%EB%A7%88%EC%9D%B4%EB%8B%9D__%EB%82%98%EC%9D%B4%EB%B8%8C%EB%B2%A0%EC%9D%B4%EC%8A%A4(Naive_Bayes).ipynb\" target=\"_parent\"><img src=\"https://colab.research.google.com/assets/colab-badge.svg\" alt=\"Open In Colab\"/></a>"
      ]
    },
    {
      "cell_type": "code",
      "execution_count": null,
      "metadata": {
        "id": "FjtVcw9kdOFi"
      },
      "outputs": [],
      "source": [
        "from IPython.display import display\n",
        "import numpy as np\n",
        "import pandas as pd\n",
        "import matplotlib.pyplot as plt\n",
        "import seaborn as sns\n",
        "\n",
        "# 음수표현 라이브러리\n",
        "plt.rcParams['axes.unicode_minus'] = False\n",
        "\n",
        "# 경고무시\n",
        "import warnings\n",
        "warnings.filterwarnings(\"ignore\")\n",
        "\n",
        "# 매직명령어 : 시각화 결과가 노트북에 포함되도록\n",
        "%matplotlib inline"
      ]
    },
    {
      "cell_type": "markdown",
      "source": [
        "# NLTK 자연어 처리 패키지\n",
        "\n",
        "- Natural Language ToolKit 패키지는 교육용으로 개발된 자연어 처리 및 문서 분석용 파이썬 패키지\n",
        "\n",
        "**주요기능**\n",
        "- 말뭉치(corpus): 자연어 분석을 위해 만든 샘플 문서의 집합을 뜻한다.\n",
        "- 토큰 생성(Tokenizer): 긴 문자열을 분석을 위한 작은 단위로 나누는 것(문자열 단위 - 토큰)\n",
        "- 형태소 분석(morpheme): 언어학에서는 일정한 의미가 있는 가장 작은 말의 단위\n",
        "  - 어간 추출(stemming)\n",
        "  - 원형 복원\n",
        "- 품사 태깅(POS, part of speech)"
      ],
      "metadata": {
        "id": "RXSNMd0snztW"
      }
    },
    {
      "cell_type": "code",
      "source": [
        "!pip install nltk"
      ],
      "metadata": {
        "colab": {
          "base_uri": "https://localhost:8080/"
        },
        "id": "hZBJRFeyaKIu",
        "outputId": "d222955f-2909-4114-f373-05b03686051f"
      },
      "execution_count": null,
      "outputs": [
        {
          "output_type": "stream",
          "name": "stdout",
          "text": [
            "Requirement already satisfied: nltk in /usr/local/lib/python3.10/dist-packages (3.8.1)\n",
            "Requirement already satisfied: click in /usr/local/lib/python3.10/dist-packages (from nltk) (8.1.7)\n",
            "Requirement already satisfied: joblib in /usr/local/lib/python3.10/dist-packages (from nltk) (1.3.2)\n",
            "Requirement already satisfied: regex>=2021.8.3 in /usr/local/lib/python3.10/dist-packages (from nltk) (2023.6.3)\n",
            "Requirement already satisfied: tqdm in /usr/local/lib/python3.10/dist-packages (from nltk) (4.66.1)\n"
          ]
        }
      ]
    },
    {
      "cell_type": "markdown",
      "source": [
        "## 말뭉치(corpus)\n",
        "- 자연어 분석 작업을 위해 만들어진 샘플 문서 집합"
      ],
      "metadata": {
        "id": "8aEuAcLPce8z"
      }
    },
    {
      "cell_type": "code",
      "source": [
        "import nltk\n",
        "# quiet= True, 다운로드한 문서의 목록을 추출\n",
        "nltk.download('book', quiet= True)\n",
        "from nltk.book import *"
      ],
      "metadata": {
        "colab": {
          "base_uri": "https://localhost:8080/"
        },
        "id": "AhMVa4VIckLp",
        "outputId": "fa29ae78-438a-4910-d396-3ac8929ec8df"
      },
      "execution_count": null,
      "outputs": [
        {
          "output_type": "stream",
          "name": "stdout",
          "text": [
            "*** Introductory Examples for the NLTK Book ***\n",
            "Loading text1, ..., text9 and sent1, ..., sent9\n",
            "Type the name of the text or sentence to view it.\n",
            "Type: 'texts()' or 'sents()' to list the materials.\n",
            "text1: Moby Dick by Herman Melville 1851\n",
            "text2: Sense and Sensibility by Jane Austen 1811\n",
            "text3: The Book of Genesis\n",
            "text4: Inaugural Address Corpus\n",
            "text5: Chat Corpus\n",
            "text6: Monty Python and the Holy Grail\n",
            "text7: Wall Street Journal\n",
            "text8: Personals Corpus\n",
            "text9: The Man Who Was Thursday by G . K . Chesterton 1908\n"
          ]
        }
      ]
    },
    {
      "cell_type": "code",
      "source": [
        "# 저작권이 만료된 문학작품을 포함한 말뭉치 gutenberg\n",
        "nltk.corpus.gutenberg.fileids()"
      ],
      "metadata": {
        "colab": {
          "base_uri": "https://localhost:8080/"
        },
        "id": "JscUorvxdJGN",
        "outputId": "1679bdc1-f4df-46f1-858f-2cba374f54b7"
      },
      "execution_count": null,
      "outputs": [
        {
          "output_type": "execute_result",
          "data": {
            "text/plain": [
              "['austen-emma.txt',\n",
              " 'austen-persuasion.txt',\n",
              " 'austen-sense.txt',\n",
              " 'bible-kjv.txt',\n",
              " 'blake-poems.txt',\n",
              " 'bryant-stories.txt',\n",
              " 'burgess-busterbrown.txt',\n",
              " 'carroll-alice.txt',\n",
              " 'chesterton-ball.txt',\n",
              " 'chesterton-brown.txt',\n",
              " 'chesterton-thursday.txt',\n",
              " 'edgeworth-parents.txt',\n",
              " 'melville-moby_dick.txt',\n",
              " 'milton-paradise.txt',\n",
              " 'shakespeare-caesar.txt',\n",
              " 'shakespeare-hamlet.txt',\n",
              " 'shakespeare-macbeth.txt',\n",
              " 'whitman-leaves.txt']"
            ]
          },
          "metadata": {},
          "execution_count": 4
        }
      ]
    },
    {
      "cell_type": "code",
      "source": [
        "emma_raw = nltk.corpus.gutenberg.raw('austen-emma.txt')\n",
        "print(emma_raw[:1300])"
      ],
      "metadata": {
        "colab": {
          "base_uri": "https://localhost:8080/"
        },
        "id": "xVIhQEsFdtL3",
        "outputId": "71c5a7f1-1c7b-4ae5-bef7-86e3188f89cb"
      },
      "execution_count": null,
      "outputs": [
        {
          "output_type": "stream",
          "name": "stdout",
          "text": [
            "[Emma by Jane Austen 1816]\n",
            "\n",
            "VOLUME I\n",
            "\n",
            "CHAPTER I\n",
            "\n",
            "\n",
            "Emma Woodhouse, handsome, clever, and rich, with a comfortable home\n",
            "and happy disposition, seemed to unite some of the best blessings\n",
            "of existence; and had lived nearly twenty-one years in the world\n",
            "with very little to distress or vex her.\n",
            "\n",
            "She was the youngest of the two daughters of a most affectionate,\n",
            "indulgent father; and had, in consequence of her sister's marriage,\n",
            "been mistress of his house from a very early period.  Her mother\n",
            "had died too long ago for her to have more than an indistinct\n",
            "remembrance of her caresses; and her place had been supplied\n",
            "by an excellent woman as governess, who had fallen little short\n",
            "of a mother in affection.\n",
            "\n",
            "Sixteen years had Miss Taylor been in Mr. Woodhouse's family,\n",
            "less as a governess than a friend, very fond of both daughters,\n",
            "but particularly of Emma.  Between _them_ it was more the intimacy\n",
            "of sisters.  Even before Miss Taylor had ceased to hold the nominal\n",
            "office of governess, the mildness of her temper had hardly allowed\n",
            "her to impose any restraint; and the shadow of authority being\n",
            "now long passed away, they had been living together as friend and\n",
            "friend very mutually attached, and Emma doing just what she liked;\n",
            "highly esteeming Miss Taylor's judgment, but directed chiefly by\n",
            "her own\n"
          ]
        }
      ]
    },
    {
      "cell_type": "markdown",
      "source": [
        "## 토큰 생성(tokenizer)\n",
        "- 토큰(token)\n",
        "- 정규표현식: 문장, 단어, 글자단위"
      ],
      "metadata": {
        "id": "JH2i-HiJeHEj"
      }
    },
    {
      "cell_type": "code",
      "source": [
        "from nltk.tokenize import sent_tokenize\n",
        "print(sent_tokenize(emma_raw[:1300])[3])"
      ],
      "metadata": {
        "colab": {
          "base_uri": "https://localhost:8080/"
        },
        "id": "_iKE1_iGebZu",
        "outputId": "40068323-9dfa-4b08-f3d3-6d84f228617f"
      },
      "execution_count": null,
      "outputs": [
        {
          "output_type": "stream",
          "name": "stdout",
          "text": [
            "Sixteen years had Miss Taylor been in Mr. Woodhouse's family,\n",
            "less as a governess than a friend, very fond of both daughters,\n",
            "but particularly of Emma.\n"
          ]
        }
      ]
    },
    {
      "cell_type": "code",
      "source": [
        "from nltk.tokenize import word_tokenize\n",
        "word_tokenize(emma_raw[50:100])"
      ],
      "metadata": {
        "colab": {
          "base_uri": "https://localhost:8080/"
        },
        "id": "4ThF2pEPfCEN",
        "outputId": "8120b708-d32d-405f-a3b1-be793c31c77c"
      },
      "execution_count": null,
      "outputs": [
        {
          "output_type": "execute_result",
          "data": {
            "text/plain": [
              "['Emma',\n",
              " 'Woodhouse',\n",
              " ',',\n",
              " 'handsome',\n",
              " ',',\n",
              " 'clever',\n",
              " ',',\n",
              " 'and',\n",
              " 'rich',\n",
              " ',',\n",
              " 'with',\n",
              " 'a']"
            ]
          },
          "metadata": {},
          "execution_count": 7
        }
      ]
    },
    {
      "cell_type": "code",
      "source": [
        "from nltk.tokenize import RegexpTokenizer\n",
        "# pattern\n",
        "# \\w : 영문자, 숫자\n",
        "pat = RegexpTokenizer('[\\w]+')\n",
        "pat.tokenize(emma_raw[50:100])"
      ],
      "metadata": {
        "colab": {
          "base_uri": "https://localhost:8080/"
        },
        "id": "r4Inc6exfpOA",
        "outputId": "aa3fae8e-70d5-4801-cea4-54190837c56f"
      },
      "execution_count": null,
      "outputs": [
        {
          "output_type": "execute_result",
          "data": {
            "text/plain": [
              "['Emma', 'Woodhouse', 'handsome', 'clever', 'and', 'rich', 'with', 'a']"
            ]
          },
          "metadata": {},
          "execution_count": 8
        }
      ]
    },
    {
      "cell_type": "markdown",
      "source": [
        "## 형태소 분석\n",
        "\n",
        "- 형태소(morpheme): 일정한 의미가 있는 가장 작은 말의 단위\n",
        "- 자연어 처리에서는 토큰으로 형태소를 이용\n",
        "- 형태소 분석: 단어로부터 어근, 접두사, 접미사, 품사 등 다양한 언어의 속성을 파악하고 이를 이용하여 형태소를 찾아내거나 처리하는 작업\n",
        "- 어간 추출 => 단어의 기본형\n",
        "- 원형 복원 => 시제를 가지고 있는 단어의 어간을 찾아주는 작업\n",
        "- 품사 부착 => 명사, 형용사, 동사..."
      ],
      "metadata": {
        "id": "PT35XPC6g6S0"
      }
    },
    {
      "cell_type": "code",
      "source": [
        "# 어간 추출: 단순히 어미만 제거할 뿐 단어의 원형을 정확히 찾아주지 못한다\n",
        "from nltk.stem import PorterStemmer, LancasterStemmer\n",
        "\n",
        "s1 = PorterStemmer()\n",
        "s2 = LancasterStemmer()\n",
        "\n",
        "words = ['fly', 'flies', 'flying', 'flew', 'flown']\n",
        "\n",
        "print('Poter: ', [s1.stem(w) for w in words])\n",
        "print('Lancaster: ', [s2.stem(w) for w in words])"
      ],
      "metadata": {
        "colab": {
          "base_uri": "https://localhost:8080/"
        },
        "id": "sz5MiRSjj1Uo",
        "outputId": "dd474a1b-26f6-4b8b-bce7-de687eb20cdd"
      },
      "execution_count": null,
      "outputs": [
        {
          "output_type": "stream",
          "name": "stdout",
          "text": [
            "Poter:  ['fli', 'fli', 'fli', 'flew', 'flown']\n",
            "Lancaster:  ['fly', 'fli', 'fly', 'flew', 'flown']\n"
          ]
        }
      ]
    },
    {
      "cell_type": "code",
      "source": [
        "# 원형 복원: 같은 의미를 가진 여러 단어를 사전형으로 통일하는 작업\n",
        "from nltk.stem import WordNetLemmatizer\n",
        "\n",
        "lm = WordNetLemmatizer()\n",
        "print([lm.lemmatize(w, pos='v') for w in words])"
      ],
      "metadata": {
        "colab": {
          "base_uri": "https://localhost:8080/"
        },
        "id": "JKCFuFH3k2g3",
        "outputId": "70fd8653-e8e7-4470-eb8a-1914d634ca73"
      },
      "execution_count": null,
      "outputs": [
        {
          "output_type": "stream",
          "name": "stdout",
          "text": [
            "['fly', 'fly', 'fly', 'fly', 'fly']\n"
          ]
        }
      ]
    },
    {
      "cell_type": "markdown",
      "source": [
        "## 품사 부착(POS)\n",
        "\n",
        "- 품사: 단어의 문법적인 기능이나 형태, 뜻으로 구분하는 것\n",
        "- NNP: 단수 고유명사\n",
        "- VB: 동사\n",
        "- VBP: 동사 현재형\n",
        "- TO: 전치사\n",
        "- NN: 명사(단수 or 복수형)\n",
        "- DT: 관용사"
      ],
      "metadata": {
        "id": "KYkP19YLl028"
      }
    },
    {
      "cell_type": "code",
      "source": [
        "# pos_tag(): 단어 토큰에 품사를 부착하여 튜플로 추출\n",
        "from nltk.tag import pos_tag\n",
        "sentence = 'Emma refused to permit us to obtain the refuse permit'\n",
        "tag_list = pos_tag(word_tokenize(sentence))\n",
        "tag_list"
      ],
      "metadata": {
        "colab": {
          "base_uri": "https://localhost:8080/"
        },
        "id": "FT4Q0zeLmj4y",
        "outputId": "85fe9036-3af8-4188-ee68-f83278694f79"
      },
      "execution_count": null,
      "outputs": [
        {
          "output_type": "execute_result",
          "data": {
            "text/plain": [
              "[('Emma', 'NNP'),\n",
              " ('refused', 'VBD'),\n",
              " ('to', 'TO'),\n",
              " ('permit', 'VB'),\n",
              " ('us', 'PRP'),\n",
              " ('to', 'TO'),\n",
              " ('obtain', 'VB'),\n",
              " ('the', 'DT'),\n",
              " ('refuse', 'NN'),\n",
              " ('permit', 'NN')]"
            ]
          },
          "metadata": {},
          "execution_count": 11
        }
      ]
    },
    {
      "cell_type": "code",
      "source": [
        "# 분석할 품사를 선택해서 해당 품사에 토큰만 추출\n",
        "nouns_list = [t[0] for t in tag_list if t[1] == 'NN']\n",
        "nouns_list"
      ],
      "metadata": {
        "colab": {
          "base_uri": "https://localhost:8080/"
        },
        "id": "r23ArMdDnGlR",
        "outputId": "594bf239-e683-4f0f-dd0b-82b74b943ef9"
      },
      "execution_count": null,
      "outputs": [
        {
          "output_type": "execute_result",
          "data": {
            "text/plain": [
              "['refuse', 'permit']"
            ]
          },
          "metadata": {},
          "execution_count": 12
        }
      ]
    },
    {
      "cell_type": "code",
      "source": [
        "# untag(): 품사를 제거하고 추출\n",
        "from nltk.tag import untag\n",
        "untag(tag_list)"
      ],
      "metadata": {
        "colab": {
          "base_uri": "https://localhost:8080/"
        },
        "id": "U9KfH4c5oewB",
        "outputId": "b907559c-7622-4b05-e30e-37d02921ef41"
      },
      "execution_count": null,
      "outputs": [
        {
          "output_type": "execute_result",
          "data": {
            "text/plain": [
              "['Emma',\n",
              " 'refused',\n",
              " 'to',\n",
              " 'permit',\n",
              " 'us',\n",
              " 'to',\n",
              " 'obtain',\n",
              " 'the',\n",
              " 'refuse',\n",
              " 'permit']"
            ]
          },
          "metadata": {},
          "execution_count": 13
        }
      ]
    },
    {
      "cell_type": "code",
      "source": [
        "def tokenizer(doc):\n",
        "    return ['/'. join(p) for p in tag_list]\n",
        "# 함수 안에 doc 없어서 뭘 넣든 다 이 결과 나옴(함수 잘못만드심;)\n",
        "tokenizer(sentence)\n",
        "\n"
      ],
      "metadata": {
        "colab": {
          "base_uri": "https://localhost:8080/"
        },
        "id": "WlJe9EqSo1bB",
        "outputId": "3ee09bdc-e44d-4a30-ca65-0c80336ef321"
      },
      "execution_count": null,
      "outputs": [
        {
          "output_type": "execute_result",
          "data": {
            "text/plain": [
              "['Emma/NNP',\n",
              " 'refused/VBD',\n",
              " 'to/TO',\n",
              " 'permit/VB',\n",
              " 'us/PRP',\n",
              " 'to/TO',\n",
              " 'obtain/VB',\n",
              " 'the/DT',\n",
              " 'refuse/NN',\n",
              " 'permit/NN']"
            ]
          },
          "metadata": {},
          "execution_count": 14
        }
      ]
    },
    {
      "cell_type": "markdown",
      "source": [
        "# 나이브베이스\n",
        "\n",
        "- 베이즈정리를 기반으로 한 통계적 분류 기법\n",
        "- 가장 단순한 지도 학습 알고리즘\n",
        "- 나이브 베이스 분류기는 빠르고 정확하며 믿을만한 알고리즘\n",
        "- 정확도가 높고 대용량 데이터에 대해 속도가 빠르다\n",
        "- 각 faeture끼리 서로 독립이라는 조건이 필요하다."
      ],
      "metadata": {
        "id": "-0lrIwSBshfz"
      }
    },
    {
      "cell_type": "markdown",
      "source": [
        "## 데이터 로딩"
      ],
      "metadata": {
        "id": "Cc1jipaVyO0L"
      }
    },
    {
      "cell_type": "code",
      "source": [
        "file_url = 'https://media.githubusercontent.com/media/musthave-ML10/data_source/main/spam.csv'\n",
        "data = pd.read_csv(file_url)\n",
        "data.head()"
      ],
      "metadata": {
        "colab": {
          "base_uri": "https://localhost:8080/",
          "height": 206
        },
        "id": "-119OIuDyo4V",
        "outputId": "bb82eab6-d51f-4a78-fb2f-32c1a68e7be9"
      },
      "execution_count": null,
      "outputs": [
        {
          "output_type": "execute_result",
          "data": {
            "text/plain": [
              "  target                                               text\n",
              "0    ham  Go until jurong point, crazy.. Available only ...\n",
              "1    ham                      Ok lar... Joking wif u oni...\n",
              "2   spam  Free entry in 2 a wkly comp to win FA Cup fina...\n",
              "3    ham  U dun say so early hor... U c already then say...\n",
              "4    ham  Nah I don't think he goes to usf, he lives aro..."
            ],
            "text/html": [
              "\n",
              "  <div id=\"df-b0c8fc01-3e27-4b68-afe8-f0ab3a5438f0\" class=\"colab-df-container\">\n",
              "    <div>\n",
              "<style scoped>\n",
              "    .dataframe tbody tr th:only-of-type {\n",
              "        vertical-align: middle;\n",
              "    }\n",
              "\n",
              "    .dataframe tbody tr th {\n",
              "        vertical-align: top;\n",
              "    }\n",
              "\n",
              "    .dataframe thead th {\n",
              "        text-align: right;\n",
              "    }\n",
              "</style>\n",
              "<table border=\"1\" class=\"dataframe\">\n",
              "  <thead>\n",
              "    <tr style=\"text-align: right;\">\n",
              "      <th></th>\n",
              "      <th>target</th>\n",
              "      <th>text</th>\n",
              "    </tr>\n",
              "  </thead>\n",
              "  <tbody>\n",
              "    <tr>\n",
              "      <th>0</th>\n",
              "      <td>ham</td>\n",
              "      <td>Go until jurong point, crazy.. Available only ...</td>\n",
              "    </tr>\n",
              "    <tr>\n",
              "      <th>1</th>\n",
              "      <td>ham</td>\n",
              "      <td>Ok lar... Joking wif u oni...</td>\n",
              "    </tr>\n",
              "    <tr>\n",
              "      <th>2</th>\n",
              "      <td>spam</td>\n",
              "      <td>Free entry in 2 a wkly comp to win FA Cup fina...</td>\n",
              "    </tr>\n",
              "    <tr>\n",
              "      <th>3</th>\n",
              "      <td>ham</td>\n",
              "      <td>U dun say so early hor... U c already then say...</td>\n",
              "    </tr>\n",
              "    <tr>\n",
              "      <th>4</th>\n",
              "      <td>ham</td>\n",
              "      <td>Nah I don't think he goes to usf, he lives aro...</td>\n",
              "    </tr>\n",
              "  </tbody>\n",
              "</table>\n",
              "</div>\n",
              "    <div class=\"colab-df-buttons\">\n",
              "\n",
              "  <div class=\"colab-df-container\">\n",
              "    <button class=\"colab-df-convert\" onclick=\"convertToInteractive('df-b0c8fc01-3e27-4b68-afe8-f0ab3a5438f0')\"\n",
              "            title=\"Convert this dataframe to an interactive table.\"\n",
              "            style=\"display:none;\">\n",
              "\n",
              "  <svg xmlns=\"http://www.w3.org/2000/svg\" height=\"24px\" viewBox=\"0 -960 960 960\">\n",
              "    <path d=\"M120-120v-720h720v720H120Zm60-500h600v-160H180v160Zm220 220h160v-160H400v160Zm0 220h160v-160H400v160ZM180-400h160v-160H180v160Zm440 0h160v-160H620v160ZM180-180h160v-160H180v160Zm440 0h160v-160H620v160Z\"/>\n",
              "  </svg>\n",
              "    </button>\n",
              "\n",
              "  <style>\n",
              "    .colab-df-container {\n",
              "      display:flex;\n",
              "      gap: 12px;\n",
              "    }\n",
              "\n",
              "    .colab-df-convert {\n",
              "      background-color: #E8F0FE;\n",
              "      border: none;\n",
              "      border-radius: 50%;\n",
              "      cursor: pointer;\n",
              "      display: none;\n",
              "      fill: #1967D2;\n",
              "      height: 32px;\n",
              "      padding: 0 0 0 0;\n",
              "      width: 32px;\n",
              "    }\n",
              "\n",
              "    .colab-df-convert:hover {\n",
              "      background-color: #E2EBFA;\n",
              "      box-shadow: 0px 1px 2px rgba(60, 64, 67, 0.3), 0px 1px 3px 1px rgba(60, 64, 67, 0.15);\n",
              "      fill: #174EA6;\n",
              "    }\n",
              "\n",
              "    .colab-df-buttons div {\n",
              "      margin-bottom: 4px;\n",
              "    }\n",
              "\n",
              "    [theme=dark] .colab-df-convert {\n",
              "      background-color: #3B4455;\n",
              "      fill: #D2E3FC;\n",
              "    }\n",
              "\n",
              "    [theme=dark] .colab-df-convert:hover {\n",
              "      background-color: #434B5C;\n",
              "      box-shadow: 0px 1px 3px 1px rgba(0, 0, 0, 0.15);\n",
              "      filter: drop-shadow(0px 1px 2px rgba(0, 0, 0, 0.3));\n",
              "      fill: #FFFFFF;\n",
              "    }\n",
              "  </style>\n",
              "\n",
              "    <script>\n",
              "      const buttonEl =\n",
              "        document.querySelector('#df-b0c8fc01-3e27-4b68-afe8-f0ab3a5438f0 button.colab-df-convert');\n",
              "      buttonEl.style.display =\n",
              "        google.colab.kernel.accessAllowed ? 'block' : 'none';\n",
              "\n",
              "      async function convertToInteractive(key) {\n",
              "        const element = document.querySelector('#df-b0c8fc01-3e27-4b68-afe8-f0ab3a5438f0');\n",
              "        const dataTable =\n",
              "          await google.colab.kernel.invokeFunction('convertToInteractive',\n",
              "                                                    [key], {});\n",
              "        if (!dataTable) return;\n",
              "\n",
              "        const docLinkHtml = 'Like what you see? Visit the ' +\n",
              "          '<a target=\"_blank\" href=https://colab.research.google.com/notebooks/data_table.ipynb>data table notebook</a>'\n",
              "          + ' to learn more about interactive tables.';\n",
              "        element.innerHTML = '';\n",
              "        dataTable['output_type'] = 'display_data';\n",
              "        await google.colab.output.renderOutput(dataTable, element);\n",
              "        const docLink = document.createElement('div');\n",
              "        docLink.innerHTML = docLinkHtml;\n",
              "        element.appendChild(docLink);\n",
              "      }\n",
              "    </script>\n",
              "  </div>\n",
              "\n",
              "\n",
              "<div id=\"df-4b3b0596-fe53-4823-8424-f5cdf14c3ea5\">\n",
              "  <button class=\"colab-df-quickchart\" onclick=\"quickchart('df-4b3b0596-fe53-4823-8424-f5cdf14c3ea5')\"\n",
              "            title=\"Suggest charts.\"\n",
              "            style=\"display:none;\">\n",
              "\n",
              "<svg xmlns=\"http://www.w3.org/2000/svg\" height=\"24px\"viewBox=\"0 0 24 24\"\n",
              "     width=\"24px\">\n",
              "    <g>\n",
              "        <path d=\"M19 3H5c-1.1 0-2 .9-2 2v14c0 1.1.9 2 2 2h14c1.1 0 2-.9 2-2V5c0-1.1-.9-2-2-2zM9 17H7v-7h2v7zm4 0h-2V7h2v10zm4 0h-2v-4h2v4z\"/>\n",
              "    </g>\n",
              "</svg>\n",
              "  </button>\n",
              "\n",
              "<style>\n",
              "  .colab-df-quickchart {\n",
              "      --bg-color: #E8F0FE;\n",
              "      --fill-color: #1967D2;\n",
              "      --hover-bg-color: #E2EBFA;\n",
              "      --hover-fill-color: #174EA6;\n",
              "      --disabled-fill-color: #AAA;\n",
              "      --disabled-bg-color: #DDD;\n",
              "  }\n",
              "\n",
              "  [theme=dark] .colab-df-quickchart {\n",
              "      --bg-color: #3B4455;\n",
              "      --fill-color: #D2E3FC;\n",
              "      --hover-bg-color: #434B5C;\n",
              "      --hover-fill-color: #FFFFFF;\n",
              "      --disabled-bg-color: #3B4455;\n",
              "      --disabled-fill-color: #666;\n",
              "  }\n",
              "\n",
              "  .colab-df-quickchart {\n",
              "    background-color: var(--bg-color);\n",
              "    border: none;\n",
              "    border-radius: 50%;\n",
              "    cursor: pointer;\n",
              "    display: none;\n",
              "    fill: var(--fill-color);\n",
              "    height: 32px;\n",
              "    padding: 0;\n",
              "    width: 32px;\n",
              "  }\n",
              "\n",
              "  .colab-df-quickchart:hover {\n",
              "    background-color: var(--hover-bg-color);\n",
              "    box-shadow: 0 1px 2px rgba(60, 64, 67, 0.3), 0 1px 3px 1px rgba(60, 64, 67, 0.15);\n",
              "    fill: var(--button-hover-fill-color);\n",
              "  }\n",
              "\n",
              "  .colab-df-quickchart-complete:disabled,\n",
              "  .colab-df-quickchart-complete:disabled:hover {\n",
              "    background-color: var(--disabled-bg-color);\n",
              "    fill: var(--disabled-fill-color);\n",
              "    box-shadow: none;\n",
              "  }\n",
              "\n",
              "  .colab-df-spinner {\n",
              "    border: 2px solid var(--fill-color);\n",
              "    border-color: transparent;\n",
              "    border-bottom-color: var(--fill-color);\n",
              "    animation:\n",
              "      spin 1s steps(1) infinite;\n",
              "  }\n",
              "\n",
              "  @keyframes spin {\n",
              "    0% {\n",
              "      border-color: transparent;\n",
              "      border-bottom-color: var(--fill-color);\n",
              "      border-left-color: var(--fill-color);\n",
              "    }\n",
              "    20% {\n",
              "      border-color: transparent;\n",
              "      border-left-color: var(--fill-color);\n",
              "      border-top-color: var(--fill-color);\n",
              "    }\n",
              "    30% {\n",
              "      border-color: transparent;\n",
              "      border-left-color: var(--fill-color);\n",
              "      border-top-color: var(--fill-color);\n",
              "      border-right-color: var(--fill-color);\n",
              "    }\n",
              "    40% {\n",
              "      border-color: transparent;\n",
              "      border-right-color: var(--fill-color);\n",
              "      border-top-color: var(--fill-color);\n",
              "    }\n",
              "    60% {\n",
              "      border-color: transparent;\n",
              "      border-right-color: var(--fill-color);\n",
              "    }\n",
              "    80% {\n",
              "      border-color: transparent;\n",
              "      border-right-color: var(--fill-color);\n",
              "      border-bottom-color: var(--fill-color);\n",
              "    }\n",
              "    90% {\n",
              "      border-color: transparent;\n",
              "      border-bottom-color: var(--fill-color);\n",
              "    }\n",
              "  }\n",
              "</style>\n",
              "\n",
              "  <script>\n",
              "    async function quickchart(key) {\n",
              "      const quickchartButtonEl =\n",
              "        document.querySelector('#' + key + ' button');\n",
              "      quickchartButtonEl.disabled = true;  // To prevent multiple clicks.\n",
              "      quickchartButtonEl.classList.add('colab-df-spinner');\n",
              "      try {\n",
              "        const charts = await google.colab.kernel.invokeFunction(\n",
              "            'suggestCharts', [key], {});\n",
              "      } catch (error) {\n",
              "        console.error('Error during call to suggestCharts:', error);\n",
              "      }\n",
              "      quickchartButtonEl.classList.remove('colab-df-spinner');\n",
              "      quickchartButtonEl.classList.add('colab-df-quickchart-complete');\n",
              "    }\n",
              "    (() => {\n",
              "      let quickchartButtonEl =\n",
              "        document.querySelector('#df-4b3b0596-fe53-4823-8424-f5cdf14c3ea5 button');\n",
              "      quickchartButtonEl.style.display =\n",
              "        google.colab.kernel.accessAllowed ? 'block' : 'none';\n",
              "    })();\n",
              "  </script>\n",
              "</div>\n",
              "    </div>\n",
              "  </div>\n"
            ]
          },
          "metadata": {},
          "execution_count": 15
        }
      ]
    },
    {
      "cell_type": "markdown",
      "source": [
        "## 문제 정의: 스팸 여부 판단\n",
        "- 문자 데이터셋을 이용하여 스팸 여부를 판단하는 문제\n",
        "- 독립변수(text)"
      ],
      "metadata": {
        "id": "pwtIfOf_y5jQ"
      }
    },
    {
      "cell_type": "code",
      "source": [
        "data.info()"
      ],
      "metadata": {
        "colab": {
          "base_uri": "https://localhost:8080/"
        },
        "id": "CUJ9qCS60RbJ",
        "outputId": "08fa7fbc-1f09-4546-d93b-49849e7063ac"
      },
      "execution_count": null,
      "outputs": [
        {
          "output_type": "stream",
          "name": "stdout",
          "text": [
            "<class 'pandas.core.frame.DataFrame'>\n",
            "RangeIndex: 5574 entries, 0 to 5573\n",
            "Data columns (total 2 columns):\n",
            " #   Column  Non-Null Count  Dtype \n",
            "---  ------  --------------  ----- \n",
            " 0   target  5574 non-null   object\n",
            " 1   text    5574 non-null   object\n",
            "dtypes: object(2)\n",
            "memory usage: 87.2+ KB\n"
          ]
        }
      ]
    },
    {
      "cell_type": "code",
      "source": [
        "data['target'].unique()"
      ],
      "metadata": {
        "colab": {
          "base_uri": "https://localhost:8080/"
        },
        "id": "ixS5llR-0tmp",
        "outputId": "49f18216-57eb-4f64-c662-797af509fd7f"
      },
      "execution_count": null,
      "outputs": [
        {
          "output_type": "execute_result",
          "data": {
            "text/plain": [
              "array(['ham', 'spam'], dtype=object)"
            ]
          },
          "metadata": {},
          "execution_count": 17
        }
      ]
    },
    {
      "cell_type": "code",
      "source": [
        "data['target'].value_counts()"
      ],
      "metadata": {
        "colab": {
          "base_uri": "https://localhost:8080/"
        },
        "id": "RqKbDqeb0wal",
        "outputId": "2b805f93-dce1-4b0e-c6ca-e196f5ccad82"
      },
      "execution_count": null,
      "outputs": [
        {
          "output_type": "execute_result",
          "data": {
            "text/plain": [
              "ham     4827\n",
              "spam     747\n",
              "Name: target, dtype: int64"
            ]
          },
          "metadata": {},
          "execution_count": 18
        }
      ]
    },
    {
      "cell_type": "markdown",
      "source": [
        "- target의 편향이 굉장히 심한 데이터셋"
      ],
      "metadata": {
        "id": "hz-1YttL01Rv"
      }
    },
    {
      "cell_type": "markdown",
      "source": [
        "## 전처리\n",
        "- 특수문자 제거\n",
        "- in: 문자 in 문자열\n",
        "- not in: 문자 not in 문자열"
      ],
      "metadata": {
        "id": "2l4ruCkL1Bhh"
      }
    },
    {
      "cell_type": "code",
      "source": [
        "import string\n",
        "# punctuation: 특수 문자 기호 목록\n",
        "string.punctuation"
      ],
      "metadata": {
        "colab": {
          "base_uri": "https://localhost:8080/",
          "height": 35
        },
        "id": "n0QNzLUU1ZPZ",
        "outputId": "c39b624a-db6c-4020-b086-2e365d11f831"
      },
      "execution_count": null,
      "outputs": [
        {
          "output_type": "execute_result",
          "data": {
            "text/plain": [
              "'!\"#$%&\\'()*+,-./:;<=>?@[\\\\]^_`{|}~'"
            ],
            "application/vnd.google.colaboratory.intrinsic+json": {
              "type": "string"
            }
          },
          "metadata": {},
          "execution_count": 19
        }
      ]
    },
    {
      "cell_type": "code",
      "source": [
        "sample = data['text'].loc[0]\n",
        "sample"
      ],
      "metadata": {
        "colab": {
          "base_uri": "https://localhost:8080/",
          "height": 35
        },
        "id": "a7guw75718n3",
        "outputId": "75ddf2ee-7a10-42f2-b2b8-f99270c147e2"
      },
      "execution_count": null,
      "outputs": [
        {
          "output_type": "execute_result",
          "data": {
            "text/plain": [
              "'Go until jurong point, crazy.. Available only in bugis n great world la e buffet... Cine there got amore wat...'"
            ],
            "application/vnd.google.colaboratory.intrinsic+json": {
              "type": "string"
            }
          },
          "metadata": {},
          "execution_count": 20
        }
      ]
    },
    {
      "cell_type": "code",
      "source": [
        "for i in sample:\n",
        "    print(i)"
      ],
      "metadata": {
        "colab": {
          "base_uri": "https://localhost:8080/"
        },
        "id": "gtfSrCqZ3tRa",
        "outputId": "f92b593a-5aa1-413e-bcb7-bd402fd32d38"
      },
      "execution_count": null,
      "outputs": [
        {
          "output_type": "stream",
          "name": "stdout",
          "text": [
            "G\n",
            "o\n",
            " \n",
            "u\n",
            "n\n",
            "t\n",
            "i\n",
            "l\n",
            " \n",
            "j\n",
            "u\n",
            "r\n",
            "o\n",
            "n\n",
            "g\n",
            " \n",
            "p\n",
            "o\n",
            "i\n",
            "n\n",
            "t\n",
            ",\n",
            " \n",
            "c\n",
            "r\n",
            "a\n",
            "z\n",
            "y\n",
            ".\n",
            ".\n",
            " \n",
            "A\n",
            "v\n",
            "a\n",
            "i\n",
            "l\n",
            "a\n",
            "b\n",
            "l\n",
            "e\n",
            " \n",
            "o\n",
            "n\n",
            "l\n",
            "y\n",
            " \n",
            "i\n",
            "n\n",
            " \n",
            "b\n",
            "u\n",
            "g\n",
            "i\n",
            "s\n",
            " \n",
            "n\n",
            " \n",
            "g\n",
            "r\n",
            "e\n",
            "a\n",
            "t\n",
            " \n",
            "w\n",
            "o\n",
            "r\n",
            "l\n",
            "d\n",
            " \n",
            "l\n",
            "a\n",
            " \n",
            "e\n",
            " \n",
            "b\n",
            "u\n",
            "f\n",
            "f\n",
            "e\n",
            "t\n",
            ".\n",
            ".\n",
            ".\n",
            " \n",
            "C\n",
            "i\n",
            "n\n",
            "e\n",
            " \n",
            "t\n",
            "h\n",
            "e\n",
            "r\n",
            "e\n",
            " \n",
            "g\n",
            "o\n",
            "t\n",
            " \n",
            "a\n",
            "m\n",
            "o\n",
            "r\n",
            "e\n",
            " \n",
            "w\n",
            "a\n",
            "t\n",
            ".\n",
            ".\n",
            ".\n"
          ]
        }
      ]
    },
    {
      "cell_type": "code",
      "source": [
        "for i in sample:\n",
        "    if i not in string.punctuation:\n",
        "        print(i)"
      ],
      "metadata": {
        "colab": {
          "base_uri": "https://localhost:8080/"
        },
        "id": "dUGwVFtj1eVg",
        "outputId": "7ca33adc-0eeb-4fe3-fca9-b974d8708086"
      },
      "execution_count": null,
      "outputs": [
        {
          "output_type": "stream",
          "name": "stdout",
          "text": [
            "G\n",
            "o\n",
            " \n",
            "u\n",
            "n\n",
            "t\n",
            "i\n",
            "l\n",
            " \n",
            "j\n",
            "u\n",
            "r\n",
            "o\n",
            "n\n",
            "g\n",
            " \n",
            "p\n",
            "o\n",
            "i\n",
            "n\n",
            "t\n",
            " \n",
            "c\n",
            "r\n",
            "a\n",
            "z\n",
            "y\n",
            " \n",
            "A\n",
            "v\n",
            "a\n",
            "i\n",
            "l\n",
            "a\n",
            "b\n",
            "l\n",
            "e\n",
            " \n",
            "o\n",
            "n\n",
            "l\n",
            "y\n",
            " \n",
            "i\n",
            "n\n",
            " \n",
            "b\n",
            "u\n",
            "g\n",
            "i\n",
            "s\n",
            " \n",
            "n\n",
            " \n",
            "g\n",
            "r\n",
            "e\n",
            "a\n",
            "t\n",
            " \n",
            "w\n",
            "o\n",
            "r\n",
            "l\n",
            "d\n",
            " \n",
            "l\n",
            "a\n",
            " \n",
            "e\n",
            " \n",
            "b\n",
            "u\n",
            "f\n",
            "f\n",
            "e\n",
            "t\n",
            " \n",
            "C\n",
            "i\n",
            "n\n",
            "e\n",
            " \n",
            "t\n",
            "h\n",
            "e\n",
            "r\n",
            "e\n",
            " \n",
            "g\n",
            "o\n",
            "t\n",
            " \n",
            "a\n",
            "m\n",
            "o\n",
            "r\n",
            "e\n",
            " \n",
            "w\n",
            "a\n",
            "t\n"
          ]
        }
      ]
    },
    {
      "cell_type": "code",
      "source": [
        "new_string = []\n",
        "for i in sample:\n",
        "    if i not in string.punctuation:\n",
        "        new_string.append(i)"
      ],
      "metadata": {
        "id": "ZklvvdNN2dmt"
      },
      "execution_count": null,
      "outputs": []
    },
    {
      "cell_type": "code",
      "source": [
        "new_string"
      ],
      "metadata": {
        "colab": {
          "base_uri": "https://localhost:8080/"
        },
        "id": "6BaeQvy-3eZS",
        "outputId": "527bcae6-de0a-425a-a1cd-e464a7c62132"
      },
      "execution_count": null,
      "outputs": [
        {
          "output_type": "execute_result",
          "data": {
            "text/plain": [
              "['G',\n",
              " 'o',\n",
              " ' ',\n",
              " 'u',\n",
              " 'n',\n",
              " 't',\n",
              " 'i',\n",
              " 'l',\n",
              " ' ',\n",
              " 'j',\n",
              " 'u',\n",
              " 'r',\n",
              " 'o',\n",
              " 'n',\n",
              " 'g',\n",
              " ' ',\n",
              " 'p',\n",
              " 'o',\n",
              " 'i',\n",
              " 'n',\n",
              " 't',\n",
              " ' ',\n",
              " 'c',\n",
              " 'r',\n",
              " 'a',\n",
              " 'z',\n",
              " 'y',\n",
              " ' ',\n",
              " 'A',\n",
              " 'v',\n",
              " 'a',\n",
              " 'i',\n",
              " 'l',\n",
              " 'a',\n",
              " 'b',\n",
              " 'l',\n",
              " 'e',\n",
              " ' ',\n",
              " 'o',\n",
              " 'n',\n",
              " 'l',\n",
              " 'y',\n",
              " ' ',\n",
              " 'i',\n",
              " 'n',\n",
              " ' ',\n",
              " 'b',\n",
              " 'u',\n",
              " 'g',\n",
              " 'i',\n",
              " 's',\n",
              " ' ',\n",
              " 'n',\n",
              " ' ',\n",
              " 'g',\n",
              " 'r',\n",
              " 'e',\n",
              " 'a',\n",
              " 't',\n",
              " ' ',\n",
              " 'w',\n",
              " 'o',\n",
              " 'r',\n",
              " 'l',\n",
              " 'd',\n",
              " ' ',\n",
              " 'l',\n",
              " 'a',\n",
              " ' ',\n",
              " 'e',\n",
              " ' ',\n",
              " 'b',\n",
              " 'u',\n",
              " 'f',\n",
              " 'f',\n",
              " 'e',\n",
              " 't',\n",
              " ' ',\n",
              " 'C',\n",
              " 'i',\n",
              " 'n',\n",
              " 'e',\n",
              " ' ',\n",
              " 't',\n",
              " 'h',\n",
              " 'e',\n",
              " 'r',\n",
              " 'e',\n",
              " ' ',\n",
              " 'g',\n",
              " 'o',\n",
              " 't',\n",
              " ' ',\n",
              " 'a',\n",
              " 'm',\n",
              " 'o',\n",
              " 'r',\n",
              " 'e',\n",
              " ' ',\n",
              " 'w',\n",
              " 'a',\n",
              " 't']"
            ]
          },
          "metadata": {},
          "execution_count": 24
        }
      ]
    },
    {
      "cell_type": "code",
      "source": [
        "test = ['a', 'p', 'p', 'l', 'e']\n",
        "test"
      ],
      "metadata": {
        "colab": {
          "base_uri": "https://localhost:8080/"
        },
        "id": "OKz6SHDH20Wc",
        "outputId": "82cadf04-2e46-4795-edcd-954f1e9fef1e"
      },
      "execution_count": null,
      "outputs": [
        {
          "output_type": "execute_result",
          "data": {
            "text/plain": [
              "['a', 'p', 'p', 'l', 'e']"
            ]
          },
          "metadata": {},
          "execution_count": 25
        }
      ]
    },
    {
      "cell_type": "code",
      "source": [
        "''.join(test)"
      ],
      "metadata": {
        "colab": {
          "base_uri": "https://localhost:8080/",
          "height": 35
        },
        "id": "-YdOV9vq270k",
        "outputId": "8389b105-9fe2-4412-b868-a14919c73555"
      },
      "execution_count": null,
      "outputs": [
        {
          "output_type": "execute_result",
          "data": {
            "text/plain": [
              "'apple'"
            ],
            "application/vnd.google.colaboratory.intrinsic+json": {
              "type": "string"
            }
          },
          "metadata": {},
          "execution_count": 26
        }
      ]
    },
    {
      "cell_type": "code",
      "source": [
        "new_string = []\n",
        "for i in sample:\n",
        "    if i not in string.punctuation:\n",
        "        new_string.append(i)\n",
        "\n",
        "new_string = ''.join(new_string)\n",
        "new_string"
      ],
      "metadata": {
        "colab": {
          "base_uri": "https://localhost:8080/",
          "height": 35
        },
        "id": "r-5ten373UQC",
        "outputId": "d664f6b5-10cb-4c84-ca76-8ca47d403382"
      },
      "execution_count": null,
      "outputs": [
        {
          "output_type": "execute_result",
          "data": {
            "text/plain": [
              "'Go until jurong point crazy Available only in bugis n great world la e buffet Cine there got amore wat'"
            ],
            "application/vnd.google.colaboratory.intrinsic+json": {
              "type": "string"
            }
          },
          "metadata": {},
          "execution_count": 27
        }
      ]
    },
    {
      "cell_type": "code",
      "source": [
        "# 특수기호를 제거한 후 문장을 되돌려주는 역할을 수행하는 함수를 구현\n",
        "\n",
        "def remove_punc(x):\n",
        "    new_string = []\n",
        "    for i in x:\n",
        "        if i not in string.punctuation:\n",
        "            new_string.append(i)\n",
        "\n",
        "    new_string = ''.join(new_string)\n",
        "    return new_string"
      ],
      "metadata": {
        "id": "DhHtkhfU3p66"
      },
      "execution_count": null,
      "outputs": []
    },
    {
      "cell_type": "code",
      "source": [
        "sample"
      ],
      "metadata": {
        "colab": {
          "base_uri": "https://localhost:8080/",
          "height": 35
        },
        "id": "pUoVVpQp4DeK",
        "outputId": "a5ce261c-fd33-4e88-fa21-3bf5b4aa29ca"
      },
      "execution_count": null,
      "outputs": [
        {
          "output_type": "execute_result",
          "data": {
            "text/plain": [
              "'Go until jurong point, crazy.. Available only in bugis n great world la e buffet... Cine there got amore wat...'"
            ],
            "application/vnd.google.colaboratory.intrinsic+json": {
              "type": "string"
            }
          },
          "metadata": {},
          "execution_count": 29
        }
      ]
    },
    {
      "cell_type": "code",
      "source": [
        "remove_punc(sample)"
      ],
      "metadata": {
        "colab": {
          "base_uri": "https://localhost:8080/",
          "height": 35
        },
        "id": "legBB3EX4ECN",
        "outputId": "9bd22c44-7b2a-4631-92f8-f13d4cc947bd"
      },
      "execution_count": null,
      "outputs": [
        {
          "output_type": "execute_result",
          "data": {
            "text/plain": [
              "'Go until jurong point crazy Available only in bugis n great world la e buffet Cine there got amore wat'"
            ],
            "application/vnd.google.colaboratory.intrinsic+json": {
              "type": "string"
            }
          },
          "metadata": {},
          "execution_count": 30
        }
      ]
    },
    {
      "cell_type": "code",
      "source": [
        "data['text'] = data['text'].apply(remove_punc)\n",
        "data['text']"
      ],
      "metadata": {
        "colab": {
          "base_uri": "https://localhost:8080/"
        },
        "id": "bsL8x37n4GS-",
        "outputId": "63b98530-6336-48d9-99c2-36efad7cd2e0"
      },
      "execution_count": null,
      "outputs": [
        {
          "output_type": "execute_result",
          "data": {
            "text/plain": [
              "0       Go until jurong point crazy Available only in ...\n",
              "1                                 Ok lar Joking wif u oni\n",
              "2       Free entry in 2 a wkly comp to win FA Cup fina...\n",
              "3             U dun say so early hor U c already then say\n",
              "4       Nah I dont think he goes to usf he lives aroun...\n",
              "                              ...                        \n",
              "5569    This is the 2nd time we have tried 2 contact u...\n",
              "5570                  Will ü b going to esplanade fr home\n",
              "5571    Pity  was in mood for that Soany other suggest...\n",
              "5572    The guy did some bitching but I acted like id ...\n",
              "5573                            Rofl Its true to its name\n",
              "Name: text, Length: 5574, dtype: object"
            ]
          },
          "metadata": {},
          "execution_count": 31
        }
      ]
    },
    {
      "cell_type": "markdown",
      "source": [
        "## 전처리 - 불용어 제거\n",
        "-  불용어(stopword): 자연어 분석에서 큰 의미가 없는 단어를 의미한다\n",
        "- 불용어 사전\n"
      ],
      "metadata": {
        "id": "sSRi9u9E4PrH"
      }
    },
    {
      "cell_type": "code",
      "source": [
        "nltk.download('stopwords')"
      ],
      "metadata": {
        "colab": {
          "base_uri": "https://localhost:8080/"
        },
        "id": "My999nJg5UYi",
        "outputId": "4d1a3af1-0771-4681-f9fc-8076bb21ca3e"
      },
      "execution_count": null,
      "outputs": [
        {
          "output_type": "stream",
          "name": "stderr",
          "text": [
            "[nltk_data] Downloading package stopwords to /root/nltk_data...\n",
            "[nltk_data]   Package stopwords is already up-to-date!\n"
          ]
        },
        {
          "output_type": "execute_result",
          "data": {
            "text/plain": [
              "True"
            ]
          },
          "metadata": {},
          "execution_count": 32
        }
      ]
    },
    {
      "cell_type": "code",
      "source": [
        "from nltk.corpus import stopwords\n",
        "stopwords.words('english')"
      ],
      "metadata": {
        "colab": {
          "base_uri": "https://localhost:8080/"
        },
        "id": "Nqbd8IaZ5k6d",
        "outputId": "57a487f8-aee2-402e-becd-4b6685dc6f13"
      },
      "execution_count": null,
      "outputs": [
        {
          "output_type": "execute_result",
          "data": {
            "text/plain": [
              "['i',\n",
              " 'me',\n",
              " 'my',\n",
              " 'myself',\n",
              " 'we',\n",
              " 'our',\n",
              " 'ours',\n",
              " 'ourselves',\n",
              " 'you',\n",
              " \"you're\",\n",
              " \"you've\",\n",
              " \"you'll\",\n",
              " \"you'd\",\n",
              " 'your',\n",
              " 'yours',\n",
              " 'yourself',\n",
              " 'yourselves',\n",
              " 'he',\n",
              " 'him',\n",
              " 'his',\n",
              " 'himself',\n",
              " 'she',\n",
              " \"she's\",\n",
              " 'her',\n",
              " 'hers',\n",
              " 'herself',\n",
              " 'it',\n",
              " \"it's\",\n",
              " 'its',\n",
              " 'itself',\n",
              " 'they',\n",
              " 'them',\n",
              " 'their',\n",
              " 'theirs',\n",
              " 'themselves',\n",
              " 'what',\n",
              " 'which',\n",
              " 'who',\n",
              " 'whom',\n",
              " 'this',\n",
              " 'that',\n",
              " \"that'll\",\n",
              " 'these',\n",
              " 'those',\n",
              " 'am',\n",
              " 'is',\n",
              " 'are',\n",
              " 'was',\n",
              " 'were',\n",
              " 'be',\n",
              " 'been',\n",
              " 'being',\n",
              " 'have',\n",
              " 'has',\n",
              " 'had',\n",
              " 'having',\n",
              " 'do',\n",
              " 'does',\n",
              " 'did',\n",
              " 'doing',\n",
              " 'a',\n",
              " 'an',\n",
              " 'the',\n",
              " 'and',\n",
              " 'but',\n",
              " 'if',\n",
              " 'or',\n",
              " 'because',\n",
              " 'as',\n",
              " 'until',\n",
              " 'while',\n",
              " 'of',\n",
              " 'at',\n",
              " 'by',\n",
              " 'for',\n",
              " 'with',\n",
              " 'about',\n",
              " 'against',\n",
              " 'between',\n",
              " 'into',\n",
              " 'through',\n",
              " 'during',\n",
              " 'before',\n",
              " 'after',\n",
              " 'above',\n",
              " 'below',\n",
              " 'to',\n",
              " 'from',\n",
              " 'up',\n",
              " 'down',\n",
              " 'in',\n",
              " 'out',\n",
              " 'on',\n",
              " 'off',\n",
              " 'over',\n",
              " 'under',\n",
              " 'again',\n",
              " 'further',\n",
              " 'then',\n",
              " 'once',\n",
              " 'here',\n",
              " 'there',\n",
              " 'when',\n",
              " 'where',\n",
              " 'why',\n",
              " 'how',\n",
              " 'all',\n",
              " 'any',\n",
              " 'both',\n",
              " 'each',\n",
              " 'few',\n",
              " 'more',\n",
              " 'most',\n",
              " 'other',\n",
              " 'some',\n",
              " 'such',\n",
              " 'no',\n",
              " 'nor',\n",
              " 'not',\n",
              " 'only',\n",
              " 'own',\n",
              " 'same',\n",
              " 'so',\n",
              " 'than',\n",
              " 'too',\n",
              " 'very',\n",
              " 's',\n",
              " 't',\n",
              " 'can',\n",
              " 'will',\n",
              " 'just',\n",
              " 'don',\n",
              " \"don't\",\n",
              " 'should',\n",
              " \"should've\",\n",
              " 'now',\n",
              " 'd',\n",
              " 'll',\n",
              " 'm',\n",
              " 'o',\n",
              " 're',\n",
              " 've',\n",
              " 'y',\n",
              " 'ain',\n",
              " 'aren',\n",
              " \"aren't\",\n",
              " 'couldn',\n",
              " \"couldn't\",\n",
              " 'didn',\n",
              " \"didn't\",\n",
              " 'doesn',\n",
              " \"doesn't\",\n",
              " 'hadn',\n",
              " \"hadn't\",\n",
              " 'hasn',\n",
              " \"hasn't\",\n",
              " 'haven',\n",
              " \"haven't\",\n",
              " 'isn',\n",
              " \"isn't\",\n",
              " 'ma',\n",
              " 'mightn',\n",
              " \"mightn't\",\n",
              " 'mustn',\n",
              " \"mustn't\",\n",
              " 'needn',\n",
              " \"needn't\",\n",
              " 'shan',\n",
              " \"shan't\",\n",
              " 'shouldn',\n",
              " \"shouldn't\",\n",
              " 'wasn',\n",
              " \"wasn't\",\n",
              " 'weren',\n",
              " \"weren't\",\n",
              " 'won',\n",
              " \"won't\",\n",
              " 'wouldn',\n",
              " \"wouldn't\"]"
            ]
          },
          "metadata": {},
          "execution_count": 33
        }
      ]
    },
    {
      "cell_type": "code",
      "source": [
        "sample = data['text'].loc[0]\n",
        "sample"
      ],
      "metadata": {
        "colab": {
          "base_uri": "https://localhost:8080/",
          "height": 35
        },
        "id": "JZHYwaP35y02",
        "outputId": "2a9dff80-e60e-48c5-c8c0-768b1fa938e1"
      },
      "execution_count": null,
      "outputs": [
        {
          "output_type": "execute_result",
          "data": {
            "text/plain": [
              "'Go until jurong point crazy Available only in bugis n great world la e buffet Cine there got amore wat'"
            ],
            "application/vnd.google.colaboratory.intrinsic+json": {
              "type": "string"
            }
          },
          "metadata": {},
          "execution_count": 34
        }
      ]
    },
    {
      "cell_type": "code",
      "source": [
        "# 작은 단위: 토큰, 단어단위\n",
        "sample.split()"
      ],
      "metadata": {
        "colab": {
          "base_uri": "https://localhost:8080/"
        },
        "id": "2EpY4oFK8PfK",
        "outputId": "1ef30bd2-4ac1-439d-b1e4-5e0a9941eed0"
      },
      "execution_count": null,
      "outputs": [
        {
          "output_type": "execute_result",
          "data": {
            "text/plain": [
              "['Go',\n",
              " 'until',\n",
              " 'jurong',\n",
              " 'point',\n",
              " 'crazy',\n",
              " 'Available',\n",
              " 'only',\n",
              " 'in',\n",
              " 'bugis',\n",
              " 'n',\n",
              " 'great',\n",
              " 'world',\n",
              " 'la',\n",
              " 'e',\n",
              " 'buffet',\n",
              " 'Cine',\n",
              " 'there',\n",
              " 'got',\n",
              " 'amore',\n",
              " 'wat']"
            ]
          },
          "metadata": {},
          "execution_count": 41
        }
      ]
    },
    {
      "cell_type": "code",
      "source": [
        "# lower(): 소문자로 변환\n",
        "# upper(): 대문자로 변환\n",
        "# capitalize(): 첫글자만 대문자로 변환\n",
        "\n",
        "for w in sample.split():\n",
        "    if w.lower() not in stopwords.words('english'):\n",
        "        print(w)"
      ],
      "metadata": {
        "colab": {
          "base_uri": "https://localhost:8080/"
        },
        "id": "RIJ-nvab60OC",
        "outputId": "289e4312-4875-4ea7-bfc6-af656b189546"
      },
      "execution_count": null,
      "outputs": [
        {
          "output_type": "stream",
          "name": "stdout",
          "text": [
            "Go\n",
            "jurong\n",
            "point\n",
            "crazy\n",
            "Available\n",
            "bugis\n",
            "n\n",
            "great\n",
            "world\n",
            "la\n",
            "e\n",
            "buffet\n",
            "Cine\n",
            "got\n",
            "amore\n",
            "wat\n"
          ]
        }
      ]
    },
    {
      "cell_type": "code",
      "source": [
        "# 불용어를 제거하고 원래의 문장으로 되돌려주는 함수 구현\n",
        "def stop_word(x):\n",
        "    new_string = []\n",
        "    for w in x.split():\n",
        "        if w.lower() not in stopwords.words('english'):\n",
        "            new_string.append(w.lower())\n",
        "\n",
        "    # 단어 단위로\n",
        "    new_string = ' '.join(new_string)\n",
        "    return new_string"
      ],
      "metadata": {
        "id": "OXb3yZXa7Mbb"
      },
      "execution_count": null,
      "outputs": []
    },
    {
      "cell_type": "code",
      "source": [
        "data['text'] = data['text'].apply(stop_word)\n",
        "data['text']"
      ],
      "metadata": {
        "colab": {
          "base_uri": "https://localhost:8080/"
        },
        "id": "lIdHeW3J76Pp",
        "outputId": "bd9b8fb5-fc9b-49ff-dffe-f64e109019a6"
      },
      "execution_count": null,
      "outputs": [
        {
          "output_type": "execute_result",
          "data": {
            "text/plain": [
              "0       go jurong point crazy available bugis n great ...\n",
              "1                                 ok lar joking wif u oni\n",
              "2       free entry 2 wkly comp win fa cup final tkts 2...\n",
              "3                     u dun say early hor u c already say\n",
              "4             nah dont think goes usf lives around though\n",
              "                              ...                        \n",
              "5569    2nd time tried 2 contact u u £750 pound prize ...\n",
              "5570                          ü b going esplanade fr home\n",
              "5571                          pity mood soany suggestions\n",
              "5572    guy bitching acted like id interested buying s...\n",
              "5573                                       rofl true name\n",
              "Name: text, Length: 5574, dtype: object"
            ]
          },
          "metadata": {},
          "execution_count": 40
        }
      ]
    },
    {
      "cell_type": "markdown",
      "source": [
        "## 전처리: target 값을 정형화처리"
      ],
      "metadata": {
        "id": "eSyoERc88DLG"
      }
    },
    {
      "cell_type": "code",
      "source": [
        "data['target'].unique()"
      ],
      "metadata": {
        "colab": {
          "base_uri": "https://localhost:8080/"
        },
        "id": "Up1MUkUR-s4y",
        "outputId": "68c2e4d7-0f38-4a7c-f8c4-4ba60c5b8834"
      },
      "execution_count": null,
      "outputs": [
        {
          "output_type": "execute_result",
          "data": {
            "text/plain": [
              "array(['ham', 'spam'], dtype=object)"
            ]
          },
          "metadata": {},
          "execution_count": 42
        }
      ]
    },
    {
      "cell_type": "code",
      "source": [
        "sample = pd.Series(['a','b','c'])\n",
        "sample"
      ],
      "metadata": {
        "colab": {
          "base_uri": "https://localhost:8080/"
        },
        "id": "045TM3E3-v_e",
        "outputId": "8ccddd3f-62f5-4bb2-fe37-ac33d20eaafa"
      },
      "execution_count": null,
      "outputs": [
        {
          "output_type": "execute_result",
          "data": {
            "text/plain": [
              "0    a\n",
              "1    b\n",
              "2    c\n",
              "dtype: object"
            ]
          },
          "metadata": {},
          "execution_count": 43
        }
      ]
    },
    {
      "cell_type": "code",
      "source": [
        "sample.map({'a': 'apple', 'b': 'banana', 'c': 'candy'})"
      ],
      "metadata": {
        "colab": {
          "base_uri": "https://localhost:8080/"
        },
        "id": "DLJaNEii_AiH",
        "outputId": "51ddbd65-2c53-420b-d73d-145096b36049"
      },
      "execution_count": null,
      "outputs": [
        {
          "output_type": "execute_result",
          "data": {
            "text/plain": [
              "0     apple\n",
              "1    banana\n",
              "2     candy\n",
              "dtype: object"
            ]
          },
          "metadata": {},
          "execution_count": 44
        }
      ]
    },
    {
      "cell_type": "code",
      "source": [
        "# spam = 1, ham = 0\n",
        "data['target'] = data['target'].map({'spam':1, 'ham':0})\n",
        "data['target']"
      ],
      "metadata": {
        "colab": {
          "base_uri": "https://localhost:8080/"
        },
        "id": "Yt0Cm7yp_IrD",
        "outputId": "8c59e3b5-92dc-4f86-ec45-0a10e26307f3"
      },
      "execution_count": null,
      "outputs": [
        {
          "output_type": "execute_result",
          "data": {
            "text/plain": [
              "0       0\n",
              "1       0\n",
              "2       1\n",
              "3       0\n",
              "4       0\n",
              "       ..\n",
              "5569    1\n",
              "5570    0\n",
              "5571    0\n",
              "5572    0\n",
              "5573    0\n",
              "Name: target, Length: 5574, dtype: int64"
            ]
          },
          "metadata": {},
          "execution_count": 45
        }
      ]
    },
    {
      "cell_type": "markdown",
      "source": [
        "## 전처리 - text 피처 값을 벡터화로 변환\n",
        "- 카운트 기반 벡터화: 문자를 개수 기반으로 벡터화하는 방식\n",
        "- 데이터 전체에 존재하는 모든 문자를 사전처럼 모은 뒤에 고유 인덱스를 부여하고, 문자마다 속한 단어가 있는 인덱스를 카운트하는 방식"
      ],
      "metadata": {
        "id": "6kT90Z4K_XZM"
      }
    },
    {
      "cell_type": "code",
      "source": [
        "x = data['text']\n",
        "y = data['target']"
      ],
      "metadata": {
        "id": "Dsy7HRYZ_u5O"
      },
      "execution_count": null,
      "outputs": []
    },
    {
      "cell_type": "code",
      "source": [
        "from sklearn.feature_extraction.text import CountVectorizer\n",
        "# 지도학습: fit(), predict(), score()\n",
        "# 비지도학습: fit(), transform(), fit_transform()\n",
        "\n",
        "cv = CountVectorizer()\n",
        "cv.fit(x)\n",
        "\n",
        "# 문장 전체의 단어의 고유인덱스를 추출\n",
        "cv.vocabulary_"
      ],
      "metadata": {
        "colab": {
          "base_uri": "https://localhost:8080/"
        },
        "id": "GhYIF7nkBEBt",
        "outputId": "89ddbef4-c4f3-4477-dacd-1ee8482ba719"
      },
      "execution_count": null,
      "outputs": [
        {
          "output_type": "execute_result",
          "data": {
            "text/plain": [
              "{'go': 3791,\n",
              " 'jurong': 4687,\n",
              " 'point': 6433,\n",
              " 'crazy': 2497,\n",
              " 'available': 1414,\n",
              " 'bugis': 1881,\n",
              " 'great': 3888,\n",
              " 'world': 9184,\n",
              " 'la': 4847,\n",
              " 'buffet': 1879,\n",
              " 'cine': 2214,\n",
              " 'got': 3848,\n",
              " 'amore': 1181,\n",
              " 'wat': 8947,\n",
              " 'ok': 5995,\n",
              " 'lar': 4886,\n",
              " 'joking': 4655,\n",
              " 'wif': 9079,\n",
              " 'oni': 6027,\n",
              " 'free': 3577,\n",
              " 'entry': 3160,\n",
              " 'wkly': 9136,\n",
              " 'comp': 2330,\n",
              " 'win': 9093,\n",
              " 'fa': 3296,\n",
              " 'cup': 2553,\n",
              " 'final': 3421,\n",
              " 'tkts': 8380,\n",
              " '21st': 454,\n",
              " 'may': 5335,\n",
              " '2005': 441,\n",
              " 'text': 8217,\n",
              " '87121': 875,\n",
              " 'receive': 6833,\n",
              " 'questionstd': 6724,\n",
              " 'txt': 8592,\n",
              " 'ratetcs': 6776,\n",
              " 'apply': 1267,\n",
              " '08452810075over18s': 71,\n",
              " 'dun': 3011,\n",
              " 'say': 7192,\n",
              " 'early': 3031,\n",
              " 'hor': 4222,\n",
              " 'already': 1154,\n",
              " 'nah': 5682,\n",
              " 'dont': 2918,\n",
              " 'think': 8291,\n",
              " 'goes': 3805,\n",
              " 'usf': 8741,\n",
              " 'lives': 5050,\n",
              " 'around': 1318,\n",
              " 'though': 8310,\n",
              " 'freemsg': 3585,\n",
              " 'hey': 4118,\n",
              " 'darling': 2617,\n",
              " 'weeks': 9002,\n",
              " 'word': 9170,\n",
              " 'back': 1464,\n",
              " 'id': 4343,\n",
              " 'like': 5000,\n",
              " 'fun': 3652,\n",
              " 'still': 7860,\n",
              " 'tb': 8147,\n",
              " 'xxx': 9309,\n",
              " 'std': 7835,\n",
              " 'chgs': 2159,\n",
              " 'send': 7288,\n",
              " '150': 353,\n",
              " 'rcv': 6788,\n",
              " 'even': 3207,\n",
              " 'brother': 1848,\n",
              " 'speak': 7706,\n",
              " 'treat': 8517,\n",
              " 'aids': 1100,\n",
              " 'patent': 6226,\n",
              " 'per': 6268,\n",
              " 'request': 6946,\n",
              " 'melle': 5378,\n",
              " 'oru': 6091,\n",
              " 'minnaminunginte': 5461,\n",
              " 'nurungu': 5922,\n",
              " 'vettam': 8805,\n",
              " 'set': 7317,\n",
              " 'callertune': 1964,\n",
              " 'callers': 1963,\n",
              " 'press': 6563,\n",
              " 'copy': 2435,\n",
              " 'friends': 3610,\n",
              " 'winner': 9104,\n",
              " 'valued': 8775,\n",
              " 'network': 5758,\n",
              " 'customer': 2566,\n",
              " 'selected': 7274,\n",
              " 'receivea': 6834,\n",
              " '900': 913,\n",
              " 'prize': 6597,\n",
              " 'reward': 7005,\n",
              " 'claim': 2220,\n",
              " 'call': 1945,\n",
              " '09061701461': 217,\n",
              " 'code': 2281,\n",
              " 'kl341': 4803,\n",
              " 'valid': 8771,\n",
              " '12': 324,\n",
              " 'hours': 4241,\n",
              " 'mobile': 5520,\n",
              " '11': 313,\n",
              " 'months': 5565,\n",
              " 'entitled': 3157,\n",
              " 'update': 8696,\n",
              " 'latest': 4903,\n",
              " 'colour': 2304,\n",
              " 'mobiles': 5521,\n",
              " 'camera': 1978,\n",
              " 'co': 2270,\n",
              " '08002986030': 56,\n",
              " 'im': 4373,\n",
              " 'gonna': 3822,\n",
              " 'home': 4188,\n",
              " 'soon': 7656,\n",
              " 'want': 8927,\n",
              " 'talk': 8113,\n",
              " 'stuff': 7933,\n",
              " 'anymore': 1234,\n",
              " 'tonight': 8439,\n",
              " 'ive': 4569,\n",
              " 'cried': 2514,\n",
              " 'enough': 3148,\n",
              " 'today': 8397,\n",
              " 'six': 7508,\n",
              " 'chances': 2096,\n",
              " 'cash': 2039,\n",
              " '100': 291,\n",
              " '20000': 438,\n",
              " 'pounds': 6500,\n",
              " 'csh11': 2531,\n",
              " '87575': 879,\n",
              " 'cost': 2448,\n",
              " '150pday': 360,\n",
              " '6days': 761,\n",
              " '16': 391,\n",
              " 'tsandcs': 8552,\n",
              " 'reply': 6938,\n",
              " 'hl': 4154,\n",
              " 'info': 4436,\n",
              " 'urgent': 8719,\n",
              " 'week': 8997,\n",
              " 'membership': 5384,\n",
              " '100000': 294,\n",
              " 'jackpot': 4578,\n",
              " '81010': 825,\n",
              " 'tc': 8149,\n",
              " 'wwwdbuknet': 9253,\n",
              " 'lccltd': 4921,\n",
              " 'pobox': 6412,\n",
              " '4403ldnw1a7rw18': 631,\n",
              " 'searching': 7241,\n",
              " 'right': 7017,\n",
              " 'words': 9173,\n",
              " 'thank': 8235,\n",
              " 'breather': 1817,\n",
              " 'promise': 6636,\n",
              " 'wont': 9161,\n",
              " 'take': 8104,\n",
              " 'help': 4086,\n",
              " 'granted': 3877,\n",
              " 'fulfil': 3648,\n",
              " 'wonderful': 9158,\n",
              " 'blessing': 1688,\n",
              " 'times': 8355,\n",
              " 'date': 2626,\n",
              " 'sunday': 8001,\n",
              " 'xxxmobilemovieclub': 9310,\n",
              " 'use': 8735,\n",
              " 'credit': 2504,\n",
              " 'click': 2242,\n",
              " 'wap': 8932,\n",
              " 'link': 5023,\n",
              " 'next': 5777,\n",
              " 'message': 5409,\n",
              " 'httpwap': 4271,\n",
              " 'xxxmobilemovieclubcomnqjkgighjjgcbl': 9311,\n",
              " 'oh': 5988,\n",
              " 'kim': 4770,\n",
              " 'watching': 8952,\n",
              " 'eh': 3081,\n",
              " 'remember': 6905,\n",
              " 'spell': 7722,\n",
              " 'name': 5688,\n",
              " 'yes': 9349,\n",
              " 'naughty': 5714,\n",
              " 'make': 5254,\n",
              " 'wet': 9039,\n",
              " 'fine': 3429,\n",
              " 'that': 8245,\n",
              " 'way': 8963,\n",
              " 'feel': 3373,\n",
              " 'gota': 3849,\n",
              " 'england': 3139,\n",
              " 'macedonia': 5216,\n",
              " 'miss': 5480,\n",
              " 'goalsteam': 3797,\n",
              " 'news': 5772,\n",
              " 'ur': 8716,\n",
              " 'national': 5707,\n",
              " 'team': 8163,\n",
              " '87077': 874,\n",
              " 'eg': 3072,\n",
              " 'trywales': 8550,\n",
              " 'scotland': 7220,\n",
              " '4txtú120': 679,\n",
              " 'poboxox36504w45wq': 6424,\n",
              " 'seriously': 7310,\n",
              " 'going': 3810,\n",
              " 'try': 8547,\n",
              " 'ha': 3959,\n",
              " 'pay': 6237,\n",
              " 'first': 3449,\n",
              " 'da': 2582,\n",
              " 'stock': 7864,\n",
              " 'comin': 2320,\n",
              " 'aft': 1062,\n",
              " 'finish': 3435,\n",
              " 'lunch': 5182,\n",
              " 'str': 7890,\n",
              " 'lor': 5108,\n",
              " 'ard': 1294,\n",
              " 'smth': 7594,\n",
              " 'ffffffffff': 3391,\n",
              " 'alright': 1156,\n",
              " 'meet': 5363,\n",
              " 'sooner': 7658,\n",
              " 'forced': 3528,\n",
              " 'eat': 3044,\n",
              " 'slice': 7543,\n",
              " 'really': 6814,\n",
              " 'hungry': 4299,\n",
              " 'tho': 8306,\n",
              " 'sucks': 7971,\n",
              " 'mark': 5290,\n",
              " 'getting': 3750,\n",
              " 'worried': 9190,\n",
              " 'knows': 4815,\n",
              " 'sick': 7451,\n",
              " 'turn': 8573,\n",
              " 'pizza': 6362,\n",
              " 'lol': 5085,\n",
              " 'always': 1166,\n",
              " 'convincing': 2421,\n",
              " 'catch': 2051,\n",
              " 'bus': 1901,\n",
              " 'frying': 3636,\n",
              " 'egg': 3076,\n",
              " 'tea': 8157,\n",
              " 'eating': 3047,\n",
              " 'moms': 5544,\n",
              " 'left': 4944,\n",
              " 'dinner': 2825,\n",
              " 'love': 5134,\n",
              " 'amp': 1183,\n",
              " 'packing': 6149,\n",
              " 'car': 2005,\n",
              " 'ill': 4369,\n",
              " 'let': 4967,\n",
              " 'know': 4810,\n",
              " 'theres': 8276,\n",
              " 'room': 7062,\n",
              " 'ahhh': 1091,\n",
              " 'work': 9176,\n",
              " 'vaguely': 8766,\n",
              " 'wait': 8897,\n",
              " 'thats': 8253,\n",
              " 'clear': 2236,\n",
              " 'sure': 8029,\n",
              " 'sarcastic': 7166,\n",
              " 'doesnt': 2890,\n",
              " 'live': 5046,\n",
              " 'us': 8731,\n",
              " 'yeah': 9336,\n",
              " 'apologetic': 1255,\n",
              " 'fallen': 3323,\n",
              " 'actin': 1000,\n",
              " 'spoilt': 7750,\n",
              " 'child': 2175,\n",
              " 'caught': 2055,\n",
              " 'till': 8349,\n",
              " 'badly': 1470,\n",
              " 'cheers': 2141,\n",
              " 'tell': 8182,\n",
              " 'anything': 1240,\n",
              " 'fear': 3365,\n",
              " 'fainting': 3313,\n",
              " 'housework': 4246,\n",
              " 'quick': 6725,\n",
              " 'cuppa': 2555,\n",
              " 'thanks': 8236,\n",
              " 'subscription': 7960,\n",
              " 'ringtone': 7026,\n",
              " 'uk': 8623,\n",
              " 'charged': 2108,\n",
              " '5month': 717,\n",
              " 'please': 6391,\n",
              " 'confirm': 2376,\n",
              " 'replying': 6940,\n",
              " 'yup': 9419,\n",
              " 'look': 5096,\n",
              " 'timings': 8362,\n",
              " 'msg': 5609,\n",
              " 'xuhui': 9305,\n",
              " 'learn': 4933,\n",
              " '2nd': 520,\n",
              " 'lesson': 4965,\n",
              " '8am': 902,\n",
              " 'oops': 6045,\n",
              " 'roommates': 7065,\n",
              " 'done': 2915,\n",
              " 'see': 7258,\n",
              " 'letter': 4969,\n",
              " 'decide': 2681,\n",
              " 'hello': 4079,\n",
              " 'hows': 4253,\n",
              " 'saturday': 7182,\n",
              " 'texting': 8225,\n",
              " 'youd': 9384,\n",
              " 'decided': 2682,\n",
              " 'tomo': 8424,\n",
              " 'trying': 8549,\n",
              " 'invite': 4500,\n",
              " 'pls': 6399,\n",
              " 'ahead': 1089,\n",
              " 'watts': 8961,\n",
              " 'wanted': 8929,\n",
              " 'weekend': 8999,\n",
              " 'abiola': 952,\n",
              " 'forget': 3534,\n",
              " 'need': 5733,\n",
              " 'crave': 2494,\n",
              " 'sweet': 8060,\n",
              " 'arabian': 1291,\n",
              " 'steed': 7842,\n",
              " 'mmmmmm': 5510,\n",
              " 'yummy': 9414,\n",
              " '07732584351': 28,\n",
              " 'rodger': 7051,\n",
              " 'burns': 1898,\n",
              " 'tried': 8526,\n",
              " 'sms': 7588,\n",
              " 'nokia': 5842,\n",
              " 'camcorder': 1976,\n",
              " '08000930705': 52,\n",
              " 'delivery': 2720,\n",
              " 'tomorrow': 8427,\n",
              " 'seeing': 7260,\n",
              " 'hope': 4212,\n",
              " 'man': 5264,\n",
              " 'well': 9016,\n",
              " 'endowed': 3129,\n",
              " 'ltgt': 5167,\n",
              " 'inches': 4404,\n",
              " 'callsmessagesmissed': 1972,\n",
              " 'calls': 1970,\n",
              " 'didnt': 2795,\n",
              " 'get': 3742,\n",
              " 'hep': 4100,\n",
              " 'immunisation': 4385,\n",
              " 'nigeria': 5790,\n",
              " 'fair': 3314,\n",
              " 'hopefully': 4216,\n",
              " 'tyler': 8602,\n",
              " 'cant': 1996,\n",
              " 'could': 2458,\n",
              " 'maybe': 5337,\n",
              " 'ask': 1346,\n",
              " 'bit': 1663,\n",
              " 'stubborn': 7921,\n",
              " 'hospital': 4229,\n",
              " 'kept': 4741,\n",
              " 'telling': 8183,\n",
              " 'weak': 8970,\n",
              " 'sucker': 7969,\n",
              " 'hospitals': 4230,\n",
              " 'suckers': 7970,\n",
              " 'thinked': 8292,\n",
              " 'time': 8351,\n",
              " 'saw': 7191,\n",
              " 'class': 2228,\n",
              " 'gram': 3869,\n",
              " 'usually': 8752,\n",
              " 'runs': 7109,\n",
              " 'half': 3976,\n",
              " 'eighth': 3084,\n",
              " 'smarter': 7566,\n",
              " 'gets': 3746,\n",
              " 'almost': 1150,\n",
              " 'whole': 9068,\n",
              " 'second': 7245,\n",
              " 'fyi': 3667,\n",
              " 'ride': 7016,\n",
              " 'morning': 5574,\n",
              " 'hes': 4113,\n",
              " 'crashing': 2493,\n",
              " 'place': 6364,\n",
              " 'wow': 9209,\n",
              " 'never': 5763,\n",
              " 'realized': 6812,\n",
              " 'embarassed': 3109,\n",
              " 'accomodations': 980,\n",
              " 'thought': 8311,\n",
              " 'liked': 5001,\n",
              " 'since': 7478,\n",
              " 'best': 1617,\n",
              " 'seemed': 7264,\n",
              " 'happy': 4010,\n",
              " 'cave': 2059,\n",
              " 'sorry': 7668,\n",
              " 'give': 3772,\n",
              " 'offered': 5969,\n",
              " 'embarassing': 3110,\n",
              " 'ac': 966,\n",
              " 'sptv': 7773,\n",
              " 'new': 5767,\n",
              " 'jersey': 4622,\n",
              " 'devils': 2773,\n",
              " 'detroit': 2767,\n",
              " 'red': 6857,\n",
              " 'wings': 9102,\n",
              " 'play': 6380,\n",
              " 'ice': 4338,\n",
              " 'hockey': 4172,\n",
              " 'correct': 2440,\n",
              " 'incorrect': 4415,\n",
              " 'end': 3124,\n",
              " 'mallika': 5263,\n",
              " 'sherawat': 7371,\n",
              " 'yesterday': 9364,\n",
              " 'find': 3426,\n",
              " 'lturlgt': 5170,\n",
              " 'congrats': 2383,\n",
              " 'year': 9338,\n",
              " 'special': 7708,\n",
              " 'cinema': 2215,\n",
              " 'pass': 6214,\n",
              " '09061209465': 212,\n",
              " 'suprman': 8027,\n",
              " 'matrix3': 5323,\n",
              " 'starwars3': 7822,\n",
              " 'etc': 3193,\n",
              " 'bx420ip45we': 1924,\n",
              " '150pm': 363,\n",
              " 'later': 4901,\n",
              " 'meeting': 5366,\n",
              " 'reached': 6795,\n",
              " 'yesgauti': 9357,\n",
              " 'sehwag': 7271,\n",
              " 'odi': 5961,\n",
              " 'series': 7308,\n",
              " 'pick': 6332,\n",
              " 'burger': 1893,\n",
              " 'move': 5593,\n",
              " 'pain': 6156,\n",
              " 'killing': 4767,\n",
              " 'good': 3824,\n",
              " 'joke': 4650,\n",
              " 'girls': 3769,\n",
              " 'situation': 7504,\n",
              " 'seekers': 7261,\n",
              " 'part': 6201,\n",
              " 'checking': 2135,\n",
              " 'iq': 4515,\n",
              " 'took': 8446,\n",
              " 'forever': 3531,\n",
              " 'come': 2312,\n",
              " 'double': 2933,\n",
              " 'check': 2131,\n",
              " 'hair': 3971,\n",
              " 'dresser': 2968,\n",
              " 'said': 7134,\n",
              " 'wun': 9239,\n",
              " 'cut': 2570,\n",
              " 'short': 7412,\n",
              " 'nice': 5783,\n",
              " 'pleased': 6392,\n",
              " 'advise': 1045,\n",
              " 'following': 3508,\n",
              " 'recent': 6837,\n",
              " 'review': 7003,\n",
              " 'mob': 5518,\n",
              " 'awarded': 1433,\n",
              " '1500': 354,\n",
              " 'bonus': 1732,\n",
              " '09066364589': 261,\n",
              " 'song': 7650,\n",
              " 'dedicated': 2692,\n",
              " 'day': 2639,\n",
              " 'dedicate': 2691,\n",
              " 'valuable': 8773,\n",
              " 'frnds': 3620,\n",
              " 'rply': 7082,\n",
              " 'complimentary': 2349,\n",
              " 'trip': 8527,\n",
              " 'eurodisinc': 3200,\n",
              " 'trav': 8509,\n",
              " 'acoentry41': 995,\n",
              " '1000': 292,\n",
              " 'dis': 2838,\n",
              " '186': 400,\n",
              " '150morefrmmob': 356,\n",
              " 'shracomorsglsuplt10': 7436,\n",
              " 'ls1': 5157,\n",
              " '3aj': 583,\n",
              " 'hear': 4054,\n",
              " 'divorce': 2867,\n",
              " 'barbie': 1501,\n",
              " 'comes': 2316,\n",
              " 'kens': 4739,\n",
              " 'plane': 6371,\n",
              " 'month': 5561,\n",
              " 'wah': 8890,\n",
              " 'lucky': 5175,\n",
              " 'save': 7187,\n",
              " 'money': 5549,\n",
              " 'hee': 4070,\n",
              " 'finished': 3437,\n",
              " 'hi': 4123,\n",
              " 'babe': 1452,\n",
              " 'wanna': 8925,\n",
              " 'something': 7636,\n",
              " 'xx': 9306,\n",
              " 'kkwhere': 4800,\n",
              " 'youhow': 9387,\n",
              " 'performed': 6275,\n",
              " 'waiting': 8901,\n",
              " 'machan': 5218,\n",
              " 'cool': 2427,\n",
              " 'gentleman': 3733,\n",
              " 'dignity': 2815,\n",
              " 'respect': 6967,\n",
              " 'peoples': 6267,\n",
              " 'much': 5628,\n",
              " 'shy': 7446,\n",
              " 'pa': 6144,\n",
              " 'operate': 6052,\n",
              " 'looking': 5100,\n",
              " 'job': 4637,\n",
              " 'tas': 8131,\n",
              " 'earn': 3032,\n",
              " 'ah': 1087,\n",
              " 'stop': 7874,\n",
              " 'urgnt': 8723,\n",
              " 'real': 6805,\n",
              " 'yo': 9374,\n",
              " 'tickets': 8340,\n",
              " 'one': 6023,\n",
              " 'jacket': 4577,\n",
              " 'used': 8736,\n",
              " 'multis': 5639,\n",
              " 'started': 7815,\n",
              " 'requests': 6947,\n",
              " 'came': 1977,\n",
              " 'bed': 1571,\n",
              " 'coins': 2288,\n",
              " 'factory': 3304,\n",
              " 'gotta': 3853,\n",
              " 'nitros': 5814,\n",
              " 'ela': 3089,\n",
              " 'kanoil': 4715,\n",
              " 'download': 2941,\n",
              " 'wen': 9022,\n",
              " 'don': 2913,\n",
              " 'stand': 7803,\n",
              " 'close': 2249,\n",
              " 'you': 9380,\n",
              " 'll': 5054,\n",
              " 'another': 1218,\n",
              " 'night': 5792,\n",
              " 'spent': 7727,\n",
              " 'late': 4896,\n",
              " 'afternoon': 1064,\n",
              " 'casualty': 2049,\n",
              " 'means': 5349,\n",
              " 'havent': 4036,\n",
              " 'stuff42moro': 7934,\n",
              " 'includes': 4408,\n",
              " 'sheets': 7366,\n",
              " 'smile': 7575,\n",
              " 'pleasure': 6394,\n",
              " 'trouble': 8533,\n",
              " 'pours': 6502,\n",
              " 'rain': 6749,\n",
              " 'sum1': 7992,\n",
              " 'hurts': 4314,\n",
              " 'becoz': 1569,\n",
              " 'someone': 7629,\n",
              " 'loves': 5144,\n",
              " 'smiling': 7579,\n",
              " 'service': 7313,\n",
              " 'representative': 6944,\n",
              " '0800': 48,\n",
              " '169': 393,\n",
              " '6031': 729,\n",
              " '10am9pm': 307,\n",
              " 'guaranteed': 3927,\n",
              " '5000': 689,\n",
              " 'planning': 6376,\n",
              " 'buy': 1913,\n",
              " 'lido': 4982,\n",
              " '530': 701,\n",
              " 'show': 7427,\n",
              " 'collected': 2297,\n",
              " 'simply': 7475,\n",
              " 'password': 6222,\n",
              " 'mix': 5500,\n",
              " '85069': 860,\n",
              " 'verify': 8801,\n",
              " 'usher': 8743,\n",
              " 'britney': 1838,\n",
              " 'fml': 3498,\n",
              " 'po': 6410,\n",
              " 'box': 1767,\n",
              " '5249': 698,\n",
              " 'mk17': 5503,\n",
              " '92h': 917,\n",
              " '450ppw': 642,\n",
              " 'telugu': 8188,\n",
              " 'moviewat': 5598,\n",
              " 'abt': 961,\n",
              " 'loads': 5062,\n",
              " 'loans': 5064,\n",
              " 'wk': 9132,\n",
              " 'hols': 4186,\n",
              " 'run': 7106,\n",
              " 'forgot': 3539,\n",
              " 'hairdressers': 3973,\n",
              " 'appointment': 1271,\n",
              " 'four': 3558,\n",
              " 'shower': 7429,\n",
              " 'beforehand': 1586,\n",
              " 'cause': 2056,\n",
              " 'prob': 6603,\n",
              " 'coffee': 2283,\n",
              " 'animation': 1205,\n",
              " 'nothing': 5876,\n",
              " 'else': 3103,\n",
              " 'okay': 5996,\n",
              " 'price': 6576,\n",
              " 'long': 5092,\n",
              " 'legal': 4947,\n",
              " 'ave': 1420,\n",
              " 'ams': 1187,\n",
              " 'gone': 3819,\n",
              " '4the': 676,\n",
              " 'driving': 2977,\n",
              " 'test': 8211,\n",
              " 'yet': 9365,\n",
              " 'youre': 9397,\n",
              " 'mean': 5345,\n",
              " 'guess': 3935,\n",
              " 'gave': 3701,\n",
              " 'boston': 1754,\n",
              " 'men': 5389,\n",
              " 'changed': 2098,\n",
              " 'search': 7240,\n",
              " 'location': 5067,\n",
              " 'nyc': 5932,\n",
              " 'cuz': 2577,\n",
              " 'signin': 7463,\n",
              " 'page': 6152,\n",
              " 'says': 7197,\n",
              " 'umma': 8632,\n",
              " 'life': 4985,\n",
              " 'vava': 8787,\n",
              " 'lot': 5118,\n",
              " 'dear': 2663,\n",
              " 'wishes': 9117,\n",
              " 'birthday': 1661,\n",
              " 'making': 5258,\n",
              " 'truly': 8541,\n",
              " 'memorable': 5386,\n",
              " 'aight': 1102,\n",
              " 'hit': 4145,\n",
              " 'would': 9205,\n",
              " 'ip': 4508,\n",
              " 'address': 1019,\n",
              " 'considering': 2394,\n",
              " 'computer': 2356,\n",
              " 'isnt': 4535,\n",
              " 'minecraft': 5457,\n",
              " 'server': 7312,\n",
              " 'grumpy': 3919,\n",
              " 'old': 6013,\n",
              " 'people': 6266,\n",
              " 'mom': 5541,\n",
              " 'better': 1625,\n",
              " 'lying': 5198,\n",
              " 'jokes': 4652,\n",
              " 'worry': 9193,\n",
              " 'busy': 1907,\n",
              " 'plural': 6404,\n",
              " 'noun': 5885,\n",
              " 'research': 6953,\n",
              " 'dinnermsg': 2826,\n",
              " 'cos': 2446,\n",
              " 'things': 8290,\n",
              " 'scared': 7204,\n",
              " 'mah': 5242,\n",
              " 'loud': 5129,\n",
              " 'gent': 3731,\n",
              " 'contact': 2399,\n",
              " 'last': 4893,\n",
              " 'weekends': 9000,\n",
              " 'draw': 2955,\n",
              " 'shows': 7435,\n",
              " '09064012160': 236,\n",
              " 'k52': 4694,\n",
              " '12hrs': 337,\n",
              " '150ppm': 374,\n",
              " 'wa': 8885,\n",
              " 'openin': 6049,\n",
              " 'sentence': 7301,\n",
              " 'formal': 3542,\n",
              " 'anyway': 1244,\n",
              " 'juz': 4693,\n",
              " 'tt': 8559,\n",
              " 'eatin': 3046,\n",
              " 'puttin': 6703,\n",
              " 'weighthaha': 9007,\n",
              " 'anythin': 1239,\n",
              " 'happened': 4002,\n",
              " 'entered': 3150,\n",
              " 'cabin': 1931,\n",
              " 'bday': 1554,\n",
              " 'boss': 1753,\n",
              " 'felt': 3383,\n",
              " 'askd': 1347,\n",
              " 'invited': 4501,\n",
              " 'apartment': 1249,\n",
              " 'went': 9025,\n",
              " 'specially': 7713,\n",
              " 'holiday': 4182,\n",
              " 'flights': 3475,\n",
              " 'inc': 4402,\n",
              " 'operator': 6053,\n",
              " '0871277810910pmin': 121,\n",
              " '18': 396,\n",
              " 'goodo': 3838,\n",
              " 'must': 5659,\n",
              " 'friday': 3603,\n",
              " 'eggpotato': 3077,\n",
              " 'ratio': 6778,\n",
              " 'tortilla': 8465,\n",
              " 'needed': 5735,\n",
              " 'hmmmy': 4167,\n",
              " 'uncle': 8639,\n",
              " 'informed': 4440,\n",
              " 'paying': 6243,\n",
              " 'school': 7210,\n",
              " 'directly': 2832,\n",
              " 'food': 3516,\n",
              " 'private': 6594,\n",
              " '2004': 440,\n",
              " 'account': 984,\n",
              " 'statement': 7825,\n",
              " '07742676969': 30,\n",
              " '786': 792,\n",
              " 'unredeemed': 8681,\n",
              " 'points': 6434,\n",
              " '08719180248': 169,\n",
              " 'identifier': 4350,\n",
              " '45239': 644,\n",
              " 'expires': 3276,\n",
              " '2000': 437,\n",
              " 'caller': 1962,\n",
              " '5903': 706,\n",
              " 'landline': 4873,\n",
              " '09064019788': 242,\n",
              " 'box42wr29c': 1779,\n",
              " 'applespairsall': 1265,\n",
              " 'malarky': 5260,\n",
              " 'todays': 8403,\n",
              " 'voda': 8855,\n",
              " 'numbers': 5918,\n",
              " 'ending': 3126,\n",
              " '7548': 787,\n",
              " '350': 570,\n",
              " 'award': 1432,\n",
              " 'match': 5311,\n",
              " '08712300220': 103,\n",
              " 'quoting': 6737,\n",
              " '4041': 615,\n",
              " 'standard': 7804,\n",
              " 'rates': 6775,\n",
              " 'app': 1259,\n",
              " 'sao': 7160,\n",
              " 'mu': 5627,\n",
              " 'predict': 6537,\n",
              " 'üll': 9435,\n",
              " 'buying': 1916,\n",
              " 'knowyetunde': 4818,\n",
              " 'hasnt': 4022,\n",
              " 'sent': 7299,\n",
              " 'bother': 1756,\n",
              " 'sending': 7291,\n",
              " 'involve': 4505,\n",
              " 'shouldnt': 7422,\n",
              " 'imposed': 4391,\n",
              " 'apologise': 1256,\n",
              " 'girl': 3765,\n",
              " 'del': 2710,\n",
              " 'bak': 1478,\n",
              " 'sum': 7991,\n",
              " 'lucyxx': 5179,\n",
              " 'kkhow': 4794,\n",
              " 'tmorrowpls': 8385,\n",
              " 'accomodate': 979,\n",
              " 'answer': 1221,\n",
              " 'question': 6721,\n",
              " 'sunshine': 8008,\n",
              " 'quiz': 6732,\n",
              " 'top': 8455,\n",
              " 'sony': 7653,\n",
              " 'dvd': 3020,\n",
              " 'player': 6382,\n",
              " 'country': 2465,\n",
              " 'algarve': 1131,\n",
              " 'ansr': 1220,\n",
              " '82277': 831,\n",
              " 'sptyrone': 7774,\n",
              " 'laid': 4864,\n",
              " 'dogging': 2895,\n",
              " 'locations': 5068,\n",
              " 'direct': 2831,\n",
              " 'join': 4645,\n",
              " 'uks': 8626,\n",
              " 'largest': 4890,\n",
              " 'bt': 1864,\n",
              " 'txting': 8597,\n",
              " 'gravel': 3882,\n",
              " '69888': 755,\n",
              " 'nt': 5906,\n",
              " 'ec2a': 3049,\n",
              " '31pmsg150p': 561,\n",
              " 'haf': 3965,\n",
              " 'msn': 5620,\n",
              " 'yijuehotmailcom': 9371,\n",
              " 'rooms': 7066,\n",
              " 'befor': 1585,\n",
              " 'activities': 1006,\n",
              " 'youll': 9391,\n",
              " 'msgs': 5613,\n",
              " 'chat': 2120,\n",
              " 'svc': 8045,\n",
              " 'hardcore': 4012,\n",
              " 'services': 7314,\n",
              " '69988': 759,\n",
              " 'age': 1072,\n",
              " 'yr': 9410,\n",
              " 'lazy': 4920,\n",
              " 'type': 8604,\n",
              " 'lect': 4941,\n",
              " 'pouch': 6497,\n",
              " 'sir': 7490,\n",
              " 'mail': 5245,\n",
              " 'swt': 8074,\n",
              " 'nver': 5927,\n",
              " 'tired': 8366,\n",
              " 'little': 5045,\n",
              " 'lovable': 5133,\n",
              " 'persons': 6293,\n",
              " 'cozsomtimes': 2479,\n",
              " 'occupy': 5954,\n",
              " 'biggest': 1642,\n",
              " 'hearts': 4062,\n",
              " 'gud': 3929,\n",
              " 'ni8': 5780,\n",
              " 'open': 6046,\n",
              " 'ya': 9320,\n",
              " 'dot': 2932,\n",
              " 'whats': 9046,\n",
              " 'staff': 7794,\n",
              " 'taking': 8110,\n",
              " 'replied': 6936,\n",
              " 'randy': 6768,\n",
              " 'sexy': 7330,\n",
              " 'female': 3384,\n",
              " 'local': 5066,\n",
              " 'luv': 5188,\n",
              " 'netcollex': 5754,\n",
              " 'ltd': 5163,\n",
              " '08700621170150p': 73,\n",
              " 'ummmawill': 8633,\n",
              " 'inour': 4457,\n",
              " 'begin': 1591,\n",
              " 'qatar': 6708,\n",
              " 'pray': 6530,\n",
              " 'hard': 4011,\n",
              " 'ki': 4755,\n",
              " 'deleted': 2714,\n",
              " 'sindu': 7480,\n",
              " 'birla': 1657,\n",
              " 'soft': 7616,\n",
              " 'wine': 9100,\n",
              " 'flowing': 3489,\n",
              " 'nevering': 5764,\n",
              " 'thk': 8300,\n",
              " 'plaza': 6389,\n",
              " 'typical': 8607,\n",
              " 'everywhere': 3226,\n",
              " 'dirt': 2835,\n",
              " 'floor': 3483,\n",
              " 'windows': 9097,\n",
              " 'shirt': 7386,\n",
              " 'sometimes': 7640,\n",
              " 'mouth': 5592,\n",
              " 'dream': 2959,\n",
              " 'without': 9126,\n",
              " 'chores': 2201,\n",
              " 'joy': 4667,\n",
              " 'lots': 5121,\n",
              " 'tv': 8578,\n",
              " 'exist': 3260,\n",
              " 'hail': 3970,\n",
              " 'mist': 5491,\n",
              " 'become': 1567,\n",
              " 'aaooooright': 941,\n",
              " 'leaving': 4940,\n",
              " 'house': 4242,\n",
              " 'interview': 4487,\n",
              " 'boy': 1784,\n",
              " 'meare': 5352,\n",
              " 'missing': 5484,\n",
              " 'annoncement': 1211,\n",
              " 'years': 9339,\n",
              " '07046744435': 21,\n",
              " 'arrange': 1322,\n",
              " '0871277810810': 120,\n",
              " 'keep': 4732,\n",
              " 'safe': 7129,\n",
              " 'envy': 3164,\n",
              " 'everyone': 3220,\n",
              " 'sees': 7268,\n",
              " 'parentsi': 6192,\n",
              " 'hand': 3985,\n",
              " 'excited': 3248,\n",
              " 'spend': 7725,\n",
              " 'bootydelious': 1745,\n",
              " '32f': 566,\n",
              " 'inviting': 4502,\n",
              " 'friend': 3608,\n",
              " 'yes434': 9351,\n",
              " 'no434': 5821,\n",
              " 'wwwsmsacubootydelious': 9273,\n",
              " 'frnd': 3619,\n",
              " '62468': 737,\n",
              " 'bangbabes': 1492,\n",
              " 'order': 6077,\n",
              " 'content': 2403,\n",
              " 'goto': 3852,\n",
              " 'bangb': 1491,\n",
              " 'internetservice': 4486,\n",
              " 'menu': 5397,\n",
              " 'cultures': 2549,\n",
              " 'module': 5534,\n",
              " '09061701939': 219,\n",
              " 's89': 7119,\n",
              " 'avoid': 1426,\n",
              " 'missunderstding': 5489,\n",
              " 'wit': 9122,\n",
              " 'beloved': 1607,\n",
              " 'ones': 6025,\n",
              " 'escape': 3183,\n",
              " 'fancy': 3335,\n",
              " 'bridge': 1822,\n",
              " 'needs': 5739,\n",
              " 'lager': 4863,\n",
              " 'completely': 2345,\n",
              " 'formclark': 3546,\n",
              " 'also': 1160,\n",
              " 'utter': 8754,\n",
              " 'waste': 8944,\n",
              " 'axis': 1440,\n",
              " 'bank': 1494,\n",
              " 'hmmm': 4161,\n",
              " 'hop': 4211,\n",
              " 'muz': 5665,\n",
              " 'discuss': 2851,\n",
              " 'liao': 4974,\n",
              " 'coming': 2321,\n",
              " 'bloody': 1703,\n",
              " 'hell': 4077,\n",
              " 'believe': 1598,\n",
              " 'surname': 8035,\n",
              " 'mr': 5603,\n",
              " 'clue': 2263,\n",
              " 'spanish': 7700,\n",
              " 'begins': 1592,\n",
              " 'bath': 1524,\n",
              " 'goodfine': 3828,\n",
              " 'youve': 9404,\n",
              " 'carlos': 2026,\n",
              " 'mall': 5262,\n",
              " ...}"
            ]
          },
          "metadata": {},
          "execution_count": 47
        }
      ]
    },
    {
      "cell_type": "code",
      "source": [
        "x = cv.transform(x)\n",
        "print(x)"
      ],
      "metadata": {
        "colab": {
          "base_uri": "https://localhost:8080/"
        },
        "id": "QQ_tHjgTB9XN",
        "outputId": "0fbde0b7-9dec-45f4-c236-56a96b9311b4"
      },
      "execution_count": null,
      "outputs": [
        {
          "output_type": "stream",
          "name": "stdout",
          "text": [
            "  (0, 1181)\t1\n",
            "  (0, 1414)\t1\n",
            "  (0, 1879)\t1\n",
            "  (0, 1881)\t1\n",
            "  (0, 2214)\t1\n",
            "  (0, 2497)\t1\n",
            "  (0, 3791)\t1\n",
            "  (0, 3848)\t1\n",
            "  (0, 3888)\t1\n",
            "  (0, 4687)\t1\n",
            "  (0, 4847)\t1\n",
            "  (0, 6433)\t1\n",
            "  (0, 8947)\t1\n",
            "  (0, 9184)\t1\n",
            "  (1, 4655)\t1\n",
            "  (1, 4886)\t1\n",
            "  (1, 5995)\t1\n",
            "  (1, 6027)\t1\n",
            "  (1, 9079)\t1\n",
            "  (2, 71)\t1\n",
            "  (2, 441)\t1\n",
            "  (2, 454)\t1\n",
            "  (2, 875)\t1\n",
            "  (2, 1267)\t1\n",
            "  (2, 2330)\t1\n",
            "  :\t:\n",
            "  (5570, 3188)\t1\n",
            "  (5570, 3564)\t1\n",
            "  (5570, 3810)\t1\n",
            "  (5570, 4188)\t1\n",
            "  (5571, 5566)\t1\n",
            "  (5571, 6359)\t1\n",
            "  (5571, 7611)\t1\n",
            "  (5571, 7986)\t1\n",
            "  (5572, 999)\t1\n",
            "  (5572, 1665)\t1\n",
            "  (5572, 1916)\t1\n",
            "  (5572, 3103)\t1\n",
            "  (5572, 3577)\t1\n",
            "  (5572, 3701)\t1\n",
            "  (5572, 3950)\t1\n",
            "  (5572, 4343)\t1\n",
            "  (5572, 4480)\t1\n",
            "  (5572, 5000)\t1\n",
            "  (5572, 5777)\t1\n",
            "  (5572, 7636)\t1\n",
            "  (5572, 8731)\t1\n",
            "  (5572, 8997)\t1\n",
            "  (5573, 5688)\t1\n",
            "  (5573, 7052)\t1\n",
            "  (5573, 8538)\t1\n"
          ]
        }
      ]
    },
    {
      "cell_type": "code",
      "source": [
        "data.loc[0]['text']"
      ],
      "metadata": {
        "colab": {
          "base_uri": "https://localhost:8080/",
          "height": 35
        },
        "id": "Y-4UitZQCJgD",
        "outputId": "05dd366a-7be1-4726-c48a-2ace4e2e0141"
      },
      "execution_count": null,
      "outputs": [
        {
          "output_type": "execute_result",
          "data": {
            "text/plain": [
              "'go jurong point crazy available bugis n great world la e buffet cine got amore wat'"
            ],
            "application/vnd.google.colaboratory.intrinsic+json": {
              "type": "string"
            }
          },
          "metadata": {},
          "execution_count": 49
        }
      ]
    },
    {
      "cell_type": "code",
      "source": [
        "# 고유인덱스 추출\n",
        "print(cv.vocabulary_['go'])\n",
        "print(cv.vocabulary_['jurong'])\n",
        "print(cv.vocabulary_['point'])"
      ],
      "metadata": {
        "colab": {
          "base_uri": "https://localhost:8080/"
        },
        "id": "X9_ZA_uUDSlP",
        "outputId": "acbb658e-473f-46a8-c1d0-2cfd2f127497"
      },
      "execution_count": null,
      "outputs": [
        {
          "output_type": "stream",
          "name": "stdout",
          "text": [
            "3791\n",
            "4687\n",
            "6433\n"
          ]
        }
      ]
    },
    {
      "cell_type": "markdown",
      "source": [
        "# 모델링"
      ],
      "metadata": {
        "id": "yErPMDF_DhiP"
      }
    },
    {
      "cell_type": "markdown",
      "source": [
        "## 훈련세트와 테스트세트로 분리"
      ],
      "metadata": {
        "id": "2hchJDdxDy29"
      }
    },
    {
      "cell_type": "code",
      "source": [
        "from sklearn.model_selection import train_test_split\n",
        "\n",
        "x_train, x_test, y_train, y_test = train_test_split(x, y,\n",
        "                                                    test_size= 0.2, stratify= y, random_state= 100)"
      ],
      "metadata": {
        "id": "9_qqaK--D1fo"
      },
      "execution_count": null,
      "outputs": []
    },
    {
      "cell_type": "markdown",
      "source": [
        "**사이킷런에서 제공하는 나이브베이스 모형**\n",
        "- GaussianNB: 가우시안 정규분포 나이브베이스\n",
        "- BernoulliNB: 베르누이분포 나이브베이스\n",
        "- MultinomialNB: 다항분포 나이브베이스"
      ],
      "metadata": {
        "id": "WE8x8xCeEk3J"
      }
    },
    {
      "cell_type": "code",
      "source": [
        "from sklearn.naive_bayes import MultinomialNB\n",
        "\n",
        "nb = MultinomialNB()\n",
        "nb.fit(x_train, y_train)\n",
        "\n",
        "pred = nb.predict(x_test)"
      ],
      "metadata": {
        "id": "HQ0pAl-cFVdR"
      },
      "execution_count": null,
      "outputs": []
    },
    {
      "cell_type": "code",
      "source": [
        "from sklearn.metrics import accuracy_score, confusion_matrix\n",
        "\n",
        "# 평가지표(실제값과 예측값)\n",
        "accuracy_score(y_test, pred)"
      ],
      "metadata": {
        "colab": {
          "base_uri": "https://localhost:8080/"
        },
        "id": "vGdfG7m7FtqQ",
        "outputId": "4d8ffca9-3812-47df-ef6c-0183a15267a1"
      },
      "execution_count": null,
      "outputs": [
        {
          "output_type": "execute_result",
          "data": {
            "text/plain": [
              "0.9748878923766816"
            ]
          },
          "metadata": {},
          "execution_count": 53
        }
      ]
    },
    {
      "cell_type": "code",
      "source": [
        "# 혼동 행렬\n",
        "print(confusion_matrix(y_test, pred))"
      ],
      "metadata": {
        "colab": {
          "base_uri": "https://localhost:8080/"
        },
        "id": "flvuUWqiF-mI",
        "outputId": "2f5fda1f-a24a-45eb-9f88-4812013c0af7"
      },
      "execution_count": null,
      "outputs": [
        {
          "output_type": "stream",
          "name": "stdout",
          "text": [
            "[[947  19]\n",
            " [  9 140]]\n"
          ]
        }
      ]
    },
    {
      "cell_type": "code",
      "source": [
        "import seaborn as sns\n",
        "sns.heatmap(confusion_matrix(y_test,pred),annot=True,fmt='.0f')\n",
        "plt.show()"
      ],
      "metadata": {
        "colab": {
          "base_uri": "https://localhost:8080/",
          "height": 430
        },
        "id": "4xdGaHyVHhiA",
        "outputId": "f4ae68e6-1c15-4b36-d277-d6777cffdae8"
      },
      "execution_count": null,
      "outputs": [
        {
          "output_type": "display_data",
          "data": {
            "text/plain": [
              "<Figure size 640x480 with 2 Axes>"
            ],
            "image/png": "[encoded data removed]"
          },
          "metadata": {}
        }
      ]
    },
    {
      "cell_type": "markdown",
      "source": [
        "- 실제값 ham(0), 예측값도 0인 경우는 947건(TN)\n",
        "- 실제값 spam(1), 예측값도 1인경우는 140건(TP)\n",
        "- 2종오류: 실제 1인데 0으로 예측한 경우 9건(FN)\n",
        "- 1종오류: 실제 0인데 1로 예측한 경우 19건(FP)"
      ],
      "metadata": {
        "id": "cBfuiEMJGd-k"
      }
    }
  ]
}