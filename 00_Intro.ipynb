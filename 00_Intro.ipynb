{
  "nbformat": 4,
  "nbformat_minor": 0,
  "metadata": {
    "colab": {
      "provenance": [],
      "authorship_tag": "ABX9TyNSWdgU6Z41XuNnGTGon4o2",
      "include_colab_link": true
    },
    "kernelspec": {
      "name": "python3",
      "display_name": "Python 3"
    },
    "language_info": {
      "name": "python"
    }
  },
  "cells": [
    {
      "cell_type": "markdown",
      "metadata": {
        "id": "view-in-github",
        "colab_type": "text"
      },
      "source": [
        "<a href=\"https://colab.research.google.com/github/codedyasai/Python_MachineLearning/blob/main/00_Intro.ipynb\" target=\"_parent\"><img src=\"https://colab.research.google.com/assets/colab-badge.svg\" alt=\"Open In Colab\"/></a>"
      ]
    },
    {
      "cell_type": "markdown",
      "source": [
        "# Regression vs Classification\n",
        "\n",
        "**회귀(Regression)**\n",
        "- 입력값: 연속값(실수값), 이산값(범주형, 명목형)등 모든 데이터\n",
        "- 출력값: <span style = 'color:red'>연속값(실수형)</span>\n",
        "- 모델형태: 일반적인 함수 형태(y = w_1x _w_2, y = ax+b)\n",
        "\n",
        "**분류(Classification)**\n",
        "- 입력값: 연속값(실수형), 이산값(범주형)등 모두 사용 가능\n",
        "- 출력값: 이산값(범주형)\n",
        "-모델 형태: 이진분류라면 시그모드(sigmode)함수, 다중분류라면 소프트맥스(softmax)필요\n"
      ],
      "metadata": {
        "id": "dDjbdvym8U5c"
      }
    },
    {
      "cell_type": "markdown",
      "source": [
        "**데이터의 구성**\n",
        "- 데이터는 피처 와 라벨 로 구분된다\n",
        "- 이는 독립변수 와 종속변수 로도 불린다.\n",
        "- 라벨은 y로 표기하며, 라벨의 유무에 따라 지도학습, 비지도학습으로 구분된다"
      ],
      "metadata": {
        "id": "A67Rp5ir8cyV"
      }
    },
    {
      "cell_type": "markdown",
      "source": [
        "**Feature(=attribute, 피처, 속성, 특성)**\n",
        "- 데이터 x의 특징, 혹은 항목을 의미"
      ],
      "metadata": {
        "id": "3Nio97Pi9ez7"
      }
    },
    {
      "cell_type": "markdown",
      "source": [
        "**Parameter(파라미터, 가중치)**\n",
        "- 주어진 데이터(입력값)말고, 모델이 가지고 있는 학습 가능(learnable)한 파라미터\n",
        "\n",
        "**Hyperparameter(하이퍼파라미터)**\n",
        "- 모델 학습에 있어, 인간이 정해야 하는 변수들\n",
        "- 학습률, 배치 크기 등등\n",
        "\n",
        "**Input(입력값) vs. Output(출력값)**\n",
        "- Input: 모델(함수)에 입력되는 값을 데이터의 피처 부분(x로 표기)\n",
        "- Output: 모델로부터 출력된 예측값(y로 표기)"
      ],
      "metadata": {
        "id": "I8D2jnUf97di"
      }
    },
    {
      "cell_type": "code",
      "source": [],
      "metadata": {
        "id": "YXcjwU3_-7jO"
      },
      "execution_count": null,
      "outputs": []
    }
  ]
}