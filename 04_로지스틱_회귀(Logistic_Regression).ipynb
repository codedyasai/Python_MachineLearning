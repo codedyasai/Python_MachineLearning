{
  "cells": [
    {
      "cell_type": "markdown",
      "metadata": {
        "id": "view-in-github",
        "colab_type": "text"
      },
      "source": [
        "<a href=\"https://colab.research.google.com/github/codedyasai/Python_MachineLearning/blob/main/04_%EB%A1%9C%EC%A7%80%EC%8A%A4%ED%8B%B1_%ED%9A%8C%EA%B7%80(Logistic_Regression).ipynb\" target=\"_parent\"><img src=\"https://colab.research.google.com/assets/colab-badge.svg\" alt=\"Open In Colab\"/></a>"
      ]
    },
    {
      "cell_type": "markdown",
      "id": "98cd83ca",
      "metadata": {
        "id": "98cd83ca"
      },
      "source": [
        "# Module Loading"
      ]
    },
    {
      "cell_type": "code",
      "execution_count": null,
      "id": "d99f38b2",
      "metadata": {
        "ExecuteTime": {
          "end_time": "2023-10-25T00:19:36.018105Z",
          "start_time": "2023-10-25T00:19:33.365469Z"
        },
        "colab": {
          "base_uri": "https://localhost:8080/"
        },
        "id": "d99f38b2",
        "outputId": "9fb5ac18-2480-48bf-d006-99d477f4996f"
      },
      "outputs": [
        {
          "output_type": "stream",
          "name": "stdout",
          "text": [
            "Collecting mglearn\n",
            "  Using cached mglearn-0.2.0-py2.py3-none-any.whl (581 kB)\n",
            "Requirement already satisfied: numpy in /usr/local/lib/python3.10/dist-packages (from mglearn) (1.23.5)\n",
            "Requirement already satisfied: matplotlib in /usr/local/lib/python3.10/dist-packages (from mglearn) (3.7.1)\n",
            "Requirement already satisfied: scikit-learn in /usr/local/lib/python3.10/dist-packages (from mglearn) (1.2.2)\n",
            "Requirement already satisfied: pandas in /usr/local/lib/python3.10/dist-packages (from mglearn) (1.5.3)\n",
            "Requirement already satisfied: pillow in /usr/local/lib/python3.10/dist-packages (from mglearn) (9.4.0)\n",
            "Requirement already satisfied: cycler in /usr/local/lib/python3.10/dist-packages (from mglearn) (0.12.1)\n",
            "Requirement already satisfied: imageio in /usr/local/lib/python3.10/dist-packages (from mglearn) (2.31.5)\n",
            "Requirement already satisfied: joblib in /usr/local/lib/python3.10/dist-packages (from mglearn) (1.3.2)\n",
            "Requirement already satisfied: contourpy>=1.0.1 in /usr/local/lib/python3.10/dist-packages (from matplotlib->mglearn) (1.1.1)\n",
            "Requirement already satisfied: fonttools>=4.22.0 in /usr/local/lib/python3.10/dist-packages (from matplotlib->mglearn) (4.43.1)\n",
            "Requirement already satisfied: kiwisolver>=1.0.1 in /usr/local/lib/python3.10/dist-packages (from matplotlib->mglearn) (1.4.5)\n",
            "Requirement already satisfied: packaging>=20.0 in /usr/local/lib/python3.10/dist-packages (from matplotlib->mglearn) (23.2)\n",
            "Requirement already satisfied: pyparsing>=2.3.1 in /usr/local/lib/python3.10/dist-packages (from matplotlib->mglearn) (3.1.1)\n",
            "Requirement already satisfied: python-dateutil>=2.7 in /usr/local/lib/python3.10/dist-packages (from matplotlib->mglearn) (2.8.2)\n",
            "Requirement already satisfied: pytz>=2020.1 in /usr/local/lib/python3.10/dist-packages (from pandas->mglearn) (2023.3.post1)\n",
            "Requirement already satisfied: scipy>=1.3.2 in /usr/local/lib/python3.10/dist-packages (from scikit-learn->mglearn) (1.11.3)\n",
            "Requirement already satisfied: threadpoolctl>=2.0.0 in /usr/local/lib/python3.10/dist-packages (from scikit-learn->mglearn) (3.2.0)\n",
            "Requirement already satisfied: six>=1.5 in /usr/local/lib/python3.10/dist-packages (from python-dateutil>=2.7->matplotlib->mglearn) (1.16.0)\n",
            "Installing collected packages: mglearn\n",
            "Successfully installed mglearn-0.2.0\n"
          ]
        }
      ],
      "source": [
        "from IPython.display import display\n",
        "import numpy as np\n",
        "import pandas as pd\n",
        "import matplotlib.pyplot as plt\n",
        "!pip install mglearn\n",
        "import mglearn\n",
        "\n",
        "# 음수표현 라이브러리\n",
        "plt.rcParams['axes.unicode_minus'] = False\n",
        "\n",
        "# 경고무시\n",
        "import warnings\n",
        "warnings.filterwarnings(\"ignore\")\n",
        "\n",
        "# 매직명령어 : 시각화 결과가 노트북에 포함되도록\n",
        "%matplotlib inline"
      ]
    },
    {
      "cell_type": "markdown",
      "id": "8224399c",
      "metadata": {
        "id": "8224399c"
      },
      "source": [
        "# 데이터 셋 로딩\n",
        "\n",
        "- data : fish.csv\n",
        "- 생선을 분류하는 분류 알고리즘\n",
        "- knn 최근접 이웃 분류 알고리즘과 마찬가지고 확률을 이용하여 클래스를 분류해낸다."
      ]
    },
    {
      "cell_type": "code",
      "execution_count": null,
      "id": "66b8fece",
      "metadata": {
        "ExecuteTime": {
          "end_time": "2023-10-25T00:28:11.748780Z",
          "start_time": "2023-10-25T00:28:11.726694Z"
        },
        "colab": {
          "base_uri": "https://localhost:8080/",
          "height": 424
        },
        "id": "66b8fece",
        "outputId": "11d9dcac-d11f-41bd-aaa4-65ec5b098a66"
      },
      "outputs": [
        {
          "output_type": "execute_result",
          "data": {
            "text/plain": [
              "    Species  Weight  Length  Diagonal   Height   Width\n",
              "0     Bream   242.0    25.4      30.0  11.5200  4.0200\n",
              "1     Bream   290.0    26.3      31.2  12.4800  4.3056\n",
              "2     Bream   340.0    26.5      31.1  12.3778  4.6961\n",
              "3     Bream   363.0    29.0      33.5  12.7300  4.4555\n",
              "4     Bream   430.0    29.0      34.0  12.4440  5.1340\n",
              "..      ...     ...     ...       ...      ...     ...\n",
              "154   Smelt    12.2    12.2      13.4   2.0904  1.3936\n",
              "155   Smelt    13.4    12.4      13.5   2.4300  1.2690\n",
              "156   Smelt    12.2    13.0      13.8   2.2770  1.2558\n",
              "157   Smelt    19.7    14.3      15.2   2.8728  2.0672\n",
              "158   Smelt    19.9    15.0      16.2   2.9322  1.8792\n",
              "\n",
              "[159 rows x 6 columns]"
            ],
            "text/html": [
              "\n",
              "  <div id=\"df-ee60dbab-24ca-4423-b4e4-665a7dd61bd8\" class=\"colab-df-container\">\n",
              "    <div>\n",
              "<style scoped>\n",
              "    .dataframe tbody tr th:only-of-type {\n",
              "        vertical-align: middle;\n",
              "    }\n",
              "\n",
              "    .dataframe tbody tr th {\n",
              "        vertical-align: top;\n",
              "    }\n",
              "\n",
              "    .dataframe thead th {\n",
              "        text-align: right;\n",
              "    }\n",
              "</style>\n",
              "<table border=\"1\" class=\"dataframe\">\n",
              "  <thead>\n",
              "    <tr style=\"text-align: right;\">\n",
              "      <th></th>\n",
              "      <th>Species</th>\n",
              "      <th>Weight</th>\n",
              "      <th>Length</th>\n",
              "      <th>Diagonal</th>\n",
              "      <th>Height</th>\n",
              "      <th>Width</th>\n",
              "    </tr>\n",
              "  </thead>\n",
              "  <tbody>\n",
              "    <tr>\n",
              "      <th>0</th>\n",
              "      <td>Bream</td>\n",
              "      <td>242.0</td>\n",
              "      <td>25.4</td>\n",
              "      <td>30.0</td>\n",
              "      <td>11.5200</td>\n",
              "      <td>4.0200</td>\n",
              "    </tr>\n",
              "    <tr>\n",
              "      <th>1</th>\n",
              "      <td>Bream</td>\n",
              "      <td>290.0</td>\n",
              "      <td>26.3</td>\n",
              "      <td>31.2</td>\n",
              "      <td>12.4800</td>\n",
              "      <td>4.3056</td>\n",
              "    </tr>\n",
              "    <tr>\n",
              "      <th>2</th>\n",
              "      <td>Bream</td>\n",
              "      <td>340.0</td>\n",
              "      <td>26.5</td>\n",
              "      <td>31.1</td>\n",
              "      <td>12.3778</td>\n",
              "      <td>4.6961</td>\n",
              "    </tr>\n",
              "    <tr>\n",
              "      <th>3</th>\n",
              "      <td>Bream</td>\n",
              "      <td>363.0</td>\n",
              "      <td>29.0</td>\n",
              "      <td>33.5</td>\n",
              "      <td>12.7300</td>\n",
              "      <td>4.4555</td>\n",
              "    </tr>\n",
              "    <tr>\n",
              "      <th>4</th>\n",
              "      <td>Bream</td>\n",
              "      <td>430.0</td>\n",
              "      <td>29.0</td>\n",
              "      <td>34.0</td>\n",
              "      <td>12.4440</td>\n",
              "      <td>5.1340</td>\n",
              "    </tr>\n",
              "    <tr>\n",
              "      <th>...</th>\n",
              "      <td>...</td>\n",
              "      <td>...</td>\n",
              "      <td>...</td>\n",
              "      <td>...</td>\n",
              "      <td>...</td>\n",
              "      <td>...</td>\n",
              "    </tr>\n",
              "    <tr>\n",
              "      <th>154</th>\n",
              "      <td>Smelt</td>\n",
              "      <td>12.2</td>\n",
              "      <td>12.2</td>\n",
              "      <td>13.4</td>\n",
              "      <td>2.0904</td>\n",
              "      <td>1.3936</td>\n",
              "    </tr>\n",
              "    <tr>\n",
              "      <th>155</th>\n",
              "      <td>Smelt</td>\n",
              "      <td>13.4</td>\n",
              "      <td>12.4</td>\n",
              "      <td>13.5</td>\n",
              "      <td>2.4300</td>\n",
              "      <td>1.2690</td>\n",
              "    </tr>\n",
              "    <tr>\n",
              "      <th>156</th>\n",
              "      <td>Smelt</td>\n",
              "      <td>12.2</td>\n",
              "      <td>13.0</td>\n",
              "      <td>13.8</td>\n",
              "      <td>2.2770</td>\n",
              "      <td>1.2558</td>\n",
              "    </tr>\n",
              "    <tr>\n",
              "      <th>157</th>\n",
              "      <td>Smelt</td>\n",
              "      <td>19.7</td>\n",
              "      <td>14.3</td>\n",
              "      <td>15.2</td>\n",
              "      <td>2.8728</td>\n",
              "      <td>2.0672</td>\n",
              "    </tr>\n",
              "    <tr>\n",
              "      <th>158</th>\n",
              "      <td>Smelt</td>\n",
              "      <td>19.9</td>\n",
              "      <td>15.0</td>\n",
              "      <td>16.2</td>\n",
              "      <td>2.9322</td>\n",
              "      <td>1.8792</td>\n",
              "    </tr>\n",
              "  </tbody>\n",
              "</table>\n",
              "<p>159 rows × 6 columns</p>\n",
              "</div>\n",
              "    <div class=\"colab-df-buttons\">\n",
              "\n",
              "  <div class=\"colab-df-container\">\n",
              "    <button class=\"colab-df-convert\" onclick=\"convertToInteractive('df-ee60dbab-24ca-4423-b4e4-665a7dd61bd8')\"\n",
              "            title=\"Convert this dataframe to an interactive table.\"\n",
              "            style=\"display:none;\">\n",
              "\n",
              "  <svg xmlns=\"http://www.w3.org/2000/svg\" height=\"24px\" viewBox=\"0 -960 960 960\">\n",
              "    <path d=\"M120-120v-720h720v720H120Zm60-500h600v-160H180v160Zm220 220h160v-160H400v160Zm0 220h160v-160H400v160ZM180-400h160v-160H180v160Zm440 0h160v-160H620v160ZM180-180h160v-160H180v160Zm440 0h160v-160H620v160Z\"/>\n",
              "  </svg>\n",
              "    </button>\n",
              "\n",
              "  <style>\n",
              "    .colab-df-container {\n",
              "      display:flex;\n",
              "      gap: 12px;\n",
              "    }\n",
              "\n",
              "    .colab-df-convert {\n",
              "      background-color: #E8F0FE;\n",
              "      border: none;\n",
              "      border-radius: 50%;\n",
              "      cursor: pointer;\n",
              "      display: none;\n",
              "      fill: #1967D2;\n",
              "      height: 32px;\n",
              "      padding: 0 0 0 0;\n",
              "      width: 32px;\n",
              "    }\n",
              "\n",
              "    .colab-df-convert:hover {\n",
              "      background-color: #E2EBFA;\n",
              "      box-shadow: 0px 1px 2px rgba(60, 64, 67, 0.3), 0px 1px 3px 1px rgba(60, 64, 67, 0.15);\n",
              "      fill: #174EA6;\n",
              "    }\n",
              "\n",
              "    .colab-df-buttons div {\n",
              "      margin-bottom: 4px;\n",
              "    }\n",
              "\n",
              "    [theme=dark] .colab-df-convert {\n",
              "      background-color: #3B4455;\n",
              "      fill: #D2E3FC;\n",
              "    }\n",
              "\n",
              "    [theme=dark] .colab-df-convert:hover {\n",
              "      background-color: #434B5C;\n",
              "      box-shadow: 0px 1px 3px 1px rgba(0, 0, 0, 0.15);\n",
              "      filter: drop-shadow(0px 1px 2px rgba(0, 0, 0, 0.3));\n",
              "      fill: #FFFFFF;\n",
              "    }\n",
              "  </style>\n",
              "\n",
              "    <script>\n",
              "      const buttonEl =\n",
              "        document.querySelector('#df-ee60dbab-24ca-4423-b4e4-665a7dd61bd8 button.colab-df-convert');\n",
              "      buttonEl.style.display =\n",
              "        google.colab.kernel.accessAllowed ? 'block' : 'none';\n",
              "\n",
              "      async function convertToInteractive(key) {\n",
              "        const element = document.querySelector('#df-ee60dbab-24ca-4423-b4e4-665a7dd61bd8');\n",
              "        const dataTable =\n",
              "          await google.colab.kernel.invokeFunction('convertToInteractive',\n",
              "                                                    [key], {});\n",
              "        if (!dataTable) return;\n",
              "\n",
              "        const docLinkHtml = 'Like what you see? Visit the ' +\n",
              "          '<a target=\"_blank\" href=https://colab.research.google.com/notebooks/data_table.ipynb>data table notebook</a>'\n",
              "          + ' to learn more about interactive tables.';\n",
              "        element.innerHTML = '';\n",
              "        dataTable['output_type'] = 'display_data';\n",
              "        await google.colab.output.renderOutput(dataTable, element);\n",
              "        const docLink = document.createElement('div');\n",
              "        docLink.innerHTML = docLinkHtml;\n",
              "        element.appendChild(docLink);\n",
              "      }\n",
              "    </script>\n",
              "  </div>\n",
              "\n",
              "\n",
              "<div id=\"df-b2d93191-0928-4d9e-a787-cbc10ce58f63\">\n",
              "  <button class=\"colab-df-quickchart\" onclick=\"quickchart('df-b2d93191-0928-4d9e-a787-cbc10ce58f63')\"\n",
              "            title=\"Suggest charts.\"\n",
              "            style=\"display:none;\">\n",
              "\n",
              "<svg xmlns=\"http://www.w3.org/2000/svg\" height=\"24px\"viewBox=\"0 0 24 24\"\n",
              "     width=\"24px\">\n",
              "    <g>\n",
              "        <path d=\"M19 3H5c-1.1 0-2 .9-2 2v14c0 1.1.9 2 2 2h14c1.1 0 2-.9 2-2V5c0-1.1-.9-2-2-2zM9 17H7v-7h2v7zm4 0h-2V7h2v10zm4 0h-2v-4h2v4z\"/>\n",
              "    </g>\n",
              "</svg>\n",
              "  </button>\n",
              "\n",
              "<style>\n",
              "  .colab-df-quickchart {\n",
              "      --bg-color: #E8F0FE;\n",
              "      --fill-color: #1967D2;\n",
              "      --hover-bg-color: #E2EBFA;\n",
              "      --hover-fill-color: #174EA6;\n",
              "      --disabled-fill-color: #AAA;\n",
              "      --disabled-bg-color: #DDD;\n",
              "  }\n",
              "\n",
              "  [theme=dark] .colab-df-quickchart {\n",
              "      --bg-color: #3B4455;\n",
              "      --fill-color: #D2E3FC;\n",
              "      --hover-bg-color: #434B5C;\n",
              "      --hover-fill-color: #FFFFFF;\n",
              "      --disabled-bg-color: #3B4455;\n",
              "      --disabled-fill-color: #666;\n",
              "  }\n",
              "\n",
              "  .colab-df-quickchart {\n",
              "    background-color: var(--bg-color);\n",
              "    border: none;\n",
              "    border-radius: 50%;\n",
              "    cursor: pointer;\n",
              "    display: none;\n",
              "    fill: var(--fill-color);\n",
              "    height: 32px;\n",
              "    padding: 0;\n",
              "    width: 32px;\n",
              "  }\n",
              "\n",
              "  .colab-df-quickchart:hover {\n",
              "    background-color: var(--hover-bg-color);\n",
              "    box-shadow: 0 1px 2px rgba(60, 64, 67, 0.3), 0 1px 3px 1px rgba(60, 64, 67, 0.15);\n",
              "    fill: var(--button-hover-fill-color);\n",
              "  }\n",
              "\n",
              "  .colab-df-quickchart-complete:disabled,\n",
              "  .colab-df-quickchart-complete:disabled:hover {\n",
              "    background-color: var(--disabled-bg-color);\n",
              "    fill: var(--disabled-fill-color);\n",
              "    box-shadow: none;\n",
              "  }\n",
              "\n",
              "  .colab-df-spinner {\n",
              "    border: 2px solid var(--fill-color);\n",
              "    border-color: transparent;\n",
              "    border-bottom-color: var(--fill-color);\n",
              "    animation:\n",
              "      spin 1s steps(1) infinite;\n",
              "  }\n",
              "\n",
              "  @keyframes spin {\n",
              "    0% {\n",
              "      border-color: transparent;\n",
              "      border-bottom-color: var(--fill-color);\n",
              "      border-left-color: var(--fill-color);\n",
              "    }\n",
              "    20% {\n",
              "      border-color: transparent;\n",
              "      border-left-color: var(--fill-color);\n",
              "      border-top-color: var(--fill-color);\n",
              "    }\n",
              "    30% {\n",
              "      border-color: transparent;\n",
              "      border-left-color: var(--fill-color);\n",
              "      border-top-color: var(--fill-color);\n",
              "      border-right-color: var(--fill-color);\n",
              "    }\n",
              "    40% {\n",
              "      border-color: transparent;\n",
              "      border-right-color: var(--fill-color);\n",
              "      border-top-color: var(--fill-color);\n",
              "    }\n",
              "    60% {\n",
              "      border-color: transparent;\n",
              "      border-right-color: var(--fill-color);\n",
              "    }\n",
              "    80% {\n",
              "      border-color: transparent;\n",
              "      border-right-color: var(--fill-color);\n",
              "      border-bottom-color: var(--fill-color);\n",
              "    }\n",
              "    90% {\n",
              "      border-color: transparent;\n",
              "      border-bottom-color: var(--fill-color);\n",
              "    }\n",
              "  }\n",
              "</style>\n",
              "\n",
              "  <script>\n",
              "    async function quickchart(key) {\n",
              "      const quickchartButtonEl =\n",
              "        document.querySelector('#' + key + ' button');\n",
              "      quickchartButtonEl.disabled = true;  // To prevent multiple clicks.\n",
              "      quickchartButtonEl.classList.add('colab-df-spinner');\n",
              "      try {\n",
              "        const charts = await google.colab.kernel.invokeFunction(\n",
              "            'suggestCharts', [key], {});\n",
              "      } catch (error) {\n",
              "        console.error('Error during call to suggestCharts:', error);\n",
              "      }\n",
              "      quickchartButtonEl.classList.remove('colab-df-spinner');\n",
              "      quickchartButtonEl.classList.add('colab-df-quickchart-complete');\n",
              "    }\n",
              "    (() => {\n",
              "      let quickchartButtonEl =\n",
              "        document.querySelector('#df-b2d93191-0928-4d9e-a787-cbc10ce58f63 button');\n",
              "      quickchartButtonEl.style.display =\n",
              "        google.colab.kernel.accessAllowed ? 'block' : 'none';\n",
              "    })();\n",
              "  </script>\n",
              "</div>\n",
              "    </div>\n",
              "  </div>\n"
            ]
          },
          "metadata": {},
          "execution_count": 2
        }
      ],
      "source": [
        "fish = pd.read_csv('fish.csv')\n",
        "fish"
      ]
    },
    {
      "cell_type": "code",
      "execution_count": null,
      "id": "505e13c2",
      "metadata": {
        "ExecuteTime": {
          "end_time": "2023-10-25T00:29:20.885127Z",
          "start_time": "2023-10-25T00:29:20.875160Z"
        },
        "colab": {
          "base_uri": "https://localhost:8080/"
        },
        "id": "505e13c2",
        "outputId": "15edc7a3-eaba-464b-9a97-12b2e572a1ef"
      },
      "outputs": [
        {
          "output_type": "execute_result",
          "data": {
            "text/plain": [
              "array(['Bream', 'Roach', 'Whitefish', 'Parkki', 'Perch', 'Pike', 'Smelt'],\n",
              "      dtype=object)"
            ]
          },
          "metadata": {},
          "execution_count": 3
        }
      ],
      "source": [
        "# 품종의 고유값 추출\n",
        "fish.Species.unique()"
      ]
    },
    {
      "cell_type": "code",
      "execution_count": null,
      "id": "5f360a3e",
      "metadata": {
        "ExecuteTime": {
          "end_time": "2023-10-25T00:29:57.255429Z",
          "start_time": "2023-10-25T00:29:57.230944Z"
        },
        "colab": {
          "base_uri": "https://localhost:8080/"
        },
        "id": "5f360a3e",
        "outputId": "acc696f9-a510-46b3-e2ed-b4f68e7bf638"
      },
      "outputs": [
        {
          "output_type": "stream",
          "name": "stdout",
          "text": [
            "<class 'pandas.core.frame.DataFrame'>\n",
            "RangeIndex: 159 entries, 0 to 158\n",
            "Data columns (total 6 columns):\n",
            " #   Column    Non-Null Count  Dtype  \n",
            "---  ------    --------------  -----  \n",
            " 0   Species   159 non-null    object \n",
            " 1   Weight    159 non-null    float64\n",
            " 2   Length    159 non-null    float64\n",
            " 3   Diagonal  159 non-null    float64\n",
            " 4   Height    159 non-null    float64\n",
            " 5   Width     159 non-null    float64\n",
            "dtypes: float64(5), object(1)\n",
            "memory usage: 7.6+ KB\n"
          ]
        }
      ],
      "source": [
        "fish.info()"
      ]
    },
    {
      "cell_type": "markdown",
      "id": "f4302c3a",
      "metadata": {
        "id": "f4302c3a"
      },
      "source": [
        "## 훈련 데이터와 테스트 데이터로 분리"
      ]
    },
    {
      "cell_type": "code",
      "execution_count": null,
      "id": "23490e61",
      "metadata": {
        "ExecuteTime": {
          "end_time": "2023-10-25T00:32:36.779034Z",
          "start_time": "2023-10-25T00:32:36.774108Z"
        },
        "colab": {
          "base_uri": "https://localhost:8080/"
        },
        "id": "23490e61",
        "outputId": "ec2ea941-9697-4759-9a19-4bcabe974d48"
      },
      "outputs": [
        {
          "output_type": "execute_result",
          "data": {
            "text/plain": [
              "Index(['Species', 'Weight', 'Length', 'Diagonal', 'Height', 'Width'], dtype='object')"
            ]
          },
          "metadata": {},
          "execution_count": 5
        }
      ],
      "source": [
        "fish.columns"
      ]
    },
    {
      "cell_type": "code",
      "execution_count": null,
      "id": "3063d04d",
      "metadata": {
        "ExecuteTime": {
          "end_time": "2023-10-25T00:33:16.735973Z",
          "start_time": "2023-10-25T00:33:16.723364Z"
        },
        "colab": {
          "base_uri": "https://localhost:8080/"
        },
        "id": "3063d04d",
        "outputId": "9884d881-cd93-418d-8084-dca251d7f95f"
      },
      "outputs": [
        {
          "output_type": "execute_result",
          "data": {
            "text/plain": [
              "array([[242.    ,  25.4   ,  30.    ,  11.52  ,   4.02  ],\n",
              "       [290.    ,  26.3   ,  31.2   ,  12.48  ,   4.3056],\n",
              "       [340.    ,  26.5   ,  31.1   ,  12.3778,   4.6961],\n",
              "       [363.    ,  29.    ,  33.5   ,  12.73  ,   4.4555],\n",
              "       [430.    ,  29.    ,  34.    ,  12.444 ,   5.134 ]])"
            ]
          },
          "metadata": {},
          "execution_count": 6
        }
      ],
      "source": [
        "# features = data\n",
        "fish_input = fish[['Weight', 'Length', 'Diagonal', 'Height', 'Width']].to_numpy()\n",
        "fish_input[:5]"
      ]
    },
    {
      "cell_type": "code",
      "execution_count": null,
      "id": "a4f08f5e",
      "metadata": {
        "ExecuteTime": {
          "end_time": "2023-10-25T00:34:06.208692Z",
          "start_time": "2023-10-25T00:34:06.203090Z"
        },
        "colab": {
          "base_uri": "https://localhost:8080/"
        },
        "id": "a4f08f5e",
        "outputId": "70ae3728-33c0-49c8-d455-4ac28a2b859e"
      },
      "outputs": [
        {
          "output_type": "execute_result",
          "data": {
            "text/plain": [
              "array(['Bream', 'Bream', 'Bream', 'Bream', 'Bream'], dtype=object)"
            ]
          },
          "metadata": {},
          "execution_count": 7
        }
      ],
      "source": [
        "# target\n",
        "fish_target = fish['Species'].to_numpy()\n",
        "fish_target[:5]"
      ]
    },
    {
      "cell_type": "code",
      "execution_count": null,
      "id": "024a35e0",
      "metadata": {
        "ExecuteTime": {
          "end_time": "2023-10-25T00:36:25.990310Z",
          "start_time": "2023-10-25T00:36:25.976261Z"
        },
        "id": "024a35e0"
      },
      "outputs": [],
      "source": [
        "from sklearn.model_selection import train_test_split\n",
        "\n",
        "train_input, test_input, train_target, test_target = train_test_split(\n",
        "    fish_input, fish_target, random_state = 42)"
      ]
    },
    {
      "cell_type": "markdown",
      "id": "780a8625",
      "metadata": {
        "id": "780a8625"
      },
      "source": [
        "## 피처 스케일링"
      ]
    },
    {
      "cell_type": "code",
      "execution_count": null,
      "id": "794c0853",
      "metadata": {
        "ExecuteTime": {
          "end_time": "2023-10-25T00:38:46.020468Z",
          "start_time": "2023-10-25T00:38:46.012528Z"
        },
        "id": "794c0853"
      },
      "outputs": [],
      "source": [
        "from sklearn.preprocessing import StandardScaler\n",
        "\n",
        "ss = StandardScaler()\n",
        "ss.fit(train_input)\n",
        "train_scaled = ss.transform(train_input)\n",
        "test_scaled = ss.transform(test_input)"
      ]
    },
    {
      "cell_type": "markdown",
      "id": "d3e642cf",
      "metadata": {
        "id": "d3e642cf"
      },
      "source": [
        "# k-최근접 이웃 분류기를 이용한 확률적 예측"
      ]
    },
    {
      "cell_type": "code",
      "execution_count": null,
      "id": "b8e64048",
      "metadata": {
        "ExecuteTime": {
          "end_time": "2023-10-25T00:41:46.317557Z",
          "start_time": "2023-10-25T00:41:46.293687Z"
        },
        "colab": {
          "base_uri": "https://localhost:8080/"
        },
        "id": "b8e64048",
        "outputId": "9592f200-87fb-40ac-e9ca-7dc991e49cea"
      },
      "outputs": [
        {
          "output_type": "stream",
          "name": "stdout",
          "text": [
            "0.8907563025210085\n",
            "0.85\n"
          ]
        }
      ],
      "source": [
        "from sklearn.neighbors import KNeighborsClassifier\n",
        "\n",
        "knn = KNeighborsClassifier(n_neighbors=3)\n",
        "knn.fit(train_scaled, train_target)\n",
        "\n",
        "print(knn.score(train_scaled, train_target))\n",
        "print(knn.score(test_scaled, test_target))"
      ]
    },
    {
      "cell_type": "markdown",
      "id": "4efaf5a2",
      "metadata": {
        "id": "4efaf5a2"
      },
      "source": [
        "- 분류할 클래스가 2개 이상이면 다중분류라고 부른다.\n",
        "- 다중분류에서도 타깃값을 숫자로(정형화) 바꾸어 입력할 수 있지만 사이킷런은 문자열을 그대로 사용해도 가능하다.\n",
        "- 주의할점은 타깃값에 해당하는 문자열을 넘겨주면 알파벳순으로 바꿔서 처리한다는 것만 주의하면된다."
      ]
    },
    {
      "cell_type": "code",
      "execution_count": null,
      "id": "3e97c81c",
      "metadata": {
        "ExecuteTime": {
          "end_time": "2023-10-25T00:46:02.510501Z",
          "start_time": "2023-10-25T00:46:02.495499Z"
        },
        "colab": {
          "base_uri": "https://localhost:8080/"
        },
        "id": "3e97c81c",
        "outputId": "ea0b4e84-c0b6-4fb6-ba8f-60f221c3d885"
      },
      "outputs": [
        {
          "output_type": "execute_result",
          "data": {
            "text/plain": [
              "array(['Bream', 'Parkki', 'Perch', 'Pike', 'Roach', 'Smelt', 'Whitefish'],\n",
              "      dtype=object)"
            ]
          },
          "metadata": {},
          "execution_count": 11
        }
      ],
      "source": [
        "# 분류할 클래스객체를 추출\n",
        "knn.classes_"
      ]
    },
    {
      "cell_type": "code",
      "execution_count": null,
      "id": "ddc54969",
      "metadata": {
        "ExecuteTime": {
          "end_time": "2023-10-25T00:47:34.601499Z",
          "start_time": "2023-10-25T00:47:34.587432Z"
        },
        "colab": {
          "base_uri": "https://localhost:8080/"
        },
        "id": "ddc54969",
        "outputId": "73071e31-c820-4a0a-86c7-e4922425d140"
      },
      "outputs": [
        {
          "output_type": "execute_result",
          "data": {
            "text/plain": [
              "array(['Perch', 'Smelt', 'Pike', 'Perch', 'Perch'], dtype=object)"
            ]
          },
          "metadata": {},
          "execution_count": 12
        }
      ],
      "source": [
        "# 예측\n",
        "knn.predict(test_scaled[:5])"
      ]
    },
    {
      "cell_type": "code",
      "execution_count": null,
      "id": "ebd3a99a",
      "metadata": {
        "ExecuteTime": {
          "end_time": "2023-10-25T00:48:48.967059Z",
          "start_time": "2023-10-25T00:48:48.959240Z"
        },
        "colab": {
          "base_uri": "https://localhost:8080/"
        },
        "id": "ebd3a99a",
        "outputId": "91a9b793-346d-46f6-dbc1-88bbb6cf1bcf"
      },
      "outputs": [
        {
          "output_type": "execute_result",
          "data": {
            "text/plain": [
              "array([[-0.88741352, -0.91804565, -1.03098914, -0.90464451, -0.80762518],\n",
              "       [-1.06924656, -1.50842035, -1.54345461, -1.58849582, -1.93803151],\n",
              "       [-0.54401367,  0.35641402,  0.30663259, -0.8135697 , -0.65388895],\n",
              "       [-0.34698097, -0.23396068, -0.22320459, -0.11905019, -0.12233464],\n",
              "       [-0.68475132, -0.51509149, -0.58801052, -0.8998784 , -0.50124996]])"
            ]
          },
          "metadata": {},
          "execution_count": 13
        }
      ],
      "source": [
        "test_scaled[:5]"
      ]
    },
    {
      "cell_type": "code",
      "execution_count": null,
      "id": "f663a6d3",
      "metadata": {
        "ExecuteTime": {
          "end_time": "2023-10-25T00:50:31.003682Z",
          "start_time": "2023-10-25T00:50:30.990638Z"
        },
        "colab": {
          "base_uri": "https://localhost:8080/"
        },
        "id": "f663a6d3",
        "outputId": "13ff9e9e-36ea-4eb5-ca41-471a5a249e61"
      },
      "outputs": [
        {
          "output_type": "execute_result",
          "data": {
            "text/plain": [
              "array([[0.    , 0.    , 1.    , 0.    , 0.    , 0.    , 0.    ],\n",
              "       [0.    , 0.    , 0.    , 0.    , 0.    , 1.    , 0.    ],\n",
              "       [0.    , 0.    , 0.    , 1.    , 0.    , 0.    , 0.    ],\n",
              "       [0.    , 0.    , 0.6667, 0.    , 0.3333, 0.    , 0.    ],\n",
              "       [0.    , 0.    , 0.6667, 0.    , 0.3333, 0.    , 0.    ]])"
            ]
          },
          "metadata": {},
          "execution_count": 14
        }
      ],
      "source": [
        "# predict_proba() : 클래스별 확률값을 반환해주는 메서드\n",
        "proba = knn.predict_proba(test_scaled[:5])\n",
        "\n",
        "# decimals : 소숫점 자리수 지정\n",
        "np.round(proba, decimals = 4)"
      ]
    },
    {
      "cell_type": "markdown",
      "id": "8d5ca16e",
      "metadata": {
        "id": "8d5ca16e"
      },
      "source": [
        "- ['Bream', 'Parkki', 'Perch', 'Pike', 'Roach', 'Smelt', 'Whitefish']"
      ]
    },
    {
      "cell_type": "code",
      "execution_count": null,
      "id": "a4cac4d8",
      "metadata": {
        "ExecuteTime": {
          "end_time": "2023-10-25T00:54:04.522604Z",
          "start_time": "2023-10-25T00:54:04.511404Z"
        },
        "colab": {
          "base_uri": "https://localhost:8080/"
        },
        "id": "a4cac4d8",
        "outputId": "b0f5aab6-9653-486b-dba7-f64ed8f75398"
      },
      "outputs": [
        {
          "output_type": "execute_result",
          "data": {
            "text/plain": [
              "array([['Roach', 'Perch', 'Perch']], dtype=object)"
            ]
          },
          "metadata": {},
          "execution_count": 15
        }
      ],
      "source": [
        "distances, indexs = knn.kneighbors(test_scaled[3:4])\n",
        "train_target[indexs]"
      ]
    },
    {
      "cell_type": "markdown",
      "id": "3532bc90",
      "metadata": {
        "id": "3532bc90"
      },
      "source": [
        "# 로지스틱 회귀\n",
        "\n",
        "- 대표적인 분류 알고리즘\n",
        "- 인공신경망(딥러닝)에 기본이 되는 알고리즘\n",
        "- 선형회귀와 비슷하게 선형 방정식을 학습하는 알고리즘\n",
        "$z = a * (weight) + b * (length) + c * (Diagonal) + d * (Height) + e * (width) + f(절편)$\n",
        "- a, b, c, d, e는 계수 또는 가중치라는 표현\n",
        "- 시그모이드 함수(or 로지스틱 함수)"
      ]
    },
    {
      "cell_type": "markdown",
      "id": "8fbb317d",
      "metadata": {
        "id": "8fbb317d"
      },
      "source": [
        "## 로지스틱 회귀(이진 분류)"
      ]
    },
    {
      "cell_type": "code",
      "execution_count": null,
      "id": "36ca0dea",
      "metadata": {
        "ExecuteTime": {
          "end_time": "2023-10-25T01:10:49.492513Z",
          "start_time": "2023-10-25T01:10:49.481543Z"
        },
        "colab": {
          "base_uri": "https://localhost:8080/"
        },
        "id": "36ca0dea",
        "outputId": "72a90768-5a2d-4fb6-ae63-8573bdeffebe"
      },
      "outputs": [
        {
          "output_type": "execute_result",
          "data": {
            "text/plain": [
              "array(['A', 'C'], dtype='<U1')"
            ]
          },
          "metadata": {},
          "execution_count": 16
        }
      ],
      "source": [
        "arr = np.array(['A', 'B','C','D','E'])\n",
        "# boolean indexing\n",
        "boolean = [True, False, True, False, False]\n",
        "arr[boolean]"
      ]
    },
    {
      "cell_type": "code",
      "execution_count": null,
      "id": "3f30bfc0",
      "metadata": {
        "ExecuteTime": {
          "end_time": "2023-10-25T01:11:05.996640Z",
          "start_time": "2023-10-25T01:11:05.981418Z"
        },
        "colab": {
          "base_uri": "https://localhost:8080/",
          "height": 206
        },
        "id": "3f30bfc0",
        "outputId": "ba941275-0162-4d71-8376-191ef661f307"
      },
      "outputs": [
        {
          "output_type": "execute_result",
          "data": {
            "text/plain": [
              "  Species  Weight  Length  Diagonal   Height   Width\n",
              "0   Bream   242.0    25.4      30.0  11.5200  4.0200\n",
              "1   Bream   290.0    26.3      31.2  12.4800  4.3056\n",
              "2   Bream   340.0    26.5      31.1  12.3778  4.6961\n",
              "3   Bream   363.0    29.0      33.5  12.7300  4.4555\n",
              "4   Bream   430.0    29.0      34.0  12.4440  5.1340"
            ],
            "text/html": [
              "\n",
              "  <div id=\"df-31110f0e-dc4a-421e-a758-18f343cce064\" class=\"colab-df-container\">\n",
              "    <div>\n",
              "<style scoped>\n",
              "    .dataframe tbody tr th:only-of-type {\n",
              "        vertical-align: middle;\n",
              "    }\n",
              "\n",
              "    .dataframe tbody tr th {\n",
              "        vertical-align: top;\n",
              "    }\n",
              "\n",
              "    .dataframe thead th {\n",
              "        text-align: right;\n",
              "    }\n",
              "</style>\n",
              "<table border=\"1\" class=\"dataframe\">\n",
              "  <thead>\n",
              "    <tr style=\"text-align: right;\">\n",
              "      <th></th>\n",
              "      <th>Species</th>\n",
              "      <th>Weight</th>\n",
              "      <th>Length</th>\n",
              "      <th>Diagonal</th>\n",
              "      <th>Height</th>\n",
              "      <th>Width</th>\n",
              "    </tr>\n",
              "  </thead>\n",
              "  <tbody>\n",
              "    <tr>\n",
              "      <th>0</th>\n",
              "      <td>Bream</td>\n",
              "      <td>242.0</td>\n",
              "      <td>25.4</td>\n",
              "      <td>30.0</td>\n",
              "      <td>11.5200</td>\n",
              "      <td>4.0200</td>\n",
              "    </tr>\n",
              "    <tr>\n",
              "      <th>1</th>\n",
              "      <td>Bream</td>\n",
              "      <td>290.0</td>\n",
              "      <td>26.3</td>\n",
              "      <td>31.2</td>\n",
              "      <td>12.4800</td>\n",
              "      <td>4.3056</td>\n",
              "    </tr>\n",
              "    <tr>\n",
              "      <th>2</th>\n",
              "      <td>Bream</td>\n",
              "      <td>340.0</td>\n",
              "      <td>26.5</td>\n",
              "      <td>31.1</td>\n",
              "      <td>12.3778</td>\n",
              "      <td>4.6961</td>\n",
              "    </tr>\n",
              "    <tr>\n",
              "      <th>3</th>\n",
              "      <td>Bream</td>\n",
              "      <td>363.0</td>\n",
              "      <td>29.0</td>\n",
              "      <td>33.5</td>\n",
              "      <td>12.7300</td>\n",
              "      <td>4.4555</td>\n",
              "    </tr>\n",
              "    <tr>\n",
              "      <th>4</th>\n",
              "      <td>Bream</td>\n",
              "      <td>430.0</td>\n",
              "      <td>29.0</td>\n",
              "      <td>34.0</td>\n",
              "      <td>12.4440</td>\n",
              "      <td>5.1340</td>\n",
              "    </tr>\n",
              "  </tbody>\n",
              "</table>\n",
              "</div>\n",
              "    <div class=\"colab-df-buttons\">\n",
              "\n",
              "  <div class=\"colab-df-container\">\n",
              "    <button class=\"colab-df-convert\" onclick=\"convertToInteractive('df-31110f0e-dc4a-421e-a758-18f343cce064')\"\n",
              "            title=\"Convert this dataframe to an interactive table.\"\n",
              "            style=\"display:none;\">\n",
              "\n",
              "  <svg xmlns=\"http://www.w3.org/2000/svg\" height=\"24px\" viewBox=\"0 -960 960 960\">\n",
              "    <path d=\"M120-120v-720h720v720H120Zm60-500h600v-160H180v160Zm220 220h160v-160H400v160Zm0 220h160v-160H400v160ZM180-400h160v-160H180v160Zm440 0h160v-160H620v160ZM180-180h160v-160H180v160Zm440 0h160v-160H620v160Z\"/>\n",
              "  </svg>\n",
              "    </button>\n",
              "\n",
              "  <style>\n",
              "    .colab-df-container {\n",
              "      display:flex;\n",
              "      gap: 12px;\n",
              "    }\n",
              "\n",
              "    .colab-df-convert {\n",
              "      background-color: #E8F0FE;\n",
              "      border: none;\n",
              "      border-radius: 50%;\n",
              "      cursor: pointer;\n",
              "      display: none;\n",
              "      fill: #1967D2;\n",
              "      height: 32px;\n",
              "      padding: 0 0 0 0;\n",
              "      width: 32px;\n",
              "    }\n",
              "\n",
              "    .colab-df-convert:hover {\n",
              "      background-color: #E2EBFA;\n",
              "      box-shadow: 0px 1px 2px rgba(60, 64, 67, 0.3), 0px 1px 3px 1px rgba(60, 64, 67, 0.15);\n",
              "      fill: #174EA6;\n",
              "    }\n",
              "\n",
              "    .colab-df-buttons div {\n",
              "      margin-bottom: 4px;\n",
              "    }\n",
              "\n",
              "    [theme=dark] .colab-df-convert {\n",
              "      background-color: #3B4455;\n",
              "      fill: #D2E3FC;\n",
              "    }\n",
              "\n",
              "    [theme=dark] .colab-df-convert:hover {\n",
              "      background-color: #434B5C;\n",
              "      box-shadow: 0px 1px 3px 1px rgba(0, 0, 0, 0.15);\n",
              "      filter: drop-shadow(0px 1px 2px rgba(0, 0, 0, 0.3));\n",
              "      fill: #FFFFFF;\n",
              "    }\n",
              "  </style>\n",
              "\n",
              "    <script>\n",
              "      const buttonEl =\n",
              "        document.querySelector('#df-31110f0e-dc4a-421e-a758-18f343cce064 button.colab-df-convert');\n",
              "      buttonEl.style.display =\n",
              "        google.colab.kernel.accessAllowed ? 'block' : 'none';\n",
              "\n",
              "      async function convertToInteractive(key) {\n",
              "        const element = document.querySelector('#df-31110f0e-dc4a-421e-a758-18f343cce064');\n",
              "        const dataTable =\n",
              "          await google.colab.kernel.invokeFunction('convertToInteractive',\n",
              "                                                    [key], {});\n",
              "        if (!dataTable) return;\n",
              "\n",
              "        const docLinkHtml = 'Like what you see? Visit the ' +\n",
              "          '<a target=\"_blank\" href=https://colab.research.google.com/notebooks/data_table.ipynb>data table notebook</a>'\n",
              "          + ' to learn more about interactive tables.';\n",
              "        element.innerHTML = '';\n",
              "        dataTable['output_type'] = 'display_data';\n",
              "        await google.colab.output.renderOutput(dataTable, element);\n",
              "        const docLink = document.createElement('div');\n",
              "        docLink.innerHTML = docLinkHtml;\n",
              "        element.appendChild(docLink);\n",
              "      }\n",
              "    </script>\n",
              "  </div>\n",
              "\n",
              "\n",
              "<div id=\"df-724e7caa-aea6-470c-82d0-283fc025bac8\">\n",
              "  <button class=\"colab-df-quickchart\" onclick=\"quickchart('df-724e7caa-aea6-470c-82d0-283fc025bac8')\"\n",
              "            title=\"Suggest charts.\"\n",
              "            style=\"display:none;\">\n",
              "\n",
              "<svg xmlns=\"http://www.w3.org/2000/svg\" height=\"24px\"viewBox=\"0 0 24 24\"\n",
              "     width=\"24px\">\n",
              "    <g>\n",
              "        <path d=\"M19 3H5c-1.1 0-2 .9-2 2v14c0 1.1.9 2 2 2h14c1.1 0 2-.9 2-2V5c0-1.1-.9-2-2-2zM9 17H7v-7h2v7zm4 0h-2V7h2v10zm4 0h-2v-4h2v4z\"/>\n",
              "    </g>\n",
              "</svg>\n",
              "  </button>\n",
              "\n",
              "<style>\n",
              "  .colab-df-quickchart {\n",
              "      --bg-color: #E8F0FE;\n",
              "      --fill-color: #1967D2;\n",
              "      --hover-bg-color: #E2EBFA;\n",
              "      --hover-fill-color: #174EA6;\n",
              "      --disabled-fill-color: #AAA;\n",
              "      --disabled-bg-color: #DDD;\n",
              "  }\n",
              "\n",
              "  [theme=dark] .colab-df-quickchart {\n",
              "      --bg-color: #3B4455;\n",
              "      --fill-color: #D2E3FC;\n",
              "      --hover-bg-color: #434B5C;\n",
              "      --hover-fill-color: #FFFFFF;\n",
              "      --disabled-bg-color: #3B4455;\n",
              "      --disabled-fill-color: #666;\n",
              "  }\n",
              "\n",
              "  .colab-df-quickchart {\n",
              "    background-color: var(--bg-color);\n",
              "    border: none;\n",
              "    border-radius: 50%;\n",
              "    cursor: pointer;\n",
              "    display: none;\n",
              "    fill: var(--fill-color);\n",
              "    height: 32px;\n",
              "    padding: 0;\n",
              "    width: 32px;\n",
              "  }\n",
              "\n",
              "  .colab-df-quickchart:hover {\n",
              "    background-color: var(--hover-bg-color);\n",
              "    box-shadow: 0 1px 2px rgba(60, 64, 67, 0.3), 0 1px 3px 1px rgba(60, 64, 67, 0.15);\n",
              "    fill: var(--button-hover-fill-color);\n",
              "  }\n",
              "\n",
              "  .colab-df-quickchart-complete:disabled,\n",
              "  .colab-df-quickchart-complete:disabled:hover {\n",
              "    background-color: var(--disabled-bg-color);\n",
              "    fill: var(--disabled-fill-color);\n",
              "    box-shadow: none;\n",
              "  }\n",
              "\n",
              "  .colab-df-spinner {\n",
              "    border: 2px solid var(--fill-color);\n",
              "    border-color: transparent;\n",
              "    border-bottom-color: var(--fill-color);\n",
              "    animation:\n",
              "      spin 1s steps(1) infinite;\n",
              "  }\n",
              "\n",
              "  @keyframes spin {\n",
              "    0% {\n",
              "      border-color: transparent;\n",
              "      border-bottom-color: var(--fill-color);\n",
              "      border-left-color: var(--fill-color);\n",
              "    }\n",
              "    20% {\n",
              "      border-color: transparent;\n",
              "      border-left-color: var(--fill-color);\n",
              "      border-top-color: var(--fill-color);\n",
              "    }\n",
              "    30% {\n",
              "      border-color: transparent;\n",
              "      border-left-color: var(--fill-color);\n",
              "      border-top-color: var(--fill-color);\n",
              "      border-right-color: var(--fill-color);\n",
              "    }\n",
              "    40% {\n",
              "      border-color: transparent;\n",
              "      border-right-color: var(--fill-color);\n",
              "      border-top-color: var(--fill-color);\n",
              "    }\n",
              "    60% {\n",
              "      border-color: transparent;\n",
              "      border-right-color: var(--fill-color);\n",
              "    }\n",
              "    80% {\n",
              "      border-color: transparent;\n",
              "      border-right-color: var(--fill-color);\n",
              "      border-bottom-color: var(--fill-color);\n",
              "    }\n",
              "    90% {\n",
              "      border-color: transparent;\n",
              "      border-bottom-color: var(--fill-color);\n",
              "    }\n",
              "  }\n",
              "</style>\n",
              "\n",
              "  <script>\n",
              "    async function quickchart(key) {\n",
              "      const quickchartButtonEl =\n",
              "        document.querySelector('#' + key + ' button');\n",
              "      quickchartButtonEl.disabled = true;  // To prevent multiple clicks.\n",
              "      quickchartButtonEl.classList.add('colab-df-spinner');\n",
              "      try {\n",
              "        const charts = await google.colab.kernel.invokeFunction(\n",
              "            'suggestCharts', [key], {});\n",
              "      } catch (error) {\n",
              "        console.error('Error during call to suggestCharts:', error);\n",
              "      }\n",
              "      quickchartButtonEl.classList.remove('colab-df-spinner');\n",
              "      quickchartButtonEl.classList.add('colab-df-quickchart-complete');\n",
              "    }\n",
              "    (() => {\n",
              "      let quickchartButtonEl =\n",
              "        document.querySelector('#df-724e7caa-aea6-470c-82d0-283fc025bac8 button');\n",
              "      quickchartButtonEl.style.display =\n",
              "        google.colab.kernel.accessAllowed ? 'block' : 'none';\n",
              "    })();\n",
              "  </script>\n",
              "</div>\n",
              "    </div>\n",
              "  </div>\n"
            ]
          },
          "metadata": {},
          "execution_count": 17
        }
      ],
      "source": [
        "fish.head()"
      ]
    },
    {
      "cell_type": "code",
      "execution_count": null,
      "id": "bdb03ce2",
      "metadata": {
        "ExecuteTime": {
          "end_time": "2023-10-25T01:11:30.480547Z",
          "start_time": "2023-10-25T01:11:30.468045Z"
        },
        "colab": {
          "base_uri": "https://localhost:8080/"
        },
        "id": "bdb03ce2",
        "outputId": "6a0edca2-8e5a-4995-f72b-5989e62c1d4b"
      },
      "outputs": [
        {
          "output_type": "stream",
          "name": "stdout",
          "text": [
            "(119, 5) (119,)\n"
          ]
        }
      ],
      "source": [
        "print(train_input.shape, train_target.shape)"
      ]
    },
    {
      "cell_type": "code",
      "execution_count": null,
      "id": "fe124a98",
      "metadata": {
        "ExecuteTime": {
          "end_time": "2023-10-25T01:12:01.949024Z",
          "start_time": "2023-10-25T01:12:01.942075Z"
        },
        "colab": {
          "base_uri": "https://localhost:8080/"
        },
        "id": "fe124a98",
        "outputId": "70aa7a5d-9580-4f31-99ff-3562c0ce9b6f"
      },
      "outputs": [
        {
          "output_type": "stream",
          "name": "stdout",
          "text": [
            "(40, 5) (40,)\n"
          ]
        }
      ],
      "source": [
        "print(test_input.shape, test_target.shape)"
      ]
    },
    {
      "cell_type": "code",
      "execution_count": null,
      "id": "c1645551",
      "metadata": {
        "ExecuteTime": {
          "end_time": "2023-10-25T01:14:10.239826Z",
          "start_time": "2023-10-25T01:14:10.224250Z"
        },
        "id": "c1645551"
      },
      "outputs": [],
      "source": [
        "# Bream, Smelt 두 개의 클래스만 이용하여 이진분류 학습\n",
        "indexes = (train_target == 'Bream') | (train_target == 'Smelt')\n",
        "train = train_scaled[indexes]\n",
        "target = train_target[indexes]"
      ]
    },
    {
      "cell_type": "code",
      "execution_count": null,
      "id": "26e1214f",
      "metadata": {
        "ExecuteTime": {
          "end_time": "2023-10-25T01:21:38.951857Z",
          "start_time": "2023-10-25T01:21:38.906381Z"
        },
        "colab": {
          "base_uri": "https://localhost:8080/",
          "height": 75
        },
        "id": "26e1214f",
        "outputId": "34962c85-cd39-4656-ca50-826629649f4f"
      },
      "outputs": [
        {
          "output_type": "execute_result",
          "data": {
            "text/plain": [
              "LogisticRegression()"
            ],
            "text/html": [
              "<style>#sk-container-id-1 {color: black;background-color: white;}#sk-container-id-1 pre{padding: 0;}#sk-container-id-1 div.sk-toggleable {background-color: white;}#sk-container-id-1 label.sk-toggleable__label {cursor: pointer;display: block;width: 100%;margin-bottom: 0;padding: 0.3em;box-sizing: border-box;text-align: center;}#sk-container-id-1 label.sk-toggleable__label-arrow:before {content: \"▸\";float: left;margin-right: 0.25em;color: #696969;}#sk-container-id-1 label.sk-toggleable__label-arrow:hover:before {color: black;}#sk-container-id-1 div.sk-estimator:hover label.sk-toggleable__label-arrow:before {color: black;}#sk-container-id-1 div.sk-toggleable__content {max-height: 0;max-width: 0;overflow: hidden;text-align: left;background-color: #f0f8ff;}#sk-container-id-1 div.sk-toggleable__content pre {margin: 0.2em;color: black;border-radius: 0.25em;background-color: #f0f8ff;}#sk-container-id-1 input.sk-toggleable__control:checked~div.sk-toggleable__content {max-height: 200px;max-width: 100%;overflow: auto;}#sk-container-id-1 input.sk-toggleable__control:checked~label.sk-toggleable__label-arrow:before {content: \"▾\";}#sk-container-id-1 div.sk-estimator input.sk-toggleable__control:checked~label.sk-toggleable__label {background-color: #d4ebff;}#sk-container-id-1 div.sk-label input.sk-toggleable__control:checked~label.sk-toggleable__label {background-color: #d4ebff;}#sk-container-id-1 input.sk-hidden--visually {border: 0;clip: rect(1px 1px 1px 1px);clip: rect(1px, 1px, 1px, 1px);height: 1px;margin: -1px;overflow: hidden;padding: 0;position: absolute;width: 1px;}#sk-container-id-1 div.sk-estimator {font-family: monospace;background-color: #f0f8ff;border: 1px dotted black;border-radius: 0.25em;box-sizing: border-box;margin-bottom: 0.5em;}#sk-container-id-1 div.sk-estimator:hover {background-color: #d4ebff;}#sk-container-id-1 div.sk-parallel-item::after {content: \"\";width: 100%;border-bottom: 1px solid gray;flex-grow: 1;}#sk-container-id-1 div.sk-label:hover label.sk-toggleable__label {background-color: #d4ebff;}#sk-container-id-1 div.sk-serial::before {content: \"\";position: absolute;border-left: 1px solid gray;box-sizing: border-box;top: 0;bottom: 0;left: 50%;z-index: 0;}#sk-container-id-1 div.sk-serial {display: flex;flex-direction: column;align-items: center;background-color: white;padding-right: 0.2em;padding-left: 0.2em;position: relative;}#sk-container-id-1 div.sk-item {position: relative;z-index: 1;}#sk-container-id-1 div.sk-parallel {display: flex;align-items: stretch;justify-content: center;background-color: white;position: relative;}#sk-container-id-1 div.sk-item::before, #sk-container-id-1 div.sk-parallel-item::before {content: \"\";position: absolute;border-left: 1px solid gray;box-sizing: border-box;top: 0;bottom: 0;left: 50%;z-index: -1;}#sk-container-id-1 div.sk-parallel-item {display: flex;flex-direction: column;z-index: 1;position: relative;background-color: white;}#sk-container-id-1 div.sk-parallel-item:first-child::after {align-self: flex-end;width: 50%;}#sk-container-id-1 div.sk-parallel-item:last-child::after {align-self: flex-start;width: 50%;}#sk-container-id-1 div.sk-parallel-item:only-child::after {width: 0;}#sk-container-id-1 div.sk-dashed-wrapped {border: 1px dashed gray;margin: 0 0.4em 0.5em 0.4em;box-sizing: border-box;padding-bottom: 0.4em;background-color: white;}#sk-container-id-1 div.sk-label label {font-family: monospace;font-weight: bold;display: inline-block;line-height: 1.2em;}#sk-container-id-1 div.sk-label-container {text-align: center;}#sk-container-id-1 div.sk-container {/* jupyter's `normalize.less` sets `[hidden] { display: none; }` but bootstrap.min.css set `[hidden] { display: none !important; }` so we also need the `!important` here to be able to override the default hidden behavior on the sphinx rendered scikit-learn.org. See: https://github.com/scikit-learn/scikit-learn/issues/21755 */display: inline-block !important;position: relative;}#sk-container-id-1 div.sk-text-repr-fallback {display: none;}</style><div id=\"sk-container-id-1\" class=\"sk-top-container\"><div class=\"sk-text-repr-fallback\"><pre>LogisticRegression()</pre><b>In a Jupyter environment, please rerun this cell to show the HTML representation or trust the notebook. <br />On GitHub, the HTML representation is unable to render, please try loading this page with nbviewer.org.</b></div><div class=\"sk-container\" hidden><div class=\"sk-item\"><div class=\"sk-estimator sk-toggleable\"><input class=\"sk-toggleable__control sk-hidden--visually\" id=\"sk-estimator-id-1\" type=\"checkbox\" checked><label for=\"sk-estimator-id-1\" class=\"sk-toggleable__label sk-toggleable__label-arrow\">LogisticRegression</label><div class=\"sk-toggleable__content\"><pre>LogisticRegression()</pre></div></div></div></div></div>"
            ]
          },
          "metadata": {},
          "execution_count": 21
        }
      ],
      "source": [
        "from sklearn.linear_model import LogisticRegression\n",
        "lr = LogisticRegression()\n",
        "lr.fit(train, target)"
      ]
    },
    {
      "cell_type": "code",
      "execution_count": null,
      "id": "32080e64",
      "metadata": {
        "ExecuteTime": {
          "end_time": "2023-10-25T01:22:34.747302Z",
          "start_time": "2023-10-25T01:22:34.738336Z"
        },
        "colab": {
          "base_uri": "https://localhost:8080/"
        },
        "id": "32080e64",
        "outputId": "66d8849c-2cd8-478b-a023-9beadfa203d2"
      },
      "outputs": [
        {
          "output_type": "execute_result",
          "data": {
            "text/plain": [
              "array(['Bream', 'Smelt', 'Bream', 'Bream', 'Bream'], dtype=object)"
            ]
          },
          "metadata": {},
          "execution_count": 22
        }
      ],
      "source": [
        "# 다섯개의 샘플을 이용하여 예측\n",
        "lr.predict(train[:5])"
      ]
    },
    {
      "cell_type": "code",
      "execution_count": null,
      "id": "0e59bbcd",
      "metadata": {
        "ExecuteTime": {
          "end_time": "2023-10-25T01:22:54.920946Z",
          "start_time": "2023-10-25T01:22:54.916191Z"
        },
        "colab": {
          "base_uri": "https://localhost:8080/"
        },
        "id": "0e59bbcd",
        "outputId": "496c61cd-04a0-4611-cb0d-3f3f1772e317"
      },
      "outputs": [
        {
          "output_type": "execute_result",
          "data": {
            "text/plain": [
              "array(['Bream', 'Smelt'], dtype=object)"
            ]
          },
          "metadata": {},
          "execution_count": 23
        }
      ],
      "source": [
        "lr.classes_"
      ]
    },
    {
      "cell_type": "code",
      "execution_count": null,
      "id": "2214bca4",
      "metadata": {
        "ExecuteTime": {
          "end_time": "2023-10-25T01:23:33.272056Z",
          "start_time": "2023-10-25T01:23:33.259946Z"
        },
        "colab": {
          "base_uri": "https://localhost:8080/"
        },
        "id": "2214bca4",
        "outputId": "abf5987f-6fac-4cfe-a7d1-3732a50dc6d5"
      },
      "outputs": [
        {
          "output_type": "execute_result",
          "data": {
            "text/plain": [
              "array([[0.99759855, 0.00240145],\n",
              "       [0.02735183, 0.97264817],\n",
              "       [0.99486072, 0.00513928],\n",
              "       [0.98584202, 0.01415798],\n",
              "       [0.99767269, 0.00232731]])"
            ]
          },
          "metadata": {},
          "execution_count": 24
        }
      ],
      "source": [
        "# 예측확률\n",
        "lr.predict_proba(train[:5])"
      ]
    },
    {
      "cell_type": "code",
      "execution_count": null,
      "id": "282319b1",
      "metadata": {
        "ExecuteTime": {
          "end_time": "2023-10-25T01:24:27.401019Z",
          "start_time": "2023-10-25T01:24:27.397049Z"
        },
        "colab": {
          "base_uri": "https://localhost:8080/"
        },
        "id": "282319b1",
        "outputId": "78feb119-2d4a-45ab-834e-1f981233bec7"
      },
      "outputs": [
        {
          "output_type": "stream",
          "name": "stdout",
          "text": [
            "[[-0.4037798  -0.57620209 -0.66280298 -1.01290277 -0.73168947]] [-2.16155132]\n"
          ]
        }
      ],
      "source": [
        "# 기울기와 절편\n",
        "print(lr.coef_, lr.intercept_)"
      ]
    },
    {
      "cell_type": "code",
      "execution_count": null,
      "id": "7bdfc038",
      "metadata": {
        "ExecuteTime": {
          "end_time": "2023-10-25T01:26:14.431520Z",
          "start_time": "2023-10-25T01:26:14.424873Z"
        },
        "colab": {
          "base_uri": "https://localhost:8080/"
        },
        "id": "7bdfc038",
        "outputId": "fb519d51-acd1-4a31-b269-e3d850e96c5a"
      },
      "outputs": [
        {
          "output_type": "execute_result",
          "data": {
            "text/plain": [
              "array([-6.02927744,  3.57123907, -5.26568906, -4.24321775, -6.0607117 ])"
            ]
          },
          "metadata": {},
          "execution_count": 26
        }
      ],
      "source": [
        "# z값 계산\n",
        "decisions = lr.decision_function(train[:5])\n",
        "decisions"
      ]
    },
    {
      "cell_type": "code",
      "execution_count": null,
      "id": "b241aca2",
      "metadata": {
        "ExecuteTime": {
          "end_time": "2023-10-25T01:27:25.618931Z",
          "start_time": "2023-10-25T01:27:25.608664Z"
        },
        "colab": {
          "base_uri": "https://localhost:8080/"
        },
        "id": "b241aca2",
        "outputId": "c144ba36-0155-4acd-df5d-c0bc0830fee0"
      },
      "outputs": [
        {
          "output_type": "execute_result",
          "data": {
            "text/plain": [
              "array([0.00240145, 0.97264817, 0.00513928, 0.01415798, 0.00232731])"
            ]
          },
          "metadata": {},
          "execution_count": 27
        }
      ],
      "source": [
        "# 시그모이드 함수를 통해 얻어낸 확률값을 추출하는 함수\n",
        "from scipy.special import expit\n",
        "expit(decisions)"
      ]
    },
    {
      "cell_type": "markdown",
      "id": "9ee735e0",
      "metadata": {
        "id": "9ee735e0"
      },
      "source": [
        "# 로지스틱 회귀(다중 분류)\n",
        "\n",
        "- LogisticRegression 객체는 기본적으로 반복적인 알고리즘을 사용한다.\n",
        "- max_iter : 반복횟수를 지정하는 파라미터, 기본값 100\n",
        "- c : 선형회귀에서 규제(L2),  alpha 값, 기본값 1, 규제를 조금 완화하기 위해 20\n",
        "- 좀더 복잡한 모델을 만들기 위해 규제를 완화한다."
      ]
    },
    {
      "cell_type": "code",
      "execution_count": null,
      "id": "4b344903",
      "metadata": {
        "ExecuteTime": {
          "end_time": "2023-10-25T01:36:01.065878Z",
          "start_time": "2023-10-25T01:36:00.982635Z"
        },
        "colab": {
          "base_uri": "https://localhost:8080/"
        },
        "id": "4b344903",
        "outputId": "8e414a5f-0835-4133-ece5-bfebfb34de28"
      },
      "outputs": [
        {
          "output_type": "stream",
          "name": "stdout",
          "text": [
            "0.9327731092436975\n",
            "0.925\n"
          ]
        }
      ],
      "source": [
        "from sklearn.linear_model import LogisticRegression\n",
        "lr = LogisticRegression(C=20, max_iter = 1000)\n",
        "lr.fit(train_scaled, train_target)\n",
        "\n",
        "# 분류 알고리즘은 결정계수(r2)\n",
        "print(lr.score(train_scaled, train_target))\n",
        "print(lr.score(test_scaled, test_target))"
      ]
    },
    {
      "cell_type": "code",
      "execution_count": null,
      "id": "78fbaefd",
      "metadata": {
        "ExecuteTime": {
          "end_time": "2023-10-25T01:38:13.065874Z",
          "start_time": "2023-10-25T01:38:13.053060Z"
        },
        "colab": {
          "base_uri": "https://localhost:8080/"
        },
        "id": "78fbaefd",
        "outputId": "8a4ac710-6bac-4fea-cb40-09378fe4213d"
      },
      "outputs": [
        {
          "output_type": "execute_result",
          "data": {
            "text/plain": [
              "array(['Perch', 'Smelt', 'Pike', 'Roach', 'Perch'], dtype=object)"
            ]
          },
          "metadata": {},
          "execution_count": 29
        }
      ],
      "source": [
        "# 예측\n",
        "lr.predict(test_scaled[:5])"
      ]
    },
    {
      "cell_type": "code",
      "execution_count": null,
      "id": "27f5cd06",
      "metadata": {
        "ExecuteTime": {
          "end_time": "2023-10-25T01:39:39.486649Z",
          "start_time": "2023-10-25T01:39:39.478644Z"
        },
        "colab": {
          "base_uri": "https://localhost:8080/"
        },
        "id": "27f5cd06",
        "outputId": "3ff2b514-5754-4156-ae31-ba636c088c3b"
      },
      "outputs": [
        {
          "output_type": "execute_result",
          "data": {
            "text/plain": [
              "array([[0.   , 0.014, 0.841, 0.   , 0.136, 0.007, 0.003],\n",
              "       [0.   , 0.003, 0.044, 0.   , 0.007, 0.946, 0.   ],\n",
              "       [0.   , 0.   , 0.034, 0.935, 0.015, 0.016, 0.   ],\n",
              "       [0.011, 0.034, 0.306, 0.007, 0.567, 0.   , 0.076],\n",
              "       [0.   , 0.   , 0.904, 0.002, 0.089, 0.002, 0.001]])"
            ]
          },
          "metadata": {},
          "execution_count": 30
        }
      ],
      "source": [
        "# 예측확률\n",
        "proba = lr.predict_proba(test_scaled[:5])\n",
        "np.round(proba, decimals=3)"
      ]
    },
    {
      "cell_type": "code",
      "execution_count": null,
      "id": "22df0ebe",
      "metadata": {
        "ExecuteTime": {
          "end_time": "2023-10-25T01:39:04.151604Z",
          "start_time": "2023-10-25T01:39:04.141652Z"
        },
        "colab": {
          "base_uri": "https://localhost:8080/"
        },
        "id": "22df0ebe",
        "outputId": "fad13492-b9c8-4f13-ad6f-2ba5d5918c35"
      },
      "outputs": [
        {
          "output_type": "execute_result",
          "data": {
            "text/plain": [
              "array(['Bream', 'Parkki', 'Perch', 'Pike', 'Roach', 'Smelt', 'Whitefish'],\n",
              "      dtype=object)"
            ]
          },
          "metadata": {},
          "execution_count": 31
        }
      ],
      "source": [
        "lr.classes_"
      ]
    },
    {
      "cell_type": "code",
      "execution_count": null,
      "id": "4301e110",
      "metadata": {
        "ExecuteTime": {
          "end_time": "2023-10-25T01:41:43.790425Z",
          "start_time": "2023-10-25T01:41:43.773424Z"
        },
        "colab": {
          "base_uri": "https://localhost:8080/"
        },
        "id": "4301e110",
        "outputId": "108cca3f-d0dc-4f36-9029-476ae7a66d3a"
      },
      "outputs": [
        {
          "output_type": "stream",
          "name": "stdout",
          "text": [
            "(7, 5) (7,)\n"
          ]
        }
      ],
      "source": [
        "print(lr.coef_.shape, lr.intercept_.shape)"
      ]
    },
    {
      "cell_type": "code",
      "execution_count": null,
      "id": "525b0060",
      "metadata": {
        "ExecuteTime": {
          "end_time": "2023-10-25T01:44:10.299469Z",
          "start_time": "2023-10-25T01:44:10.292483Z"
        },
        "colab": {
          "base_uri": "https://localhost:8080/"
        },
        "id": "525b0060",
        "outputId": "e20a2342-80ac-415b-9264-33b9fed5eddb"
      },
      "outputs": [
        {
          "output_type": "stream",
          "name": "stdout",
          "text": [
            "[[ -6.5    1.03   5.16  -2.73   3.34   0.33  -0.63]\n",
            " [-10.86   1.93   4.77  -2.4    2.98   7.84  -4.26]\n",
            " [ -4.34  -6.23   3.17   6.49   2.36   2.42  -3.87]\n",
            " [ -0.68   0.45   2.65  -1.19   3.26  -5.75   1.26]\n",
            " [ -6.4   -1.99   5.82  -0.11   3.5   -0.11  -0.71]]\n"
          ]
        }
      ],
      "source": [
        "# z값 계산\n",
        "decisions = lr.decision_function(test_scaled[:5])\n",
        "print(np.round(decisions, decimals=2))"
      ]
    },
    {
      "cell_type": "code",
      "execution_count": null,
      "id": "5dcd6afa",
      "metadata": {
        "ExecuteTime": {
          "end_time": "2023-10-25T01:46:42.720151Z",
          "start_time": "2023-10-25T01:46:42.715154Z"
        },
        "colab": {
          "base_uri": "https://localhost:8080/"
        },
        "id": "5dcd6afa",
        "outputId": "35cb7ffd-f892-49c3-b4d8-9d0af16c20a7"
      },
      "outputs": [
        {
          "output_type": "stream",
          "name": "stdout",
          "text": [
            "[[0.    0.014 0.841 0.    0.136 0.007 0.003]\n",
            " [0.    0.003 0.044 0.    0.007 0.946 0.   ]\n",
            " [0.    0.    0.034 0.935 0.015 0.016 0.   ]\n",
            " [0.011 0.034 0.306 0.007 0.567 0.    0.076]\n",
            " [0.    0.    0.904 0.002 0.089 0.002 0.001]]\n"
          ]
        }
      ],
      "source": [
        "# softmax(소프트맥스)\n",
        "from scipy.special import softmax\n",
        "proba = softmax(decisions, axis=1)\n",
        "print(np.round(proba, decimals=3))"
      ]
    },
    {
      "cell_type": "code",
      "execution_count": null,
      "id": "4816ce8d",
      "metadata": {
        "ExecuteTime": {
          "end_time": "2023-10-25T04:58:01.191799Z",
          "start_time": "2023-10-25T04:58:01.065659Z"
        },
        "colab": {
          "base_uri": "https://localhost:8080/",
          "height": 449
        },
        "id": "4816ce8d",
        "outputId": "66dae261-3641-40b0-ba53-df66e157d5d8"
      },
      "outputs": [
        {
          "output_type": "display_data",
          "data": {
            "text/plain": [
              "<Figure size 640x480 with 1 Axes>"
            ],
            "image/png": "[encoded data removed]"
          },
          "metadata": {}
        }
      ],
      "source": [
        "import numpy as np\n",
        "import matplotlib.pyplot as plt\n",
        "\n",
        "z = np.arange(-5, 5, 0.1)\n",
        "phi = 1 / (1 + np.exp(-z))\n",
        "\n",
        "plt.plot(z, phi)\n",
        "plt.xlabel('z')\n",
        "plt.ylabel('phi')\n",
        "plt.show()"
      ]
    },
    {
      "cell_type": "markdown",
      "id": "ca8d583e",
      "metadata": {
        "id": "ca8d583e"
      },
      "source": [
        "# 확인 학습 : 위스콘시 대학의 유방암 진단\n",
        "\n",
        "- 병원 환장에 대한 정보와 유방암 진단 여부를 기록한 데이터셋"
      ]
    },
    {
      "cell_type": "code",
      "execution_count": null,
      "id": "356e442a",
      "metadata": {
        "ExecuteTime": {
          "end_time": "2023-10-25T01:55:29.108181Z",
          "start_time": "2023-10-25T01:55:29.081315Z"
        },
        "colab": {
          "base_uri": "https://localhost:8080/"
        },
        "id": "356e442a",
        "outputId": "f888d1b8-8f43-4030-85a9-1bb95dc9ef5c"
      },
      "outputs": [
        {
          "output_type": "stream",
          "name": "stdout",
          "text": [
            ".. _breast_cancer_dataset:\n",
            "\n",
            "Breast cancer wisconsin (diagnostic) dataset\n",
            "--------------------------------------------\n",
            "\n",
            "**Data Set Characteristics:**\n",
            "\n",
            "    :Number of Instances: 569\n",
            "\n",
            "    :Number of Attributes: 30 numeric, predictive attributes and the class\n",
            "\n",
            "    :Attribute Information:\n",
            "        - radius (mean of distances from center to points on the perimeter)\n",
            "        - texture (standard deviation of gray-scale values)\n",
            "        - perimeter\n",
            "        - area\n",
            "        - smoothness (local variation in radius lengths)\n",
            "        - compactness (perimeter^2 / area - 1.0)\n",
            "        - concavity (severity of concave portions of the contour)\n",
            "        - concave points (number of concave portions of the contour)\n",
            "        - symmetry\n",
            "        - fractal dimension (\"coastline approximation\" - 1)\n",
            "\n",
            "        The mean, standard error, and \"worst\" or largest (mean of the three\n",
            "        worst/largest values) of these features were computed for each image,\n",
            "        resulting in 30 features.  For instance, field 0 is Mean Radius, field\n",
            "        10 is Radius SE, field 20 is Worst Radius.\n",
            "\n",
            "        - class:\n",
            "                - WDBC-Malignant\n",
            "                - WDBC-Benign\n",
            "\n",
            "    :Summary Statistics:\n",
            "\n",
            "    ===================================== ====== ======\n",
            "                                           Min    Max\n",
            "    ===================================== ====== ======\n",
            "    radius (mean):                        6.981  28.11\n",
            "    texture (mean):                       9.71   39.28\n",
            "    perimeter (mean):                     43.79  188.5\n",
            "    area (mean):                          143.5  2501.0\n",
            "    smoothness (mean):                    0.053  0.163\n",
            "    compactness (mean):                   0.019  0.345\n",
            "    concavity (mean):                     0.0    0.427\n",
            "    concave points (mean):                0.0    0.201\n",
            "    symmetry (mean):                      0.106  0.304\n",
            "    fractal dimension (mean):             0.05   0.097\n",
            "    radius (standard error):              0.112  2.873\n",
            "    texture (standard error):             0.36   4.885\n",
            "    perimeter (standard error):           0.757  21.98\n",
            "    area (standard error):                6.802  542.2\n",
            "    smoothness (standard error):          0.002  0.031\n",
            "    compactness (standard error):         0.002  0.135\n",
            "    concavity (standard error):           0.0    0.396\n",
            "    concave points (standard error):      0.0    0.053\n",
            "    symmetry (standard error):            0.008  0.079\n",
            "    fractal dimension (standard error):   0.001  0.03\n",
            "    radius (worst):                       7.93   36.04\n",
            "    texture (worst):                      12.02  49.54\n",
            "    perimeter (worst):                    50.41  251.2\n",
            "    area (worst):                         185.2  4254.0\n",
            "    smoothness (worst):                   0.071  0.223\n",
            "    compactness (worst):                  0.027  1.058\n",
            "    concavity (worst):                    0.0    1.252\n",
            "    concave points (worst):               0.0    0.291\n",
            "    symmetry (worst):                     0.156  0.664\n",
            "    fractal dimension (worst):            0.055  0.208\n",
            "    ===================================== ====== ======\n",
            "\n",
            "    :Missing Attribute Values: None\n",
            "\n",
            "    :Class Distribution: 212 - Malignant, 357 - Benign\n",
            "\n",
            "    :Creator:  Dr. William H. Wolberg, W. Nick Street, Olvi L. Mangasarian\n",
            "\n",
            "    :Donor: Nick Street\n",
            "\n",
            "    :Date: November, 1995\n",
            "\n",
            "This is a copy of UCI ML Breast Cancer Wisconsin (Diagnostic) datasets.\n",
            "https://goo.gl/U2Uwz2\n",
            "\n",
            "Features are computed from a digitized image of a fine needle\n",
            "aspirate (FNA) of a breast mass.  They describe\n",
            "characteristics of the cell nuclei present in the image.\n",
            "\n",
            "Separating plane described above was obtained using\n",
            "Multisurface Method-Tree (MSM-T) [K. P. Bennett, \"Decision Tree\n",
            "Construction Via Linear Programming.\" Proceedings of the 4th\n",
            "Midwest Artificial Intelligence and Cognitive Science Society,\n",
            "pp. 97-101, 1992], a classification method which uses linear\n",
            "programming to construct a decision tree.  Relevant features\n",
            "were selected using an exhaustive search in the space of 1-4\n",
            "features and 1-3 separating planes.\n",
            "\n",
            "The actual linear program used to obtain the separating plane\n",
            "in the 3-dimensional space is that described in:\n",
            "[K. P. Bennett and O. L. Mangasarian: \"Robust Linear\n",
            "Programming Discrimination of Two Linearly Inseparable Sets\",\n",
            "Optimization Methods and Software 1, 1992, 23-34].\n",
            "\n",
            "This database is also available through the UW CS ftp server:\n",
            "\n",
            "ftp ftp.cs.wisc.edu\n",
            "cd math-prog/cpo-dataset/machine-learn/WDBC/\n",
            "\n",
            ".. topic:: References\n",
            "\n",
            "   - W.N. Street, W.H. Wolberg and O.L. Mangasarian. Nuclear feature extraction \n",
            "     for breast tumor diagnosis. IS&T/SPIE 1993 International Symposium on \n",
            "     Electronic Imaging: Science and Technology, volume 1905, pages 861-870,\n",
            "     San Jose, CA, 1993.\n",
            "   - O.L. Mangasarian, W.N. Street and W.H. Wolberg. Breast cancer diagnosis and \n",
            "     prognosis via linear programming. Operations Research, 43(4), pages 570-577, \n",
            "     July-August 1995.\n",
            "   - W.H. Wolberg, W.N. Street, and O.L. Mangasarian. Machine learning techniques\n",
            "     to diagnose breast cancer from fine-needle aspirates. Cancer Letters 77 (1994) \n",
            "     163-171.\n"
          ]
        }
      ],
      "source": [
        "from sklearn.datasets import load_breast_cancer\n",
        "\n",
        "cancer = load_breast_cancer()\n",
        "print(cancer.DESCR)"
      ]
    },
    {
      "cell_type": "code",
      "execution_count": null,
      "id": "2251c903",
      "metadata": {
        "ExecuteTime": {
          "end_time": "2023-10-25T05:08:12.417289Z",
          "start_time": "2023-10-25T05:08:12.408615Z"
        },
        "colab": {
          "base_uri": "https://localhost:8080/"
        },
        "id": "2251c903",
        "outputId": "2f329b04-bd78-420d-9375-2dd8d67538e5"
      },
      "outputs": [
        {
          "output_type": "execute_result",
          "data": {
            "text/plain": [
              "dict_keys(['data', 'target', 'frame', 'target_names', 'DESCR', 'feature_names', 'filename', 'data_module'])"
            ]
          },
          "metadata": {},
          "execution_count": 37
        }
      ],
      "source": [
        "# dir(cancer)\n",
        "cancer.keys()"
      ]
    },
    {
      "cell_type": "markdown",
      "id": "d15aa0e9",
      "metadata": {
        "id": "d15aa0e9"
      },
      "source": [
        "- 569명의 환자 데이터셋\n",
        "- 30개의 특성\n",
        "- 357명의 정상(Benign) 환자, 212명의 유방암(Malignant) 환자"
      ]
    },
    {
      "cell_type": "markdown",
      "id": "05bc526e",
      "metadata": {
        "id": "05bc526e"
      },
      "source": [
        "## 데이터 전처리"
      ]
    },
    {
      "cell_type": "code",
      "execution_count": null,
      "id": "b6760fb6",
      "metadata": {
        "ExecuteTime": {
          "end_time": "2023-10-25T03:25:13.262251Z",
          "start_time": "2023-10-25T03:25:13.243457Z"
        },
        "id": "b6760fb6"
      },
      "outputs": [],
      "source": [
        "train_input, test_input, train_target, test_target = train_test_split(\n",
        "    cancer.data, cancer.target, test_size=0.3, stratify = cancer.target, random_state=42)"
      ]
    },
    {
      "cell_type": "code",
      "execution_count": null,
      "id": "d74110c3",
      "metadata": {
        "ExecuteTime": {
          "end_time": "2023-10-25T05:09:13.716162Z",
          "start_time": "2023-10-25T05:09:13.693709Z"
        },
        "colab": {
          "base_uri": "https://localhost:8080/",
          "height": 290
        },
        "id": "d74110c3",
        "outputId": "744a8c55-fc0d-4c32-d9cc-eb4f1f12a8dd"
      },
      "outputs": [
        {
          "output_type": "execute_result",
          "data": {
            "text/plain": [
              "   mean radius  mean texture  mean perimeter  mean area  mean smoothness  \\\n",
              "0        17.99         10.38          122.80     1001.0          0.11840   \n",
              "1        20.57         17.77          132.90     1326.0          0.08474   \n",
              "2        19.69         21.25          130.00     1203.0          0.10960   \n",
              "3        11.42         20.38           77.58      386.1          0.14250   \n",
              "4        20.29         14.34          135.10     1297.0          0.10030   \n",
              "\n",
              "   mean compactness  mean concavity  mean concave points  mean symmetry  \\\n",
              "0           0.27760          0.3001              0.14710         0.2419   \n",
              "1           0.07864          0.0869              0.07017         0.1812   \n",
              "2           0.15990          0.1974              0.12790         0.2069   \n",
              "3           0.28390          0.2414              0.10520         0.2597   \n",
              "4           0.13280          0.1980              0.10430         0.1809   \n",
              "\n",
              "   mean fractal dimension  ...  worst radius  worst texture  worst perimeter  \\\n",
              "0                 0.07871  ...         25.38          17.33           184.60   \n",
              "1                 0.05667  ...         24.99          23.41           158.80   \n",
              "2                 0.05999  ...         23.57          25.53           152.50   \n",
              "3                 0.09744  ...         14.91          26.50            98.87   \n",
              "4                 0.05883  ...         22.54          16.67           152.20   \n",
              "\n",
              "   worst area  worst smoothness  worst compactness  worst concavity  \\\n",
              "0      2019.0            0.1622             0.6656           0.7119   \n",
              "1      1956.0            0.1238             0.1866           0.2416   \n",
              "2      1709.0            0.1444             0.4245           0.4504   \n",
              "3       567.7            0.2098             0.8663           0.6869   \n",
              "4      1575.0            0.1374             0.2050           0.4000   \n",
              "\n",
              "   worst concave points  worst symmetry  worst fractal dimension  \n",
              "0                0.2654          0.4601                  0.11890  \n",
              "1                0.1860          0.2750                  0.08902  \n",
              "2                0.2430          0.3613                  0.08758  \n",
              "3                0.2575          0.6638                  0.17300  \n",
              "4                0.1625          0.2364                  0.07678  \n",
              "\n",
              "[5 rows x 30 columns]"
            ],
            "text/html": [
              "\n",
              "  <div id=\"df-e37f5146-1458-42e0-ad69-648b89df5daa\" class=\"colab-df-container\">\n",
              "    <div>\n",
              "<style scoped>\n",
              "    .dataframe tbody tr th:only-of-type {\n",
              "        vertical-align: middle;\n",
              "    }\n",
              "\n",
              "    .dataframe tbody tr th {\n",
              "        vertical-align: top;\n",
              "    }\n",
              "\n",
              "    .dataframe thead th {\n",
              "        text-align: right;\n",
              "    }\n",
              "</style>\n",
              "<table border=\"1\" class=\"dataframe\">\n",
              "  <thead>\n",
              "    <tr style=\"text-align: right;\">\n",
              "      <th></th>\n",
              "      <th>mean radius</th>\n",
              "      <th>mean texture</th>\n",
              "      <th>mean perimeter</th>\n",
              "      <th>mean area</th>\n",
              "      <th>mean smoothness</th>\n",
              "      <th>mean compactness</th>\n",
              "      <th>mean concavity</th>\n",
              "      <th>mean concave points</th>\n",
              "      <th>mean symmetry</th>\n",
              "      <th>mean fractal dimension</th>\n",
              "      <th>...</th>\n",
              "      <th>worst radius</th>\n",
              "      <th>worst texture</th>\n",
              "      <th>worst perimeter</th>\n",
              "      <th>worst area</th>\n",
              "      <th>worst smoothness</th>\n",
              "      <th>worst compactness</th>\n",
              "      <th>worst concavity</th>\n",
              "      <th>worst concave points</th>\n",
              "      <th>worst symmetry</th>\n",
              "      <th>worst fractal dimension</th>\n",
              "    </tr>\n",
              "  </thead>\n",
              "  <tbody>\n",
              "    <tr>\n",
              "      <th>0</th>\n",
              "      <td>17.99</td>\n",
              "      <td>10.38</td>\n",
              "      <td>122.80</td>\n",
              "      <td>1001.0</td>\n",
              "      <td>0.11840</td>\n",
              "      <td>0.27760</td>\n",
              "      <td>0.3001</td>\n",
              "      <td>0.14710</td>\n",
              "      <td>0.2419</td>\n",
              "      <td>0.07871</td>\n",
              "      <td>...</td>\n",
              "      <td>25.38</td>\n",
              "      <td>17.33</td>\n",
              "      <td>184.60</td>\n",
              "      <td>2019.0</td>\n",
              "      <td>0.1622</td>\n",
              "      <td>0.6656</td>\n",
              "      <td>0.7119</td>\n",
              "      <td>0.2654</td>\n",
              "      <td>0.4601</td>\n",
              "      <td>0.11890</td>\n",
              "    </tr>\n",
              "    <tr>\n",
              "      <th>1</th>\n",
              "      <td>20.57</td>\n",
              "      <td>17.77</td>\n",
              "      <td>132.90</td>\n",
              "      <td>1326.0</td>\n",
              "      <td>0.08474</td>\n",
              "      <td>0.07864</td>\n",
              "      <td>0.0869</td>\n",
              "      <td>0.07017</td>\n",
              "      <td>0.1812</td>\n",
              "      <td>0.05667</td>\n",
              "      <td>...</td>\n",
              "      <td>24.99</td>\n",
              "      <td>23.41</td>\n",
              "      <td>158.80</td>\n",
              "      <td>1956.0</td>\n",
              "      <td>0.1238</td>\n",
              "      <td>0.1866</td>\n",
              "      <td>0.2416</td>\n",
              "      <td>0.1860</td>\n",
              "      <td>0.2750</td>\n",
              "      <td>0.08902</td>\n",
              "    </tr>\n",
              "    <tr>\n",
              "      <th>2</th>\n",
              "      <td>19.69</td>\n",
              "      <td>21.25</td>\n",
              "      <td>130.00</td>\n",
              "      <td>1203.0</td>\n",
              "      <td>0.10960</td>\n",
              "      <td>0.15990</td>\n",
              "      <td>0.1974</td>\n",
              "      <td>0.12790</td>\n",
              "      <td>0.2069</td>\n",
              "      <td>0.05999</td>\n",
              "      <td>...</td>\n",
              "      <td>23.57</td>\n",
              "      <td>25.53</td>\n",
              "      <td>152.50</td>\n",
              "      <td>1709.0</td>\n",
              "      <td>0.1444</td>\n",
              "      <td>0.4245</td>\n",
              "      <td>0.4504</td>\n",
              "      <td>0.2430</td>\n",
              "      <td>0.3613</td>\n",
              "      <td>0.08758</td>\n",
              "    </tr>\n",
              "    <tr>\n",
              "      <th>3</th>\n",
              "      <td>11.42</td>\n",
              "      <td>20.38</td>\n",
              "      <td>77.58</td>\n",
              "      <td>386.1</td>\n",
              "      <td>0.14250</td>\n",
              "      <td>0.28390</td>\n",
              "      <td>0.2414</td>\n",
              "      <td>0.10520</td>\n",
              "      <td>0.2597</td>\n",
              "      <td>0.09744</td>\n",
              "      <td>...</td>\n",
              "      <td>14.91</td>\n",
              "      <td>26.50</td>\n",
              "      <td>98.87</td>\n",
              "      <td>567.7</td>\n",
              "      <td>0.2098</td>\n",
              "      <td>0.8663</td>\n",
              "      <td>0.6869</td>\n",
              "      <td>0.2575</td>\n",
              "      <td>0.6638</td>\n",
              "      <td>0.17300</td>\n",
              "    </tr>\n",
              "    <tr>\n",
              "      <th>4</th>\n",
              "      <td>20.29</td>\n",
              "      <td>14.34</td>\n",
              "      <td>135.10</td>\n",
              "      <td>1297.0</td>\n",
              "      <td>0.10030</td>\n",
              "      <td>0.13280</td>\n",
              "      <td>0.1980</td>\n",
              "      <td>0.10430</td>\n",
              "      <td>0.1809</td>\n",
              "      <td>0.05883</td>\n",
              "      <td>...</td>\n",
              "      <td>22.54</td>\n",
              "      <td>16.67</td>\n",
              "      <td>152.20</td>\n",
              "      <td>1575.0</td>\n",
              "      <td>0.1374</td>\n",
              "      <td>0.2050</td>\n",
              "      <td>0.4000</td>\n",
              "      <td>0.1625</td>\n",
              "      <td>0.2364</td>\n",
              "      <td>0.07678</td>\n",
              "    </tr>\n",
              "  </tbody>\n",
              "</table>\n",
              "<p>5 rows × 30 columns</p>\n",
              "</div>\n",
              "    <div class=\"colab-df-buttons\">\n",
              "\n",
              "  <div class=\"colab-df-container\">\n",
              "    <button class=\"colab-df-convert\" onclick=\"convertToInteractive('df-e37f5146-1458-42e0-ad69-648b89df5daa')\"\n",
              "            title=\"Convert this dataframe to an interactive table.\"\n",
              "            style=\"display:none;\">\n",
              "\n",
              "  <svg xmlns=\"http://www.w3.org/2000/svg\" height=\"24px\" viewBox=\"0 -960 960 960\">\n",
              "    <path d=\"M120-120v-720h720v720H120Zm60-500h600v-160H180v160Zm220 220h160v-160H400v160Zm0 220h160v-160H400v160ZM180-400h160v-160H180v160Zm440 0h160v-160H620v160ZM180-180h160v-160H180v160Zm440 0h160v-160H620v160Z\"/>\n",
              "  </svg>\n",
              "    </button>\n",
              "\n",
              "  <style>\n",
              "    .colab-df-container {\n",
              "      display:flex;\n",
              "      gap: 12px;\n",
              "    }\n",
              "\n",
              "    .colab-df-convert {\n",
              "      background-color: #E8F0FE;\n",
              "      border: none;\n",
              "      border-radius: 50%;\n",
              "      cursor: pointer;\n",
              "      display: none;\n",
              "      fill: #1967D2;\n",
              "      height: 32px;\n",
              "      padding: 0 0 0 0;\n",
              "      width: 32px;\n",
              "    }\n",
              "\n",
              "    .colab-df-convert:hover {\n",
              "      background-color: #E2EBFA;\n",
              "      box-shadow: 0px 1px 2px rgba(60, 64, 67, 0.3), 0px 1px 3px 1px rgba(60, 64, 67, 0.15);\n",
              "      fill: #174EA6;\n",
              "    }\n",
              "\n",
              "    .colab-df-buttons div {\n",
              "      margin-bottom: 4px;\n",
              "    }\n",
              "\n",
              "    [theme=dark] .colab-df-convert {\n",
              "      background-color: #3B4455;\n",
              "      fill: #D2E3FC;\n",
              "    }\n",
              "\n",
              "    [theme=dark] .colab-df-convert:hover {\n",
              "      background-color: #434B5C;\n",
              "      box-shadow: 0px 1px 3px 1px rgba(0, 0, 0, 0.15);\n",
              "      filter: drop-shadow(0px 1px 2px rgba(0, 0, 0, 0.3));\n",
              "      fill: #FFFFFF;\n",
              "    }\n",
              "  </style>\n",
              "\n",
              "    <script>\n",
              "      const buttonEl =\n",
              "        document.querySelector('#df-e37f5146-1458-42e0-ad69-648b89df5daa button.colab-df-convert');\n",
              "      buttonEl.style.display =\n",
              "        google.colab.kernel.accessAllowed ? 'block' : 'none';\n",
              "\n",
              "      async function convertToInteractive(key) {\n",
              "        const element = document.querySelector('#df-e37f5146-1458-42e0-ad69-648b89df5daa');\n",
              "        const dataTable =\n",
              "          await google.colab.kernel.invokeFunction('convertToInteractive',\n",
              "                                                    [key], {});\n",
              "        if (!dataTable) return;\n",
              "\n",
              "        const docLinkHtml = 'Like what you see? Visit the ' +\n",
              "          '<a target=\"_blank\" href=https://colab.research.google.com/notebooks/data_table.ipynb>data table notebook</a>'\n",
              "          + ' to learn more about interactive tables.';\n",
              "        element.innerHTML = '';\n",
              "        dataTable['output_type'] = 'display_data';\n",
              "        await google.colab.output.renderOutput(dataTable, element);\n",
              "        const docLink = document.createElement('div');\n",
              "        docLink.innerHTML = docLinkHtml;\n",
              "        element.appendChild(docLink);\n",
              "      }\n",
              "    </script>\n",
              "  </div>\n",
              "\n",
              "\n",
              "<div id=\"df-c97514f1-e31f-4e0f-942e-b4cf4dba47bf\">\n",
              "  <button class=\"colab-df-quickchart\" onclick=\"quickchart('df-c97514f1-e31f-4e0f-942e-b4cf4dba47bf')\"\n",
              "            title=\"Suggest charts.\"\n",
              "            style=\"display:none;\">\n",
              "\n",
              "<svg xmlns=\"http://www.w3.org/2000/svg\" height=\"24px\"viewBox=\"0 0 24 24\"\n",
              "     width=\"24px\">\n",
              "    <g>\n",
              "        <path d=\"M19 3H5c-1.1 0-2 .9-2 2v14c0 1.1.9 2 2 2h14c1.1 0 2-.9 2-2V5c0-1.1-.9-2-2-2zM9 17H7v-7h2v7zm4 0h-2V7h2v10zm4 0h-2v-4h2v4z\"/>\n",
              "    </g>\n",
              "</svg>\n",
              "  </button>\n",
              "\n",
              "<style>\n",
              "  .colab-df-quickchart {\n",
              "      --bg-color: #E8F0FE;\n",
              "      --fill-color: #1967D2;\n",
              "      --hover-bg-color: #E2EBFA;\n",
              "      --hover-fill-color: #174EA6;\n",
              "      --disabled-fill-color: #AAA;\n",
              "      --disabled-bg-color: #DDD;\n",
              "  }\n",
              "\n",
              "  [theme=dark] .colab-df-quickchart {\n",
              "      --bg-color: #3B4455;\n",
              "      --fill-color: #D2E3FC;\n",
              "      --hover-bg-color: #434B5C;\n",
              "      --hover-fill-color: #FFFFFF;\n",
              "      --disabled-bg-color: #3B4455;\n",
              "      --disabled-fill-color: #666;\n",
              "  }\n",
              "\n",
              "  .colab-df-quickchart {\n",
              "    background-color: var(--bg-color);\n",
              "    border: none;\n",
              "    border-radius: 50%;\n",
              "    cursor: pointer;\n",
              "    display: none;\n",
              "    fill: var(--fill-color);\n",
              "    height: 32px;\n",
              "    padding: 0;\n",
              "    width: 32px;\n",
              "  }\n",
              "\n",
              "  .colab-df-quickchart:hover {\n",
              "    background-color: var(--hover-bg-color);\n",
              "    box-shadow: 0 1px 2px rgba(60, 64, 67, 0.3), 0 1px 3px 1px rgba(60, 64, 67, 0.15);\n",
              "    fill: var(--button-hover-fill-color);\n",
              "  }\n",
              "\n",
              "  .colab-df-quickchart-complete:disabled,\n",
              "  .colab-df-quickchart-complete:disabled:hover {\n",
              "    background-color: var(--disabled-bg-color);\n",
              "    fill: var(--disabled-fill-color);\n",
              "    box-shadow: none;\n",
              "  }\n",
              "\n",
              "  .colab-df-spinner {\n",
              "    border: 2px solid var(--fill-color);\n",
              "    border-color: transparent;\n",
              "    border-bottom-color: var(--fill-color);\n",
              "    animation:\n",
              "      spin 1s steps(1) infinite;\n",
              "  }\n",
              "\n",
              "  @keyframes spin {\n",
              "    0% {\n",
              "      border-color: transparent;\n",
              "      border-bottom-color: var(--fill-color);\n",
              "      border-left-color: var(--fill-color);\n",
              "    }\n",
              "    20% {\n",
              "      border-color: transparent;\n",
              "      border-left-color: var(--fill-color);\n",
              "      border-top-color: var(--fill-color);\n",
              "    }\n",
              "    30% {\n",
              "      border-color: transparent;\n",
              "      border-left-color: var(--fill-color);\n",
              "      border-top-color: var(--fill-color);\n",
              "      border-right-color: var(--fill-color);\n",
              "    }\n",
              "    40% {\n",
              "      border-color: transparent;\n",
              "      border-right-color: var(--fill-color);\n",
              "      border-top-color: var(--fill-color);\n",
              "    }\n",
              "    60% {\n",
              "      border-color: transparent;\n",
              "      border-right-color: var(--fill-color);\n",
              "    }\n",
              "    80% {\n",
              "      border-color: transparent;\n",
              "      border-right-color: var(--fill-color);\n",
              "      border-bottom-color: var(--fill-color);\n",
              "    }\n",
              "    90% {\n",
              "      border-color: transparent;\n",
              "      border-bottom-color: var(--fill-color);\n",
              "    }\n",
              "  }\n",
              "</style>\n",
              "\n",
              "  <script>\n",
              "    async function quickchart(key) {\n",
              "      const quickchartButtonEl =\n",
              "        document.querySelector('#' + key + ' button');\n",
              "      quickchartButtonEl.disabled = true;  // To prevent multiple clicks.\n",
              "      quickchartButtonEl.classList.add('colab-df-spinner');\n",
              "      try {\n",
              "        const charts = await google.colab.kernel.invokeFunction(\n",
              "            'suggestCharts', [key], {});\n",
              "      } catch (error) {\n",
              "        console.error('Error during call to suggestCharts:', error);\n",
              "      }\n",
              "      quickchartButtonEl.classList.remove('colab-df-spinner');\n",
              "      quickchartButtonEl.classList.add('colab-df-quickchart-complete');\n",
              "    }\n",
              "    (() => {\n",
              "      let quickchartButtonEl =\n",
              "        document.querySelector('#df-c97514f1-e31f-4e0f-942e-b4cf4dba47bf button');\n",
              "      quickchartButtonEl.style.display =\n",
              "        google.colab.kernel.accessAllowed ? 'block' : 'none';\n",
              "    })();\n",
              "  </script>\n",
              "</div>\n",
              "    </div>\n",
              "  </div>\n"
            ]
          },
          "metadata": {},
          "execution_count": 39
        }
      ],
      "source": [
        "df = pd.DataFrame(cancer.data, columns = cancer.feature_names)\n",
        "df.head()"
      ]
    },
    {
      "cell_type": "code",
      "execution_count": null,
      "id": "481b7b30",
      "metadata": {
        "ExecuteTime": {
          "end_time": "2023-10-25T05:09:48.769171Z",
          "start_time": "2023-10-25T05:09:48.759572Z"
        },
        "colab": {
          "base_uri": "https://localhost:8080/"
        },
        "id": "481b7b30",
        "outputId": "4e566847-23a7-4164-cc3b-359d11e428e2"
      },
      "outputs": [
        {
          "output_type": "stream",
          "name": "stdout",
          "text": [
            "<class 'pandas.core.frame.DataFrame'>\n",
            "RangeIndex: 569 entries, 0 to 568\n",
            "Data columns (total 30 columns):\n",
            " #   Column                   Non-Null Count  Dtype  \n",
            "---  ------                   --------------  -----  \n",
            " 0   mean radius              569 non-null    float64\n",
            " 1   mean texture             569 non-null    float64\n",
            " 2   mean perimeter           569 non-null    float64\n",
            " 3   mean area                569 non-null    float64\n",
            " 4   mean smoothness          569 non-null    float64\n",
            " 5   mean compactness         569 non-null    float64\n",
            " 6   mean concavity           569 non-null    float64\n",
            " 7   mean concave points      569 non-null    float64\n",
            " 8   mean symmetry            569 non-null    float64\n",
            " 9   mean fractal dimension   569 non-null    float64\n",
            " 10  radius error             569 non-null    float64\n",
            " 11  texture error            569 non-null    float64\n",
            " 12  perimeter error          569 non-null    float64\n",
            " 13  area error               569 non-null    float64\n",
            " 14  smoothness error         569 non-null    float64\n",
            " 15  compactness error        569 non-null    float64\n",
            " 16  concavity error          569 non-null    float64\n",
            " 17  concave points error     569 non-null    float64\n",
            " 18  symmetry error           569 non-null    float64\n",
            " 19  fractal dimension error  569 non-null    float64\n",
            " 20  worst radius             569 non-null    float64\n",
            " 21  worst texture            569 non-null    float64\n",
            " 22  worst perimeter          569 non-null    float64\n",
            " 23  worst area               569 non-null    float64\n",
            " 24  worst smoothness         569 non-null    float64\n",
            " 25  worst compactness        569 non-null    float64\n",
            " 26  worst concavity          569 non-null    float64\n",
            " 27  worst concave points     569 non-null    float64\n",
            " 28  worst symmetry           569 non-null    float64\n",
            " 29  worst fractal dimension  569 non-null    float64\n",
            "dtypes: float64(30)\n",
            "memory usage: 133.5 KB\n"
          ]
        }
      ],
      "source": [
        "df.info()"
      ]
    },
    {
      "cell_type": "code",
      "execution_count": null,
      "id": "7d9a3ad1",
      "metadata": {
        "ExecuteTime": {
          "end_time": "2023-10-25T03:25:14.030145Z",
          "start_time": "2023-10-25T03:25:14.021145Z"
        },
        "colab": {
          "base_uri": "https://localhost:8080/"
        },
        "id": "7d9a3ad1",
        "outputId": "9def1beb-0463-4d53-87ee-88a8f2527a0b"
      },
      "outputs": [
        {
          "output_type": "execute_result",
          "data": {
            "text/plain": [
              "array([[1.162e+01, 1.818e+01, 7.638e+01, 4.088e+02, 1.175e-01, 1.483e-01,\n",
              "        1.020e-01, 5.564e-02, 1.957e-01, 7.255e-02, 4.101e-01, 1.740e+00,\n",
              "        3.027e+00, 2.785e+01, 1.459e-02, 3.206e-02, 4.961e-02, 1.841e-02,\n",
              "        1.807e-02, 5.217e-03, 1.336e+01, 2.540e+01, 8.814e+01, 5.281e+02,\n",
              "        1.780e-01, 2.878e-01, 3.186e-01, 1.416e-01, 2.660e-01, 9.270e-02],\n",
              "       [1.120e+01, 2.937e+01, 7.067e+01, 3.860e+02, 7.449e-02, 3.558e-02,\n",
              "        0.000e+00, 0.000e+00, 1.060e-01, 5.502e-02, 3.141e-01, 3.896e+00,\n",
              "        2.041e+00, 2.281e+01, 7.594e-03, 8.878e-03, 0.000e+00, 0.000e+00,\n",
              "        1.989e-02, 1.773e-03, 1.192e+01, 3.830e+01, 7.519e+01, 4.396e+02,\n",
              "        9.267e-02, 5.494e-02, 0.000e+00, 0.000e+00, 1.566e-01, 5.905e-02],\n",
              "       [1.057e+01, 1.832e+01, 6.682e+01, 3.409e+02, 8.142e-02, 4.462e-02,\n",
              "        1.993e-02, 1.111e-02, 2.372e-01, 5.768e-02, 1.818e-01, 2.542e+00,\n",
              "        1.277e+00, 1.312e+01, 1.072e-02, 1.331e-02, 1.993e-02, 1.111e-02,\n",
              "        1.717e-02, 4.492e-03, 1.094e+01, 2.331e+01, 6.935e+01, 3.663e+02,\n",
              "        9.794e-02, 6.542e-02, 3.986e-02, 2.222e-02, 2.699e-01, 6.736e-02],\n",
              "       [1.276e+01, 1.884e+01, 8.187e+01, 4.966e+02, 9.676e-02, 7.952e-02,\n",
              "        2.688e-02, 1.781e-02, 1.759e-01, 6.183e-02, 2.213e-01, 1.285e+00,\n",
              "        1.535e+00, 1.726e+01, 5.608e-03, 1.646e-02, 1.529e-02, 9.997e-03,\n",
              "        1.909e-02, 2.133e-03, 1.375e+01, 2.599e+01, 8.782e+01, 5.797e+02,\n",
              "        1.298e-01, 1.839e-01, 1.255e-01, 8.312e-02, 2.744e-01, 7.238e-02],\n",
              "       [1.129e+01, 1.304e+01, 7.223e+01, 3.880e+02, 9.834e-02, 7.608e-02,\n",
              "        3.265e-02, 2.755e-02, 1.769e-01, 6.270e-02, 1.904e-01, 5.293e-01,\n",
              "        1.164e+00, 1.317e+01, 6.472e-03, 1.122e-02, 1.282e-02, 8.849e-03,\n",
              "        1.692e-02, 2.817e-03, 1.232e+01, 1.618e+01, 7.827e+01, 4.575e+02,\n",
              "        1.358e-01, 1.507e-01, 1.275e-01, 8.750e-02, 2.733e-01, 8.022e-02]])"
            ]
          },
          "metadata": {},
          "execution_count": 41
        }
      ],
      "source": [
        "train_input[:5]"
      ]
    },
    {
      "cell_type": "markdown",
      "id": "42a16c7b",
      "metadata": {
        "id": "42a16c7b"
      },
      "source": [
        "## 정규화"
      ]
    },
    {
      "cell_type": "code",
      "execution_count": null,
      "id": "ea77c8b9",
      "metadata": {
        "ExecuteTime": {
          "end_time": "2023-10-25T03:25:18.297457Z",
          "start_time": "2023-10-25T03:25:18.289493Z"
        },
        "id": "ea77c8b9"
      },
      "outputs": [],
      "source": [
        "ss = StandardScaler()\n",
        "train_scaled = ss.fit_transform(train_input)\n",
        "test_scaled = ss.transform(test_input)"
      ]
    },
    {
      "cell_type": "markdown",
      "id": "be53a6b9",
      "metadata": {
        "id": "be53a6b9"
      },
      "source": [
        "## 로지스틱 회귀 모델링\n",
        "\n",
        "- 이진분류 문제 중 암에 걸렸는지 찾는 문제에서 진단이 암일 경우는 1, 암이 아닐경우는 0을 의미\n",
        "- 분석을 통해 알아내려는 값을 1로 둔다"
      ]
    },
    {
      "cell_type": "code",
      "execution_count": null,
      "id": "2fb01938",
      "metadata": {
        "ExecuteTime": {
          "end_time": "2023-10-25T03:25:33.147493Z",
          "start_time": "2023-10-25T03:25:33.133185Z"
        },
        "colab": {
          "base_uri": "https://localhost:8080/",
          "height": 75
        },
        "id": "2fb01938",
        "outputId": "68f5993b-27dc-46d3-b57e-ef8b06d51a0e"
      },
      "outputs": [
        {
          "output_type": "execute_result",
          "data": {
            "text/plain": [
              "LogisticRegression()"
            ],
            "text/html": [
              "<style>#sk-container-id-2 {color: black;background-color: white;}#sk-container-id-2 pre{padding: 0;}#sk-container-id-2 div.sk-toggleable {background-color: white;}#sk-container-id-2 label.sk-toggleable__label {cursor: pointer;display: block;width: 100%;margin-bottom: 0;padding: 0.3em;box-sizing: border-box;text-align: center;}#sk-container-id-2 label.sk-toggleable__label-arrow:before {content: \"▸\";float: left;margin-right: 0.25em;color: #696969;}#sk-container-id-2 label.sk-toggleable__label-arrow:hover:before {color: black;}#sk-container-id-2 div.sk-estimator:hover label.sk-toggleable__label-arrow:before {color: black;}#sk-container-id-2 div.sk-toggleable__content {max-height: 0;max-width: 0;overflow: hidden;text-align: left;background-color: #f0f8ff;}#sk-container-id-2 div.sk-toggleable__content pre {margin: 0.2em;color: black;border-radius: 0.25em;background-color: #f0f8ff;}#sk-container-id-2 input.sk-toggleable__control:checked~div.sk-toggleable__content {max-height: 200px;max-width: 100%;overflow: auto;}#sk-container-id-2 input.sk-toggleable__control:checked~label.sk-toggleable__label-arrow:before {content: \"▾\";}#sk-container-id-2 div.sk-estimator input.sk-toggleable__control:checked~label.sk-toggleable__label {background-color: #d4ebff;}#sk-container-id-2 div.sk-label input.sk-toggleable__control:checked~label.sk-toggleable__label {background-color: #d4ebff;}#sk-container-id-2 input.sk-hidden--visually {border: 0;clip: rect(1px 1px 1px 1px);clip: rect(1px, 1px, 1px, 1px);height: 1px;margin: -1px;overflow: hidden;padding: 0;position: absolute;width: 1px;}#sk-container-id-2 div.sk-estimator {font-family: monospace;background-color: #f0f8ff;border: 1px dotted black;border-radius: 0.25em;box-sizing: border-box;margin-bottom: 0.5em;}#sk-container-id-2 div.sk-estimator:hover {background-color: #d4ebff;}#sk-container-id-2 div.sk-parallel-item::after {content: \"\";width: 100%;border-bottom: 1px solid gray;flex-grow: 1;}#sk-container-id-2 div.sk-label:hover label.sk-toggleable__label {background-color: #d4ebff;}#sk-container-id-2 div.sk-serial::before {content: \"\";position: absolute;border-left: 1px solid gray;box-sizing: border-box;top: 0;bottom: 0;left: 50%;z-index: 0;}#sk-container-id-2 div.sk-serial {display: flex;flex-direction: column;align-items: center;background-color: white;padding-right: 0.2em;padding-left: 0.2em;position: relative;}#sk-container-id-2 div.sk-item {position: relative;z-index: 1;}#sk-container-id-2 div.sk-parallel {display: flex;align-items: stretch;justify-content: center;background-color: white;position: relative;}#sk-container-id-2 div.sk-item::before, #sk-container-id-2 div.sk-parallel-item::before {content: \"\";position: absolute;border-left: 1px solid gray;box-sizing: border-box;top: 0;bottom: 0;left: 50%;z-index: -1;}#sk-container-id-2 div.sk-parallel-item {display: flex;flex-direction: column;z-index: 1;position: relative;background-color: white;}#sk-container-id-2 div.sk-parallel-item:first-child::after {align-self: flex-end;width: 50%;}#sk-container-id-2 div.sk-parallel-item:last-child::after {align-self: flex-start;width: 50%;}#sk-container-id-2 div.sk-parallel-item:only-child::after {width: 0;}#sk-container-id-2 div.sk-dashed-wrapped {border: 1px dashed gray;margin: 0 0.4em 0.5em 0.4em;box-sizing: border-box;padding-bottom: 0.4em;background-color: white;}#sk-container-id-2 div.sk-label label {font-family: monospace;font-weight: bold;display: inline-block;line-height: 1.2em;}#sk-container-id-2 div.sk-label-container {text-align: center;}#sk-container-id-2 div.sk-container {/* jupyter's `normalize.less` sets `[hidden] { display: none; }` but bootstrap.min.css set `[hidden] { display: none !important; }` so we also need the `!important` here to be able to override the default hidden behavior on the sphinx rendered scikit-learn.org. See: https://github.com/scikit-learn/scikit-learn/issues/21755 */display: inline-block !important;position: relative;}#sk-container-id-2 div.sk-text-repr-fallback {display: none;}</style><div id=\"sk-container-id-2\" class=\"sk-top-container\"><div class=\"sk-text-repr-fallback\"><pre>LogisticRegression()</pre><b>In a Jupyter environment, please rerun this cell to show the HTML representation or trust the notebook. <br />On GitHub, the HTML representation is unable to render, please try loading this page with nbviewer.org.</b></div><div class=\"sk-container\" hidden><div class=\"sk-item\"><div class=\"sk-estimator sk-toggleable\"><input class=\"sk-toggleable__control sk-hidden--visually\" id=\"sk-estimator-id-2\" type=\"checkbox\" checked><label for=\"sk-estimator-id-2\" class=\"sk-toggleable__label sk-toggleable__label-arrow\">LogisticRegression</label><div class=\"sk-toggleable__content\"><pre>LogisticRegression()</pre></div></div></div></div></div>"
            ]
          },
          "metadata": {},
          "execution_count": 43
        }
      ],
      "source": [
        "model = LogisticRegression() # C=1\n",
        "model.fit(train_scaled, train_target)"
      ]
    },
    {
      "cell_type": "code",
      "execution_count": null,
      "id": "9cafe3f9",
      "metadata": {
        "ExecuteTime": {
          "end_time": "2023-10-25T02:31:20.011181Z",
          "start_time": "2023-10-25T02:31:19.999348Z"
        },
        "colab": {
          "base_uri": "https://localhost:8080/"
        },
        "id": "9cafe3f9",
        "outputId": "090207da-42ed-42d7-af27-e0afbb6493d9"
      },
      "outputs": [
        {
          "output_type": "execute_result",
          "data": {
            "text/plain": [
              "0.9874371859296482"
            ]
          },
          "metadata": {},
          "execution_count": 44
        }
      ],
      "source": [
        "model.score(train_scaled, train_target)"
      ]
    },
    {
      "cell_type": "code",
      "execution_count": null,
      "id": "1a0acc4c",
      "metadata": {
        "ExecuteTime": {
          "end_time": "2023-10-25T02:31:36.565648Z",
          "start_time": "2023-10-25T02:31:36.558375Z"
        },
        "colab": {
          "base_uri": "https://localhost:8080/"
        },
        "id": "1a0acc4c",
        "outputId": "9b223188-2be4-42a2-a104-a4e731b9523c"
      },
      "outputs": [
        {
          "output_type": "execute_result",
          "data": {
            "text/plain": [
              "0.9883040935672515"
            ]
          },
          "metadata": {},
          "execution_count": 45
        }
      ],
      "source": [
        "model.score(test_scaled, test_target)"
      ]
    },
    {
      "cell_type": "code",
      "execution_count": null,
      "id": "3341424b",
      "metadata": {
        "ExecuteTime": {
          "end_time": "2023-10-25T04:50:20.508215Z",
          "start_time": "2023-10-25T04:50:20.492298Z"
        },
        "colab": {
          "base_uri": "https://localhost:8080/"
        },
        "id": "3341424b",
        "outputId": "cae256b0-7584-45db-cedf-f6522810819e"
      },
      "outputs": [
        {
          "output_type": "execute_result",
          "data": {
            "text/plain": [
              "array([[0.968, 0.032],\n",
              "       [0.05 , 0.95 ],\n",
              "       [0.017, 0.983],\n",
              "       [0.999, 0.001],\n",
              "       [0.717, 0.283],\n",
              "       [0.999, 0.001],\n",
              "       [0.   , 1.   ],\n",
              "       [0.998, 0.002],\n",
              "       [0.018, 0.982],\n",
              "       [1.   , 0.   ],\n",
              "       [0.   , 1.   ],\n",
              "       [0.008, 0.992],\n",
              "       [0.997, 0.003],\n",
              "       [0.131, 0.869],\n",
              "       [0.001, 0.999],\n",
              "       [0.713, 0.287],\n",
              "       [1.   , 0.   ],\n",
              "       [0.14 , 0.86 ],\n",
              "       [0.001, 0.999],\n",
              "       [0.014, 0.986],\n",
              "       [0.008, 0.992],\n",
              "       [0.108, 0.892],\n",
              "       [0.022, 0.978],\n",
              "       [1.   , 0.   ],\n",
              "       [1.   , 0.   ],\n",
              "       [0.142, 0.858],\n",
              "       [0.002, 0.998],\n",
              "       [0.012, 0.988],\n",
              "       [0.999, 0.001],\n",
              "       [1.   , 0.   ],\n",
              "       [0.118, 0.882],\n",
              "       [1.   , 0.   ],\n",
              "       [0.008, 0.992],\n",
              "       [0.001, 0.999],\n",
              "       [1.   , 0.   ],\n",
              "       [0.   , 1.   ],\n",
              "       [0.165, 0.835],\n",
              "       [0.001, 0.999],\n",
              "       [0.008, 0.992],\n",
              "       [0.095, 0.905],\n",
              "       [0.054, 0.946],\n",
              "       [0.999, 0.001],\n",
              "       [0.   , 1.   ],\n",
              "       [0.   , 1.   ],\n",
              "       [0.001, 0.999],\n",
              "       [0.376, 0.624],\n",
              "       [0.095, 0.905],\n",
              "       [0.   , 1.   ],\n",
              "       [0.   , 1.   ],\n",
              "       [0.999, 0.001],\n",
              "       [0.001, 0.999],\n",
              "       [0.009, 0.991],\n",
              "       [1.   , 0.   ],\n",
              "       [1.   , 0.   ],\n",
              "       [0.001, 0.999],\n",
              "       [0.01 , 0.99 ],\n",
              "       [1.   , 0.   ],\n",
              "       [0.001, 0.999],\n",
              "       [0.149, 0.851],\n",
              "       [0.322, 0.678],\n",
              "       [1.   , 0.   ],\n",
              "       [1.   , 0.   ],\n",
              "       [1.   , 0.   ],\n",
              "       [0.   , 1.   ],\n",
              "       [0.   , 1.   ],\n",
              "       [0.006, 0.994],\n",
              "       [0.049, 0.951],\n",
              "       [1.   , 0.   ],\n",
              "       [0.   , 1.   ],\n",
              "       [0.003, 0.997],\n",
              "       [1.   , 0.   ],\n",
              "       [0.998, 0.002],\n",
              "       [1.   , 0.   ],\n",
              "       [1.   , 0.   ],\n",
              "       [0.073, 0.927],\n",
              "       [0.   , 1.   ],\n",
              "       [0.149, 0.851],\n",
              "       [0.004, 0.996],\n",
              "       [1.   , 0.   ],\n",
              "       [0.002, 0.998],\n",
              "       [0.   , 1.   ],\n",
              "       [0.033, 0.967],\n",
              "       [1.   , 0.   ],\n",
              "       [0.   , 1.   ],\n",
              "       [1.   , 0.   ],\n",
              "       [0.   , 1.   ],\n",
              "       [0.003, 0.997],\n",
              "       [1.   , 0.   ],\n",
              "       [1.   , 0.   ],\n",
              "       [1.   , 0.   ],\n",
              "       [1.   , 0.   ],\n",
              "       [0.003, 0.997],\n",
              "       [0.017, 0.983],\n",
              "       [0.   , 1.   ],\n",
              "       [0.   , 1.   ],\n",
              "       [0.016, 0.984],\n",
              "       [0.978, 0.022],\n",
              "       [0.001, 0.999],\n",
              "       [0.649, 0.351],\n",
              "       [0.   , 1.   ],\n",
              "       [0.09 , 0.91 ],\n",
              "       [0.   , 1.   ],\n",
              "       [0.03 , 0.97 ],\n",
              "       [0.99 , 0.01 ],\n",
              "       [0.439, 0.561],\n",
              "       [0.005, 0.995],\n",
              "       [0.126, 0.874],\n",
              "       [0.002, 0.998],\n",
              "       [0.991, 0.009],\n",
              "       [0.001, 0.999],\n",
              "       [0.64 , 0.36 ],\n",
              "       [0.018, 0.982],\n",
              "       [0.938, 0.062],\n",
              "       [0.   , 1.   ],\n",
              "       [0.001, 0.999],\n",
              "       [0.782, 0.218],\n",
              "       [0.793, 0.207],\n",
              "       [0.456, 0.544],\n",
              "       [0.   , 1.   ],\n",
              "       [1.   , 0.   ],\n",
              "       [0.016, 0.984],\n",
              "       [0.001, 0.999],\n",
              "       [1.   , 0.   ],\n",
              "       [0.002, 0.998],\n",
              "       [0.79 , 0.21 ],\n",
              "       [0.001, 0.999],\n",
              "       [0.096, 0.904],\n",
              "       [0.996, 0.004],\n",
              "       [0.016, 0.984],\n",
              "       [0.012, 0.988],\n",
              "       [0.031, 0.969],\n",
              "       [0.001, 0.999],\n",
              "       [1.   , 0.   ],\n",
              "       [0.002, 0.998],\n",
              "       [1.   , 0.   ],\n",
              "       [0.   , 1.   ],\n",
              "       [0.996, 0.004],\n",
              "       [0.152, 0.848],\n",
              "       [0.718, 0.282],\n",
              "       [0.068, 0.932],\n",
              "       [0.001, 0.999],\n",
              "       [0.   , 1.   ],\n",
              "       [1.   , 0.   ],\n",
              "       [1.   , 0.   ],\n",
              "       [1.   , 0.   ],\n",
              "       [1.   , 0.   ],\n",
              "       [1.   , 0.   ],\n",
              "       [0.   , 1.   ],\n",
              "       [0.625, 0.375],\n",
              "       [0.   , 1.   ],\n",
              "       [0.   , 1.   ],\n",
              "       [0.   , 1.   ],\n",
              "       [1.   , 0.   ],\n",
              "       [0.014, 0.986],\n",
              "       [0.999, 0.001],\n",
              "       [0.003, 0.997],\n",
              "       [0.   , 1.   ],\n",
              "       [1.   , 0.   ],\n",
              "       [0.001, 0.999],\n",
              "       [0.006, 0.994],\n",
              "       [0.992, 0.008],\n",
              "       [0.975, 0.025],\n",
              "       [0.182, 0.818],\n",
              "       [0.012, 0.988],\n",
              "       [1.   , 0.   ],\n",
              "       [0.001, 0.999],\n",
              "       [0.   , 1.   ],\n",
              "       [0.   , 1.   ],\n",
              "       [0.453, 0.547],\n",
              "       [0.912, 0.088],\n",
              "       [0.   , 1.   ]])"
            ]
          },
          "metadata": {},
          "execution_count": 46
        }
      ],
      "source": [
        "# test_scaled에 대한 p(y=0) 예측 확률값과 p(y=1) 예측 확률값\n",
        "np.round(model.predict_proba(test_scaled), decimals = 3)"
      ]
    },
    {
      "cell_type": "markdown",
      "id": "d1d7441c",
      "metadata": {
        "id": "d1d7441c"
      },
      "source": [
        "- 위에서 도출된 결과의 첫번째 칼럼이 y = 0일 확률, 두번째 컬럼이 y = 1 유방암일 확률을 나타낸다."
      ]
    },
    {
      "cell_type": "code",
      "execution_count": null,
      "id": "3cca971c",
      "metadata": {
        "ExecuteTime": {
          "end_time": "2023-10-25T04:44:35.612400Z",
          "start_time": "2023-10-25T04:44:35.592771Z"
        },
        "colab": {
          "base_uri": "https://localhost:8080/"
        },
        "id": "3cca971c",
        "outputId": "059478c0-c65b-444d-ad21-62130e447000"
      },
      "outputs": [
        {
          "output_type": "stream",
          "name": "stdout",
          "text": [
            "0.9974874371859297\n",
            "0.9532163742690059\n"
          ]
        }
      ],
      "source": [
        "# 모델의 제약을 풀어주기 위한 규제 C를 증가해보자\n",
        "\n",
        "model100 = LogisticRegression(C=100).fit(train_scaled, train_target)\n",
        "print(model100.score(train_scaled, train_target))\n",
        "print(model100.score(test_scaled, test_target))"
      ]
    },
    {
      "cell_type": "code",
      "execution_count": null,
      "id": "e9b649a4",
      "metadata": {
        "ExecuteTime": {
          "end_time": "2023-10-25T04:44:37.811712Z",
          "start_time": "2023-10-25T04:44:37.800206Z"
        },
        "colab": {
          "base_uri": "https://localhost:8080/"
        },
        "id": "e9b649a4",
        "outputId": "9a18a9c4-0f3f-43de-b2a6-f593b4f084e3"
      },
      "outputs": [
        {
          "output_type": "stream",
          "name": "stdout",
          "text": [
            "0.957286432160804\n",
            "0.9415204678362573\n"
          ]
        }
      ],
      "source": [
        "model001 = LogisticRegression(C=0.01).fit(train_scaled, train_target)\n",
        "print(model001.score(train_scaled, train_target))\n",
        "print(model001.score(test_scaled, test_target))"
      ]
    },
    {
      "cell_type": "code",
      "execution_count": null,
      "id": "bc82e145",
      "metadata": {
        "ExecuteTime": {
          "end_time": "2023-10-25T04:52:24.720957Z",
          "start_time": "2023-10-25T04:52:24.711192Z"
        },
        "colab": {
          "base_uri": "https://localhost:8080/"
        },
        "id": "bc82e145",
        "outputId": "cd831b09-0d00-492c-87c9-7d7e744cd55a"
      },
      "outputs": [
        {
          "output_type": "execute_result",
          "data": {
            "text/plain": [
              "array([ -914.97759675,  -818.5732959 ,  -684.20446115, -1006.51444482,\n",
              "        -797.92531079])"
            ]
          },
          "metadata": {},
          "execution_count": 49
        }
      ],
      "source": [
        "# z값 도출\n",
        "decisions = model.decision_function(train_input[:5])\n",
        "decisions"
      ]
    },
    {
      "cell_type": "markdown",
      "id": "c3d2237f",
      "metadata": {
        "id": "c3d2237f"
      },
      "source": [
        "# 분류 평가지표를 통한 성능 평가\n",
        "\n",
        "<img src=\"images/test.png\" width=\"500px\" height=\"300px\"></img>"
      ]
    },
    {
      "cell_type": "code",
      "execution_count": null,
      "id": "d074f1ef",
      "metadata": {
        "ExecuteTime": {
          "end_time": "2023-10-25T05:37:01.880983Z",
          "start_time": "2023-10-25T05:37:01.865787Z"
        },
        "colab": {
          "base_uri": "https://localhost:8080/"
        },
        "id": "d074f1ef",
        "outputId": "980cb41d-c585-47ce-a551-57e9a605c1b5"
      },
      "outputs": [
        {
          "output_type": "execute_result",
          "data": {
            "text/plain": [
              "array([[ 63,   1],\n",
              "       [  1, 106]])"
            ]
          },
          "metadata": {},
          "execution_count": 50
        }
      ],
      "source": [
        "from sklearn.metrics import accuracy_score, precision_score, recall_score, roc_auc_score\n",
        "from sklearn.metrics import f1_score, confusion_matrix, roc_curve, precision_recall_curve\n",
        "# 예측\n",
        "pred = model.predict(test_scaled)\n",
        "\n",
        "cm = confusion_matrix(test_target, pred)\n",
        "cm"
      ]
    },
    {
      "cell_type": "code",
      "execution_count": null,
      "id": "ef6d34c2",
      "metadata": {
        "ExecuteTime": {
          "end_time": "2023-10-25T05:46:14.796222Z",
          "start_time": "2023-10-25T05:46:14.776830Z"
        },
        "id": "ef6d34c2"
      },
      "outputs": [],
      "source": [
        "# get(실제값, 예측값, 예측확률)\n",
        "def get(y_test, pred=None, pred_proba=None):\n",
        "    confusion = confusion_matrix(y_test, pred)\n",
        "    accuracy = accuracy_score(y_test, pred)\n",
        "    precision = precision_score(y_test, pred)\n",
        "    recall = recall_score(y_test, pred)\n",
        "    f1 = f1_score(y_test, pred)\n",
        "    roc_auc = roc_auc_score(y_test, pred_proba)\n",
        "\n",
        "    print('오차 행렬(혼돈 행렬)')\n",
        "    print(confusion)\n",
        "\n",
        "    print(f'정확도:{accuracy:.4f}, 정밀도:{precision:.4f}, 재현율:{recall:.4f}, F1:{f1:.4f}, AUC:{roc_auc:.4f}')"
      ]
    },
    {
      "cell_type": "code",
      "execution_count": null,
      "id": "3c61bbee",
      "metadata": {
        "ExecuteTime": {
          "end_time": "2023-10-25T05:50:49.317199Z",
          "start_time": "2023-10-25T05:50:49.312198Z"
        },
        "id": "3c61bbee"
      },
      "outputs": [],
      "source": [
        "pred_proba_po = model.predict_proba(test_scaled)[:, 1].reshape(-1, 1)"
      ]
    },
    {
      "cell_type": "code",
      "execution_count": null,
      "id": "e99bf997",
      "metadata": {
        "ExecuteTime": {
          "end_time": "2023-10-25T05:50:49.925464Z",
          "start_time": "2023-10-25T05:50:49.908614Z"
        },
        "colab": {
          "base_uri": "https://localhost:8080/"
        },
        "id": "e99bf997",
        "outputId": "8181054f-7d38-411e-a743-177faabf9079"
      },
      "outputs": [
        {
          "output_type": "stream",
          "name": "stdout",
          "text": [
            "오차 행렬(혼돈 행렬)\n",
            "[[ 63   1]\n",
            " [  1 106]]\n",
            "정확도:0.9883, 정밀도:0.9907, 재현율:0.9907, F1:0.9907, AUC:0.9981\n"
          ]
        }
      ],
      "source": [
        "get(test_target, pred, pred_proba_po)"
      ]
    },
    {
      "cell_type": "markdown",
      "id": "c203ddd5",
      "metadata": {
        "id": "c203ddd5"
      },
      "source": [
        "## 정확도(Accuracy)\n",
        "\n",
        "- 전체 샘플 중 맞게 예측한 샘플 수의 비융\n",
        "- accuracy_score(y_true, y_pred)\n",
        "\n",
        "\n",
        "- 정확도(Accuracy) = $\\frac{예측 결과가 동일한 데이터 건수}{전체 예측 데이터 건수}$"
      ]
    },
    {
      "cell_type": "markdown",
      "id": "ac405367",
      "metadata": {
        "id": "ac405367"
      },
      "source": [
        "## 오차행렬(Confusion Matrix) or 혼돈 행렬\n",
        "\n",
        "- 이진분류의 성능지표를 잘 활용된다.\n",
        "- 이진분류의 예측 오류가 얼마인지 어떠한 유형의 예측 오류가 발생하고 있는지를 함께 나타낸다.\n",
        "- Negative : 0, Positive : 1\n",
        "- TN : 예측값과 실제값이 모두 Negative 0으로 예측\n",
        "- FP : 예측은 Positive 1인데 실제값은 Negative 0\n",
        "- FN : 예측은 Negative 0인데 실제값은 Positive 1\n",
        "- TP : 예측과 실제값 모두 Positive 1로 예측\n",
        "- confusion_matrix(y_true, y_pred)"
      ]
    },
    {
      "cell_type": "markdown",
      "id": "c6b31fa7",
      "metadata": {
        "id": "c6b31fa7"
      },
      "source": [
        "## 정밀도(Precision)\n",
        "\n",
        "- 예측과 실제값이 Positive로 일치하는 데이터의 비율\n",
        "- 높을수록 좋은 모델이다.\n",
        "- 불균형한 데이터셋을 다룰 때 유용한 지표\n",
        "- precision_score(y_true, y_pred)\n",
        "\n",
        "\n",
        "- 정밀도(Precision) = $\\frac{TP}{TP + FP}$"
      ]
    },
    {
      "cell_type": "markdown",
      "id": "c57ef0b4",
      "metadata": {
        "id": "c57ef0b4"
      },
      "source": [
        "## 재현율(Recall)\n",
        "\n",
        "- 실제값이 Positive인 대상 중 예측과 실제값이 Positive로 일치한 데이터의 비율\n",
        "- 민감도(Sensitivity) 또는 TPR(True Positive Rate)라고도 부름\n",
        "- recall_score(y_true, y_pred)\n",
        "\n",
        "\n",
        "- 재현율(Recall) = $\\frac{TP}{TP + FN}$"
      ]
    },
    {
      "cell_type": "code",
      "source": [
        "# 정밀도와 재현율 관계 시각화\n",
        "def prc(y_test, pred_proba_c1):\n",
        "    precisions, recalls, thresholds = precision_recall_curve(y_test, pred_proba_c1)\n",
        "    plt.figure(figsize= (10, 10))\n",
        "    boundary= thresholds.shape[0]\n",
        "    plt.plot(thresholds, precisions[0:boundary], linestyle='--', label= 'precision')\n",
        "    plt.plot(thresholds, recalls[0:boundary], label='recall')\n",
        "\n",
        "    start, end = plt.xlim()\n",
        "    plt.xticks(np.round(np.arange(start, end, 0.1), 2))\n",
        "    plt.xlabel('threshold value') # 임계값\n",
        "    plt.ylabel('precision and recall')\n",
        "    plt.legend()\n",
        "    plt.grid()\n",
        "    plt.show()"
      ],
      "metadata": {
        "id": "2_hmP6EXeVKM"
      },
      "id": "2_hmP6EXeVKM",
      "execution_count": null,
      "outputs": []
    },
    {
      "cell_type": "code",
      "source": [
        "prc(test_target, pred_proba_po)"
      ],
      "metadata": {
        "colab": {
          "base_uri": "https://localhost:8080/",
          "height": 850
        },
        "id": "GL7wxEe_h5z0",
        "outputId": "e9a3a141-28b4-4609-f357-629559ea466b"
      },
      "id": "GL7wxEe_h5z0",
      "execution_count": null,
      "outputs": [
        {
          "output_type": "display_data",
          "data": {
            "text/plain": [
              "<Figure size 1000x1000 with 1 Axes>"
            ],
            "image/png": "[encoded data removed]"
          },
          "metadata": {}
        }
      ]
    },
    {
      "cell_type": "markdown",
      "source": [
        "- 최적의 임계값 0.55"
      ],
      "metadata": {
        "id": "_kSDPLIzjUg0"
      },
      "id": "_kSDPLIzjUg0"
    },
    {
      "cell_type": "code",
      "source": [
        "# 참고로 위에 코드 궁금하면\n",
        "precisions, recalls, thresholds = precision_recall_curve(test_target, pred_proba_po)\n",
        "print(thresholds)"
      ],
      "metadata": {
        "colab": {
          "base_uri": "https://localhost:8080/"
        },
        "id": "jmWDFowHfTgs",
        "outputId": "10c07da0-bcc9-48c6-c22f-c85f38156b3c"
      },
      "id": "jmWDFowHfTgs",
      "execution_count": null,
      "outputs": [
        {
          "output_type": "stream",
          "name": "stdout",
          "text": [
            "[1.16149719e-22 6.77717307e-17 6.71522239e-13 6.63067584e-11\n",
            " 3.54345220e-10 2.36350770e-09 1.09876494e-08 1.70488757e-08\n",
            " 7.17524698e-08 1.75979461e-07 3.31978368e-07 9.26112285e-07\n",
            " 9.50701382e-07 1.34195685e-06 1.74005149e-06 2.33528816e-06\n",
            " 3.66505068e-06 9.01861987e-06 9.07106953e-06 1.10280607e-05\n",
            " 1.21137686e-05 1.51341942e-05 3.61535905e-05 3.64753280e-05\n",
            " 4.67463813e-05 6.02703723e-05 7.32926379e-05 7.98283284e-05\n",
            " 9.21489830e-05 1.45476738e-04 1.99718105e-04 2.21296122e-04\n",
            " 3.81550826e-04 3.84924518e-04 4.21596980e-04 4.94578639e-04\n",
            " 7.61350352e-04 8.64070807e-04 8.84835576e-04 1.04663511e-03\n",
            " 1.06381969e-03 1.37163217e-03 1.56014365e-03 2.08330615e-03\n",
            " 2.54661818e-03 3.79879731e-03 4.38593319e-03 7.81465387e-03\n",
            " 9.17655262e-03 1.01553098e-02 2.21759246e-02 2.50979182e-02\n",
            " 3.22489701e-02 6.24757686e-02 8.76456808e-02 2.06763808e-01\n",
            " 2.09577016e-01 2.17923771e-01 2.82081042e-01 2.82580610e-01\n",
            " 2.87376041e-01 3.51017014e-01 3.59720396e-01 3.74570162e-01\n",
            " 5.43994886e-01 5.47259613e-01 5.60594797e-01 6.23806075e-01\n",
            " 6.78179011e-01 8.18151359e-01 8.35039073e-01 8.48428357e-01\n",
            " 8.50654259e-01 8.50774311e-01 8.57870102e-01 8.60186389e-01\n",
            " 8.69481482e-01 8.74152230e-01 8.81598463e-01 8.91672094e-01\n",
            " 9.04215237e-01 9.04503703e-01 9.05365271e-01 9.09924306e-01\n",
            " 9.27067955e-01 9.32484315e-01 9.45867744e-01 9.49959867e-01\n",
            " 9.51195156e-01 9.66580503e-01 9.68984818e-01 9.69857816e-01\n",
            " 9.77587572e-01 9.81857372e-01 9.82493079e-01 9.83145090e-01\n",
            " 9.83295216e-01 9.83770546e-01 9.84036274e-01 9.84307391e-01\n",
            " 9.86129453e-01 9.86226916e-01 9.87802490e-01 9.88061296e-01\n",
            " 9.88107257e-01 9.90221674e-01 9.91327472e-01 9.91586200e-01\n",
            " 9.91644034e-01 9.92209632e-01 9.92294397e-01 9.94098655e-01\n",
            " 9.94440231e-01 9.94917214e-01 9.96006357e-01 9.96887026e-01\n",
            " 9.97051474e-01 9.97224504e-01 9.97250041e-01 9.97586090e-01\n",
            " 9.98089626e-01 9.98289146e-01 9.98428427e-01 9.98461186e-01\n",
            " 9.98528084e-01 9.98556063e-01 9.98620844e-01 9.98659796e-01\n",
            " 9.98676860e-01 9.98682499e-01 9.98847860e-01 9.98878398e-01\n",
            " 9.98948885e-01 9.98987752e-01 9.99090311e-01 9.99136139e-01\n",
            " 9.99334313e-01 9.99380428e-01 9.99382055e-01 9.99390431e-01\n",
            " 9.99487714e-01 9.99511009e-01 9.99530032e-01 9.99532692e-01\n",
            " 9.99657135e-01 9.99670442e-01 9.99692620e-01 9.99739113e-01\n",
            " 9.99760980e-01 9.99822077e-01 9.99860871e-01 9.99865387e-01\n",
            " 9.99887975e-01 9.99890534e-01 9.99911101e-01 9.99929646e-01\n",
            " 9.99937667e-01 9.99938009e-01 9.99973382e-01 9.99976288e-01\n",
            " 9.99977207e-01 9.99978346e-01 9.99979196e-01 9.99982654e-01\n",
            " 9.99985275e-01 9.99992332e-01 9.99995004e-01 9.99997409e-01\n",
            " 9.99998872e-01 9.99999030e-01 9.99999950e-01]\n"
          ]
        }
      ]
    },
    {
      "cell_type": "markdown",
      "id": "cfac270a",
      "metadata": {
        "id": "cfac270a"
      },
      "source": [
        "## 특이도(Specificity)\n",
        "\n",
        "- 실제값 Negative를 Negative로 예측한 비율\n",
        "\n",
        "\n",
        "- 특이도(Specificity)  = $\\frac{TN}{FP + TN}$"
      ]
    },
    {
      "cell_type": "markdown",
      "id": "280f35d5",
      "metadata": {
        "id": "280f35d5"
      },
      "source": [
        "## F1 스코어\n",
        "\n",
        "- 정밀도와 재현율을 결합한 지표\n",
        "- 정밀도와 재현율이 어느 한쪽으로 치우치지 않는 수치를 나타낼 때 상대적으로 높은 값을 가진다.\n",
        "- f1_score(y_true, y_pred)\n",
        "\n",
        "\n",
        "- F1 = $2 * \\frac{precision * recall}{precision + recall}$"
      ]
    },
    {
      "cell_type": "markdown",
      "id": "739329b4",
      "metadata": {
        "id": "739329b4"
      },
      "source": [
        "## ROC/AUC curve 곡선\n",
        "\n",
        "- ROC 곡선은 FPR(False Positive Rate)이 변할 때 TPR(True Positive Rate)이 어떻게 변하는지를 나타내는 곡선(FPR을 x축, TPR=재현율을 y축)\n",
        "- AUC(Area Under Curve) 값은 ROC 곡선 밑의 면적을 구한 것으로 일반적으로 1에 가까울수록 좋은 수치이다."
      ]
    },
    {
      "cell_type": "markdown",
      "id": "8f91fb84",
      "metadata": {
        "id": "8f91fb84"
      },
      "source": [
        "## 기타 평가 지표\n",
        "\n",
        "- classfication_report(y_true, y_pred)"
      ]
    },
    {
      "cell_type": "code",
      "execution_count": null,
      "id": "efa66559",
      "metadata": {
        "colab": {
          "base_uri": "https://localhost:8080/"
        },
        "id": "efa66559",
        "outputId": "42ae1503-2c37-4a78-9bf5-0cca7135080a"
      },
      "outputs": [
        {
          "output_type": "execute_result",
          "data": {
            "text/plain": [
              "(171, 1)"
            ]
          },
          "metadata": {},
          "execution_count": 60
        }
      ],
      "source": [
        "pred_proba_po.shape # 암환자라고 예측한 값들"
      ]
    },
    {
      "cell_type": "code",
      "source": [
        "cut_off = [0.4, 0.45, 0.50, 0.55, 0.60]\n",
        "\n",
        "for cut in cut_off:\n",
        "    # 확률값이 cut값보다 크면 1(유방암), 0(유방암x)\n",
        "    y_pred = np.where(pred_proba_po.reshape(-1) >= cut, 1, 0)\n",
        "    acc = accuracy_score(test_target, y_pred)\n",
        "    recall = recall_score(test_target, y_pred)\n",
        "    precision = precision_score(test_target, y_pred)\n",
        "\n",
        "    print(f\"정확도:{acc:.2f},  재현율:{recall:.2f}, 정밀도:{precision:.2f}\")\n"
      ],
      "metadata": {
        "colab": {
          "base_uri": "https://localhost:8080/"
        },
        "id": "b-iS20_WjSxw",
        "outputId": "e49c87c2-d10f-4d8b-e07a-a563cc49f731"
      },
      "id": "b-iS20_WjSxw",
      "execution_count": null,
      "outputs": [
        {
          "output_type": "stream",
          "name": "stdout",
          "text": [
            "정확도:0.99,  재현율:0.99, 정밀도:0.99\n",
            "정확도:0.99,  재현율:0.99, 정밀도:0.99\n",
            "정확도:0.99,  재현율:0.99, 정밀도:0.99\n",
            "정확도:0.98,  재현율:0.97, 정밀도:0.99\n",
            "정확도:0.97,  재현율:0.96, 정밀도:0.99\n"
          ]
        }
      ]
    },
    {
      "cell_type": "code",
      "source": [],
      "metadata": {
        "id": "PU5iaheYlpH1"
      },
      "id": "PU5iaheYlpH1",
      "execution_count": null,
      "outputs": []
    }
  ],
  "metadata": {
    "kernelspec": {
      "display_name": "Python 3 (ipykernel)",
      "language": "python",
      "name": "python3"
    },
    "language_info": {
      "codemirror_mode": {
        "name": "ipython",
        "version": 3
      },
      "file_extension": ".py",
      "mimetype": "text/x-python",
      "name": "python",
      "nbconvert_exporter": "python",
      "pygments_lexer": "ipython3",
      "version": "3.9.17"
    },
    "toc": {
      "base_numbering": 1,
      "nav_menu": {},
      "number_sections": true,
      "sideBar": true,
      "skip_h1_title": false,
      "title_cell": "Table of Contents",
      "title_sidebar": "Contents",
      "toc_cell": false,
      "toc_position": {
        "height": "calc(100% - 180px)",
        "left": "10px",
        "top": "150px",
        "width": "219.429px"
      },
      "toc_section_display": true,
      "toc_window_display": false
    },
    "varInspector": {
      "cols": {
        "lenName": 16,
        "lenType": 16,
        "lenVar": 40
      },
      "kernels_config": {
        "python": {
          "delete_cmd_postfix": "",
          "delete_cmd_prefix": "del ",
          "library": "var_list.py",
          "varRefreshCmd": "print(var_dic_list())"
        },
        "r": {
          "delete_cmd_postfix": ") ",
          "delete_cmd_prefix": "rm(",
          "library": "var_list.r",
          "varRefreshCmd": "cat(var_dic_list()) "
        }
      },
      "types_to_exclude": [
        "module",
        "function",
        "builtin_function_or_method",
        "instance",
        "_Feature"
      ],
      "window_display": false
    },
    "colab": {
      "provenance": [],
      "include_colab_link": true
    }
  },
  "nbformat": 4,
  "nbformat_minor": 5
}