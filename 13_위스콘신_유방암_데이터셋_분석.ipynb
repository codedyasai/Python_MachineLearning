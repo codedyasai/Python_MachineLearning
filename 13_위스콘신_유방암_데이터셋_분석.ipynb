{
  "nbformat": 4,
  "nbformat_minor": 0,
  "metadata": {
    "colab": {
      "provenance": [],
      "authorship_tag": "ABX9TyOPDSX7Io89X2n+AkGtC7lL",
      "include_colab_link": true
    },
    "kernelspec": {
      "name": "python3",
      "display_name": "Python 3"
    },
    "language_info": {
      "name": "python"
    }
  },
  "cells": [
    {
      "cell_type": "markdown",
      "metadata": {
        "id": "view-in-github",
        "colab_type": "text"
      },
      "source": [
        "<a href=\"https://colab.research.google.com/github/codedyasai/Python_MachineLearning/blob/main/13_%EC%9C%84%EC%8A%A4%EC%BD%98%EC%8B%A0_%EC%9C%A0%EB%B0%A9%EC%95%94_%EB%8D%B0%EC%9D%B4%ED%84%B0%EC%85%8B_%EB%B6%84%EC%84%9D.ipynb\" target=\"_parent\"><img src=\"https://colab.research.google.com/assets/colab-badge.svg\" alt=\"Open In Colab\"/></a>"
      ]
    },
    {
      "cell_type": "code",
      "execution_count": null,
      "metadata": {
        "colab": {
          "base_uri": "https://localhost:8080/"
        },
        "id": "l6Qt8EV9mDY4",
        "outputId": "3e8eab31-4d6d-427a-98c3-2b6948ecf5c1"
      },
      "outputs": [
        {
          "output_type": "stream",
          "name": "stdout",
          "text": [
            "Collecting mglearn\n",
            "  Downloading mglearn-0.2.0-py2.py3-none-any.whl (581 kB)\n",
            "\u001b[?25l     \u001b[90m━━━━━━━━━━━━━━━━━━━━━━━━━━━━━━━━━━━━━━━━\u001b[0m \u001b[32m0.0/581.4 kB\u001b[0m \u001b[31m?\u001b[0m eta \u001b[36m-:--:--\u001b[0m\r\u001b[2K     \u001b[91m━━━━━━━━━━━━━━\u001b[0m\u001b[90m╺\u001b[0m\u001b[90m━━━━━━━━━━━━━━━━━━━━━━━━━\u001b[0m \u001b[32m204.8/581.4 kB\u001b[0m \u001b[31m5.9 MB/s\u001b[0m eta \u001b[36m0:00:01\u001b[0m\r\u001b[2K     \u001b[90m━━━━━━━━━━━━━━━━━━━━━━━━━━━━━━━━━━━━━━━━\u001b[0m \u001b[32m581.4/581.4 kB\u001b[0m \u001b[31m11.1 MB/s\u001b[0m eta \u001b[36m0:00:00\u001b[0m\n",
            "\u001b[?25hRequirement already satisfied: numpy in /usr/local/lib/python3.10/dist-packages (from mglearn) (1.23.5)\n",
            "Requirement already satisfied: matplotlib in /usr/local/lib/python3.10/dist-packages (from mglearn) (3.7.1)\n",
            "Requirement already satisfied: scikit-learn in /usr/local/lib/python3.10/dist-packages (from mglearn) (1.2.2)\n",
            "Requirement already satisfied: pandas in /usr/local/lib/python3.10/dist-packages (from mglearn) (1.5.3)\n",
            "Requirement already satisfied: pillow in /usr/local/lib/python3.10/dist-packages (from mglearn) (9.4.0)\n",
            "Requirement already satisfied: cycler in /usr/local/lib/python3.10/dist-packages (from mglearn) (0.12.1)\n",
            "Requirement already satisfied: imageio in /usr/local/lib/python3.10/dist-packages (from mglearn) (2.31.6)\n",
            "Requirement already satisfied: joblib in /usr/local/lib/python3.10/dist-packages (from mglearn) (1.3.2)\n",
            "Requirement already satisfied: contourpy>=1.0.1 in /usr/local/lib/python3.10/dist-packages (from matplotlib->mglearn) (1.1.1)\n",
            "Requirement already satisfied: fonttools>=4.22.0 in /usr/local/lib/python3.10/dist-packages (from matplotlib->mglearn) (4.43.1)\n",
            "Requirement already satisfied: kiwisolver>=1.0.1 in /usr/local/lib/python3.10/dist-packages (from matplotlib->mglearn) (1.4.5)\n",
            "Requirement already satisfied: packaging>=20.0 in /usr/local/lib/python3.10/dist-packages (from matplotlib->mglearn) (23.2)\n",
            "Requirement already satisfied: pyparsing>=2.3.1 in /usr/local/lib/python3.10/dist-packages (from matplotlib->mglearn) (3.1.1)\n",
            "Requirement already satisfied: python-dateutil>=2.7 in /usr/local/lib/python3.10/dist-packages (from matplotlib->mglearn) (2.8.2)\n",
            "Requirement already satisfied: pytz>=2020.1 in /usr/local/lib/python3.10/dist-packages (from pandas->mglearn) (2023.3.post1)\n",
            "Requirement already satisfied: scipy>=1.3.2 in /usr/local/lib/python3.10/dist-packages (from scikit-learn->mglearn) (1.11.3)\n",
            "Requirement already satisfied: threadpoolctl>=2.0.0 in /usr/local/lib/python3.10/dist-packages (from scikit-learn->mglearn) (3.2.0)\n",
            "Requirement already satisfied: six>=1.5 in /usr/local/lib/python3.10/dist-packages (from python-dateutil>=2.7->matplotlib->mglearn) (1.16.0)\n",
            "Installing collected packages: mglearn\n",
            "Successfully installed mglearn-0.2.0\n"
          ]
        }
      ],
      "source": [
        "from IPython.display import display\n",
        "import numpy as np\n",
        "import pandas as pd\n",
        "import matplotlib.pyplot as plt\n",
        "import seaborn as sns\n",
        "!pip install mglearn\n",
        "import mglearn\n",
        "\n",
        "# 음수표현 라이브러리\n",
        "plt.rcParams['axes.unicode_minus'] = False\n",
        "\n",
        "# 경고무시\n",
        "import warnings\n",
        "warnings.filterwarnings(\"ignore\")\n",
        "\n",
        "# 매직명령어 : 시각화 결과가 노트북에 포함되도록\n",
        "%matplotlib inline"
      ]
    },
    {
      "cell_type": "markdown",
      "source": [
        "# 데이터셋 로딩"
      ],
      "metadata": {
        "id": "hEB22ZinmKj4"
      }
    },
    {
      "cell_type": "code",
      "source": [
        "from sklearn.datasets import load_breast_cancer\n",
        "from sklearn.model_selection import train_test_split\n",
        "\n",
        "cancer = load_breast_cancer()\n",
        "# dir(cancer)\n",
        "cancer.keys()"
      ],
      "metadata": {
        "colab": {
          "base_uri": "https://localhost:8080/"
        },
        "id": "fhfpsdtTmOZp",
        "outputId": "e63b39b2-b5b5-4ab1-ce92-59a19367d98c"
      },
      "execution_count": null,
      "outputs": [
        {
          "output_type": "execute_result",
          "data": {
            "text/plain": [
              "dict_keys(['data', 'target', 'frame', 'target_names', 'DESCR', 'feature_names', 'filename', 'data_module'])"
            ]
          },
          "metadata": {},
          "execution_count": 2
        }
      ]
    },
    {
      "cell_type": "code",
      "source": [
        "data = cancer.data\n",
        "target = cancer.target\n",
        "\n",
        "df = pd.DataFrame(cancer.data, columns= cancer.feature_names)"
      ],
      "metadata": {
        "id": "-T5c747ympBl"
      },
      "execution_count": null,
      "outputs": []
    },
    {
      "cell_type": "code",
      "source": [
        "# 양성(1) 유방암, 음성(0) 정상 데이터셋의 개수 파악 - 불균형한 데이터셋인지를 파악하기 위해\n",
        "np.unique(cancer.target, return_counts= True)"
      ],
      "metadata": {
        "colab": {
          "base_uri": "https://localhost:8080/"
        },
        "id": "cKHur8vfnWhb",
        "outputId": "cf257445-4bfb-46e6-c7e2-c4153079b044"
      },
      "execution_count": null,
      "outputs": [
        {
          "output_type": "execute_result",
          "data": {
            "text/plain": [
              "(array([0, 1]), array([212, 357]))"
            ]
          },
          "metadata": {},
          "execution_count": 4
        }
      ]
    },
    {
      "cell_type": "code",
      "source": [
        "# 30개의 feature 확인\n",
        "for i, feature in enumerate(cancer.feature_names):\n",
        "    print(f'feature{i+1}: {feature}')"
      ],
      "metadata": {
        "colab": {
          "base_uri": "https://localhost:8080/"
        },
        "id": "EMGrSDUrnmdT",
        "outputId": "1a066683-d9d7-43ce-f609-91c0a75544ae"
      },
      "execution_count": null,
      "outputs": [
        {
          "output_type": "stream",
          "name": "stdout",
          "text": [
            "feature1: mean radius\n",
            "feature2: mean texture\n",
            "feature3: mean perimeter\n",
            "feature4: mean area\n",
            "feature5: mean smoothness\n",
            "feature6: mean compactness\n",
            "feature7: mean concavity\n",
            "feature8: mean concave points\n",
            "feature9: mean symmetry\n",
            "feature10: mean fractal dimension\n",
            "feature11: radius error\n",
            "feature12: texture error\n",
            "feature13: perimeter error\n",
            "feature14: area error\n",
            "feature15: smoothness error\n",
            "feature16: compactness error\n",
            "feature17: concavity error\n",
            "feature18: concave points error\n",
            "feature19: symmetry error\n",
            "feature20: fractal dimension error\n",
            "feature21: worst radius\n",
            "feature22: worst texture\n",
            "feature23: worst perimeter\n",
            "feature24: worst area\n",
            "feature25: worst smoothness\n",
            "feature26: worst compactness\n",
            "feature27: worst concavity\n",
            "feature28: worst concave points\n",
            "feature29: worst symmetry\n",
            "feature30: worst fractal dimension\n"
          ]
        }
      ]
    },
    {
      "cell_type": "code",
      "source": [
        "df.describe().T"
      ],
      "metadata": {
        "colab": {
          "base_uri": "https://localhost:8080/",
          "height": 990
        },
        "id": "6jKu6kL00LHg",
        "outputId": "b114f683-1bcc-494b-ee59-fd03e936a0e1"
      },
      "execution_count": null,
      "outputs": [
        {
          "output_type": "execute_result",
          "data": {
            "text/plain": [
              "                         count        mean         std         min  \\\n",
              "mean radius              569.0   14.127292    3.524049    6.981000   \n",
              "mean texture             569.0   19.289649    4.301036    9.710000   \n",
              "mean perimeter           569.0   91.969033   24.298981   43.790000   \n",
              "mean area                569.0  654.889104  351.914129  143.500000   \n",
              "mean smoothness          569.0    0.096360    0.014064    0.052630   \n",
              "mean compactness         569.0    0.104341    0.052813    0.019380   \n",
              "mean concavity           569.0    0.088799    0.079720    0.000000   \n",
              "mean concave points      569.0    0.048919    0.038803    0.000000   \n",
              "mean symmetry            569.0    0.181162    0.027414    0.106000   \n",
              "mean fractal dimension   569.0    0.062798    0.007060    0.049960   \n",
              "radius error             569.0    0.405172    0.277313    0.111500   \n",
              "texture error            569.0    1.216853    0.551648    0.360200   \n",
              "perimeter error          569.0    2.866059    2.021855    0.757000   \n",
              "area error               569.0   40.337079   45.491006    6.802000   \n",
              "smoothness error         569.0    0.007041    0.003003    0.001713   \n",
              "compactness error        569.0    0.025478    0.017908    0.002252   \n",
              "concavity error          569.0    0.031894    0.030186    0.000000   \n",
              "concave points error     569.0    0.011796    0.006170    0.000000   \n",
              "symmetry error           569.0    0.020542    0.008266    0.007882   \n",
              "fractal dimension error  569.0    0.003795    0.002646    0.000895   \n",
              "worst radius             569.0   16.269190    4.833242    7.930000   \n",
              "worst texture            569.0   25.677223    6.146258   12.020000   \n",
              "worst perimeter          569.0  107.261213   33.602542   50.410000   \n",
              "worst area               569.0  880.583128  569.356993  185.200000   \n",
              "worst smoothness         569.0    0.132369    0.022832    0.071170   \n",
              "worst compactness        569.0    0.254265    0.157336    0.027290   \n",
              "worst concavity          569.0    0.272188    0.208624    0.000000   \n",
              "worst concave points     569.0    0.114606    0.065732    0.000000   \n",
              "worst symmetry           569.0    0.290076    0.061867    0.156500   \n",
              "worst fractal dimension  569.0    0.083946    0.018061    0.055040   \n",
              "\n",
              "                                25%         50%          75%         max  \n",
              "mean radius               11.700000   13.370000    15.780000    28.11000  \n",
              "mean texture              16.170000   18.840000    21.800000    39.28000  \n",
              "mean perimeter            75.170000   86.240000   104.100000   188.50000  \n",
              "mean area                420.300000  551.100000   782.700000  2501.00000  \n",
              "mean smoothness            0.086370    0.095870     0.105300     0.16340  \n",
              "mean compactness           0.064920    0.092630     0.130400     0.34540  \n",
              "mean concavity             0.029560    0.061540     0.130700     0.42680  \n",
              "mean concave points        0.020310    0.033500     0.074000     0.20120  \n",
              "mean symmetry              0.161900    0.179200     0.195700     0.30400  \n",
              "mean fractal dimension     0.057700    0.061540     0.066120     0.09744  \n",
              "radius error               0.232400    0.324200     0.478900     2.87300  \n",
              "texture error              0.833900    1.108000     1.474000     4.88500  \n",
              "perimeter error            1.606000    2.287000     3.357000    21.98000  \n",
              "area error                17.850000   24.530000    45.190000   542.20000  \n",
              "smoothness error           0.005169    0.006380     0.008146     0.03113  \n",
              "compactness error          0.013080    0.020450     0.032450     0.13540  \n",
              "concavity error            0.015090    0.025890     0.042050     0.39600  \n",
              "concave points error       0.007638    0.010930     0.014710     0.05279  \n",
              "symmetry error             0.015160    0.018730     0.023480     0.07895  \n",
              "fractal dimension error    0.002248    0.003187     0.004558     0.02984  \n",
              "worst radius              13.010000   14.970000    18.790000    36.04000  \n",
              "worst texture             21.080000   25.410000    29.720000    49.54000  \n",
              "worst perimeter           84.110000   97.660000   125.400000   251.20000  \n",
              "worst area               515.300000  686.500000  1084.000000  4254.00000  \n",
              "worst smoothness           0.116600    0.131300     0.146000     0.22260  \n",
              "worst compactness          0.147200    0.211900     0.339100     1.05800  \n",
              "worst concavity            0.114500    0.226700     0.382900     1.25200  \n",
              "worst concave points       0.064930    0.099930     0.161400     0.29100  \n",
              "worst symmetry             0.250400    0.282200     0.317900     0.66380  \n",
              "worst fractal dimension    0.071460    0.080040     0.092080     0.20750  "
            ],
            "text/html": [
              "\n",
              "  <div id=\"df-58d5e39c-0275-4078-98f6-ff8c445d50a8\" class=\"colab-df-container\">\n",
              "    <div>\n",
              "<style scoped>\n",
              "    .dataframe tbody tr th:only-of-type {\n",
              "        vertical-align: middle;\n",
              "    }\n",
              "\n",
              "    .dataframe tbody tr th {\n",
              "        vertical-align: top;\n",
              "    }\n",
              "\n",
              "    .dataframe thead th {\n",
              "        text-align: right;\n",
              "    }\n",
              "</style>\n",
              "<table border=\"1\" class=\"dataframe\">\n",
              "  <thead>\n",
              "    <tr style=\"text-align: right;\">\n",
              "      <th></th>\n",
              "      <th>count</th>\n",
              "      <th>mean</th>\n",
              "      <th>std</th>\n",
              "      <th>min</th>\n",
              "      <th>25%</th>\n",
              "      <th>50%</th>\n",
              "      <th>75%</th>\n",
              "      <th>max</th>\n",
              "    </tr>\n",
              "  </thead>\n",
              "  <tbody>\n",
              "    <tr>\n",
              "      <th>mean radius</th>\n",
              "      <td>569.0</td>\n",
              "      <td>14.127292</td>\n",
              "      <td>3.524049</td>\n",
              "      <td>6.981000</td>\n",
              "      <td>11.700000</td>\n",
              "      <td>13.370000</td>\n",
              "      <td>15.780000</td>\n",
              "      <td>28.11000</td>\n",
              "    </tr>\n",
              "    <tr>\n",
              "      <th>mean texture</th>\n",
              "      <td>569.0</td>\n",
              "      <td>19.289649</td>\n",
              "      <td>4.301036</td>\n",
              "      <td>9.710000</td>\n",
              "      <td>16.170000</td>\n",
              "      <td>18.840000</td>\n",
              "      <td>21.800000</td>\n",
              "      <td>39.28000</td>\n",
              "    </tr>\n",
              "    <tr>\n",
              "      <th>mean perimeter</th>\n",
              "      <td>569.0</td>\n",
              "      <td>91.969033</td>\n",
              "      <td>24.298981</td>\n",
              "      <td>43.790000</td>\n",
              "      <td>75.170000</td>\n",
              "      <td>86.240000</td>\n",
              "      <td>104.100000</td>\n",
              "      <td>188.50000</td>\n",
              "    </tr>\n",
              "    <tr>\n",
              "      <th>mean area</th>\n",
              "      <td>569.0</td>\n",
              "      <td>654.889104</td>\n",
              "      <td>351.914129</td>\n",
              "      <td>143.500000</td>\n",
              "      <td>420.300000</td>\n",
              "      <td>551.100000</td>\n",
              "      <td>782.700000</td>\n",
              "      <td>2501.00000</td>\n",
              "    </tr>\n",
              "    <tr>\n",
              "      <th>mean smoothness</th>\n",
              "      <td>569.0</td>\n",
              "      <td>0.096360</td>\n",
              "      <td>0.014064</td>\n",
              "      <td>0.052630</td>\n",
              "      <td>0.086370</td>\n",
              "      <td>0.095870</td>\n",
              "      <td>0.105300</td>\n",
              "      <td>0.16340</td>\n",
              "    </tr>\n",
              "    <tr>\n",
              "      <th>mean compactness</th>\n",
              "      <td>569.0</td>\n",
              "      <td>0.104341</td>\n",
              "      <td>0.052813</td>\n",
              "      <td>0.019380</td>\n",
              "      <td>0.064920</td>\n",
              "      <td>0.092630</td>\n",
              "      <td>0.130400</td>\n",
              "      <td>0.34540</td>\n",
              "    </tr>\n",
              "    <tr>\n",
              "      <th>mean concavity</th>\n",
              "      <td>569.0</td>\n",
              "      <td>0.088799</td>\n",
              "      <td>0.079720</td>\n",
              "      <td>0.000000</td>\n",
              "      <td>0.029560</td>\n",
              "      <td>0.061540</td>\n",
              "      <td>0.130700</td>\n",
              "      <td>0.42680</td>\n",
              "    </tr>\n",
              "    <tr>\n",
              "      <th>mean concave points</th>\n",
              "      <td>569.0</td>\n",
              "      <td>0.048919</td>\n",
              "      <td>0.038803</td>\n",
              "      <td>0.000000</td>\n",
              "      <td>0.020310</td>\n",
              "      <td>0.033500</td>\n",
              "      <td>0.074000</td>\n",
              "      <td>0.20120</td>\n",
              "    </tr>\n",
              "    <tr>\n",
              "      <th>mean symmetry</th>\n",
              "      <td>569.0</td>\n",
              "      <td>0.181162</td>\n",
              "      <td>0.027414</td>\n",
              "      <td>0.106000</td>\n",
              "      <td>0.161900</td>\n",
              "      <td>0.179200</td>\n",
              "      <td>0.195700</td>\n",
              "      <td>0.30400</td>\n",
              "    </tr>\n",
              "    <tr>\n",
              "      <th>mean fractal dimension</th>\n",
              "      <td>569.0</td>\n",
              "      <td>0.062798</td>\n",
              "      <td>0.007060</td>\n",
              "      <td>0.049960</td>\n",
              "      <td>0.057700</td>\n",
              "      <td>0.061540</td>\n",
              "      <td>0.066120</td>\n",
              "      <td>0.09744</td>\n",
              "    </tr>\n",
              "    <tr>\n",
              "      <th>radius error</th>\n",
              "      <td>569.0</td>\n",
              "      <td>0.405172</td>\n",
              "      <td>0.277313</td>\n",
              "      <td>0.111500</td>\n",
              "      <td>0.232400</td>\n",
              "      <td>0.324200</td>\n",
              "      <td>0.478900</td>\n",
              "      <td>2.87300</td>\n",
              "    </tr>\n",
              "    <tr>\n",
              "      <th>texture error</th>\n",
              "      <td>569.0</td>\n",
              "      <td>1.216853</td>\n",
              "      <td>0.551648</td>\n",
              "      <td>0.360200</td>\n",
              "      <td>0.833900</td>\n",
              "      <td>1.108000</td>\n",
              "      <td>1.474000</td>\n",
              "      <td>4.88500</td>\n",
              "    </tr>\n",
              "    <tr>\n",
              "      <th>perimeter error</th>\n",
              "      <td>569.0</td>\n",
              "      <td>2.866059</td>\n",
              "      <td>2.021855</td>\n",
              "      <td>0.757000</td>\n",
              "      <td>1.606000</td>\n",
              "      <td>2.287000</td>\n",
              "      <td>3.357000</td>\n",
              "      <td>21.98000</td>\n",
              "    </tr>\n",
              "    <tr>\n",
              "      <th>area error</th>\n",
              "      <td>569.0</td>\n",
              "      <td>40.337079</td>\n",
              "      <td>45.491006</td>\n",
              "      <td>6.802000</td>\n",
              "      <td>17.850000</td>\n",
              "      <td>24.530000</td>\n",
              "      <td>45.190000</td>\n",
              "      <td>542.20000</td>\n",
              "    </tr>\n",
              "    <tr>\n",
              "      <th>smoothness error</th>\n",
              "      <td>569.0</td>\n",
              "      <td>0.007041</td>\n",
              "      <td>0.003003</td>\n",
              "      <td>0.001713</td>\n",
              "      <td>0.005169</td>\n",
              "      <td>0.006380</td>\n",
              "      <td>0.008146</td>\n",
              "      <td>0.03113</td>\n",
              "    </tr>\n",
              "    <tr>\n",
              "      <th>compactness error</th>\n",
              "      <td>569.0</td>\n",
              "      <td>0.025478</td>\n",
              "      <td>0.017908</td>\n",
              "      <td>0.002252</td>\n",
              "      <td>0.013080</td>\n",
              "      <td>0.020450</td>\n",
              "      <td>0.032450</td>\n",
              "      <td>0.13540</td>\n",
              "    </tr>\n",
              "    <tr>\n",
              "      <th>concavity error</th>\n",
              "      <td>569.0</td>\n",
              "      <td>0.031894</td>\n",
              "      <td>0.030186</td>\n",
              "      <td>0.000000</td>\n",
              "      <td>0.015090</td>\n",
              "      <td>0.025890</td>\n",
              "      <td>0.042050</td>\n",
              "      <td>0.39600</td>\n",
              "    </tr>\n",
              "    <tr>\n",
              "      <th>concave points error</th>\n",
              "      <td>569.0</td>\n",
              "      <td>0.011796</td>\n",
              "      <td>0.006170</td>\n",
              "      <td>0.000000</td>\n",
              "      <td>0.007638</td>\n",
              "      <td>0.010930</td>\n",
              "      <td>0.014710</td>\n",
              "      <td>0.05279</td>\n",
              "    </tr>\n",
              "    <tr>\n",
              "      <th>symmetry error</th>\n",
              "      <td>569.0</td>\n",
              "      <td>0.020542</td>\n",
              "      <td>0.008266</td>\n",
              "      <td>0.007882</td>\n",
              "      <td>0.015160</td>\n",
              "      <td>0.018730</td>\n",
              "      <td>0.023480</td>\n",
              "      <td>0.07895</td>\n",
              "    </tr>\n",
              "    <tr>\n",
              "      <th>fractal dimension error</th>\n",
              "      <td>569.0</td>\n",
              "      <td>0.003795</td>\n",
              "      <td>0.002646</td>\n",
              "      <td>0.000895</td>\n",
              "      <td>0.002248</td>\n",
              "      <td>0.003187</td>\n",
              "      <td>0.004558</td>\n",
              "      <td>0.02984</td>\n",
              "    </tr>\n",
              "    <tr>\n",
              "      <th>worst radius</th>\n",
              "      <td>569.0</td>\n",
              "      <td>16.269190</td>\n",
              "      <td>4.833242</td>\n",
              "      <td>7.930000</td>\n",
              "      <td>13.010000</td>\n",
              "      <td>14.970000</td>\n",
              "      <td>18.790000</td>\n",
              "      <td>36.04000</td>\n",
              "    </tr>\n",
              "    <tr>\n",
              "      <th>worst texture</th>\n",
              "      <td>569.0</td>\n",
              "      <td>25.677223</td>\n",
              "      <td>6.146258</td>\n",
              "      <td>12.020000</td>\n",
              "      <td>21.080000</td>\n",
              "      <td>25.410000</td>\n",
              "      <td>29.720000</td>\n",
              "      <td>49.54000</td>\n",
              "    </tr>\n",
              "    <tr>\n",
              "      <th>worst perimeter</th>\n",
              "      <td>569.0</td>\n",
              "      <td>107.261213</td>\n",
              "      <td>33.602542</td>\n",
              "      <td>50.410000</td>\n",
              "      <td>84.110000</td>\n",
              "      <td>97.660000</td>\n",
              "      <td>125.400000</td>\n",
              "      <td>251.20000</td>\n",
              "    </tr>\n",
              "    <tr>\n",
              "      <th>worst area</th>\n",
              "      <td>569.0</td>\n",
              "      <td>880.583128</td>\n",
              "      <td>569.356993</td>\n",
              "      <td>185.200000</td>\n",
              "      <td>515.300000</td>\n",
              "      <td>686.500000</td>\n",
              "      <td>1084.000000</td>\n",
              "      <td>4254.00000</td>\n",
              "    </tr>\n",
              "    <tr>\n",
              "      <th>worst smoothness</th>\n",
              "      <td>569.0</td>\n",
              "      <td>0.132369</td>\n",
              "      <td>0.022832</td>\n",
              "      <td>0.071170</td>\n",
              "      <td>0.116600</td>\n",
              "      <td>0.131300</td>\n",
              "      <td>0.146000</td>\n",
              "      <td>0.22260</td>\n",
              "    </tr>\n",
              "    <tr>\n",
              "      <th>worst compactness</th>\n",
              "      <td>569.0</td>\n",
              "      <td>0.254265</td>\n",
              "      <td>0.157336</td>\n",
              "      <td>0.027290</td>\n",
              "      <td>0.147200</td>\n",
              "      <td>0.211900</td>\n",
              "      <td>0.339100</td>\n",
              "      <td>1.05800</td>\n",
              "    </tr>\n",
              "    <tr>\n",
              "      <th>worst concavity</th>\n",
              "      <td>569.0</td>\n",
              "      <td>0.272188</td>\n",
              "      <td>0.208624</td>\n",
              "      <td>0.000000</td>\n",
              "      <td>0.114500</td>\n",
              "      <td>0.226700</td>\n",
              "      <td>0.382900</td>\n",
              "      <td>1.25200</td>\n",
              "    </tr>\n",
              "    <tr>\n",
              "      <th>worst concave points</th>\n",
              "      <td>569.0</td>\n",
              "      <td>0.114606</td>\n",
              "      <td>0.065732</td>\n",
              "      <td>0.000000</td>\n",
              "      <td>0.064930</td>\n",
              "      <td>0.099930</td>\n",
              "      <td>0.161400</td>\n",
              "      <td>0.29100</td>\n",
              "    </tr>\n",
              "    <tr>\n",
              "      <th>worst symmetry</th>\n",
              "      <td>569.0</td>\n",
              "      <td>0.290076</td>\n",
              "      <td>0.061867</td>\n",
              "      <td>0.156500</td>\n",
              "      <td>0.250400</td>\n",
              "      <td>0.282200</td>\n",
              "      <td>0.317900</td>\n",
              "      <td>0.66380</td>\n",
              "    </tr>\n",
              "    <tr>\n",
              "      <th>worst fractal dimension</th>\n",
              "      <td>569.0</td>\n",
              "      <td>0.083946</td>\n",
              "      <td>0.018061</td>\n",
              "      <td>0.055040</td>\n",
              "      <td>0.071460</td>\n",
              "      <td>0.080040</td>\n",
              "      <td>0.092080</td>\n",
              "      <td>0.20750</td>\n",
              "    </tr>\n",
              "  </tbody>\n",
              "</table>\n",
              "</div>\n",
              "    <div class=\"colab-df-buttons\">\n",
              "\n",
              "  <div class=\"colab-df-container\">\n",
              "    <button class=\"colab-df-convert\" onclick=\"convertToInteractive('df-58d5e39c-0275-4078-98f6-ff8c445d50a8')\"\n",
              "            title=\"Convert this dataframe to an interactive table.\"\n",
              "            style=\"display:none;\">\n",
              "\n",
              "  <svg xmlns=\"http://www.w3.org/2000/svg\" height=\"24px\" viewBox=\"0 -960 960 960\">\n",
              "    <path d=\"M120-120v-720h720v720H120Zm60-500h600v-160H180v160Zm220 220h160v-160H400v160Zm0 220h160v-160H400v160ZM180-400h160v-160H180v160Zm440 0h160v-160H620v160ZM180-180h160v-160H180v160Zm440 0h160v-160H620v160Z\"/>\n",
              "  </svg>\n",
              "    </button>\n",
              "\n",
              "  <style>\n",
              "    .colab-df-container {\n",
              "      display:flex;\n",
              "      gap: 12px;\n",
              "    }\n",
              "\n",
              "    .colab-df-convert {\n",
              "      background-color: #E8F0FE;\n",
              "      border: none;\n",
              "      border-radius: 50%;\n",
              "      cursor: pointer;\n",
              "      display: none;\n",
              "      fill: #1967D2;\n",
              "      height: 32px;\n",
              "      padding: 0 0 0 0;\n",
              "      width: 32px;\n",
              "    }\n",
              "\n",
              "    .colab-df-convert:hover {\n",
              "      background-color: #E2EBFA;\n",
              "      box-shadow: 0px 1px 2px rgba(60, 64, 67, 0.3), 0px 1px 3px 1px rgba(60, 64, 67, 0.15);\n",
              "      fill: #174EA6;\n",
              "    }\n",
              "\n",
              "    .colab-df-buttons div {\n",
              "      margin-bottom: 4px;\n",
              "    }\n",
              "\n",
              "    [theme=dark] .colab-df-convert {\n",
              "      background-color: #3B4455;\n",
              "      fill: #D2E3FC;\n",
              "    }\n",
              "\n",
              "    [theme=dark] .colab-df-convert:hover {\n",
              "      background-color: #434B5C;\n",
              "      box-shadow: 0px 1px 3px 1px rgba(0, 0, 0, 0.15);\n",
              "      filter: drop-shadow(0px 1px 2px rgba(0, 0, 0, 0.3));\n",
              "      fill: #FFFFFF;\n",
              "    }\n",
              "  </style>\n",
              "\n",
              "    <script>\n",
              "      const buttonEl =\n",
              "        document.querySelector('#df-58d5e39c-0275-4078-98f6-ff8c445d50a8 button.colab-df-convert');\n",
              "      buttonEl.style.display =\n",
              "        google.colab.kernel.accessAllowed ? 'block' : 'none';\n",
              "\n",
              "      async function convertToInteractive(key) {\n",
              "        const element = document.querySelector('#df-58d5e39c-0275-4078-98f6-ff8c445d50a8');\n",
              "        const dataTable =\n",
              "          await google.colab.kernel.invokeFunction('convertToInteractive',\n",
              "                                                    [key], {});\n",
              "        if (!dataTable) return;\n",
              "\n",
              "        const docLinkHtml = 'Like what you see? Visit the ' +\n",
              "          '<a target=\"_blank\" href=https://colab.research.google.com/notebooks/data_table.ipynb>data table notebook</a>'\n",
              "          + ' to learn more about interactive tables.';\n",
              "        element.innerHTML = '';\n",
              "        dataTable['output_type'] = 'display_data';\n",
              "        await google.colab.output.renderOutput(dataTable, element);\n",
              "        const docLink = document.createElement('div');\n",
              "        docLink.innerHTML = docLinkHtml;\n",
              "        element.appendChild(docLink);\n",
              "      }\n",
              "    </script>\n",
              "  </div>\n",
              "\n",
              "\n",
              "<div id=\"df-b493b0fe-3e25-40aa-a3b1-13bbe4e12131\">\n",
              "  <button class=\"colab-df-quickchart\" onclick=\"quickchart('df-b493b0fe-3e25-40aa-a3b1-13bbe4e12131')\"\n",
              "            title=\"Suggest charts.\"\n",
              "            style=\"display:none;\">\n",
              "\n",
              "<svg xmlns=\"http://www.w3.org/2000/svg\" height=\"24px\"viewBox=\"0 0 24 24\"\n",
              "     width=\"24px\">\n",
              "    <g>\n",
              "        <path d=\"M19 3H5c-1.1 0-2 .9-2 2v14c0 1.1.9 2 2 2h14c1.1 0 2-.9 2-2V5c0-1.1-.9-2-2-2zM9 17H7v-7h2v7zm4 0h-2V7h2v10zm4 0h-2v-4h2v4z\"/>\n",
              "    </g>\n",
              "</svg>\n",
              "  </button>\n",
              "\n",
              "<style>\n",
              "  .colab-df-quickchart {\n",
              "      --bg-color: #E8F0FE;\n",
              "      --fill-color: #1967D2;\n",
              "      --hover-bg-color: #E2EBFA;\n",
              "      --hover-fill-color: #174EA6;\n",
              "      --disabled-fill-color: #AAA;\n",
              "      --disabled-bg-color: #DDD;\n",
              "  }\n",
              "\n",
              "  [theme=dark] .colab-df-quickchart {\n",
              "      --bg-color: #3B4455;\n",
              "      --fill-color: #D2E3FC;\n",
              "      --hover-bg-color: #434B5C;\n",
              "      --hover-fill-color: #FFFFFF;\n",
              "      --disabled-bg-color: #3B4455;\n",
              "      --disabled-fill-color: #666;\n",
              "  }\n",
              "\n",
              "  .colab-df-quickchart {\n",
              "    background-color: var(--bg-color);\n",
              "    border: none;\n",
              "    border-radius: 50%;\n",
              "    cursor: pointer;\n",
              "    display: none;\n",
              "    fill: var(--fill-color);\n",
              "    height: 32px;\n",
              "    padding: 0;\n",
              "    width: 32px;\n",
              "  }\n",
              "\n",
              "  .colab-df-quickchart:hover {\n",
              "    background-color: var(--hover-bg-color);\n",
              "    box-shadow: 0 1px 2px rgba(60, 64, 67, 0.3), 0 1px 3px 1px rgba(60, 64, 67, 0.15);\n",
              "    fill: var(--button-hover-fill-color);\n",
              "  }\n",
              "\n",
              "  .colab-df-quickchart-complete:disabled,\n",
              "  .colab-df-quickchart-complete:disabled:hover {\n",
              "    background-color: var(--disabled-bg-color);\n",
              "    fill: var(--disabled-fill-color);\n",
              "    box-shadow: none;\n",
              "  }\n",
              "\n",
              "  .colab-df-spinner {\n",
              "    border: 2px solid var(--fill-color);\n",
              "    border-color: transparent;\n",
              "    border-bottom-color: var(--fill-color);\n",
              "    animation:\n",
              "      spin 1s steps(1) infinite;\n",
              "  }\n",
              "\n",
              "  @keyframes spin {\n",
              "    0% {\n",
              "      border-color: transparent;\n",
              "      border-bottom-color: var(--fill-color);\n",
              "      border-left-color: var(--fill-color);\n",
              "    }\n",
              "    20% {\n",
              "      border-color: transparent;\n",
              "      border-left-color: var(--fill-color);\n",
              "      border-top-color: var(--fill-color);\n",
              "    }\n",
              "    30% {\n",
              "      border-color: transparent;\n",
              "      border-left-color: var(--fill-color);\n",
              "      border-top-color: var(--fill-color);\n",
              "      border-right-color: var(--fill-color);\n",
              "    }\n",
              "    40% {\n",
              "      border-color: transparent;\n",
              "      border-right-color: var(--fill-color);\n",
              "      border-top-color: var(--fill-color);\n",
              "    }\n",
              "    60% {\n",
              "      border-color: transparent;\n",
              "      border-right-color: var(--fill-color);\n",
              "    }\n",
              "    80% {\n",
              "      border-color: transparent;\n",
              "      border-right-color: var(--fill-color);\n",
              "      border-bottom-color: var(--fill-color);\n",
              "    }\n",
              "    90% {\n",
              "      border-color: transparent;\n",
              "      border-bottom-color: var(--fill-color);\n",
              "    }\n",
              "  }\n",
              "</style>\n",
              "\n",
              "  <script>\n",
              "    async function quickchart(key) {\n",
              "      const quickchartButtonEl =\n",
              "        document.querySelector('#' + key + ' button');\n",
              "      quickchartButtonEl.disabled = true;  // To prevent multiple clicks.\n",
              "      quickchartButtonEl.classList.add('colab-df-spinner');\n",
              "      try {\n",
              "        const charts = await google.colab.kernel.invokeFunction(\n",
              "            'suggestCharts', [key], {});\n",
              "      } catch (error) {\n",
              "        console.error('Error during call to suggestCharts:', error);\n",
              "      }\n",
              "      quickchartButtonEl.classList.remove('colab-df-spinner');\n",
              "      quickchartButtonEl.classList.add('colab-df-quickchart-complete');\n",
              "    }\n",
              "    (() => {\n",
              "      let quickchartButtonEl =\n",
              "        document.querySelector('#df-b493b0fe-3e25-40aa-a3b1-13bbe4e12131 button');\n",
              "      quickchartButtonEl.style.display =\n",
              "        google.colab.kernel.accessAllowed ? 'block' : 'none';\n",
              "    })();\n",
              "  </script>\n",
              "</div>\n",
              "    </div>\n",
              "  </div>\n"
            ]
          },
          "metadata": {},
          "execution_count": 19
        }
      ]
    },
    {
      "cell_type": "code",
      "source": [
        "df.info()"
      ],
      "metadata": {
        "id": "mtJP5zXO0QLV"
      },
      "execution_count": null,
      "outputs": []
    },
    {
      "cell_type": "markdown",
      "source": [
        "# 데이터 전처리"
      ],
      "metadata": {
        "id": "w9nOXRD3oNSF"
      }
    },
    {
      "cell_type": "markdown",
      "source": [
        "## 훈련 데이터와 테스트 데이터 분리"
      ],
      "metadata": {
        "id": "RO2XtGa2pEGY"
      }
    },
    {
      "cell_type": "code",
      "source": [
        "x_train, x_test, y_train, y_test = train_test_split(data, target,\n",
        "                                                    test_size= 0.2, random_state= 42)"
      ],
      "metadata": {
        "id": "FrV8Yx6wpJNA"
      },
      "execution_count": null,
      "outputs": []
    },
    {
      "cell_type": "markdown",
      "source": [
        "## standarization(표준화)"
      ],
      "metadata": {
        "id": "Zp1GYqCKotRJ"
      }
    },
    {
      "cell_type": "code",
      "source": [
        "from sklearn.preprocessing import StandardScaler\n",
        "\n",
        "ss = StandardScaler()\n",
        "scaled_train = ss.fit_transform(x_train)\n",
        "scaled_test = ss.transform(x_test)"
      ],
      "metadata": {
        "id": "SQhieucRoyUm"
      },
      "execution_count": null,
      "outputs": []
    },
    {
      "cell_type": "markdown",
      "source": [
        "# LogisticRegression"
      ],
      "metadata": {
        "id": "b2Pu9qmrp4V_"
      }
    },
    {
      "cell_type": "code",
      "source": [
        "from sklearn.linear_model import LogisticRegression\n",
        "\n",
        "lr = LogisticRegression()\n",
        "lr.fit(scaled_train, y_train)"
      ],
      "metadata": {
        "colab": {
          "base_uri": "https://localhost:8080/",
          "height": 75
        },
        "id": "lyE9i-Y8p8IL",
        "outputId": "8837d240-62b5-48cf-b404-ae4dacf5145a"
      },
      "execution_count": null,
      "outputs": [
        {
          "output_type": "execute_result",
          "data": {
            "text/plain": [
              "LogisticRegression()"
            ],
            "text/html": [
              "<style>#sk-container-id-1 {color: black;background-color: white;}#sk-container-id-1 pre{padding: 0;}#sk-container-id-1 div.sk-toggleable {background-color: white;}#sk-container-id-1 label.sk-toggleable__label {cursor: pointer;display: block;width: 100%;margin-bottom: 0;padding: 0.3em;box-sizing: border-box;text-align: center;}#sk-container-id-1 label.sk-toggleable__label-arrow:before {content: \"▸\";float: left;margin-right: 0.25em;color: #696969;}#sk-container-id-1 label.sk-toggleable__label-arrow:hover:before {color: black;}#sk-container-id-1 div.sk-estimator:hover label.sk-toggleable__label-arrow:before {color: black;}#sk-container-id-1 div.sk-toggleable__content {max-height: 0;max-width: 0;overflow: hidden;text-align: left;background-color: #f0f8ff;}#sk-container-id-1 div.sk-toggleable__content pre {margin: 0.2em;color: black;border-radius: 0.25em;background-color: #f0f8ff;}#sk-container-id-1 input.sk-toggleable__control:checked~div.sk-toggleable__content {max-height: 200px;max-width: 100%;overflow: auto;}#sk-container-id-1 input.sk-toggleable__control:checked~label.sk-toggleable__label-arrow:before {content: \"▾\";}#sk-container-id-1 div.sk-estimator input.sk-toggleable__control:checked~label.sk-toggleable__label {background-color: #d4ebff;}#sk-container-id-1 div.sk-label input.sk-toggleable__control:checked~label.sk-toggleable__label {background-color: #d4ebff;}#sk-container-id-1 input.sk-hidden--visually {border: 0;clip: rect(1px 1px 1px 1px);clip: rect(1px, 1px, 1px, 1px);height: 1px;margin: -1px;overflow: hidden;padding: 0;position: absolute;width: 1px;}#sk-container-id-1 div.sk-estimator {font-family: monospace;background-color: #f0f8ff;border: 1px dotted black;border-radius: 0.25em;box-sizing: border-box;margin-bottom: 0.5em;}#sk-container-id-1 div.sk-estimator:hover {background-color: #d4ebff;}#sk-container-id-1 div.sk-parallel-item::after {content: \"\";width: 100%;border-bottom: 1px solid gray;flex-grow: 1;}#sk-container-id-1 div.sk-label:hover label.sk-toggleable__label {background-color: #d4ebff;}#sk-container-id-1 div.sk-serial::before {content: \"\";position: absolute;border-left: 1px solid gray;box-sizing: border-box;top: 0;bottom: 0;left: 50%;z-index: 0;}#sk-container-id-1 div.sk-serial {display: flex;flex-direction: column;align-items: center;background-color: white;padding-right: 0.2em;padding-left: 0.2em;position: relative;}#sk-container-id-1 div.sk-item {position: relative;z-index: 1;}#sk-container-id-1 div.sk-parallel {display: flex;align-items: stretch;justify-content: center;background-color: white;position: relative;}#sk-container-id-1 div.sk-item::before, #sk-container-id-1 div.sk-parallel-item::before {content: \"\";position: absolute;border-left: 1px solid gray;box-sizing: border-box;top: 0;bottom: 0;left: 50%;z-index: -1;}#sk-container-id-1 div.sk-parallel-item {display: flex;flex-direction: column;z-index: 1;position: relative;background-color: white;}#sk-container-id-1 div.sk-parallel-item:first-child::after {align-self: flex-end;width: 50%;}#sk-container-id-1 div.sk-parallel-item:last-child::after {align-self: flex-start;width: 50%;}#sk-container-id-1 div.sk-parallel-item:only-child::after {width: 0;}#sk-container-id-1 div.sk-dashed-wrapped {border: 1px dashed gray;margin: 0 0.4em 0.5em 0.4em;box-sizing: border-box;padding-bottom: 0.4em;background-color: white;}#sk-container-id-1 div.sk-label label {font-family: monospace;font-weight: bold;display: inline-block;line-height: 1.2em;}#sk-container-id-1 div.sk-label-container {text-align: center;}#sk-container-id-1 div.sk-container {/* jupyter's `normalize.less` sets `[hidden] { display: none; }` but bootstrap.min.css set `[hidden] { display: none !important; }` so we also need the `!important` here to be able to override the default hidden behavior on the sphinx rendered scikit-learn.org. See: https://github.com/scikit-learn/scikit-learn/issues/21755 */display: inline-block !important;position: relative;}#sk-container-id-1 div.sk-text-repr-fallback {display: none;}</style><div id=\"sk-container-id-1\" class=\"sk-top-container\"><div class=\"sk-text-repr-fallback\"><pre>LogisticRegression()</pre><b>In a Jupyter environment, please rerun this cell to show the HTML representation or trust the notebook. <br />On GitHub, the HTML representation is unable to render, please try loading this page with nbviewer.org.</b></div><div class=\"sk-container\" hidden><div class=\"sk-item\"><div class=\"sk-estimator sk-toggleable\"><input class=\"sk-toggleable__control sk-hidden--visually\" id=\"sk-estimator-id-1\" type=\"checkbox\" checked><label for=\"sk-estimator-id-1\" class=\"sk-toggleable__label sk-toggleable__label-arrow\">LogisticRegression</label><div class=\"sk-toggleable__content\"><pre>LogisticRegression()</pre></div></div></div></div></div>"
            ]
          },
          "metadata": {},
          "execution_count": 9
        }
      ]
    },
    {
      "cell_type": "code",
      "source": [
        "# 훈련모델을 이용한 예측\n",
        "lr.predict(scaled_train[:5])"
      ],
      "metadata": {
        "colab": {
          "base_uri": "https://localhost:8080/"
        },
        "id": "0MP5yVOGqLOa",
        "outputId": "1ae7c89d-a522-4392-dcc0-bf779bdcd7d8"
      },
      "execution_count": null,
      "outputs": [
        {
          "output_type": "execute_result",
          "data": {
            "text/plain": [
              "array([1, 0, 1, 1, 1])"
            ]
          },
          "metadata": {},
          "execution_count": 10
        }
      ]
    },
    {
      "cell_type": "markdown",
      "source": [
        "- 악성종양(malignant) = 음성클래스 - 0\n",
        "- 양성종양(benign) = 양성클래스 - 1\n",
        "- 분류에서 우리가 찾고자하는 값이 양성클래스이다."
      ],
      "metadata": {
        "id": "03d6c2AfqUih"
      }
    },
    {
      "cell_type": "code",
      "source": [
        "# 예측확률\n",
        "lr.predict_proba(scaled_train[:5])"
      ],
      "metadata": {
        "colab": {
          "base_uri": "https://localhost:8080/"
        },
        "id": "uC3ex6qyqtDd",
        "outputId": "3445260f-42c6-4598-fc18-f63b73df8eb0"
      },
      "execution_count": null,
      "outputs": [
        {
          "output_type": "execute_result",
          "data": {
            "text/plain": [
              "array([[1.27395194e-01, 8.72604806e-01],\n",
              "       [9.99999998e-01, 2.12452704e-09],\n",
              "       [4.55094715e-06, 9.99995449e-01],\n",
              "       [4.08096234e-02, 9.59190377e-01],\n",
              "       [2.56532183e-05, 9.99974347e-01]])"
            ]
          },
          "metadata": {},
          "execution_count": 11
        }
      ]
    },
    {
      "cell_type": "code",
      "source": [
        "# classes_: 분류한 클래스\n",
        "lr.classes_"
      ],
      "metadata": {
        "colab": {
          "base_uri": "https://localhost:8080/"
        },
        "id": "mSgS_4mCrE2J",
        "outputId": "8f099723-f2cc-4674-ddba-128c8e62c17c"
      },
      "execution_count": null,
      "outputs": [
        {
          "output_type": "execute_result",
          "data": {
            "text/plain": [
              "array([0, 1])"
            ]
          },
          "metadata": {},
          "execution_count": 13
        }
      ]
    },
    {
      "cell_type": "code",
      "source": [
        "# 계수(가중치 - 기울기와 절편)\n",
        "lr.coef_, lr.intercept_"
      ],
      "metadata": {
        "colab": {
          "base_uri": "https://localhost:8080/"
        },
        "id": "XtKC7uUQrUqP",
        "outputId": "78d134a1-f1dd-4cbb-fc96-7771ca75a2ef"
      },
      "execution_count": null,
      "outputs": [
        {
          "output_type": "execute_result",
          "data": {
            "text/plain": [
              "(array([[-0.42789615, -0.39391343, -0.38955025, -0.46431618, -0.06675416,\n",
              "          0.54210625, -0.79677127, -1.1170207 ,  0.23571257,  0.07670117,\n",
              "         -1.27114722,  0.18863977, -0.60936581, -0.90979979, -0.31246106,\n",
              "          0.68597229,  0.18081531, -0.31769168,  0.49997976,  0.61340541,\n",
              "         -0.87861043, -1.3421883 , -0.58755707, -0.84655924, -0.54994459,\n",
              "          0.00520705, -0.94571375, -0.77343621, -1.20853126, -0.1541604 ]]),\n",
              " array([0.44359695]))"
            ]
          },
          "metadata": {},
          "execution_count": 14
        }
      ]
    },
    {
      "cell_type": "code",
      "source": [
        "# z값 출력\n",
        "decisions = lr.decision_function(scaled_train[:5])\n",
        "decisions"
      ],
      "metadata": {
        "colab": {
          "base_uri": "https://localhost:8080/"
        },
        "id": "bCaYrLOCrxOR",
        "outputId": "3624112d-e0c4-44c1-f114-ff527d038b4b"
      },
      "execution_count": null,
      "outputs": [
        {
          "output_type": "execute_result",
          "data": {
            "text/plain": [
              "array([  1.92418875, -19.96971663,  12.30017063,   3.15717165,\n",
              "        10.57081587])"
            ]
          },
          "metadata": {},
          "execution_count": 15
        }
      ]
    },
    {
      "cell_type": "code",
      "source": [
        "# 예측\n",
        "pred = lr.predict(scaled_test)\n",
        "pred"
      ],
      "metadata": {
        "colab": {
          "base_uri": "https://localhost:8080/"
        },
        "id": "duqQv_ZVr6l_",
        "outputId": "3eaa2633-8633-4591-aa41-ce8e8c1723fa"
      },
      "execution_count": null,
      "outputs": [
        {
          "output_type": "execute_result",
          "data": {
            "text/plain": [
              "array([1, 0, 0, 1, 1, 0, 0, 0, 1, 1, 1, 0, 1, 0, 1, 0, 1, 1, 1, 0, 1, 1,\n",
              "       0, 1, 1, 1, 1, 1, 1, 0, 1, 1, 1, 1, 1, 1, 0, 1, 0, 1, 1, 0, 1, 1,\n",
              "       1, 1, 1, 1, 1, 1, 0, 0, 1, 1, 1, 1, 1, 0, 0, 1, 1, 0, 0, 1, 1, 1,\n",
              "       0, 0, 1, 1, 0, 0, 1, 0, 1, 1, 1, 1, 1, 1, 0, 1, 0, 0, 0, 0, 0, 0,\n",
              "       1, 1, 1, 1, 1, 1, 1, 1, 0, 0, 1, 0, 0, 1, 0, 0, 1, 1, 1, 0, 1, 1,\n",
              "       0, 1, 0, 0])"
            ]
          },
          "metadata": {},
          "execution_count": 17
        }
      ]
    },
    {
      "cell_type": "markdown",
      "source": [
        "## 평가지표\n",
        "\n",
        "- 회귀(regression): MAE, MSE, RMSE....\n",
        "- 분류(classification): 정확도, 정밀도, 재현율(민감도), F1스코어, ROC커브곡선\n",
        "- 군집화(clustering): DBI, 엘보우 메서드, 실루엣계수\n"
      ],
      "metadata": {
        "id": "1N4CFWFhr_kf"
      }
    },
    {
      "cell_type": "code",
      "source": [
        "# 정확도(Accuracy): 실제 데이터에서 예측 데이터가 얼마나 같은지를 판단\n",
        "# 이진분류일 경우 불균형한 데이터셋일 경우 모델의 성능이 왜곡될 수 있다.\n",
        "# 정확도 = 예측결과가 동일한 데이터 건수 / 전체 예측 데이터 건수\n",
        "\n",
        "from sklearn.metrics import accuracy_score\n",
        "accuracy_score(y_test, pred)"
      ],
      "metadata": {
        "colab": {
          "base_uri": "https://localhost:8080/"
        },
        "id": "lL7fQAoUs1Ja",
        "outputId": "37e52c5b-7e74-42a4-a98a-70708cb0c513"
      },
      "execution_count": null,
      "outputs": [
        {
          "output_type": "execute_result",
          "data": {
            "text/plain": [
              "0.9736842105263158"
            ]
          },
          "metadata": {},
          "execution_count": 20
        }
      ]
    },
    {
      "cell_type": "markdown",
      "source": [
        "# 혼돈 행렬(Confusion Matrix, 오차 행렬)"
      ],
      "metadata": {
        "id": "pn-rbi5247-e"
      }
    },
    {
      "cell_type": "code",
      "source": [
        "from IPython.display import Image\n",
        "Image('https://skappal7.files.wordpress.com/2018/08/confusion-matrix.jpg', width=500)"
      ],
      "metadata": {
        "colab": {
          "base_uri": "https://localhost:8080/",
          "height": 375
        },
        "id": "X2ZtOMBQCT_d",
        "outputId": "e2c14350-7c8f-43ad-be5f-d918a9d2ab24"
      },
      "execution_count": null,
      "outputs": [
        {
          "output_type": "execute_result",
          "data": {
            "image/jpeg": "[encoded data removed]",
            "text/plain": [
              "<IPython.core.display.Image object>"
            ]
          },
          "metadata": {
            "image/jpeg": {
              "width": 500
            }
          },
          "execution_count": 33
        }
      ]
    },
    {
      "cell_type": "code",
      "source": [
        "from sklearn.metrics._plot.confusion_matrix import confusion_matrix\n",
        "from sklearn.metrics import confusion_matrix\n",
        "\n",
        "cm = confusion_matrix(y_test, pred)\n",
        "cm"
      ],
      "metadata": {
        "colab": {
          "base_uri": "https://localhost:8080/"
        },
        "id": "NO3Xvacl9AZY",
        "outputId": "b3146314-7854-4787-dd8d-2e78324b0a94"
      },
      "execution_count": null,
      "outputs": [
        {
          "output_type": "execute_result",
          "data": {
            "text/plain": [
              "array([[41,  2],\n",
              "       [ 1, 70]])"
            ]
          },
          "metadata": {},
          "execution_count": 22
        }
      ]
    },
    {
      "cell_type": "code",
      "source": [
        "# 혼돈 행렬 시각화\n",
        "import seaborn as sns\n",
        "\n",
        "sns.heatmap(cm, annot= True, annot_kws={'size': 20})\n",
        "plt.xlabel('prediction', fontsize= 20)\n",
        "plt.ylabel('actual', fontsize= 20)"
      ],
      "metadata": {
        "colab": {
          "base_uri": "https://localhost:8080/",
          "height": 487
        },
        "id": "CyxrmfLM-6hh",
        "outputId": "5740fcf6-9dd7-4826-a18a-be8ba5b5b353"
      },
      "execution_count": null,
      "outputs": [
        {
          "output_type": "execute_result",
          "data": {
            "text/plain": [
              "Text(50.722222222222214, 0.5, 'actual')"
            ]
          },
          "metadata": {},
          "execution_count": 24
        },
        {
          "output_type": "display_data",
          "data": {
            "text/plain": [
              "<Figure size 640x480 with 2 Axes>"
            ],
            "image/png": "[encoded data removed]"
          },
          "metadata": {}
        }
      ]
    },
    {
      "cell_type": "code",
      "source": [
        "TN, FP, FN, TP = cm.ravel()"
      ],
      "metadata": {
        "id": "rMTt57DwAY3O"
      },
      "execution_count": null,
      "outputs": []
    },
    {
      "cell_type": "markdown",
      "source": [
        "## 정밀도(Precision)\n",
        "\n",
        "- Positive로 예측한 전체 건수에서 옳게 예측한 건수의 비율"
      ],
      "metadata": {
        "id": "TLZEEEAM_o8Z"
      }
    },
    {
      "cell_type": "code",
      "source": [
        "from sklearn.metrics import precision_score\n",
        "precision = TP / (FP + TP)\n",
        "precision"
      ],
      "metadata": {
        "colab": {
          "base_uri": "https://localhost:8080/"
        },
        "id": "IgayN_3i_9Ym",
        "outputId": "8a65b269-33cd-4b38-82b0-734ddd7e54ed"
      },
      "execution_count": null,
      "outputs": [
        {
          "output_type": "execute_result",
          "data": {
            "text/plain": [
              "0.9722222222222222"
            ]
          },
          "metadata": {},
          "execution_count": 26
        }
      ]
    },
    {
      "cell_type": "code",
      "source": [
        "precision_score(y_test, pred)"
      ],
      "metadata": {
        "colab": {
          "base_uri": "https://localhost:8080/"
        },
        "id": "pigLbD4SA3HY",
        "outputId": "2f2da968-7ecc-4d37-ce20-90750f14a135"
      },
      "execution_count": null,
      "outputs": [
        {
          "output_type": "execute_result",
          "data": {
            "text/plain": [
              "0.9722222222222222"
            ]
          },
          "metadata": {},
          "execution_count": 27
        }
      ]
    },
    {
      "cell_type": "markdown",
      "source": [
        "## 재현율(Recall, 민감도)\n",
        "- 실제 Positive인 전체 건수에서 옳게 예측한 건수의 비율\n",
        "- TPR(True Positive Ratio)"
      ],
      "metadata": {
        "id": "c3N68iK9A_fV"
      }
    },
    {
      "cell_type": "code",
      "source": [
        "recall = TP / (FN + TP)\n",
        "recall"
      ],
      "metadata": {
        "colab": {
          "base_uri": "https://localhost:8080/"
        },
        "id": "Q5Nl5itIBcUs",
        "outputId": "bbc35e7a-f580-4451-a633-d3743814245d"
      },
      "execution_count": null,
      "outputs": [
        {
          "output_type": "execute_result",
          "data": {
            "text/plain": [
              "0.9859154929577465"
            ]
          },
          "metadata": {},
          "execution_count": 29
        }
      ]
    },
    {
      "cell_type": "code",
      "source": [
        "from sklearn.metrics import recall_score\n",
        "recall_score(y_test, pred)"
      ],
      "metadata": {
        "colab": {
          "base_uri": "https://localhost:8080/"
        },
        "id": "P1ilM-cLBhb5",
        "outputId": "5acb8a38-3984-4727-9a83-345d0508480b"
      },
      "execution_count": null,
      "outputs": [
        {
          "output_type": "execute_result",
          "data": {
            "text/plain": [
              "0.9859154929577465"
            ]
          },
          "metadata": {},
          "execution_count": 30
        }
      ]
    },
    {
      "cell_type": "markdown",
      "source": [
        "## F1 score\n",
        "- 재현율과 정밀도의 조화를 나타내는 수치"
      ],
      "metadata": {
        "id": "WdwFVZOCBpzo"
      }
    },
    {
      "cell_type": "code",
      "source": [
        "f1 = 2 * (precision * recall) /  (precision + recall)\n",
        "f1"
      ],
      "metadata": {
        "colab": {
          "base_uri": "https://localhost:8080/"
        },
        "id": "MG8cCGcXB_jl",
        "outputId": "db2f6b6d-3846-4467-ba9e-4ce180362e5d"
      },
      "execution_count": null,
      "outputs": [
        {
          "output_type": "execute_result",
          "data": {
            "text/plain": [
              "0.979020979020979"
            ]
          },
          "metadata": {},
          "execution_count": 31
        }
      ]
    },
    {
      "cell_type": "code",
      "source": [
        "from sklearn.metrics import f1_score\n",
        "f1_score(y_test, pred)"
      ],
      "metadata": {
        "colab": {
          "base_uri": "https://localhost:8080/"
        },
        "id": "u6d1UAhcCH6p",
        "outputId": "a42fa0d2-e03b-4c8b-9e3f-88a42f860612"
      },
      "execution_count": null,
      "outputs": [
        {
          "output_type": "execute_result",
          "data": {
            "text/plain": [
              "0.979020979020979"
            ]
          },
          "metadata": {},
          "execution_count": 32
        }
      ]
    },
    {
      "cell_type": "markdown",
      "source": [
        "# XGBoostClassifier"
      ],
      "metadata": {
        "id": "nZOTe3_lCPEa"
      }
    },
    {
      "cell_type": "code",
      "source": [
        "cancer = load_breast_cancer()\n",
        "\n",
        "data = cancer.data\n",
        "target = cancer.target"
      ],
      "metadata": {
        "id": "TenuZ9QnDM6X"
      },
      "execution_count": null,
      "outputs": []
    },
    {
      "cell_type": "markdown",
      "source": [
        "## 훈련 세트와 테스트 세트 분리"
      ],
      "metadata": {
        "id": "n8kk1HkEDUZl"
      }
    },
    {
      "cell_type": "code",
      "source": [
        "x_train, x_test, y_train, y_test = train_test_split(data, target, test_size = 0.2, random_state= 42)\n",
        "\n",
        "\n",
        "x_tr, x_val, y_tr, y_val = train_test_split(x_train, y_train, test_size= 0.1, random_state= 42)"
      ],
      "metadata": {
        "id": "yspUp_KYDaJu"
      },
      "execution_count": null,
      "outputs": []
    },
    {
      "cell_type": "code",
      "source": [
        "print(x_train.shape, x_test.shape)\n",
        "print(x_tr.shape, x_val.shape)"
      ],
      "metadata": {
        "colab": {
          "base_uri": "https://localhost:8080/"
        },
        "id": "u7q11ec4DjEu",
        "outputId": "b0d534bf-5ec4-4c28-c989-dcdeea9c1e2b"
      },
      "execution_count": null,
      "outputs": [
        {
          "output_type": "stream",
          "name": "stdout",
          "text": [
            "(455, 30) (114, 30)\n",
            "(409, 30) (46, 30)\n"
          ]
        }
      ]
    },
    {
      "cell_type": "code",
      "source": [
        "import xgboost as xgb"
      ],
      "metadata": {
        "id": "a29zo0fYEUhU"
      },
      "execution_count": null,
      "outputs": []
    },
    {
      "cell_type": "code",
      "source": [
        "# 학습, 검증, 테스트용 DMatrix 생성\n",
        "dtr = xgb.DMatrix(data= x_tr, label= y_tr)\n",
        "dval = xgb.DMatrix(data=x_val, label= y_val)\n",
        "dtest = xgb.DMatrix(data= x_test, label= y_test)"
      ],
      "metadata": {
        "id": "cbhJBuPOFTaU"
      },
      "execution_count": null,
      "outputs": []
    },
    {
      "cell_type": "code",
      "source": [
        "params = {\n",
        "    'max_Depth': 3,\n",
        "    'eta': 0.05,\n",
        "    'objective': 'binary:logistic', # 손실함수를 뭘 쓸거냐는 얘기\n",
        "    'eval_metrics': 'logloss'\n",
        "    }\n",
        "num_rounds= 400"
      ],
      "metadata": {
        "id": "yZshiqdFF0rL"
      },
      "execution_count": null,
      "outputs": []
    },
    {
      "cell_type": "code",
      "source": [
        "# 학습 데이터셋은 'train, 평가 데이터셋은 'eval'\n",
        "eval_list = [(dtr, 'train'), (dval, 'eval')]\n",
        "\n",
        "xgb_model = xgb.train(params= params, dtrain= dtr, num_boost_round= num_rounds, early_stopping_rounds= 50, evals= eval_list)"
      ],
      "metadata": {
        "colab": {
          "base_uri": "https://localhost:8080/"
        },
        "id": "61BpyADbGzeE",
        "outputId": "95b513f2-2271-49f0-be08-bf1f3fbd34ab"
      },
      "execution_count": null,
      "outputs": [
        {
          "output_type": "stream",
          "name": "stdout",
          "text": [
            "[0]\ttrain-logloss:0.61949\teval-logloss:0.61033\n",
            "[1]\ttrain-logloss:0.58118\teval-logloss:0.57399\n",
            "[2]\ttrain-logloss:0.54643\teval-logloss:0.54162\n",
            "[3]\ttrain-logloss:0.51438\teval-logloss:0.51251\n",
            "[4]\ttrain-logloss:0.48506\teval-logloss:0.48659\n",
            "[5]\ttrain-logloss:0.45835\teval-logloss:0.46140\n",
            "[6]\ttrain-logloss:0.43349\teval-logloss:0.43751\n",
            "[7]\ttrain-logloss:0.41054\teval-logloss:0.41479\n",
            "[8]\ttrain-logloss:0.38916\teval-logloss:0.39564\n",
            "[9]\ttrain-logloss:0.36954\teval-logloss:0.37629\n",
            "[10]\ttrain-logloss:0.35103\teval-logloss:0.36048\n",
            "[11]\ttrain-logloss:0.33394\teval-logloss:0.34549\n",
            "[12]\ttrain-logloss:0.31780\teval-logloss:0.33074\n",
            "[13]\ttrain-logloss:0.30262\teval-logloss:0.31779\n",
            "[14]\ttrain-logloss:0.28852\teval-logloss:0.30478\n",
            "[15]\ttrain-logloss:0.27536\teval-logloss:0.29244\n",
            "[16]\ttrain-logloss:0.26288\teval-logloss:0.28061\n",
            "[17]\ttrain-logloss:0.25106\teval-logloss:0.27044\n",
            "[18]\ttrain-logloss:0.24006\teval-logloss:0.26124\n",
            "[19]\ttrain-logloss:0.22959\teval-logloss:0.25233\n",
            "[20]\ttrain-logloss:0.21938\teval-logloss:0.24410\n",
            "[21]\ttrain-logloss:0.21029\teval-logloss:0.23549\n",
            "[22]\ttrain-logloss:0.20142\teval-logloss:0.22746\n",
            "[23]\ttrain-logloss:0.19317\teval-logloss:0.22088\n",
            "[24]\ttrain-logloss:0.18532\teval-logloss:0.21405\n",
            "[25]\ttrain-logloss:0.17784\teval-logloss:0.20867\n",
            "[26]\ttrain-logloss:0.17071\teval-logloss:0.20287\n",
            "[27]\ttrain-logloss:0.16425\teval-logloss:0.19729\n",
            "[28]\ttrain-logloss:0.15797\teval-logloss:0.19203\n",
            "[29]\ttrain-logloss:0.15176\teval-logloss:0.18573\n",
            "[30]\ttrain-logloss:0.14589\teval-logloss:0.17979\n",
            "[31]\ttrain-logloss:0.14053\teval-logloss:0.17500\n",
            "[32]\ttrain-logloss:0.13540\teval-logloss:0.16920\n",
            "[33]\ttrain-logloss:0.13065\teval-logloss:0.16566\n",
            "[34]\ttrain-logloss:0.12583\teval-logloss:0.16142\n",
            "[35]\ttrain-logloss:0.12145\teval-logloss:0.15753\n",
            "[36]\ttrain-logloss:0.11727\teval-logloss:0.15270\n",
            "[37]\ttrain-logloss:0.11314\teval-logloss:0.14972\n",
            "[38]\ttrain-logloss:0.10921\teval-logloss:0.14758\n",
            "[39]\ttrain-logloss:0.10538\teval-logloss:0.14431\n",
            "[40]\ttrain-logloss:0.10202\teval-logloss:0.14167\n",
            "[41]\ttrain-logloss:0.09832\teval-logloss:0.13760\n",
            "[42]\ttrain-logloss:0.09509\teval-logloss:0.13535\n",
            "[43]\ttrain-logloss:0.09193\teval-logloss:0.13330\n",
            "[44]\ttrain-logloss:0.08886\teval-logloss:0.12985\n",
            "[45]\ttrain-logloss:0.08608\teval-logloss:0.12812\n",
            "[46]\ttrain-logloss:0.08326\teval-logloss:0.12568\n",
            "[47]\ttrain-logloss:0.08074\teval-logloss:0.12432\n",
            "[48]\ttrain-logloss:0.07820\teval-logloss:0.12210\n",
            "[49]\ttrain-logloss:0.07581\teval-logloss:0.12073\n",
            "[50]\ttrain-logloss:0.07365\teval-logloss:0.11850\n",
            "[51]\ttrain-logloss:0.07153\teval-logloss:0.11754\n",
            "[52]\ttrain-logloss:0.06938\teval-logloss:0.11548\n",
            "[53]\ttrain-logloss:0.06740\teval-logloss:0.11397\n",
            "[54]\ttrain-logloss:0.06548\teval-logloss:0.11305\n",
            "[55]\ttrain-logloss:0.06364\teval-logloss:0.11144\n",
            "[56]\ttrain-logloss:0.06183\teval-logloss:0.11044\n",
            "[57]\ttrain-logloss:0.06013\teval-logloss:0.10953\n",
            "[58]\ttrain-logloss:0.05846\teval-logloss:0.10742\n",
            "[59]\ttrain-logloss:0.05691\teval-logloss:0.10715\n",
            "[60]\ttrain-logloss:0.05519\teval-logloss:0.10529\n",
            "[61]\ttrain-logloss:0.05376\teval-logloss:0.10533\n",
            "[62]\ttrain-logloss:0.05235\teval-logloss:0.10469\n",
            "[63]\ttrain-logloss:0.05085\teval-logloss:0.10306\n",
            "[64]\ttrain-logloss:0.04960\teval-logloss:0.10229\n",
            "[65]\ttrain-logloss:0.04834\teval-logloss:0.10168\n",
            "[66]\ttrain-logloss:0.04700\teval-logloss:0.10020\n",
            "[67]\ttrain-logloss:0.04587\teval-logloss:0.09942\n",
            "[68]\ttrain-logloss:0.04464\teval-logloss:0.09876\n",
            "[69]\ttrain-logloss:0.04362\teval-logloss:0.09855\n",
            "[70]\ttrain-logloss:0.04262\teval-logloss:0.09813\n",
            "[71]\ttrain-logloss:0.04175\teval-logloss:0.09792\n",
            "[72]\ttrain-logloss:0.04088\teval-logloss:0.09784\n",
            "[73]\ttrain-logloss:0.03996\teval-logloss:0.09716\n",
            "[74]\ttrain-logloss:0.03908\teval-logloss:0.09691\n",
            "[75]\ttrain-logloss:0.03824\teval-logloss:0.09490\n",
            "[76]\ttrain-logloss:0.03742\teval-logloss:0.09431\n",
            "[77]\ttrain-logloss:0.03656\teval-logloss:0.09405\n",
            "[78]\ttrain-logloss:0.03573\teval-logloss:0.09282\n",
            "[79]\ttrain-logloss:0.03502\teval-logloss:0.09298\n",
            "[80]\ttrain-logloss:0.03424\teval-logloss:0.09253\n",
            "[81]\ttrain-logloss:0.03355\teval-logloss:0.09209\n",
            "[82]\ttrain-logloss:0.03283\teval-logloss:0.09176\n",
            "[83]\ttrain-logloss:0.03203\teval-logloss:0.09168\n",
            "[84]\ttrain-logloss:0.03144\teval-logloss:0.09171\n",
            "[85]\ttrain-logloss:0.03084\teval-logloss:0.09144\n",
            "[86]\ttrain-logloss:0.03012\teval-logloss:0.09139\n",
            "[87]\ttrain-logloss:0.02961\teval-logloss:0.09092\n",
            "[88]\ttrain-logloss:0.02913\teval-logloss:0.09125\n",
            "[89]\ttrain-logloss:0.02848\teval-logloss:0.09125\n",
            "[90]\ttrain-logloss:0.02792\teval-logloss:0.09099\n",
            "[91]\ttrain-logloss:0.02747\teval-logloss:0.08991\n",
            "[92]\ttrain-logloss:0.02702\teval-logloss:0.09038\n",
            "[93]\ttrain-logloss:0.02657\teval-logloss:0.09025\n",
            "[94]\ttrain-logloss:0.02615\teval-logloss:0.08975\n",
            "[95]\ttrain-logloss:0.02567\teval-logloss:0.08922\n",
            "[96]\ttrain-logloss:0.02518\teval-logloss:0.08925\n",
            "[97]\ttrain-logloss:0.02487\teval-logloss:0.08955\n",
            "[98]\ttrain-logloss:0.02442\teval-logloss:0.08902\n",
            "[99]\ttrain-logloss:0.02400\teval-logloss:0.08857\n",
            "[100]\ttrain-logloss:0.02364\teval-logloss:0.08791\n",
            "[101]\ttrain-logloss:0.02332\teval-logloss:0.08715\n",
            "[102]\ttrain-logloss:0.02293\teval-logloss:0.08641\n",
            "[103]\ttrain-logloss:0.02264\teval-logloss:0.08544\n",
            "[104]\ttrain-logloss:0.02230\teval-logloss:0.08511\n",
            "[105]\ttrain-logloss:0.02187\teval-logloss:0.08472\n",
            "[106]\ttrain-logloss:0.02155\teval-logloss:0.08441\n",
            "[107]\ttrain-logloss:0.02127\teval-logloss:0.08397\n",
            "[108]\ttrain-logloss:0.02103\teval-logloss:0.08333\n",
            "[109]\ttrain-logloss:0.02077\teval-logloss:0.08324\n",
            "[110]\ttrain-logloss:0.02050\teval-logloss:0.08308\n",
            "[111]\ttrain-logloss:0.02026\teval-logloss:0.08235\n",
            "[112]\ttrain-logloss:0.01999\teval-logloss:0.08122\n",
            "[113]\ttrain-logloss:0.01976\teval-logloss:0.08115\n",
            "[114]\ttrain-logloss:0.01951\teval-logloss:0.08008\n",
            "[115]\ttrain-logloss:0.01929\teval-logloss:0.08003\n",
            "[116]\ttrain-logloss:0.01906\teval-logloss:0.07988\n",
            "[117]\ttrain-logloss:0.01889\teval-logloss:0.07927\n",
            "[118]\ttrain-logloss:0.01863\teval-logloss:0.07898\n",
            "[119]\ttrain-logloss:0.01843\teval-logloss:0.07843\n",
            "[120]\ttrain-logloss:0.01819\teval-logloss:0.07813\n",
            "[121]\ttrain-logloss:0.01797\teval-logloss:0.07762\n",
            "[122]\ttrain-logloss:0.01780\teval-logloss:0.07751\n",
            "[123]\ttrain-logloss:0.01758\teval-logloss:0.07721\n",
            "[124]\ttrain-logloss:0.01742\teval-logloss:0.07699\n",
            "[125]\ttrain-logloss:0.01724\teval-logloss:0.07625\n",
            "[126]\ttrain-logloss:0.01702\teval-logloss:0.07599\n",
            "[127]\ttrain-logloss:0.01687\teval-logloss:0.07590\n",
            "[128]\ttrain-logloss:0.01672\teval-logloss:0.07559\n",
            "[129]\ttrain-logloss:0.01652\teval-logloss:0.07537\n",
            "[130]\ttrain-logloss:0.01638\teval-logloss:0.07518\n",
            "[131]\ttrain-logloss:0.01624\teval-logloss:0.07492\n",
            "[132]\ttrain-logloss:0.01605\teval-logloss:0.07471\n",
            "[133]\ttrain-logloss:0.01588\teval-logloss:0.07456\n",
            "[134]\ttrain-logloss:0.01575\teval-logloss:0.07432\n",
            "[135]\ttrain-logloss:0.01562\teval-logloss:0.07431\n",
            "[136]\ttrain-logloss:0.01549\teval-logloss:0.07445\n",
            "[137]\ttrain-logloss:0.01538\teval-logloss:0.07414\n",
            "[138]\ttrain-logloss:0.01525\teval-logloss:0.07395\n",
            "[139]\ttrain-logloss:0.01512\teval-logloss:0.07365\n",
            "[140]\ttrain-logloss:0.01497\teval-logloss:0.07346\n",
            "[141]\ttrain-logloss:0.01487\teval-logloss:0.07318\n",
            "[142]\ttrain-logloss:0.01475\teval-logloss:0.07299\n",
            "[143]\ttrain-logloss:0.01465\teval-logloss:0.07242\n",
            "[144]\ttrain-logloss:0.01455\teval-logloss:0.07222\n",
            "[145]\ttrain-logloss:0.01441\teval-logloss:0.07204\n",
            "[146]\ttrain-logloss:0.01432\teval-logloss:0.07198\n",
            "[147]\ttrain-logloss:0.01425\teval-logloss:0.07199\n",
            "[148]\ttrain-logloss:0.01412\teval-logloss:0.07203\n",
            "[149]\ttrain-logloss:0.01399\teval-logloss:0.07162\n",
            "[150]\ttrain-logloss:0.01391\teval-logloss:0.07137\n",
            "[151]\ttrain-logloss:0.01384\teval-logloss:0.07181\n",
            "[152]\ttrain-logloss:0.01376\teval-logloss:0.07175\n",
            "[153]\ttrain-logloss:0.01363\teval-logloss:0.07158\n",
            "[154]\ttrain-logloss:0.01356\teval-logloss:0.07202\n",
            "[155]\ttrain-logloss:0.01349\teval-logloss:0.07182\n",
            "[156]\ttrain-logloss:0.01335\teval-logloss:0.07152\n",
            "[157]\ttrain-logloss:0.01326\teval-logloss:0.07143\n",
            "[158]\ttrain-logloss:0.01319\teval-logloss:0.07137\n",
            "[159]\ttrain-logloss:0.01312\teval-logloss:0.07117\n",
            "[160]\ttrain-logloss:0.01301\teval-logloss:0.07122\n",
            "[161]\ttrain-logloss:0.01293\teval-logloss:0.07126\n",
            "[162]\ttrain-logloss:0.01287\teval-logloss:0.07107\n",
            "[163]\ttrain-logloss:0.01281\teval-logloss:0.07099\n",
            "[164]\ttrain-logloss:0.01275\teval-logloss:0.07092\n",
            "[165]\ttrain-logloss:0.01266\teval-logloss:0.07042\n",
            "[166]\ttrain-logloss:0.01259\teval-logloss:0.07032\n",
            "[167]\ttrain-logloss:0.01253\teval-logloss:0.07026\n",
            "[168]\ttrain-logloss:0.01243\teval-logloss:0.07031\n",
            "[169]\ttrain-logloss:0.01238\teval-logloss:0.07023\n",
            "[170]\ttrain-logloss:0.01227\teval-logloss:0.07007\n",
            "[171]\ttrain-logloss:0.01219\teval-logloss:0.06996\n",
            "[172]\ttrain-logloss:0.01213\teval-logloss:0.07013\n",
            "[173]\ttrain-logloss:0.01206\teval-logloss:0.06965\n",
            "[174]\ttrain-logloss:0.01200\teval-logloss:0.06959\n",
            "[175]\ttrain-logloss:0.01193\teval-logloss:0.06948\n",
            "[176]\ttrain-logloss:0.01186\teval-logloss:0.06952\n",
            "[177]\ttrain-logloss:0.01181\teval-logloss:0.06881\n",
            "[178]\ttrain-logloss:0.01176\teval-logloss:0.06897\n",
            "[179]\ttrain-logloss:0.01169\teval-logloss:0.06888\n",
            "[180]\ttrain-logloss:0.01164\teval-logloss:0.06881\n",
            "[181]\ttrain-logloss:0.01158\teval-logloss:0.06812\n",
            "[182]\ttrain-logloss:0.01154\teval-logloss:0.06805\n",
            "[183]\ttrain-logloss:0.01147\teval-logloss:0.06760\n",
            "[184]\ttrain-logloss:0.01142\teval-logloss:0.06753\n",
            "[185]\ttrain-logloss:0.01137\teval-logloss:0.06747\n",
            "[186]\ttrain-logloss:0.01131\teval-logloss:0.06722\n",
            "[187]\ttrain-logloss:0.01126\teval-logloss:0.06716\n",
            "[188]\ttrain-logloss:0.01119\teval-logloss:0.06704\n",
            "[189]\ttrain-logloss:0.01114\teval-logloss:0.06709\n",
            "[190]\ttrain-logloss:0.01108\teval-logloss:0.06642\n",
            "[191]\ttrain-logloss:0.01104\teval-logloss:0.06636\n",
            "[192]\ttrain-logloss:0.01099\teval-logloss:0.06651\n",
            "[193]\ttrain-logloss:0.01094\teval-logloss:0.06586\n",
            "[194]\ttrain-logloss:0.01089\teval-logloss:0.06590\n",
            "[195]\ttrain-logloss:0.01084\teval-logloss:0.06567\n",
            "[196]\ttrain-logloss:0.01077\teval-logloss:0.06520\n",
            "[197]\ttrain-logloss:0.01073\teval-logloss:0.06535\n",
            "[198]\ttrain-logloss:0.01068\teval-logloss:0.06472\n",
            "[199]\ttrain-logloss:0.01064\teval-logloss:0.06468\n",
            "[200]\ttrain-logloss:0.01059\teval-logloss:0.06462\n",
            "[201]\ttrain-logloss:0.01055\teval-logloss:0.06459\n",
            "[202]\ttrain-logloss:0.01050\teval-logloss:0.06464\n",
            "[203]\ttrain-logloss:0.01045\teval-logloss:0.06458\n",
            "[204]\ttrain-logloss:0.01040\teval-logloss:0.06446\n",
            "[205]\ttrain-logloss:0.01033\teval-logloss:0.06401\n",
            "[206]\ttrain-logloss:0.01029\teval-logloss:0.06396\n",
            "[207]\ttrain-logloss:0.01025\teval-logloss:0.06379\n",
            "[208]\ttrain-logloss:0.01021\teval-logloss:0.06334\n",
            "[209]\ttrain-logloss:0.01017\teval-logloss:0.06330\n",
            "[210]\ttrain-logloss:0.01013\teval-logloss:0.06323\n",
            "[211]\ttrain-logloss:0.01008\teval-logloss:0.06308\n",
            "[212]\ttrain-logloss:0.01001\teval-logloss:0.06264\n",
            "[213]\ttrain-logloss:0.00998\teval-logloss:0.06260\n",
            "[214]\ttrain-logloss:0.00994\teval-logloss:0.06244\n",
            "[215]\ttrain-logloss:0.00990\teval-logloss:0.06201\n",
            "[216]\ttrain-logloss:0.00986\teval-logloss:0.06141\n",
            "[217]\ttrain-logloss:0.00982\teval-logloss:0.06135\n",
            "[218]\ttrain-logloss:0.00979\teval-logloss:0.06123\n",
            "[219]\ttrain-logloss:0.00973\teval-logloss:0.06081\n",
            "[220]\ttrain-logloss:0.00970\teval-logloss:0.06122\n",
            "[221]\ttrain-logloss:0.00967\teval-logloss:0.06069\n",
            "[222]\ttrain-logloss:0.00965\teval-logloss:0.06089\n",
            "[223]\ttrain-logloss:0.00961\teval-logloss:0.06082\n",
            "[224]\ttrain-logloss:0.00956\teval-logloss:0.06042\n",
            "[225]\ttrain-logloss:0.00951\teval-logloss:0.06027\n",
            "[226]\ttrain-logloss:0.00949\teval-logloss:0.06020\n",
            "[227]\ttrain-logloss:0.00944\teval-logloss:0.05981\n",
            "[228]\ttrain-logloss:0.00941\teval-logloss:0.05970\n",
            "[229]\ttrain-logloss:0.00939\teval-logloss:0.05931\n",
            "[230]\ttrain-logloss:0.00934\teval-logloss:0.05950\n",
            "[231]\ttrain-logloss:0.00930\teval-logloss:0.05942\n",
            "[232]\ttrain-logloss:0.00927\teval-logloss:0.05935\n",
            "[233]\ttrain-logloss:0.00922\teval-logloss:0.05896\n",
            "[234]\ttrain-logloss:0.00917\teval-logloss:0.05858\n",
            "[235]\ttrain-logloss:0.00912\teval-logloss:0.05876\n",
            "[236]\ttrain-logloss:0.00910\teval-logloss:0.05870\n",
            "[237]\ttrain-logloss:0.00905\teval-logloss:0.05833\n",
            "[238]\ttrain-logloss:0.00902\teval-logloss:0.05808\n",
            "[239]\ttrain-logloss:0.00901\teval-logloss:0.05802\n",
            "[240]\ttrain-logloss:0.00899\teval-logloss:0.05776\n",
            "[241]\ttrain-logloss:0.00897\teval-logloss:0.05766\n",
            "[242]\ttrain-logloss:0.00892\teval-logloss:0.05730\n",
            "[243]\ttrain-logloss:0.00888\teval-logloss:0.05748\n",
            "[244]\ttrain-logloss:0.00886\teval-logloss:0.05743\n",
            "[245]\ttrain-logloss:0.00881\teval-logloss:0.05708\n",
            "[246]\ttrain-logloss:0.00877\teval-logloss:0.05725\n",
            "[247]\ttrain-logloss:0.00873\teval-logloss:0.05690\n",
            "[248]\ttrain-logloss:0.00871\teval-logloss:0.05708\n",
            "[249]\ttrain-logloss:0.00870\teval-logloss:0.05724\n",
            "[250]\ttrain-logloss:0.00866\teval-logloss:0.05705\n",
            "[251]\ttrain-logloss:0.00862\teval-logloss:0.05672\n",
            "[252]\ttrain-logloss:0.00861\teval-logloss:0.05666\n",
            "[253]\ttrain-logloss:0.00857\teval-logloss:0.05683\n",
            "[254]\ttrain-logloss:0.00855\teval-logloss:0.05659\n",
            "[255]\ttrain-logloss:0.00854\teval-logloss:0.05678\n",
            "[256]\ttrain-logloss:0.00852\teval-logloss:0.05695\n",
            "[257]\ttrain-logloss:0.00851\teval-logloss:0.05710\n",
            "[258]\ttrain-logloss:0.00850\teval-logloss:0.05699\n",
            "[259]\ttrain-logloss:0.00848\teval-logloss:0.05675\n",
            "[260]\ttrain-logloss:0.00847\teval-logloss:0.05649\n",
            "[261]\ttrain-logloss:0.00845\teval-logloss:0.05665\n",
            "[262]\ttrain-logloss:0.00844\teval-logloss:0.05681\n",
            "[263]\ttrain-logloss:0.00842\teval-logloss:0.05681\n",
            "[264]\ttrain-logloss:0.00839\teval-logloss:0.05695\n",
            "[265]\ttrain-logloss:0.00838\teval-logloss:0.05700\n",
            "[266]\ttrain-logloss:0.00837\teval-logloss:0.05676\n",
            "[267]\ttrain-logloss:0.00834\teval-logloss:0.05641\n",
            "[268]\ttrain-logloss:0.00833\teval-logloss:0.05656\n",
            "[269]\ttrain-logloss:0.00832\teval-logloss:0.05631\n",
            "[270]\ttrain-logloss:0.00830\teval-logloss:0.05635\n",
            "[271]\ttrain-logloss:0.00828\teval-logloss:0.05643\n",
            "[272]\ttrain-logloss:0.00827\teval-logloss:0.05629\n",
            "[273]\ttrain-logloss:0.00825\teval-logloss:0.05648\n",
            "[274]\ttrain-logloss:0.00824\teval-logloss:0.05663\n",
            "[275]\ttrain-logloss:0.00821\teval-logloss:0.05628\n",
            "[276]\ttrain-logloss:0.00820\teval-logloss:0.05605\n",
            "[277]\ttrain-logloss:0.00819\teval-logloss:0.05623\n",
            "[278]\ttrain-logloss:0.00818\teval-logloss:0.05610\n",
            "[279]\ttrain-logloss:0.00816\teval-logloss:0.05622\n",
            "[280]\ttrain-logloss:0.00815\teval-logloss:0.05610\n",
            "[281]\ttrain-logloss:0.00812\teval-logloss:0.05575\n",
            "[282]\ttrain-logloss:0.00811\teval-logloss:0.05593\n",
            "[283]\ttrain-logloss:0.00810\teval-logloss:0.05570\n",
            "[284]\ttrain-logloss:0.00809\teval-logloss:0.05566\n",
            "[285]\ttrain-logloss:0.00807\teval-logloss:0.05553\n",
            "[286]\ttrain-logloss:0.00806\teval-logloss:0.05568\n",
            "[287]\ttrain-logloss:0.00804\teval-logloss:0.05550\n",
            "[288]\ttrain-logloss:0.00803\teval-logloss:0.05552\n",
            "[289]\ttrain-logloss:0.00802\teval-logloss:0.05555\n",
            "[290]\ttrain-logloss:0.00801\teval-logloss:0.05572\n",
            "[291]\ttrain-logloss:0.00799\teval-logloss:0.05560\n",
            "[292]\ttrain-logloss:0.00798\teval-logloss:0.05556\n",
            "[293]\ttrain-logloss:0.00797\teval-logloss:0.05571\n",
            "[294]\ttrain-logloss:0.00796\teval-logloss:0.05574\n",
            "[295]\ttrain-logloss:0.00795\teval-logloss:0.05562\n",
            "[296]\ttrain-logloss:0.00794\teval-logloss:0.05543\n",
            "[297]\ttrain-logloss:0.00793\teval-logloss:0.05521\n",
            "[298]\ttrain-logloss:0.00792\teval-logloss:0.05539\n",
            "[299]\ttrain-logloss:0.00791\teval-logloss:0.05527\n",
            "[300]\ttrain-logloss:0.00790\teval-logloss:0.05504\n",
            "[301]\ttrain-logloss:0.00789\teval-logloss:0.05519\n",
            "[302]\ttrain-logloss:0.00788\teval-logloss:0.05523\n",
            "[303]\ttrain-logloss:0.00787\teval-logloss:0.05519\n",
            "[304]\ttrain-logloss:0.00786\teval-logloss:0.05536\n",
            "[305]\ttrain-logloss:0.00785\teval-logloss:0.05524\n",
            "[306]\ttrain-logloss:0.00784\teval-logloss:0.05513\n",
            "[307]\ttrain-logloss:0.00783\teval-logloss:0.05503\n",
            "[308]\ttrain-logloss:0.00782\teval-logloss:0.05499\n",
            "[309]\ttrain-logloss:0.00781\teval-logloss:0.05502\n",
            "[310]\ttrain-logloss:0.00780\teval-logloss:0.05490\n",
            "[311]\ttrain-logloss:0.00779\teval-logloss:0.05507\n",
            "[312]\ttrain-logloss:0.00778\teval-logloss:0.05503\n",
            "[313]\ttrain-logloss:0.00777\teval-logloss:0.05493\n",
            "[314]\ttrain-logloss:0.00776\teval-logloss:0.05495\n",
            "[315]\ttrain-logloss:0.00775\teval-logloss:0.05482\n",
            "[316]\ttrain-logloss:0.00774\teval-logloss:0.05461\n",
            "[317]\ttrain-logloss:0.00773\teval-logloss:0.05477\n",
            "[318]\ttrain-logloss:0.00772\teval-logloss:0.05466\n",
            "[319]\ttrain-logloss:0.00771\teval-logloss:0.05480\n",
            "[320]\ttrain-logloss:0.00770\teval-logloss:0.05476\n",
            "[321]\ttrain-logloss:0.00769\teval-logloss:0.05465\n",
            "[322]\ttrain-logloss:0.00769\teval-logloss:0.05460\n",
            "[323]\ttrain-logloss:0.00768\teval-logloss:0.05477\n",
            "[324]\ttrain-logloss:0.00767\teval-logloss:0.05467\n",
            "[325]\ttrain-logloss:0.00766\teval-logloss:0.05456\n",
            "[326]\ttrain-logloss:0.00765\teval-logloss:0.05458\n",
            "[327]\ttrain-logloss:0.00764\teval-logloss:0.05438\n",
            "[328]\ttrain-logloss:0.00763\teval-logloss:0.05454\n",
            "[329]\ttrain-logloss:0.00762\teval-logloss:0.05443\n",
            "[330]\ttrain-logloss:0.00761\teval-logloss:0.05430\n",
            "[331]\ttrain-logloss:0.00760\teval-logloss:0.05425\n",
            "[332]\ttrain-logloss:0.00759\teval-logloss:0.05415\n",
            "[333]\ttrain-logloss:0.00758\teval-logloss:0.05411\n",
            "[334]\ttrain-logloss:0.00758\teval-logloss:0.05427\n",
            "[335]\ttrain-logloss:0.00757\teval-logloss:0.05416\n",
            "[336]\ttrain-logloss:0.00756\teval-logloss:0.05411\n",
            "[337]\ttrain-logloss:0.00755\teval-logloss:0.05413\n",
            "[338]\ttrain-logloss:0.00754\teval-logloss:0.05404\n",
            "[339]\ttrain-logloss:0.00753\teval-logloss:0.05403\n",
            "[340]\ttrain-logloss:0.00752\teval-logloss:0.05392\n",
            "[341]\ttrain-logloss:0.00751\teval-logloss:0.05408\n",
            "[342]\ttrain-logloss:0.00750\teval-logloss:0.05403\n",
            "[343]\ttrain-logloss:0.00750\teval-logloss:0.05393\n",
            "[344]\ttrain-logloss:0.00749\teval-logloss:0.05384\n",
            "[345]\ttrain-logloss:0.00748\teval-logloss:0.05380\n",
            "[346]\ttrain-logloss:0.00747\teval-logloss:0.05369\n",
            "[347]\ttrain-logloss:0.00746\teval-logloss:0.05368\n",
            "[348]\ttrain-logloss:0.00745\teval-logloss:0.05349\n",
            "[349]\ttrain-logloss:0.00744\teval-logloss:0.05364\n",
            "[350]\ttrain-logloss:0.00744\teval-logloss:0.05354\n",
            "[351]\ttrain-logloss:0.00743\teval-logloss:0.05349\n",
            "[352]\ttrain-logloss:0.00742\teval-logloss:0.05351\n",
            "[353]\ttrain-logloss:0.00741\teval-logloss:0.05330\n",
            "[354]\ttrain-logloss:0.00740\teval-logloss:0.05321\n",
            "[355]\ttrain-logloss:0.00739\teval-logloss:0.05310\n",
            "[356]\ttrain-logloss:0.00739\teval-logloss:0.05310\n",
            "[357]\ttrain-logloss:0.00738\teval-logloss:0.05300\n",
            "[358]\ttrain-logloss:0.00737\teval-logloss:0.05315\n",
            "[359]\ttrain-logloss:0.00736\teval-logloss:0.05296\n",
            "[360]\ttrain-logloss:0.00735\teval-logloss:0.05287\n",
            "[361]\ttrain-logloss:0.00735\teval-logloss:0.05289\n",
            "[362]\ttrain-logloss:0.00734\teval-logloss:0.05280\n",
            "[363]\ttrain-logloss:0.00733\teval-logloss:0.05293\n",
            "[364]\ttrain-logloss:0.00732\teval-logloss:0.05290\n",
            "[365]\ttrain-logloss:0.00731\teval-logloss:0.05280\n",
            "[366]\ttrain-logloss:0.00730\teval-logloss:0.05280\n",
            "[367]\ttrain-logloss:0.00730\teval-logloss:0.05261\n",
            "[368]\ttrain-logloss:0.00729\teval-logloss:0.05276\n",
            "[369]\ttrain-logloss:0.00728\teval-logloss:0.05266\n",
            "[370]\ttrain-logloss:0.00727\teval-logloss:0.05262\n",
            "[371]\ttrain-logloss:0.00726\teval-logloss:0.05253\n",
            "[372]\ttrain-logloss:0.00726\teval-logloss:0.05268\n",
            "[373]\ttrain-logloss:0.00725\teval-logloss:0.05259\n",
            "[374]\ttrain-logloss:0.00724\teval-logloss:0.05249\n",
            "[375]\ttrain-logloss:0.00723\teval-logloss:0.05248\n",
            "[376]\ttrain-logloss:0.00723\teval-logloss:0.05245\n",
            "[377]\ttrain-logloss:0.00722\teval-logloss:0.05236\n",
            "[378]\ttrain-logloss:0.00721\teval-logloss:0.05232\n",
            "[379]\ttrain-logloss:0.00720\teval-logloss:0.05234\n",
            "[380]\ttrain-logloss:0.00719\teval-logloss:0.05234\n",
            "[381]\ttrain-logloss:0.00719\teval-logloss:0.05225\n",
            "[382]\ttrain-logloss:0.00718\teval-logloss:0.05239\n",
            "[383]\ttrain-logloss:0.00717\teval-logloss:0.05221\n",
            "[384]\ttrain-logloss:0.00716\teval-logloss:0.05201\n",
            "[385]\ttrain-logloss:0.00716\teval-logloss:0.05192\n",
            "[386]\ttrain-logloss:0.00715\teval-logloss:0.05181\n",
            "[387]\ttrain-logloss:0.00714\teval-logloss:0.05182\n",
            "[388]\ttrain-logloss:0.00713\teval-logloss:0.05174\n",
            "[389]\ttrain-logloss:0.00713\teval-logloss:0.05170\n",
            "[390]\ttrain-logloss:0.00712\teval-logloss:0.05172\n",
            "[391]\ttrain-logloss:0.00711\teval-logloss:0.05169\n",
            "[392]\ttrain-logloss:0.00710\teval-logloss:0.05161\n",
            "[393]\ttrain-logloss:0.00710\teval-logloss:0.05152\n",
            "[394]\ttrain-logloss:0.00709\teval-logloss:0.05164\n",
            "[395]\ttrain-logloss:0.00708\teval-logloss:0.05155\n",
            "[396]\ttrain-logloss:0.00708\teval-logloss:0.05155\n",
            "[397]\ttrain-logloss:0.00707\teval-logloss:0.05155\n",
            "[398]\ttrain-logloss:0.00706\teval-logloss:0.05146\n",
            "[399]\ttrain-logloss:0.00705\teval-logloss:0.05143\n"
          ]
        }
      ]
    },
    {
      "cell_type": "code",
      "source": [
        "pred_probs = xgb_model.predict(dtest)\n",
        "# 수행 결과값을 10개만 표시, 예측 확률 값으로 표시\n",
        "np.round(pred_probs[:10], 3)"
      ],
      "metadata": {
        "colab": {
          "base_uri": "https://localhost:8080/"
        },
        "id": "2gTkxtcNILWT",
        "outputId": "2a558d42-bf82-4881-cfc3-46038af7b23f"
      },
      "execution_count": null,
      "outputs": [
        {
          "output_type": "execute_result",
          "data": {
            "text/plain": [
              "array([0.993, 0.001, 0.   , 1.   , 1.   , 0.001, 0.001, 0.107, 0.147,\n",
              "       1.   ], dtype=float32)"
            ]
          },
          "metadata": {},
          "execution_count": 54
        }
      ]
    },
    {
      "cell_type": "code",
      "source": [
        "# 예측 분류\n",
        "preds = [1 if x > 0.5 else 0 for x in pred_probs]\n",
        "preds[:10]"
      ],
      "metadata": {
        "colab": {
          "base_uri": "https://localhost:8080/"
        },
        "id": "pWR9Z51ZMP89",
        "outputId": "5b3caf03-6f97-49e5-ca36-764d4fd44b6a"
      },
      "execution_count": null,
      "outputs": [
        {
          "output_type": "execute_result",
          "data": {
            "text/plain": [
              "[1, 0, 0, 1, 1, 0, 0, 0, 0, 1]"
            ]
          },
          "metadata": {},
          "execution_count": 55
        }
      ]
    },
    {
      "cell_type": "code",
      "source": [
        "from xgboost import plot_importance\n",
        "\n",
        "plot_importance(xgb_model)\n",
        "plt.show()"
      ],
      "metadata": {
        "colab": {
          "base_uri": "https://localhost:8080/",
          "height": 472
        },
        "id": "te-9bBzrMlHT",
        "outputId": "373c587c-fef7-43e3-ad04-6c1f71404dad"
      },
      "execution_count": null,
      "outputs": [
        {
          "output_type": "display_data",
          "data": {
            "text/plain": [
              "<Figure size 640x480 with 1 Axes>"
            ],
            "image/png": "[encoded data removed]"
          },
          "metadata": {}
        }
      ]
    },
    {
      "cell_type": "code",
      "source": [
        "from xgboost import to_graphviz\n",
        "import graphviz\n",
        "\n",
        "to_graphviz(xgb_model)"
      ],
      "metadata": {
        "colab": {
          "base_uri": "https://localhost:8080/",
          "height": 659
        },
        "id": "sTY-M84DI-t9",
        "outputId": "b4b4f958-7b69-48f9-a7d9-284c716913cc"
      },
      "execution_count": null,
      "outputs": [
        {
          "output_type": "execute_result",
          "data": {
            "image/svg+xml": "<?xml version=\"1.0\" encoding=\"UTF-8\" standalone=\"no\"?>\n<!DOCTYPE svg PUBLIC \"-//W3C//DTD SVG 1.1//EN\"\n \"http://www.w3.org/Graphics/SVG/1.1/DTD/svg11.dtd\">\n<!-- Generated by graphviz version 2.43.0 (0)\n -->\n<!-- Title: %3 Pages: 1 -->\n<svg width=\"1246pt\" height=\"479pt\"\n viewBox=\"0.00 0.00 1245.59 479.00\" xmlns=\"http://www.w3.org/2000/svg\" xmlns:xlink=\"http://www.w3.org/1999/xlink\">\n<g id=\"graph0\" class=\"graph\" transform=\"scale(1 1) rotate(0) translate(4 475)\">\n<title>%3</title>\n<polygon fill=\"white\" stroke=\"transparent\" points=\"-4,4 -4,-475 1241.59,-475 1241.59,4 -4,4\"/>\n<!-- 0 -->\n<g id=\"node1\" class=\"node\">\n<title>0</title>\n<ellipse fill=\"none\" stroke=\"black\" cx=\"705.94\" cy=\"-453\" rx=\"74.19\" ry=\"18\"/>\n<text text-anchor=\"middle\" x=\"705.94\" y=\"-449.3\" font-family=\"Times,serif\" font-size=\"14.00\">f27&lt;0.141800001</text>\n</g>\n<!-- 1 -->\n<g id=\"node2\" class=\"node\">\n<title>1</title>\n<ellipse fill=\"none\" stroke=\"black\" cx=\"615.94\" cy=\"-366\" rx=\"40.89\" ry=\"18\"/>\n<text text-anchor=\"middle\" x=\"615.94\" y=\"-362.3\" font-family=\"Times,serif\" font-size=\"14.00\">f23&lt;967</text>\n</g>\n<!-- 0&#45;&gt;1 -->\n<g id=\"edge1\" class=\"edge\">\n<title>0&#45;&gt;1</title>\n<path fill=\"none\" stroke=\"#ff0000\" d=\"M688.16,-435.21C674.38,-422.19 655.13,-404.01 639.98,-389.7\"/>\n<polygon fill=\"#ff0000\" stroke=\"#ff0000\" points=\"642.15,-386.93 632.47,-382.61 637.34,-392.02 642.15,-386.93\"/>\n<text text-anchor=\"middle\" x=\"676.44\" y=\"-405.8\" font-family=\"Times,serif\" font-size=\"14.00\">yes</text>\n</g>\n<!-- 2 -->\n<g id=\"node3\" class=\"node\">\n<title>2</title>\n<ellipse fill=\"none\" stroke=\"black\" cx=\"799.94\" cy=\"-366\" rx=\"69.59\" ry=\"18\"/>\n<text text-anchor=\"middle\" x=\"799.94\" y=\"-362.3\" font-family=\"Times,serif\" font-size=\"14.00\">f20&lt;14.8400002</text>\n</g>\n<!-- 0&#45;&gt;2 -->\n<g id=\"edge2\" class=\"edge\">\n<title>0&#45;&gt;2</title>\n<path fill=\"none\" stroke=\"#0000ff\" d=\"M724.51,-435.21C738.64,-422.43 758.25,-404.7 773.94,-390.52\"/>\n<polygon fill=\"#0000ff\" stroke=\"#0000ff\" points=\"776.66,-392.77 781.73,-383.47 771.97,-387.58 776.66,-392.77\"/>\n<text text-anchor=\"middle\" x=\"790.94\" y=\"-405.8\" font-family=\"Times,serif\" font-size=\"14.00\">no, missing</text>\n</g>\n<!-- 3 -->\n<g id=\"node4\" class=\"node\">\n<title>3</title>\n<ellipse fill=\"none\" stroke=\"black\" cx=\"435.94\" cy=\"-279\" rx=\"65.79\" ry=\"18\"/>\n<text text-anchor=\"middle\" x=\"435.94\" y=\"-275.3\" font-family=\"Times,serif\" font-size=\"14.00\">f1&lt;22.4699993</text>\n</g>\n<!-- 1&#45;&gt;3 -->\n<g id=\"edge3\" class=\"edge\">\n<title>1&#45;&gt;3</title>\n<path fill=\"none\" stroke=\"#ff0000\" d=\"M589,-352.27C559.23,-338.22 510.98,-315.44 476.62,-299.21\"/>\n<polygon fill=\"#ff0000\" stroke=\"#ff0000\" points=\"477.86,-295.92 467.32,-294.82 474.87,-302.25 477.86,-295.92\"/>\n<text text-anchor=\"middle\" x=\"546.44\" y=\"-318.8\" font-family=\"Times,serif\" font-size=\"14.00\">yes</text>\n</g>\n<!-- 4 -->\n<g id=\"node5\" class=\"node\">\n<title>4</title>\n<ellipse fill=\"none\" stroke=\"black\" cx=\"615.94\" cy=\"-279\" rx=\"74.19\" ry=\"18\"/>\n<text text-anchor=\"middle\" x=\"615.94\" y=\"-275.3\" font-family=\"Times,serif\" font-size=\"14.00\">f26&lt;0.193700001</text>\n</g>\n<!-- 1&#45;&gt;4 -->\n<g id=\"edge4\" class=\"edge\">\n<title>1&#45;&gt;4</title>\n<path fill=\"none\" stroke=\"#0000ff\" d=\"M615.94,-347.8C615.94,-336.16 615.94,-320.55 615.94,-307.24\"/>\n<polygon fill=\"#0000ff\" stroke=\"#0000ff\" points=\"619.44,-307.18 615.94,-297.18 612.44,-307.18 619.44,-307.18\"/>\n<text text-anchor=\"middle\" x=\"647.94\" y=\"-318.8\" font-family=\"Times,serif\" font-size=\"14.00\">no, missing</text>\n</g>\n<!-- 5 -->\n<g id=\"node16\" class=\"node\">\n<title>5</title>\n<ellipse fill=\"none\" stroke=\"black\" cx=\"799.94\" cy=\"-279\" rx=\"89.08\" ry=\"18\"/>\n<text text-anchor=\"middle\" x=\"799.94\" y=\"-275.3\" font-family=\"Times,serif\" font-size=\"14.00\">leaf=0.000233354556</text>\n</g>\n<!-- 2&#45;&gt;5 -->\n<g id=\"edge15\" class=\"edge\">\n<title>2&#45;&gt;5</title>\n<path fill=\"none\" stroke=\"#ff0000\" d=\"M799.94,-347.8C799.94,-336.16 799.94,-320.55 799.94,-307.24\"/>\n<polygon fill=\"#ff0000\" stroke=\"#ff0000\" points=\"803.44,-307.18 799.94,-297.18 796.44,-307.18 803.44,-307.18\"/>\n<text text-anchor=\"middle\" x=\"809.44\" y=\"-318.8\" font-family=\"Times,serif\" font-size=\"14.00\">yes</text>\n</g>\n<!-- 6 -->\n<g id=\"node17\" class=\"node\">\n<title>6</title>\n<ellipse fill=\"none\" stroke=\"black\" cx=\"978.94\" cy=\"-279\" rx=\"69.59\" ry=\"18\"/>\n<text text-anchor=\"middle\" x=\"978.94\" y=\"-275.3\" font-family=\"Times,serif\" font-size=\"14.00\">f21&lt;18.4200001</text>\n</g>\n<!-- 2&#45;&gt;6 -->\n<g id=\"edge16\" class=\"edge\">\n<title>2&#45;&gt;6</title>\n<path fill=\"none\" stroke=\"#0000ff\" d=\"M831.94,-349.8C861.6,-335.72 905.86,-314.71 938.06,-299.41\"/>\n<polygon fill=\"#0000ff\" stroke=\"#0000ff\" points=\"939.69,-302.52 947.22,-295.06 936.68,-296.19 939.69,-302.52\"/>\n<text text-anchor=\"middle\" x=\"932.94\" y=\"-318.8\" font-family=\"Times,serif\" font-size=\"14.00\">no, missing</text>\n</g>\n<!-- 7 -->\n<g id=\"node6\" class=\"node\">\n<title>7</title>\n<ellipse fill=\"none\" stroke=\"black\" cx=\"257.94\" cy=\"-192\" rx=\"74.19\" ry=\"18\"/>\n<text text-anchor=\"middle\" x=\"257.94\" y=\"-188.3\" font-family=\"Times,serif\" font-size=\"14.00\">f10&lt;0.524299979</text>\n</g>\n<!-- 3&#45;&gt;7 -->\n<g id=\"edge5\" class=\"edge\">\n<title>3&#45;&gt;7</title>\n<path fill=\"none\" stroke=\"#ff0000\" d=\"M404.53,-263C375.19,-248.99 331.21,-227.99 299.08,-212.65\"/>\n<polygon fill=\"#ff0000\" stroke=\"#ff0000\" points=\"300.47,-209.43 289.94,-208.28 297.46,-215.75 300.47,-209.43\"/>\n<text text-anchor=\"middle\" x=\"367.44\" y=\"-231.8\" font-family=\"Times,serif\" font-size=\"14.00\">yes</text>\n</g>\n<!-- 8 -->\n<g id=\"node7\" class=\"node\">\n<title>8</title>\n<ellipse fill=\"none\" stroke=\"black\" cx=\"435.94\" cy=\"-192\" rx=\"74.19\" ry=\"18\"/>\n<text text-anchor=\"middle\" x=\"435.94\" y=\"-188.3\" font-family=\"Times,serif\" font-size=\"14.00\">f7&lt;0.0245600007</text>\n</g>\n<!-- 3&#45;&gt;8 -->\n<g id=\"edge6\" class=\"edge\">\n<title>3&#45;&gt;8</title>\n<path fill=\"none\" stroke=\"#0000ff\" d=\"M435.94,-260.8C435.94,-249.16 435.94,-233.55 435.94,-220.24\"/>\n<polygon fill=\"#0000ff\" stroke=\"#0000ff\" points=\"439.44,-220.18 435.94,-210.18 432.44,-220.18 439.44,-220.18\"/>\n<text text-anchor=\"middle\" x=\"467.94\" y=\"-231.8\" font-family=\"Times,serif\" font-size=\"14.00\">no, missing</text>\n</g>\n<!-- 9 -->\n<g id=\"node14\" class=\"node\">\n<title>9</title>\n<ellipse fill=\"none\" stroke=\"black\" cx=\"614.94\" cy=\"-192\" rx=\"87.18\" ry=\"18\"/>\n<text text-anchor=\"middle\" x=\"614.94\" y=\"-188.3\" font-family=\"Times,serif\" font-size=\"14.00\">leaf=&#45;0.00268183625</text>\n</g>\n<!-- 4&#45;&gt;9 -->\n<g id=\"edge13\" class=\"edge\">\n<title>4&#45;&gt;9</title>\n<path fill=\"none\" stroke=\"#ff0000\" d=\"M615.74,-260.8C615.6,-249.16 615.42,-233.55 615.26,-220.24\"/>\n<polygon fill=\"#ff0000\" stroke=\"#ff0000\" points=\"618.76,-220.13 615.14,-210.18 611.76,-220.22 618.76,-220.13\"/>\n<text text-anchor=\"middle\" x=\"625.44\" y=\"-231.8\" font-family=\"Times,serif\" font-size=\"14.00\">yes</text>\n</g>\n<!-- 10 -->\n<g id=\"node15\" class=\"node\">\n<title>10</title>\n<ellipse fill=\"none\" stroke=\"black\" cx=\"798.94\" cy=\"-192\" rx=\"78.79\" ry=\"18\"/>\n<text text-anchor=\"middle\" x=\"798.94\" y=\"-188.3\" font-family=\"Times,serif\" font-size=\"14.00\">leaf=&#45;0.101776458</text>\n</g>\n<!-- 4&#45;&gt;10 -->\n<g id=\"edge14\" class=\"edge\">\n<title>4&#45;&gt;10</title>\n<path fill=\"none\" stroke=\"#0000ff\" d=\"M648.66,-262.8C678.79,-248.81 723.67,-227.96 756.54,-212.7\"/>\n<polygon fill=\"#0000ff\" stroke=\"#0000ff\" points=\"758.3,-215.74 765.89,-208.35 755.35,-209.39 758.3,-215.74\"/>\n<text text-anchor=\"middle\" x=\"750.94\" y=\"-231.8\" font-family=\"Times,serif\" font-size=\"14.00\">no, missing</text>\n</g>\n<!-- 13 -->\n<g id=\"node8\" class=\"node\">\n<title>13</title>\n<ellipse fill=\"none\" stroke=\"black\" cx=\"79.94\" cy=\"-105\" rx=\"79.89\" ry=\"18\"/>\n<text text-anchor=\"middle\" x=\"79.94\" y=\"-101.3\" font-family=\"Times,serif\" font-size=\"14.00\">leaf=0.0777534619</text>\n</g>\n<!-- 7&#45;&gt;13 -->\n<g id=\"edge7\" class=\"edge\">\n<title>7&#45;&gt;13</title>\n<path fill=\"none\" stroke=\"#ff0000\" d=\"M225.71,-175.61C196.53,-161.67 153.38,-141.07 121.6,-125.89\"/>\n<polygon fill=\"#ff0000\" stroke=\"#ff0000\" points=\"123.07,-122.72 112.54,-121.57 120.05,-129.03 123.07,-122.72\"/>\n<text text-anchor=\"middle\" x=\"189.44\" y=\"-144.8\" font-family=\"Times,serif\" font-size=\"14.00\">yes</text>\n</g>\n<!-- 14 -->\n<g id=\"node9\" class=\"node\">\n<title>14</title>\n<ellipse fill=\"none\" stroke=\"black\" cx=\"257.94\" cy=\"-105\" rx=\"79.89\" ry=\"18\"/>\n<text text-anchor=\"middle\" x=\"257.94\" y=\"-101.3\" font-family=\"Times,serif\" font-size=\"14.00\">leaf=0.0203176681</text>\n</g>\n<!-- 7&#45;&gt;14 -->\n<g id=\"edge8\" class=\"edge\">\n<title>7&#45;&gt;14</title>\n<path fill=\"none\" stroke=\"#0000ff\" d=\"M257.94,-173.8C257.94,-162.16 257.94,-146.55 257.94,-133.24\"/>\n<polygon fill=\"#0000ff\" stroke=\"#0000ff\" points=\"261.44,-133.18 257.94,-123.18 254.44,-133.18 261.44,-133.18\"/>\n<text text-anchor=\"middle\" x=\"289.94\" y=\"-144.8\" font-family=\"Times,serif\" font-size=\"14.00\">no, missing</text>\n</g>\n<!-- 15 -->\n<g id=\"node10\" class=\"node\">\n<title>15</title>\n<ellipse fill=\"none\" stroke=\"black\" cx=\"435.94\" cy=\"-105\" rx=\"79.89\" ry=\"18\"/>\n<text text-anchor=\"middle\" x=\"435.94\" y=\"-101.3\" font-family=\"Times,serif\" font-size=\"14.00\">leaf=0.0624760948</text>\n</g>\n<!-- 8&#45;&gt;15 -->\n<g id=\"edge9\" class=\"edge\">\n<title>8&#45;&gt;15</title>\n<path fill=\"none\" stroke=\"#ff0000\" d=\"M435.94,-173.8C435.94,-162.16 435.94,-146.55 435.94,-133.24\"/>\n<polygon fill=\"#ff0000\" stroke=\"#ff0000\" points=\"439.44,-133.18 435.94,-123.18 432.44,-133.18 439.44,-133.18\"/>\n<text text-anchor=\"middle\" x=\"445.44\" y=\"-144.8\" font-family=\"Times,serif\" font-size=\"14.00\">yes</text>\n</g>\n<!-- 16 -->\n<g id=\"node11\" class=\"node\">\n<title>16</title>\n<ellipse fill=\"none\" stroke=\"black\" cx=\"607.94\" cy=\"-105\" rx=\"74.19\" ry=\"18\"/>\n<text text-anchor=\"middle\" x=\"607.94\" y=\"-101.3\" font-family=\"Times,serif\" font-size=\"14.00\">f6&lt;0.0454800017</text>\n</g>\n<!-- 8&#45;&gt;16 -->\n<g id=\"edge10\" class=\"edge\">\n<title>8&#45;&gt;16</title>\n<path fill=\"none\" stroke=\"#0000ff\" d=\"M467.09,-175.61C495.25,-161.69 536.88,-141.12 567.59,-125.94\"/>\n<polygon fill=\"#0000ff\" stroke=\"#0000ff\" points=\"569.32,-128.99 576.74,-121.42 566.22,-122.71 569.32,-128.99\"/>\n<text text-anchor=\"middle\" x=\"564.94\" y=\"-144.8\" font-family=\"Times,serif\" font-size=\"14.00\">no, missing</text>\n</g>\n<!-- 17 -->\n<g id=\"node12\" class=\"node\">\n<title>17</title>\n<ellipse fill=\"none\" stroke=\"black\" cx=\"516.94\" cy=\"-18\" rx=\"79.89\" ry=\"18\"/>\n<text text-anchor=\"middle\" x=\"516.94\" y=\"-14.3\" font-family=\"Times,serif\" font-size=\"14.00\">leaf=0.0203176681</text>\n</g>\n<!-- 16&#45;&gt;17 -->\n<g id=\"edge11\" class=\"edge\">\n<title>16&#45;&gt;17</title>\n<path fill=\"none\" stroke=\"#ff0000\" d=\"M589.96,-87.21C576.38,-74.52 557.55,-56.93 542.41,-42.79\"/>\n<polygon fill=\"#ff0000\" stroke=\"#ff0000\" points=\"544.58,-40.03 534.88,-35.76 539.8,-45.14 544.58,-40.03\"/>\n<text text-anchor=\"middle\" x=\"577.44\" y=\"-57.8\" font-family=\"Times,serif\" font-size=\"14.00\">yes</text>\n</g>\n<!-- 18 -->\n<g id=\"node13\" class=\"node\">\n<title>18</title>\n<ellipse fill=\"none\" stroke=\"black\" cx=\"697.94\" cy=\"-18\" rx=\"83.39\" ry=\"18\"/>\n<text text-anchor=\"middle\" x=\"697.94\" y=\"-14.3\" font-family=\"Times,serif\" font-size=\"14.00\">leaf=&#45;0.0518800914</text>\n</g>\n<!-- 16&#45;&gt;18 -->\n<g id=\"edge12\" class=\"edge\">\n<title>16&#45;&gt;18</title>\n<path fill=\"none\" stroke=\"#0000ff\" d=\"M625.72,-87.21C639.16,-74.52 657.78,-56.93 672.75,-42.79\"/>\n<polygon fill=\"#0000ff\" stroke=\"#0000ff\" points=\"675.33,-45.17 680.2,-35.76 670.53,-40.08 675.33,-45.17\"/>\n<text text-anchor=\"middle\" x=\"690.94\" y=\"-57.8\" font-family=\"Times,serif\" font-size=\"14.00\">no, missing</text>\n</g>\n<!-- 11 -->\n<g id=\"node18\" class=\"node\">\n<title>11</title>\n<ellipse fill=\"none\" stroke=\"black\" cx=\"978.94\" cy=\"-192\" rx=\"83.39\" ry=\"18\"/>\n<text text-anchor=\"middle\" x=\"978.94\" y=\"-188.3\" font-family=\"Times,serif\" font-size=\"14.00\">leaf=&#45;0.0256813411</text>\n</g>\n<!-- 6&#45;&gt;11 -->\n<g id=\"edge17\" class=\"edge\">\n<title>6&#45;&gt;11</title>\n<path fill=\"none\" stroke=\"#ff0000\" d=\"M978.94,-260.8C978.94,-249.16 978.94,-233.55 978.94,-220.24\"/>\n<polygon fill=\"#ff0000\" stroke=\"#ff0000\" points=\"982.44,-220.18 978.94,-210.18 975.44,-220.18 982.44,-220.18\"/>\n<text text-anchor=\"middle\" x=\"988.44\" y=\"-231.8\" font-family=\"Times,serif\" font-size=\"14.00\">yes</text>\n</g>\n<!-- 12 -->\n<g id=\"node19\" class=\"node\">\n<title>12</title>\n<ellipse fill=\"none\" stroke=\"black\" cx=\"1158.94\" cy=\"-192\" rx=\"78.79\" ry=\"18\"/>\n<text text-anchor=\"middle\" x=\"1158.94\" y=\"-188.3\" font-family=\"Times,serif\" font-size=\"14.00\">leaf=&#45;0.126623079</text>\n</g>\n<!-- 6&#45;&gt;12 -->\n<g id=\"edge18\" class=\"edge\">\n<title>6&#45;&gt;12</title>\n<path fill=\"none\" stroke=\"#0000ff\" d=\"M1011.12,-262.8C1040.67,-248.85 1084.63,-228.09 1116.93,-212.84\"/>\n<polygon fill=\"#0000ff\" stroke=\"#0000ff\" points=\"1118.58,-215.93 1126.13,-208.5 1115.59,-209.6 1118.58,-215.93\"/>\n<text text-anchor=\"middle\" x=\"1111.94\" y=\"-231.8\" font-family=\"Times,serif\" font-size=\"14.00\">no, missing</text>\n</g>\n</g>\n</svg>\n",
            "text/plain": [
              "<graphviz.sources.Source at 0x794d4ee90a90>"
            ]
          },
          "metadata": {},
          "execution_count": 57
        }
      ]
    },
    {
      "cell_type": "code",
      "source": [
        "xgb.cv(params= params, dtrain= dtr, num_boost_round= 10, nfold= 3, metrics= 'logloss')"
      ],
      "metadata": {
        "colab": {
          "base_uri": "https://localhost:8080/",
          "height": 363
        },
        "id": "gJzTfgedOAA9",
        "outputId": "176a2a80-fbeb-4c76-f3f2-c1dc7a22eb8e"
      },
      "execution_count": null,
      "outputs": [
        {
          "output_type": "execute_result",
          "data": {
            "text/plain": [
              "   train-logloss-mean  train-logloss-std  test-logloss-mean  test-logloss-std\n",
              "0            0.618637           0.012861           0.629452          0.024697\n",
              "1            0.581268           0.013159           0.595339          0.024906\n",
              "2            0.547120           0.013130           0.564711          0.023978\n",
              "3            0.516008           0.013030           0.537088          0.023594\n",
              "4            0.487640           0.012988           0.511787          0.024964\n",
              "5            0.461436           0.012781           0.488739          0.025155\n",
              "6            0.436946           0.012922           0.467910          0.025976\n",
              "7            0.414728           0.012896           0.448067          0.026442\n",
              "8            0.393829           0.012584           0.429960          0.026788\n",
              "9            0.374213           0.012450           0.413333          0.028062"
            ],
            "text/html": [
              "\n",
              "  <div id=\"df-1db09e76-2212-433e-a922-06772d895252\" class=\"colab-df-container\">\n",
              "    <div>\n",
              "<style scoped>\n",
              "    .dataframe tbody tr th:only-of-type {\n",
              "        vertical-align: middle;\n",
              "    }\n",
              "\n",
              "    .dataframe tbody tr th {\n",
              "        vertical-align: top;\n",
              "    }\n",
              "\n",
              "    .dataframe thead th {\n",
              "        text-align: right;\n",
              "    }\n",
              "</style>\n",
              "<table border=\"1\" class=\"dataframe\">\n",
              "  <thead>\n",
              "    <tr style=\"text-align: right;\">\n",
              "      <th></th>\n",
              "      <th>train-logloss-mean</th>\n",
              "      <th>train-logloss-std</th>\n",
              "      <th>test-logloss-mean</th>\n",
              "      <th>test-logloss-std</th>\n",
              "    </tr>\n",
              "  </thead>\n",
              "  <tbody>\n",
              "    <tr>\n",
              "      <th>0</th>\n",
              "      <td>0.618637</td>\n",
              "      <td>0.012861</td>\n",
              "      <td>0.629452</td>\n",
              "      <td>0.024697</td>\n",
              "    </tr>\n",
              "    <tr>\n",
              "      <th>1</th>\n",
              "      <td>0.581268</td>\n",
              "      <td>0.013159</td>\n",
              "      <td>0.595339</td>\n",
              "      <td>0.024906</td>\n",
              "    </tr>\n",
              "    <tr>\n",
              "      <th>2</th>\n",
              "      <td>0.547120</td>\n",
              "      <td>0.013130</td>\n",
              "      <td>0.564711</td>\n",
              "      <td>0.023978</td>\n",
              "    </tr>\n",
              "    <tr>\n",
              "      <th>3</th>\n",
              "      <td>0.516008</td>\n",
              "      <td>0.013030</td>\n",
              "      <td>0.537088</td>\n",
              "      <td>0.023594</td>\n",
              "    </tr>\n",
              "    <tr>\n",
              "      <th>4</th>\n",
              "      <td>0.487640</td>\n",
              "      <td>0.012988</td>\n",
              "      <td>0.511787</td>\n",
              "      <td>0.024964</td>\n",
              "    </tr>\n",
              "    <tr>\n",
              "      <th>5</th>\n",
              "      <td>0.461436</td>\n",
              "      <td>0.012781</td>\n",
              "      <td>0.488739</td>\n",
              "      <td>0.025155</td>\n",
              "    </tr>\n",
              "    <tr>\n",
              "      <th>6</th>\n",
              "      <td>0.436946</td>\n",
              "      <td>0.012922</td>\n",
              "      <td>0.467910</td>\n",
              "      <td>0.025976</td>\n",
              "    </tr>\n",
              "    <tr>\n",
              "      <th>7</th>\n",
              "      <td>0.414728</td>\n",
              "      <td>0.012896</td>\n",
              "      <td>0.448067</td>\n",
              "      <td>0.026442</td>\n",
              "    </tr>\n",
              "    <tr>\n",
              "      <th>8</th>\n",
              "      <td>0.393829</td>\n",
              "      <td>0.012584</td>\n",
              "      <td>0.429960</td>\n",
              "      <td>0.026788</td>\n",
              "    </tr>\n",
              "    <tr>\n",
              "      <th>9</th>\n",
              "      <td>0.374213</td>\n",
              "      <td>0.012450</td>\n",
              "      <td>0.413333</td>\n",
              "      <td>0.028062</td>\n",
              "    </tr>\n",
              "  </tbody>\n",
              "</table>\n",
              "</div>\n",
              "    <div class=\"colab-df-buttons\">\n",
              "\n",
              "  <div class=\"colab-df-container\">\n",
              "    <button class=\"colab-df-convert\" onclick=\"convertToInteractive('df-1db09e76-2212-433e-a922-06772d895252')\"\n",
              "            title=\"Convert this dataframe to an interactive table.\"\n",
              "            style=\"display:none;\">\n",
              "\n",
              "  <svg xmlns=\"http://www.w3.org/2000/svg\" height=\"24px\" viewBox=\"0 -960 960 960\">\n",
              "    <path d=\"M120-120v-720h720v720H120Zm60-500h600v-160H180v160Zm220 220h160v-160H400v160Zm0 220h160v-160H400v160ZM180-400h160v-160H180v160Zm440 0h160v-160H620v160ZM180-180h160v-160H180v160Zm440 0h160v-160H620v160Z\"/>\n",
              "  </svg>\n",
              "    </button>\n",
              "\n",
              "  <style>\n",
              "    .colab-df-container {\n",
              "      display:flex;\n",
              "      gap: 12px;\n",
              "    }\n",
              "\n",
              "    .colab-df-convert {\n",
              "      background-color: #E8F0FE;\n",
              "      border: none;\n",
              "      border-radius: 50%;\n",
              "      cursor: pointer;\n",
              "      display: none;\n",
              "      fill: #1967D2;\n",
              "      height: 32px;\n",
              "      padding: 0 0 0 0;\n",
              "      width: 32px;\n",
              "    }\n",
              "\n",
              "    .colab-df-convert:hover {\n",
              "      background-color: #E2EBFA;\n",
              "      box-shadow: 0px 1px 2px rgba(60, 64, 67, 0.3), 0px 1px 3px 1px rgba(60, 64, 67, 0.15);\n",
              "      fill: #174EA6;\n",
              "    }\n",
              "\n",
              "    .colab-df-buttons div {\n",
              "      margin-bottom: 4px;\n",
              "    }\n",
              "\n",
              "    [theme=dark] .colab-df-convert {\n",
              "      background-color: #3B4455;\n",
              "      fill: #D2E3FC;\n",
              "    }\n",
              "\n",
              "    [theme=dark] .colab-df-convert:hover {\n",
              "      background-color: #434B5C;\n",
              "      box-shadow: 0px 1px 3px 1px rgba(0, 0, 0, 0.15);\n",
              "      filter: drop-shadow(0px 1px 2px rgba(0, 0, 0, 0.3));\n",
              "      fill: #FFFFFF;\n",
              "    }\n",
              "  </style>\n",
              "\n",
              "    <script>\n",
              "      const buttonEl =\n",
              "        document.querySelector('#df-1db09e76-2212-433e-a922-06772d895252 button.colab-df-convert');\n",
              "      buttonEl.style.display =\n",
              "        google.colab.kernel.accessAllowed ? 'block' : 'none';\n",
              "\n",
              "      async function convertToInteractive(key) {\n",
              "        const element = document.querySelector('#df-1db09e76-2212-433e-a922-06772d895252');\n",
              "        const dataTable =\n",
              "          await google.colab.kernel.invokeFunction('convertToInteractive',\n",
              "                                                    [key], {});\n",
              "        if (!dataTable) return;\n",
              "\n",
              "        const docLinkHtml = 'Like what you see? Visit the ' +\n",
              "          '<a target=\"_blank\" href=https://colab.research.google.com/notebooks/data_table.ipynb>data table notebook</a>'\n",
              "          + ' to learn more about interactive tables.';\n",
              "        element.innerHTML = '';\n",
              "        dataTable['output_type'] = 'display_data';\n",
              "        await google.colab.output.renderOutput(dataTable, element);\n",
              "        const docLink = document.createElement('div');\n",
              "        docLink.innerHTML = docLinkHtml;\n",
              "        element.appendChild(docLink);\n",
              "      }\n",
              "    </script>\n",
              "  </div>\n",
              "\n",
              "\n",
              "<div id=\"df-42ac0310-047b-403e-9701-035f254a008e\">\n",
              "  <button class=\"colab-df-quickchart\" onclick=\"quickchart('df-42ac0310-047b-403e-9701-035f254a008e')\"\n",
              "            title=\"Suggest charts.\"\n",
              "            style=\"display:none;\">\n",
              "\n",
              "<svg xmlns=\"http://www.w3.org/2000/svg\" height=\"24px\"viewBox=\"0 0 24 24\"\n",
              "     width=\"24px\">\n",
              "    <g>\n",
              "        <path d=\"M19 3H5c-1.1 0-2 .9-2 2v14c0 1.1.9 2 2 2h14c1.1 0 2-.9 2-2V5c0-1.1-.9-2-2-2zM9 17H7v-7h2v7zm4 0h-2V7h2v10zm4 0h-2v-4h2v4z\"/>\n",
              "    </g>\n",
              "</svg>\n",
              "  </button>\n",
              "\n",
              "<style>\n",
              "  .colab-df-quickchart {\n",
              "      --bg-color: #E8F0FE;\n",
              "      --fill-color: #1967D2;\n",
              "      --hover-bg-color: #E2EBFA;\n",
              "      --hover-fill-color: #174EA6;\n",
              "      --disabled-fill-color: #AAA;\n",
              "      --disabled-bg-color: #DDD;\n",
              "  }\n",
              "\n",
              "  [theme=dark] .colab-df-quickchart {\n",
              "      --bg-color: #3B4455;\n",
              "      --fill-color: #D2E3FC;\n",
              "      --hover-bg-color: #434B5C;\n",
              "      --hover-fill-color: #FFFFFF;\n",
              "      --disabled-bg-color: #3B4455;\n",
              "      --disabled-fill-color: #666;\n",
              "  }\n",
              "\n",
              "  .colab-df-quickchart {\n",
              "    background-color: var(--bg-color);\n",
              "    border: none;\n",
              "    border-radius: 50%;\n",
              "    cursor: pointer;\n",
              "    display: none;\n",
              "    fill: var(--fill-color);\n",
              "    height: 32px;\n",
              "    padding: 0;\n",
              "    width: 32px;\n",
              "  }\n",
              "\n",
              "  .colab-df-quickchart:hover {\n",
              "    background-color: var(--hover-bg-color);\n",
              "    box-shadow: 0 1px 2px rgba(60, 64, 67, 0.3), 0 1px 3px 1px rgba(60, 64, 67, 0.15);\n",
              "    fill: var(--button-hover-fill-color);\n",
              "  }\n",
              "\n",
              "  .colab-df-quickchart-complete:disabled,\n",
              "  .colab-df-quickchart-complete:disabled:hover {\n",
              "    background-color: var(--disabled-bg-color);\n",
              "    fill: var(--disabled-fill-color);\n",
              "    box-shadow: none;\n",
              "  }\n",
              "\n",
              "  .colab-df-spinner {\n",
              "    border: 2px solid var(--fill-color);\n",
              "    border-color: transparent;\n",
              "    border-bottom-color: var(--fill-color);\n",
              "    animation:\n",
              "      spin 1s steps(1) infinite;\n",
              "  }\n",
              "\n",
              "  @keyframes spin {\n",
              "    0% {\n",
              "      border-color: transparent;\n",
              "      border-bottom-color: var(--fill-color);\n",
              "      border-left-color: var(--fill-color);\n",
              "    }\n",
              "    20% {\n",
              "      border-color: transparent;\n",
              "      border-left-color: var(--fill-color);\n",
              "      border-top-color: var(--fill-color);\n",
              "    }\n",
              "    30% {\n",
              "      border-color: transparent;\n",
              "      border-left-color: var(--fill-color);\n",
              "      border-top-color: var(--fill-color);\n",
              "      border-right-color: var(--fill-color);\n",
              "    }\n",
              "    40% {\n",
              "      border-color: transparent;\n",
              "      border-right-color: var(--fill-color);\n",
              "      border-top-color: var(--fill-color);\n",
              "    }\n",
              "    60% {\n",
              "      border-color: transparent;\n",
              "      border-right-color: var(--fill-color);\n",
              "    }\n",
              "    80% {\n",
              "      border-color: transparent;\n",
              "      border-right-color: var(--fill-color);\n",
              "      border-bottom-color: var(--fill-color);\n",
              "    }\n",
              "    90% {\n",
              "      border-color: transparent;\n",
              "      border-bottom-color: var(--fill-color);\n",
              "    }\n",
              "  }\n",
              "</style>\n",
              "\n",
              "  <script>\n",
              "    async function quickchart(key) {\n",
              "      const quickchartButtonEl =\n",
              "        document.querySelector('#' + key + ' button');\n",
              "      quickchartButtonEl.disabled = true;  // To prevent multiple clicks.\n",
              "      quickchartButtonEl.classList.add('colab-df-spinner');\n",
              "      try {\n",
              "        const charts = await google.colab.kernel.invokeFunction(\n",
              "            'suggestCharts', [key], {});\n",
              "      } catch (error) {\n",
              "        console.error('Error during call to suggestCharts:', error);\n",
              "      }\n",
              "      quickchartButtonEl.classList.remove('colab-df-spinner');\n",
              "      quickchartButtonEl.classList.add('colab-df-quickchart-complete');\n",
              "    }\n",
              "    (() => {\n",
              "      let quickchartButtonEl =\n",
              "        document.querySelector('#df-42ac0310-047b-403e-9701-035f254a008e button');\n",
              "      quickchartButtonEl.style.display =\n",
              "        google.colab.kernel.accessAllowed ? 'block' : 'none';\n",
              "    })();\n",
              "  </script>\n",
              "</div>\n",
              "    </div>\n",
              "  </div>\n"
            ]
          },
          "metadata": {},
          "execution_count": 60
        }
      ]
    },
    {
      "cell_type": "code",
      "source": [
        "from xgboost import XGBClassifier\n",
        "\n",
        "xgb2 = XGBClassifier(n_estimators= 400, learning_rate= 0.1, max_depth= 3)\n",
        "xgb2.fit(x_train, y_train)\n",
        "\n",
        "xgb2_pred = xgb2.predict(x_test)\n",
        "xgb2_pred_proba = xgb2.predict_proba(x_test)[:, 1]"
      ],
      "metadata": {
        "id": "Lj7pQcHlNKls"
      },
      "execution_count": null,
      "outputs": []
    },
    {
      "cell_type": "code",
      "source": [
        "# 래퍼클래스 wrapper, wrapping, int(), list(), interger()\n",
        "# XGB 조기 중단\n",
        "xgb_w = XGBClassifier(n_estimators= 400, learning_rate= 0.1, max_depth= 3)\n",
        "\n",
        "# eval_set\n",
        "evals = [(x_test, y_test)]\n",
        "\n",
        "# 조기 중단 지정\n",
        "# verbose= True, 상세한 정보 출력\n",
        "xgb_w.fit(x_train, y_train, early_stopping_rounds= 100,\n",
        "          eval_metric= 'logloss',\n",
        "          eval_set= evals,\n",
        "          verbose= True)"
      ],
      "metadata": {
        "colab": {
          "base_uri": "https://localhost:8080/",
          "height": 1000
        },
        "id": "cwo8Z56SQndq",
        "outputId": "e37ab190-a3c3-44d4-f562-1893164c8500"
      },
      "execution_count": null,
      "outputs": [
        {
          "output_type": "stream",
          "name": "stdout",
          "text": [
            "[0]\tvalidation_0-logloss:0.58740\n",
            "[1]\tvalidation_0-logloss:0.52275\n",
            "[2]\tvalidation_0-logloss:0.47235\n",
            "[3]\tvalidation_0-logloss:0.42765\n",
            "[4]\tvalidation_0-logloss:0.38913\n",
            "[5]\tvalidation_0-logloss:0.35715\n",
            "[6]\tvalidation_0-logloss:0.33209\n",
            "[7]\tvalidation_0-logloss:0.30697\n",
            "[8]\tvalidation_0-logloss:0.28488\n",
            "[9]\tvalidation_0-logloss:0.26528\n",
            "[10]\tvalidation_0-logloss:0.24982\n",
            "[11]\tvalidation_0-logloss:0.23678\n",
            "[12]\tvalidation_0-logloss:0.22303\n",
            "[13]\tvalidation_0-logloss:0.21039\n",
            "[14]\tvalidation_0-logloss:0.20074\n",
            "[15]\tvalidation_0-logloss:0.19130\n",
            "[16]\tvalidation_0-logloss:0.17893\n",
            "[17]\tvalidation_0-logloss:0.17262\n",
            "[18]\tvalidation_0-logloss:0.16728\n",
            "[19]\tvalidation_0-logloss:0.15980\n",
            "[20]\tvalidation_0-logloss:0.15591\n",
            "[21]\tvalidation_0-logloss:0.15278\n",
            "[22]\tvalidation_0-logloss:0.14559\n",
            "[23]\tvalidation_0-logloss:0.14165\n",
            "[24]\tvalidation_0-logloss:0.13924\n",
            "[25]\tvalidation_0-logloss:0.13493\n",
            "[26]\tvalidation_0-logloss:0.13142\n",
            "[27]\tvalidation_0-logloss:0.13052\n",
            "[28]\tvalidation_0-logloss:0.12751\n",
            "[29]\tvalidation_0-logloss:0.12672\n",
            "[30]\tvalidation_0-logloss:0.12428\n",
            "[31]\tvalidation_0-logloss:0.12430\n",
            "[32]\tvalidation_0-logloss:0.12231\n",
            "[33]\tvalidation_0-logloss:0.12152\n",
            "[34]\tvalidation_0-logloss:0.11943\n",
            "[35]\tvalidation_0-logloss:0.11907\n",
            "[36]\tvalidation_0-logloss:0.11971\n",
            "[37]\tvalidation_0-logloss:0.11847\n",
            "[38]\tvalidation_0-logloss:0.11862\n",
            "[39]\tvalidation_0-logloss:0.11764\n",
            "[40]\tvalidation_0-logloss:0.11756\n",
            "[41]\tvalidation_0-logloss:0.11600\n",
            "[42]\tvalidation_0-logloss:0.11650\n",
            "[43]\tvalidation_0-logloss:0.11374\n",
            "[44]\tvalidation_0-logloss:0.11332\n",
            "[45]\tvalidation_0-logloss:0.11408\n",
            "[46]\tvalidation_0-logloss:0.11335\n",
            "[47]\tvalidation_0-logloss:0.11356\n",
            "[48]\tvalidation_0-logloss:0.11333\n",
            "[49]\tvalidation_0-logloss:0.11102\n",
            "[50]\tvalidation_0-logloss:0.11139\n",
            "[51]\tvalidation_0-logloss:0.11070\n",
            "[52]\tvalidation_0-logloss:0.11104\n",
            "[53]\tvalidation_0-logloss:0.10899\n",
            "[54]\tvalidation_0-logloss:0.10885\n",
            "[55]\tvalidation_0-logloss:0.10902\n",
            "[56]\tvalidation_0-logloss:0.10931\n",
            "[57]\tvalidation_0-logloss:0.10888\n",
            "[58]\tvalidation_0-logloss:0.10878\n",
            "[59]\tvalidation_0-logloss:0.10995\n",
            "[60]\tvalidation_0-logloss:0.10976\n",
            "[61]\tvalidation_0-logloss:0.10995\n",
            "[62]\tvalidation_0-logloss:0.11026\n",
            "[63]\tvalidation_0-logloss:0.11022\n",
            "[64]\tvalidation_0-logloss:0.10923\n",
            "[65]\tvalidation_0-logloss:0.10896\n",
            "[66]\tvalidation_0-logloss:0.10944\n",
            "[67]\tvalidation_0-logloss:0.10984\n",
            "[68]\tvalidation_0-logloss:0.10990\n",
            "[69]\tvalidation_0-logloss:0.11145\n",
            "[70]\tvalidation_0-logloss:0.11161\n",
            "[71]\tvalidation_0-logloss:0.11067\n",
            "[72]\tvalidation_0-logloss:0.10944\n",
            "[73]\tvalidation_0-logloss:0.10843\n",
            "[74]\tvalidation_0-logloss:0.10792\n",
            "[75]\tvalidation_0-logloss:0.10802\n",
            "[76]\tvalidation_0-logloss:0.10839\n",
            "[77]\tvalidation_0-logloss:0.10729\n",
            "[78]\tvalidation_0-logloss:0.10736\n",
            "[79]\tvalidation_0-logloss:0.10729\n",
            "[80]\tvalidation_0-logloss:0.10872\n",
            "[81]\tvalidation_0-logloss:0.10878\n",
            "[82]\tvalidation_0-logloss:0.10938\n",
            "[83]\tvalidation_0-logloss:0.11033\n",
            "[84]\tvalidation_0-logloss:0.10991\n",
            "[85]\tvalidation_0-logloss:0.11025\n",
            "[86]\tvalidation_0-logloss:0.10966\n",
            "[87]\tvalidation_0-logloss:0.10922\n",
            "[88]\tvalidation_0-logloss:0.10920\n",
            "[89]\tvalidation_0-logloss:0.11060\n",
            "[90]\tvalidation_0-logloss:0.10943\n",
            "[91]\tvalidation_0-logloss:0.10956\n",
            "[92]\tvalidation_0-logloss:0.10885\n",
            "[93]\tvalidation_0-logloss:0.10902\n",
            "[94]\tvalidation_0-logloss:0.10903\n",
            "[95]\tvalidation_0-logloss:0.10914\n",
            "[96]\tvalidation_0-logloss:0.10840\n",
            "[97]\tvalidation_0-logloss:0.10880\n",
            "[98]\tvalidation_0-logloss:0.10850\n",
            "[99]\tvalidation_0-logloss:0.10924\n",
            "[100]\tvalidation_0-logloss:0.10855\n",
            "[101]\tvalidation_0-logloss:0.10797\n",
            "[102]\tvalidation_0-logloss:0.10899\n",
            "[103]\tvalidation_0-logloss:0.10902\n",
            "[104]\tvalidation_0-logloss:0.10910\n",
            "[105]\tvalidation_0-logloss:0.10927\n",
            "[106]\tvalidation_0-logloss:0.10864\n",
            "[107]\tvalidation_0-logloss:0.10822\n",
            "[108]\tvalidation_0-logloss:0.10861\n",
            "[109]\tvalidation_0-logloss:0.10900\n",
            "[110]\tvalidation_0-logloss:0.10997\n",
            "[111]\tvalidation_0-logloss:0.11001\n",
            "[112]\tvalidation_0-logloss:0.11006\n",
            "[113]\tvalidation_0-logloss:0.11011\n",
            "[114]\tvalidation_0-logloss:0.11002\n",
            "[115]\tvalidation_0-logloss:0.10934\n",
            "[116]\tvalidation_0-logloss:0.10925\n",
            "[117]\tvalidation_0-logloss:0.11016\n",
            "[118]\tvalidation_0-logloss:0.11022\n",
            "[119]\tvalidation_0-logloss:0.11006\n",
            "[120]\tvalidation_0-logloss:0.10946\n",
            "[121]\tvalidation_0-logloss:0.10936\n",
            "[122]\tvalidation_0-logloss:0.10962\n",
            "[123]\tvalidation_0-logloss:0.10969\n",
            "[124]\tvalidation_0-logloss:0.10941\n",
            "[125]\tvalidation_0-logloss:0.10884\n",
            "[126]\tvalidation_0-logloss:0.10874\n",
            "[127]\tvalidation_0-logloss:0.10865\n",
            "[128]\tvalidation_0-logloss:0.10871\n",
            "[129]\tvalidation_0-logloss:0.10863\n",
            "[130]\tvalidation_0-logloss:0.10809\n",
            "[131]\tvalidation_0-logloss:0.10885\n",
            "[132]\tvalidation_0-logloss:0.10845\n",
            "[133]\tvalidation_0-logloss:0.10853\n",
            "[134]\tvalidation_0-logloss:0.10843\n",
            "[135]\tvalidation_0-logloss:0.10835\n",
            "[136]\tvalidation_0-logloss:0.10836\n",
            "[137]\tvalidation_0-logloss:0.10845\n",
            "[138]\tvalidation_0-logloss:0.10835\n",
            "[139]\tvalidation_0-logloss:0.10799\n",
            "[140]\tvalidation_0-logloss:0.10874\n",
            "[141]\tvalidation_0-logloss:0.10855\n",
            "[142]\tvalidation_0-logloss:0.10903\n",
            "[143]\tvalidation_0-logloss:0.10901\n",
            "[144]\tvalidation_0-logloss:0.10894\n",
            "[145]\tvalidation_0-logloss:0.10859\n",
            "[146]\tvalidation_0-logloss:0.10868\n",
            "[147]\tvalidation_0-logloss:0.10846\n",
            "[148]\tvalidation_0-logloss:0.10812\n",
            "[149]\tvalidation_0-logloss:0.10806\n",
            "[150]\tvalidation_0-logloss:0.10850\n",
            "[151]\tvalidation_0-logloss:0.10845\n",
            "[152]\tvalidation_0-logloss:0.10813\n",
            "[153]\tvalidation_0-logloss:0.10807\n",
            "[154]\tvalidation_0-logloss:0.10815\n",
            "[155]\tvalidation_0-logloss:0.10812\n",
            "[156]\tvalidation_0-logloss:0.10808\n",
            "[157]\tvalidation_0-logloss:0.10776\n",
            "[158]\tvalidation_0-logloss:0.10770\n",
            "[159]\tvalidation_0-logloss:0.10762\n",
            "[160]\tvalidation_0-logloss:0.10759\n",
            "[161]\tvalidation_0-logloss:0.10764\n",
            "[162]\tvalidation_0-logloss:0.10733\n",
            "[163]\tvalidation_0-logloss:0.10727\n",
            "[164]\tvalidation_0-logloss:0.10719\n",
            "[165]\tvalidation_0-logloss:0.10732\n",
            "[166]\tvalidation_0-logloss:0.10696\n",
            "[167]\tvalidation_0-logloss:0.10699\n",
            "[168]\tvalidation_0-logloss:0.10704\n",
            "[169]\tvalidation_0-logloss:0.10697\n",
            "[170]\tvalidation_0-logloss:0.10656\n",
            "[171]\tvalidation_0-logloss:0.10667\n",
            "[172]\tvalidation_0-logloss:0.10669\n",
            "[173]\tvalidation_0-logloss:0.10640\n",
            "[174]\tvalidation_0-logloss:0.10625\n",
            "[175]\tvalidation_0-logloss:0.10630\n",
            "[176]\tvalidation_0-logloss:0.10626\n",
            "[177]\tvalidation_0-logloss:0.10619\n",
            "[178]\tvalidation_0-logloss:0.10585\n",
            "[179]\tvalidation_0-logloss:0.10579\n",
            "[180]\tvalidation_0-logloss:0.10584\n",
            "[181]\tvalidation_0-logloss:0.10570\n",
            "[182]\tvalidation_0-logloss:0.10530\n",
            "[183]\tvalidation_0-logloss:0.10540\n",
            "[184]\tvalidation_0-logloss:0.10543\n",
            "[185]\tvalidation_0-logloss:0.10550\n",
            "[186]\tvalidation_0-logloss:0.10522\n",
            "[187]\tvalidation_0-logloss:0.10532\n",
            "[188]\tvalidation_0-logloss:0.10519\n",
            "[189]\tvalidation_0-logloss:0.10481\n",
            "[190]\tvalidation_0-logloss:0.10484\n",
            "[191]\tvalidation_0-logloss:0.10489\n",
            "[192]\tvalidation_0-logloss:0.10481\n",
            "[193]\tvalidation_0-logloss:0.10476\n",
            "[194]\tvalidation_0-logloss:0.10439\n",
            "[195]\tvalidation_0-logloss:0.10449\n",
            "[196]\tvalidation_0-logloss:0.10441\n",
            "[197]\tvalidation_0-logloss:0.10438\n",
            "[198]\tvalidation_0-logloss:0.10441\n",
            "[199]\tvalidation_0-logloss:0.10451\n",
            "[200]\tvalidation_0-logloss:0.10415\n",
            "[201]\tvalidation_0-logloss:0.10426\n",
            "[202]\tvalidation_0-logloss:0.10433\n",
            "[203]\tvalidation_0-logloss:0.10408\n",
            "[204]\tvalidation_0-logloss:0.10403\n",
            "[205]\tvalidation_0-logloss:0.10413\n",
            "[206]\tvalidation_0-logloss:0.10416\n",
            "[207]\tvalidation_0-logloss:0.10381\n",
            "[208]\tvalidation_0-logloss:0.10375\n",
            "[209]\tvalidation_0-logloss:0.10384\n",
            "[210]\tvalidation_0-logloss:0.10388\n",
            "[211]\tvalidation_0-logloss:0.10395\n",
            "[212]\tvalidation_0-logloss:0.10361\n",
            "[213]\tvalidation_0-logloss:0.10370\n",
            "[214]\tvalidation_0-logloss:0.10374\n",
            "[215]\tvalidation_0-logloss:0.10369\n",
            "[216]\tvalidation_0-logloss:0.10363\n",
            "[217]\tvalidation_0-logloss:0.10330\n",
            "[218]\tvalidation_0-logloss:0.10339\n",
            "[219]\tvalidation_0-logloss:0.10314\n",
            "[220]\tvalidation_0-logloss:0.10287\n",
            "[221]\tvalidation_0-logloss:0.10281\n",
            "[222]\tvalidation_0-logloss:0.10290\n",
            "[223]\tvalidation_0-logloss:0.10294\n",
            "[224]\tvalidation_0-logloss:0.10262\n",
            "[225]\tvalidation_0-logloss:0.10258\n",
            "[226]\tvalidation_0-logloss:0.10252\n",
            "[227]\tvalidation_0-logloss:0.10261\n",
            "[228]\tvalidation_0-logloss:0.10239\n",
            "[229]\tvalidation_0-logloss:0.10237\n",
            "[230]\tvalidation_0-logloss:0.10232\n",
            "[231]\tvalidation_0-logloss:0.10236\n",
            "[232]\tvalidation_0-logloss:0.10205\n",
            "[233]\tvalidation_0-logloss:0.10214\n",
            "[234]\tvalidation_0-logloss:0.10224\n",
            "[235]\tvalidation_0-logloss:0.10231\n",
            "[236]\tvalidation_0-logloss:0.10235\n",
            "[237]\tvalidation_0-logloss:0.10243\n",
            "[238]\tvalidation_0-logloss:0.10215\n",
            "[239]\tvalidation_0-logloss:0.10216\n",
            "[240]\tvalidation_0-logloss:0.10219\n",
            "[241]\tvalidation_0-logloss:0.10224\n",
            "[242]\tvalidation_0-logloss:0.10219\n",
            "[243]\tvalidation_0-logloss:0.10199\n",
            "[244]\tvalidation_0-logloss:0.10208\n",
            "[245]\tvalidation_0-logloss:0.10197\n",
            "[246]\tvalidation_0-logloss:0.10202\n",
            "[247]\tvalidation_0-logloss:0.10209\n",
            "[248]\tvalidation_0-logloss:0.10212\n",
            "[249]\tvalidation_0-logloss:0.10215\n",
            "[250]\tvalidation_0-logloss:0.10216\n",
            "[251]\tvalidation_0-logloss:0.10187\n",
            "[252]\tvalidation_0-logloss:0.10196\n",
            "[253]\tvalidation_0-logloss:0.10173\n",
            "[254]\tvalidation_0-logloss:0.10171\n",
            "[255]\tvalidation_0-logloss:0.10174\n",
            "[256]\tvalidation_0-logloss:0.10183\n",
            "[257]\tvalidation_0-logloss:0.10157\n",
            "[258]\tvalidation_0-logloss:0.10162\n",
            "[259]\tvalidation_0-logloss:0.10151\n",
            "[260]\tvalidation_0-logloss:0.10160\n",
            "[261]\tvalidation_0-logloss:0.10141\n",
            "[262]\tvalidation_0-logloss:0.10147\n",
            "[263]\tvalidation_0-logloss:0.10151\n",
            "[264]\tvalidation_0-logloss:0.10148\n",
            "[265]\tvalidation_0-logloss:0.10150\n",
            "[266]\tvalidation_0-logloss:0.10140\n",
            "[267]\tvalidation_0-logloss:0.10149\n",
            "[268]\tvalidation_0-logloss:0.10144\n",
            "[269]\tvalidation_0-logloss:0.10147\n",
            "[270]\tvalidation_0-logloss:0.10128\n",
            "[271]\tvalidation_0-logloss:0.10127\n",
            "[272]\tvalidation_0-logloss:0.10105\n",
            "[273]\tvalidation_0-logloss:0.10110\n",
            "[274]\tvalidation_0-logloss:0.10100\n",
            "[275]\tvalidation_0-logloss:0.10108\n",
            "[276]\tvalidation_0-logloss:0.10082\n",
            "[277]\tvalidation_0-logloss:0.10086\n",
            "[278]\tvalidation_0-logloss:0.10081\n",
            "[279]\tvalidation_0-logloss:0.10084\n",
            "[280]\tvalidation_0-logloss:0.10083\n",
            "[281]\tvalidation_0-logloss:0.10065\n",
            "[282]\tvalidation_0-logloss:0.10059\n",
            "[283]\tvalidation_0-logloss:0.10067\n",
            "[284]\tvalidation_0-logloss:0.10057\n",
            "[285]\tvalidation_0-logloss:0.10065\n",
            "[286]\tvalidation_0-logloss:0.10042\n",
            "[287]\tvalidation_0-logloss:0.10046\n",
            "[288]\tvalidation_0-logloss:0.10042\n",
            "[289]\tvalidation_0-logloss:0.10046\n",
            "[290]\tvalidation_0-logloss:0.10044\n",
            "[291]\tvalidation_0-logloss:0.10047\n",
            "[292]\tvalidation_0-logloss:0.10050\n",
            "[293]\tvalidation_0-logloss:0.10046\n",
            "[294]\tvalidation_0-logloss:0.10021\n",
            "[295]\tvalidation_0-logloss:0.10016\n",
            "[296]\tvalidation_0-logloss:0.10024\n",
            "[297]\tvalidation_0-logloss:0.10014\n",
            "[298]\tvalidation_0-logloss:0.10013\n",
            "[299]\tvalidation_0-logloss:0.10016\n",
            "[300]\tvalidation_0-logloss:0.10024\n",
            "[301]\tvalidation_0-logloss:0.10020\n",
            "[302]\tvalidation_0-logloss:0.10023\n",
            "[303]\tvalidation_0-logloss:0.10001\n",
            "[304]\tvalidation_0-logloss:0.10005\n",
            "[305]\tvalidation_0-logloss:0.10012\n",
            "[306]\tvalidation_0-logloss:0.10009\n",
            "[307]\tvalidation_0-logloss:0.10012\n",
            "[308]\tvalidation_0-logloss:0.10017\n",
            "[309]\tvalidation_0-logloss:0.09993\n",
            "[310]\tvalidation_0-logloss:0.09992\n",
            "[311]\tvalidation_0-logloss:0.10000\n",
            "[312]\tvalidation_0-logloss:0.10008\n",
            "[313]\tvalidation_0-logloss:0.09999\n",
            "[314]\tvalidation_0-logloss:0.10007\n",
            "[315]\tvalidation_0-logloss:0.09998\n",
            "[316]\tvalidation_0-logloss:0.09994\n",
            "[317]\tvalidation_0-logloss:0.09997\n",
            "[318]\tvalidation_0-logloss:0.10000\n",
            "[319]\tvalidation_0-logloss:0.09977\n",
            "[320]\tvalidation_0-logloss:0.09985\n",
            "[321]\tvalidation_0-logloss:0.09984\n",
            "[322]\tvalidation_0-logloss:0.09987\n",
            "[323]\tvalidation_0-logloss:0.09984\n",
            "[324]\tvalidation_0-logloss:0.09988\n",
            "[325]\tvalidation_0-logloss:0.09968\n",
            "[326]\tvalidation_0-logloss:0.09971\n",
            "[327]\tvalidation_0-logloss:0.09979\n",
            "[328]\tvalidation_0-logloss:0.09970\n",
            "[329]\tvalidation_0-logloss:0.09978\n",
            "[330]\tvalidation_0-logloss:0.09969\n",
            "[331]\tvalidation_0-logloss:0.09972\n",
            "[332]\tvalidation_0-logloss:0.09968\n",
            "[333]\tvalidation_0-logloss:0.09966\n",
            "[334]\tvalidation_0-logloss:0.09971\n",
            "[335]\tvalidation_0-logloss:0.09949\n",
            "[336]\tvalidation_0-logloss:0.09941\n",
            "[337]\tvalidation_0-logloss:0.09948\n",
            "[338]\tvalidation_0-logloss:0.09945\n",
            "[339]\tvalidation_0-logloss:0.09947\n",
            "[340]\tvalidation_0-logloss:0.09939\n",
            "[341]\tvalidation_0-logloss:0.09938\n",
            "[342]\tvalidation_0-logloss:0.09945\n",
            "[343]\tvalidation_0-logloss:0.09937\n",
            "[344]\tvalidation_0-logloss:0.09921\n",
            "[345]\tvalidation_0-logloss:0.09926\n",
            "[346]\tvalidation_0-logloss:0.09922\n",
            "[347]\tvalidation_0-logloss:0.09926\n",
            "[348]\tvalidation_0-logloss:0.09933\n",
            "[349]\tvalidation_0-logloss:0.09925\n",
            "[350]\tvalidation_0-logloss:0.09927\n",
            "[351]\tvalidation_0-logloss:0.09927\n",
            "[352]\tvalidation_0-logloss:0.09912\n",
            "[353]\tvalidation_0-logloss:0.09909\n",
            "[354]\tvalidation_0-logloss:0.09913\n",
            "[355]\tvalidation_0-logloss:0.09905\n",
            "[356]\tvalidation_0-logloss:0.09912\n",
            "[357]\tvalidation_0-logloss:0.09898\n",
            "[358]\tvalidation_0-logloss:0.09898\n",
            "[359]\tvalidation_0-logloss:0.09895\n",
            "[360]\tvalidation_0-logloss:0.09897\n",
            "[361]\tvalidation_0-logloss:0.09890\n",
            "[362]\tvalidation_0-logloss:0.09896\n",
            "[363]\tvalidation_0-logloss:0.09889\n",
            "[364]\tvalidation_0-logloss:0.09895\n",
            "[365]\tvalidation_0-logloss:0.09881\n",
            "[366]\tvalidation_0-logloss:0.09880\n",
            "[367]\tvalidation_0-logloss:0.09873\n",
            "[368]\tvalidation_0-logloss:0.09875\n",
            "[369]\tvalidation_0-logloss:0.09872\n",
            "[370]\tvalidation_0-logloss:0.09877\n",
            "[371]\tvalidation_0-logloss:0.09857\n",
            "[372]\tvalidation_0-logloss:0.09850\n",
            "[373]\tvalidation_0-logloss:0.09857\n",
            "[374]\tvalidation_0-logloss:0.09854\n",
            "[375]\tvalidation_0-logloss:0.09856\n",
            "[376]\tvalidation_0-logloss:0.09859\n",
            "[377]\tvalidation_0-logloss:0.09859\n",
            "[378]\tvalidation_0-logloss:0.09852\n",
            "[379]\tvalidation_0-logloss:0.09858\n",
            "[380]\tvalidation_0-logloss:0.09840\n",
            "[381]\tvalidation_0-logloss:0.09846\n",
            "[382]\tvalidation_0-logloss:0.09839\n",
            "[383]\tvalidation_0-logloss:0.09841\n",
            "[384]\tvalidation_0-logloss:0.09848\n",
            "[385]\tvalidation_0-logloss:0.09845\n",
            "[386]\tvalidation_0-logloss:0.09847\n",
            "[387]\tvalidation_0-logloss:0.09840\n",
            "[388]\tvalidation_0-logloss:0.09840\n",
            "[389]\tvalidation_0-logloss:0.09822\n",
            "[390]\tvalidation_0-logloss:0.09824\n",
            "[391]\tvalidation_0-logloss:0.09831\n",
            "[392]\tvalidation_0-logloss:0.09828\n",
            "[393]\tvalidation_0-logloss:0.09831\n",
            "[394]\tvalidation_0-logloss:0.09824\n",
            "[395]\tvalidation_0-logloss:0.09830\n",
            "[396]\tvalidation_0-logloss:0.09832\n",
            "[397]\tvalidation_0-logloss:0.09832\n",
            "[398]\tvalidation_0-logloss:0.09815\n",
            "[399]\tvalidation_0-logloss:0.09817\n"
          ]
        },
        {
          "output_type": "execute_result",
          "data": {
            "text/plain": [
              "XGBClassifier(base_score=None, booster=None, callbacks=None,\n",
              "              colsample_bylevel=None, colsample_bynode=None,\n",
              "              colsample_bytree=None, device=None, early_stopping_rounds=None,\n",
              "              enable_categorical=False, eval_metric=None, feature_types=None,\n",
              "              gamma=None, grow_policy=None, importance_type=None,\n",
              "              interaction_constraints=None, learning_rate=0.1, max_bin=None,\n",
              "              max_cat_threshold=None, max_cat_to_onehot=None,\n",
              "              max_delta_step=None, max_depth=3, max_leaves=None,\n",
              "              min_child_weight=None, missing=nan, monotone_constraints=None,\n",
              "              multi_strategy=None, n_estimators=400, n_jobs=None,\n",
              "              num_parallel_tree=None, random_state=None, ...)"
            ],
            "text/html": [
              "<style>#sk-container-id-2 {color: black;background-color: white;}#sk-container-id-2 pre{padding: 0;}#sk-container-id-2 div.sk-toggleable {background-color: white;}#sk-container-id-2 label.sk-toggleable__label {cursor: pointer;display: block;width: 100%;margin-bottom: 0;padding: 0.3em;box-sizing: border-box;text-align: center;}#sk-container-id-2 label.sk-toggleable__label-arrow:before {content: \"▸\";float: left;margin-right: 0.25em;color: #696969;}#sk-container-id-2 label.sk-toggleable__label-arrow:hover:before {color: black;}#sk-container-id-2 div.sk-estimator:hover label.sk-toggleable__label-arrow:before {color: black;}#sk-container-id-2 div.sk-toggleable__content {max-height: 0;max-width: 0;overflow: hidden;text-align: left;background-color: #f0f8ff;}#sk-container-id-2 div.sk-toggleable__content pre {margin: 0.2em;color: black;border-radius: 0.25em;background-color: #f0f8ff;}#sk-container-id-2 input.sk-toggleable__control:checked~div.sk-toggleable__content {max-height: 200px;max-width: 100%;overflow: auto;}#sk-container-id-2 input.sk-toggleable__control:checked~label.sk-toggleable__label-arrow:before {content: \"▾\";}#sk-container-id-2 div.sk-estimator input.sk-toggleable__control:checked~label.sk-toggleable__label {background-color: #d4ebff;}#sk-container-id-2 div.sk-label input.sk-toggleable__control:checked~label.sk-toggleable__label {background-color: #d4ebff;}#sk-container-id-2 input.sk-hidden--visually {border: 0;clip: rect(1px 1px 1px 1px);clip: rect(1px, 1px, 1px, 1px);height: 1px;margin: -1px;overflow: hidden;padding: 0;position: absolute;width: 1px;}#sk-container-id-2 div.sk-estimator {font-family: monospace;background-color: #f0f8ff;border: 1px dotted black;border-radius: 0.25em;box-sizing: border-box;margin-bottom: 0.5em;}#sk-container-id-2 div.sk-estimator:hover {background-color: #d4ebff;}#sk-container-id-2 div.sk-parallel-item::after {content: \"\";width: 100%;border-bottom: 1px solid gray;flex-grow: 1;}#sk-container-id-2 div.sk-label:hover label.sk-toggleable__label {background-color: #d4ebff;}#sk-container-id-2 div.sk-serial::before {content: \"\";position: absolute;border-left: 1px solid gray;box-sizing: border-box;top: 0;bottom: 0;left: 50%;z-index: 0;}#sk-container-id-2 div.sk-serial {display: flex;flex-direction: column;align-items: center;background-color: white;padding-right: 0.2em;padding-left: 0.2em;position: relative;}#sk-container-id-2 div.sk-item {position: relative;z-index: 1;}#sk-container-id-2 div.sk-parallel {display: flex;align-items: stretch;justify-content: center;background-color: white;position: relative;}#sk-container-id-2 div.sk-item::before, #sk-container-id-2 div.sk-parallel-item::before {content: \"\";position: absolute;border-left: 1px solid gray;box-sizing: border-box;top: 0;bottom: 0;left: 50%;z-index: -1;}#sk-container-id-2 div.sk-parallel-item {display: flex;flex-direction: column;z-index: 1;position: relative;background-color: white;}#sk-container-id-2 div.sk-parallel-item:first-child::after {align-self: flex-end;width: 50%;}#sk-container-id-2 div.sk-parallel-item:last-child::after {align-self: flex-start;width: 50%;}#sk-container-id-2 div.sk-parallel-item:only-child::after {width: 0;}#sk-container-id-2 div.sk-dashed-wrapped {border: 1px dashed gray;margin: 0 0.4em 0.5em 0.4em;box-sizing: border-box;padding-bottom: 0.4em;background-color: white;}#sk-container-id-2 div.sk-label label {font-family: monospace;font-weight: bold;display: inline-block;line-height: 1.2em;}#sk-container-id-2 div.sk-label-container {text-align: center;}#sk-container-id-2 div.sk-container {/* jupyter's `normalize.less` sets `[hidden] { display: none; }` but bootstrap.min.css set `[hidden] { display: none !important; }` so we also need the `!important` here to be able to override the default hidden behavior on the sphinx rendered scikit-learn.org. See: https://github.com/scikit-learn/scikit-learn/issues/21755 */display: inline-block !important;position: relative;}#sk-container-id-2 div.sk-text-repr-fallback {display: none;}</style><div id=\"sk-container-id-2\" class=\"sk-top-container\"><div class=\"sk-text-repr-fallback\"><pre>XGBClassifier(base_score=None, booster=None, callbacks=None,\n",
              "              colsample_bylevel=None, colsample_bynode=None,\n",
              "              colsample_bytree=None, device=None, early_stopping_rounds=None,\n",
              "              enable_categorical=False, eval_metric=None, feature_types=None,\n",
              "              gamma=None, grow_policy=None, importance_type=None,\n",
              "              interaction_constraints=None, learning_rate=0.1, max_bin=None,\n",
              "              max_cat_threshold=None, max_cat_to_onehot=None,\n",
              "              max_delta_step=None, max_depth=3, max_leaves=None,\n",
              "              min_child_weight=None, missing=nan, monotone_constraints=None,\n",
              "              multi_strategy=None, n_estimators=400, n_jobs=None,\n",
              "              num_parallel_tree=None, random_state=None, ...)</pre><b>In a Jupyter environment, please rerun this cell to show the HTML representation or trust the notebook. <br />On GitHub, the HTML representation is unable to render, please try loading this page with nbviewer.org.</b></div><div class=\"sk-container\" hidden><div class=\"sk-item\"><div class=\"sk-estimator sk-toggleable\"><input class=\"sk-toggleable__control sk-hidden--visually\" id=\"sk-estimator-id-2\" type=\"checkbox\" checked><label for=\"sk-estimator-id-2\" class=\"sk-toggleable__label sk-toggleable__label-arrow\">XGBClassifier</label><div class=\"sk-toggleable__content\"><pre>XGBClassifier(base_score=None, booster=None, callbacks=None,\n",
              "              colsample_bylevel=None, colsample_bynode=None,\n",
              "              colsample_bytree=None, device=None, early_stopping_rounds=None,\n",
              "              enable_categorical=False, eval_metric=None, feature_types=None,\n",
              "              gamma=None, grow_policy=None, importance_type=None,\n",
              "              interaction_constraints=None, learning_rate=0.1, max_bin=None,\n",
              "              max_cat_threshold=None, max_cat_to_onehot=None,\n",
              "              max_delta_step=None, max_depth=3, max_leaves=None,\n",
              "              min_child_weight=None, missing=nan, monotone_constraints=None,\n",
              "              multi_strategy=None, n_estimators=400, n_jobs=None,\n",
              "              num_parallel_tree=None, random_state=None, ...)</pre></div></div></div></div></div>"
            ]
          },
          "metadata": {},
          "execution_count": 62
        }
      ]
    },
    {
      "cell_type": "markdown",
      "source": [
        "**민감하게 조정해야 하는 파라미터**\n",
        "- booster 모양: 회귀(regression)\n",
        "- eval_metric(평가함수) / objectiv(목적함수)\n",
        "- eta(학습률)\n",
        "- L1/ L2\n",
        "\n",
        "**과적합 방지를 위해 조정해야 하는 것**\n",
        "- learning rate 낮추기 => n_estimators는 높여야한다.\n",
        "- max_depth 낮추기\n",
        "- min_child_weight 높이기\n",
        "- gamma 높이기\n",
        "- subsample, colsample_bytree 낮추기"
      ],
      "metadata": {
        "id": "EltXBB6SRZli"
      }
    },
    {
      "cell_type": "code",
      "source": [
        "\n"
      ],
      "metadata": {
        "id": "HKmx9K0VVMK6"
      },
      "execution_count": null,
      "outputs": []
    }
  ]
}